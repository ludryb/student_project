{
 "cells": [
  {
   "cell_type": "markdown",
   "metadata": {
    "id": "HXJZRLnGvjku"
   },
   "source": [
    "# Местоположение нефтяной скважины"
   ]
  },
  {
   "cell_type": "markdown",
   "metadata": {
    "id": "6euGHKx2wEoY"
   },
   "source": [
    "**Исходные данные:** \n",
    "синтетические данные с пробами нефти и характеристиками скважин по трем регионам\n",
    "\n",
    "\n",
    "**Цель:**\n",
    "построить модель линейной регрессии для определения наиболее прибыльного по добыче региона, проанализировать возможну прибыль и риски с помщью Bootstrap \n",
    "\n"
   ]
  },
  {
   "cell_type": "markdown",
   "metadata": {
    "id": "ZJc9KcZ0wECt"
   },
   "source": [
    "**Этапы исследования:**\n",
    "\n",
    "1.   Загрузка исходных данных и их общая оценка, построение гистрограмм для каждого столбца с числовыми значениями\n",
    "2. Обучение и проверка модели для каждого региона (разделение датасета 75:25, метрика RMSE)\n",
    "3. Подготовка данных к расчету прибыли. Расчет объема сырья для безубыточной разработки скважины.\n",
    "4. Расчет прибыли по скважинам с максимальными значениями предсказаний:\n",
    "    * Суммировать целевое значение объёма сырья, соответствующее этим предсказаниям\n",
    "    * Рассчитайть прибыль для полученного объёма сырья.\n",
    "Посчитайть риски и прибыль для каждого региона:\n",
    "    * Применить технику Bootstrap с 1000 выборок, чтобы найти распределение прибыли.\n",
    "    * Найти среднюю прибыль, 95%-й доверительный интервал и риск убытков\n",
    "\n",
    "5. Заключение\n"
   ]
  },
  {
   "cell_type": "markdown",
   "metadata": {
    "id": "JnxXRkG6586c"
   },
   "source": [
    "## 1 Загрузка исходных данных"
   ]
  },
  {
   "cell_type": "code",
   "execution_count": null,
   "metadata": {
    "id": "s_a_vOr4yVlZ",
    "trusted": true
   },
   "outputs": [],
   "source": [
    "import time\n",
    "import pandas as pd\n",
    "import numpy as np\n",
    "import matplotlib.pyplot as plt\n",
    "import matplotlib.gridspec as gridspec\n",
    "import seaborn as sns\n",
    "import scipy.stats as st\n",
    "\n",
    "from sklearn.model_selection import train_test_split, cross_val_score\n",
    "from sklearn.preprocessing import StandardScaler\n",
    "from sklearn.metrics import mean_squared_error, r2_score\n",
    "from sklearn.linear_model import LinearRegression\n",
    "from sklearn.pipeline import Pipeline, make_pipeline\n",
    "\n",
    "RANDOM_STATE = 42"
   ]
  },
  {
   "cell_type": "code",
   "execution_count": null,
   "metadata": {
    "id": "YgRaLZKRojWr",
    "trusted": true,
    "colab": {
     "base_uri": "https://localhost:8080/"
    },
    "outputId": "a4213b94-5753-4f63-bb3b-4c216008a022"
   },
   "outputs": [
    {
     "output_type": "stream",
     "name": "stdout",
     "text": [
      "Drive already mounted at /content/drive; to attempt to forcibly remount, call drive.mount(\"/content/drive\", force_remount=True).\n"
     ]
    }
   ],
   "source": [
    "try:\n",
    "  from google.colab import drive\n",
    "  drive.mount('/content/drive')\n",
    "  df_0 = pd.read_csv(\"/content/drive/MyDrive/Yandex/geo_data_0.csv\")\n",
    "  df_1 = pd.read_csv(\"/content/drive/MyDrive/Yandex/geo_data_1.csv\")\n",
    "  df_2 = pd.read_csv(\"/content/drive/MyDrive/Yandex/geo_data_2.csv\")\n",
    "except:\n",
    "  df_0 = pd.read_csv(\"/datasets/geo_data_0.csv\")\n",
    "  df_1 = pd.read_csv(\"/datasets/geo_data_1.csv\")\n",
    "  df_2 = pd.read_csv(\"/datasets/geo_data_2.csv\")"
   ]
  },
  {
   "cell_type": "code",
   "source": [
    "# function for primary analysis of data with non-normal distribution\n",
    "# Kendall correlation\n",
    "def df_info(df):\n",
    "    # numeric and non-numeric for histograms and statistic info\n",
    "    df_num = df.select_dtypes(\"number\")\n",
    "    df_no_num = df.select_dtypes(exclude=\"number\")\n",
    "    # the columns number\n",
    "    length = len(df.columns)\n",
    "    # correlation method for heatmap\n",
    "    meth_corr = \"kendall\"\n",
    "    # how to split the statistic info for numeric columns\n",
    "    split_show = 8\n",
    "    # display 2 digits after the decimal point\n",
    "\n",
    "    # change labels of columns\n",
    "    df.columns = (df.columns\n",
    "                  .str.replace('(?<=[a-z])(?=[A-Z])', '_', regex=True)\n",
    "                  .str.lower())\n",
    "    try:\n",
    "        for name in df.select_dtypes(\"number\").columns:\n",
    "            df[name] = pd.to_numeric(df[name], downcast=\"integer\" \n",
    "                                    if df[name].dtype == \"int\" else \"float\")\n",
    "    finally:\n",
    "        print(\"The type left the same as before\")\n",
    "\n",
    "\n",
    "    print('\\033[94m  \\033[1m {:^24s}'.format(\"General information\"))\n",
    "    info_0 = pd.DataFrame(df.dtypes.value_counts(), columns=[\"\"])\n",
    "    info_0.loc[\"columns\", \"\"] = length\n",
    "    info_0.loc[\"row\", \"\"] = len(df)\n",
    "    info_0.loc[\"memory_usage, MB\", \"\"] = df.memory_usage().sum() / (1024 ** 2)\n",
    "    display(info_0)\n",
    "    print()\n",
    "    print()\n",
    "\n",
    "    print('\\033[94m  \\033[1m {:^24s}'.format(\"Deep information\"))\n",
    "    info_1 = pd.DataFrame(index=df.columns, columns=['rows'], data=len(df))\n",
    "    for col in df:\n",
    "        if (pd.api.types.is_numeric_dtype(df[col])) and df[col].min() == 0:\n",
    "            info_1.loc[col, \"null_row\"] = df.loc[df[col] == 0, col].count()\n",
    "        else:\n",
    "            info_1.loc[col, \"null_row\"] = 0\n",
    "    info_1[\"uniq\"] = df.nunique()\n",
    "    info_1[\"dup_val\"] = [df[i].duplicated().sum() for i in df]\n",
    "    info_1[\"dup_row\"] = df.duplicated().sum()\n",
    "    info_1[\"NaN\"] = df.isna().sum()\n",
    "    info_1[\"NaN,%\"] = df.isna().sum() / 100\n",
    "    info_1[\"type\"] = df.dtypes\n",
    "    info_1 = info_1.join(df.describe(include=\"number\")[\"mean\":].transpose())\n",
    "    info_1[\"null_row\"] = pd.to_numeric(info_1[\"null_row\"], downcast=\"integer\")\n",
    "    info_1.fillna(\"\", inplace=True)        \n",
    "    prop = {\n",
    "        \"border\": \"0.5px solid black\", \n",
    "        \"width\": \"85px\", \n",
    "        \"text-align\": \"center\"   \n",
    "    }\n",
    "    percent = {\n",
    "        \"NaN,%\":\"{:.2%}\",\n",
    "        \"mean\":\"{:.3}\",\n",
    "        \"std\":\"{:.3}\",\t\n",
    "        \"min\":\"{:.3}\",\t\n",
    "        \"25%\":\"{:.3}\",\t\n",
    "        \"50%\":\"{:.3}\",\t\n",
    "        \"75%\":\"{:.3}\",\t\n",
    "        \"max\":\"{:.3}\",\n",
    "    }  \n",
    "\n",
    "    display(info_1.style.format(percent).set_properties(**prop))\n",
    "    print()\n",
    "    print()\n",
    "    \n",
    "    print('\\033[94m  \\033[1m {:^24s}'.format(\n",
    "        \"Distribution of data in numeric columns\"\n",
    "        )\n",
    "    )\n",
    "    fig = plt.figure(figsize=(12,6))\n",
    "    sfigs = fig.subfigures(round(length/4), 4)\n",
    "    for i, axes in enumerate(sfigs.flat):\n",
    "      try:\n",
    "        axes.suptitle(df_num.columns[i])\n",
    "        if len(df.iloc[:,i]) > 0:\n",
    "          ax_1= axes.subplots(2, 1, sharex=True, \n",
    "                              gridspec_kw={\"height_ratios\": (.15, .85)})\n",
    "          sns.boxplot(data=df, x=df_num.columns[i], orient=\"h\", ax=ax_1[0])\n",
    "          sns.histplot(data=df, x=df_num.columns[i], kde=True, ax=ax_1[1])\n",
    "          plt.xlabel(\"\")\n",
    "          plt.ylabel(\"\")\n",
    "      except:\n",
    "        break\n",
    "    plt.show()\n",
    "    print()\n",
    "    print()\n",
    "\n",
    "    print('\\033[94m  \\033[1m {:^24s}'.format(f\"Correlation of {meth_corr}\"))\n",
    "    plt.figure(figsize=(length, length))\n",
    "    sns.heatmap(df.corr(method=meth_corr), annot=True, linewidths=0.3, \n",
    "                cmap='coolwarm', square=True)\n",
    "    plt.show()\n"
   ],
   "metadata": {
    "id": "ksLMOrXmGefB"
   },
   "execution_count": null,
   "outputs": []
  },
  {
   "cell_type": "code",
   "source": [
    "df_info(df_0)"
   ],
   "metadata": {
    "id": "quzcxq_mj-5p",
    "colab": {
     "base_uri": "https://localhost:8080/",
     "height": 1000
    },
    "outputId": "cd08c066-8a4c-4f39-e271-9c5a71af801b"
   },
   "execution_count": null,
   "outputs": [
    {
     "output_type": "stream",
     "name": "stdout",
     "text": [
      "The type left the same as before\n",
      "\u001B[94m  \u001B[1m   General information   \n"
     ]
    },
    {
     "output_type": "display_data",
     "data": {
      "text/plain": [
       "                              \n",
       "float32                4.00000\n",
       "object                 1.00000\n",
       "columns                5.00000\n",
       "row               100000.00000\n",
       "memory_usage, MB       2.28894"
      ],
      "text/html": [
       "\n",
       "  <div id=\"df-553903ef-7a4d-4db4-8a0f-68fb9a800d13\">\n",
       "    <div class=\"colab-df-container\">\n",
       "      <div>\n",
       "<style scoped>\n",
       "    .dataframe tbody tr th:only-of-type {\n",
       "        vertical-align: middle;\n",
       "    }\n",
       "\n",
       "    .dataframe tbody tr th {\n",
       "        vertical-align: top;\n",
       "    }\n",
       "\n",
       "    .dataframe thead th {\n",
       "        text-align: right;\n",
       "    }\n",
       "</style>\n",
       "<table border=\"1\" class=\"dataframe\">\n",
       "  <thead>\n",
       "    <tr style=\"text-align: right;\">\n",
       "      <th></th>\n",
       "      <th></th>\n",
       "    </tr>\n",
       "  </thead>\n",
       "  <tbody>\n",
       "    <tr>\n",
       "      <th>float32</th>\n",
       "      <td>4.00000</td>\n",
       "    </tr>\n",
       "    <tr>\n",
       "      <th>object</th>\n",
       "      <td>1.00000</td>\n",
       "    </tr>\n",
       "    <tr>\n",
       "      <th>columns</th>\n",
       "      <td>5.00000</td>\n",
       "    </tr>\n",
       "    <tr>\n",
       "      <th>row</th>\n",
       "      <td>100000.00000</td>\n",
       "    </tr>\n",
       "    <tr>\n",
       "      <th>memory_usage, MB</th>\n",
       "      <td>2.28894</td>\n",
       "    </tr>\n",
       "  </tbody>\n",
       "</table>\n",
       "</div>\n",
       "      <button class=\"colab-df-convert\" onclick=\"convertToInteractive('df-553903ef-7a4d-4db4-8a0f-68fb9a800d13')\"\n",
       "              title=\"Convert this dataframe to an interactive table.\"\n",
       "              style=\"display:none;\">\n",
       "        \n",
       "  <svg xmlns=\"http://www.w3.org/2000/svg\" height=\"24px\"viewBox=\"0 0 24 24\"\n",
       "       width=\"24px\">\n",
       "    <path d=\"M0 0h24v24H0V0z\" fill=\"none\"/>\n",
       "    <path d=\"M18.56 5.44l.94 2.06.94-2.06 2.06-.94-2.06-.94-.94-2.06-.94 2.06-2.06.94zm-11 1L8.5 8.5l.94-2.06 2.06-.94-2.06-.94L8.5 2.5l-.94 2.06-2.06.94zm10 10l.94 2.06.94-2.06 2.06-.94-2.06-.94-.94-2.06-.94 2.06-2.06.94z\"/><path d=\"M17.41 7.96l-1.37-1.37c-.4-.4-.92-.59-1.43-.59-.52 0-1.04.2-1.43.59L10.3 9.45l-7.72 7.72c-.78.78-.78 2.05 0 2.83L4 21.41c.39.39.9.59 1.41.59.51 0 1.02-.2 1.41-.59l7.78-7.78 2.81-2.81c.8-.78.8-2.07 0-2.86zM5.41 20L4 18.59l7.72-7.72 1.47 1.35L5.41 20z\"/>\n",
       "  </svg>\n",
       "      </button>\n",
       "      \n",
       "  <style>\n",
       "    .colab-df-container {\n",
       "      display:flex;\n",
       "      flex-wrap:wrap;\n",
       "      gap: 12px;\n",
       "    }\n",
       "\n",
       "    .colab-df-convert {\n",
       "      background-color: #E8F0FE;\n",
       "      border: none;\n",
       "      border-radius: 50%;\n",
       "      cursor: pointer;\n",
       "      display: none;\n",
       "      fill: #1967D2;\n",
       "      height: 32px;\n",
       "      padding: 0 0 0 0;\n",
       "      width: 32px;\n",
       "    }\n",
       "\n",
       "    .colab-df-convert:hover {\n",
       "      background-color: #E2EBFA;\n",
       "      box-shadow: 0px 1px 2px rgba(60, 64, 67, 0.3), 0px 1px 3px 1px rgba(60, 64, 67, 0.15);\n",
       "      fill: #174EA6;\n",
       "    }\n",
       "\n",
       "    [theme=dark] .colab-df-convert {\n",
       "      background-color: #3B4455;\n",
       "      fill: #D2E3FC;\n",
       "    }\n",
       "\n",
       "    [theme=dark] .colab-df-convert:hover {\n",
       "      background-color: #434B5C;\n",
       "      box-shadow: 0px 1px 3px 1px rgba(0, 0, 0, 0.15);\n",
       "      filter: drop-shadow(0px 1px 2px rgba(0, 0, 0, 0.3));\n",
       "      fill: #FFFFFF;\n",
       "    }\n",
       "  </style>\n",
       "\n",
       "      <script>\n",
       "        const buttonEl =\n",
       "          document.querySelector('#df-553903ef-7a4d-4db4-8a0f-68fb9a800d13 button.colab-df-convert');\n",
       "        buttonEl.style.display =\n",
       "          google.colab.kernel.accessAllowed ? 'block' : 'none';\n",
       "\n",
       "        async function convertToInteractive(key) {\n",
       "          const element = document.querySelector('#df-553903ef-7a4d-4db4-8a0f-68fb9a800d13');\n",
       "          const dataTable =\n",
       "            await google.colab.kernel.invokeFunction('convertToInteractive',\n",
       "                                                     [key], {});\n",
       "          if (!dataTable) return;\n",
       "\n",
       "          const docLinkHtml = 'Like what you see? Visit the ' +\n",
       "            '<a target=\"_blank\" href=https://colab.research.google.com/notebooks/data_table.ipynb>data table notebook</a>'\n",
       "            + ' to learn more about interactive tables.';\n",
       "          element.innerHTML = '';\n",
       "          dataTable['output_type'] = 'display_data';\n",
       "          await google.colab.output.renderOutput(dataTable, element);\n",
       "          const docLink = document.createElement('div');\n",
       "          docLink.innerHTML = docLinkHtml;\n",
       "          element.appendChild(docLink);\n",
       "        }\n",
       "      </script>\n",
       "    </div>\n",
       "  </div>\n",
       "  "
      ]
     },
     "metadata": {}
    },
    {
     "output_type": "stream",
     "name": "stdout",
     "text": [
      "\n",
      "\n",
      "\u001B[94m  \u001B[1m     Deep information    \n"
     ]
    },
    {
     "output_type": "display_data",
     "data": {
      "text/plain": [
       "<pandas.io.formats.style.Styler at 0x7fdd3a119eb0>"
      ],
      "text/html": [
       "<style type=\"text/css\">\n",
       "#T_3325b_row0_col0, #T_3325b_row0_col1, #T_3325b_row0_col2, #T_3325b_row0_col3, #T_3325b_row0_col4, #T_3325b_row0_col5, #T_3325b_row0_col6, #T_3325b_row0_col7, #T_3325b_row0_col8, #T_3325b_row0_col9, #T_3325b_row0_col10, #T_3325b_row0_col11, #T_3325b_row0_col12, #T_3325b_row0_col13, #T_3325b_row0_col14, #T_3325b_row1_col0, #T_3325b_row1_col1, #T_3325b_row1_col2, #T_3325b_row1_col3, #T_3325b_row1_col4, #T_3325b_row1_col5, #T_3325b_row1_col6, #T_3325b_row1_col7, #T_3325b_row1_col8, #T_3325b_row1_col9, #T_3325b_row1_col10, #T_3325b_row1_col11, #T_3325b_row1_col12, #T_3325b_row1_col13, #T_3325b_row1_col14, #T_3325b_row2_col0, #T_3325b_row2_col1, #T_3325b_row2_col2, #T_3325b_row2_col3, #T_3325b_row2_col4, #T_3325b_row2_col5, #T_3325b_row2_col6, #T_3325b_row2_col7, #T_3325b_row2_col8, #T_3325b_row2_col9, #T_3325b_row2_col10, #T_3325b_row2_col11, #T_3325b_row2_col12, #T_3325b_row2_col13, #T_3325b_row2_col14, #T_3325b_row3_col0, #T_3325b_row3_col1, #T_3325b_row3_col2, #T_3325b_row3_col3, #T_3325b_row3_col4, #T_3325b_row3_col5, #T_3325b_row3_col6, #T_3325b_row3_col7, #T_3325b_row3_col8, #T_3325b_row3_col9, #T_3325b_row3_col10, #T_3325b_row3_col11, #T_3325b_row3_col12, #T_3325b_row3_col13, #T_3325b_row3_col14, #T_3325b_row4_col0, #T_3325b_row4_col1, #T_3325b_row4_col2, #T_3325b_row4_col3, #T_3325b_row4_col4, #T_3325b_row4_col5, #T_3325b_row4_col6, #T_3325b_row4_col7, #T_3325b_row4_col8, #T_3325b_row4_col9, #T_3325b_row4_col10, #T_3325b_row4_col11, #T_3325b_row4_col12, #T_3325b_row4_col13, #T_3325b_row4_col14 {\n",
       "  border: 0.5px solid black;\n",
       "  width: 85px;\n",
       "  text-align: center;\n",
       "}\n",
       "</style>\n",
       "<table id=\"T_3325b\" class=\"dataframe\">\n",
       "  <thead>\n",
       "    <tr>\n",
       "      <th class=\"blank level0\" >&nbsp;</th>\n",
       "      <th id=\"T_3325b_level0_col0\" class=\"col_heading level0 col0\" >rows</th>\n",
       "      <th id=\"T_3325b_level0_col1\" class=\"col_heading level0 col1\" >null_row</th>\n",
       "      <th id=\"T_3325b_level0_col2\" class=\"col_heading level0 col2\" >uniq</th>\n",
       "      <th id=\"T_3325b_level0_col3\" class=\"col_heading level0 col3\" >dup_val</th>\n",
       "      <th id=\"T_3325b_level0_col4\" class=\"col_heading level0 col4\" >dup_row</th>\n",
       "      <th id=\"T_3325b_level0_col5\" class=\"col_heading level0 col5\" >NaN</th>\n",
       "      <th id=\"T_3325b_level0_col6\" class=\"col_heading level0 col6\" >NaN,%</th>\n",
       "      <th id=\"T_3325b_level0_col7\" class=\"col_heading level0 col7\" >type</th>\n",
       "      <th id=\"T_3325b_level0_col8\" class=\"col_heading level0 col8\" >mean</th>\n",
       "      <th id=\"T_3325b_level0_col9\" class=\"col_heading level0 col9\" >std</th>\n",
       "      <th id=\"T_3325b_level0_col10\" class=\"col_heading level0 col10\" >min</th>\n",
       "      <th id=\"T_3325b_level0_col11\" class=\"col_heading level0 col11\" >25%</th>\n",
       "      <th id=\"T_3325b_level0_col12\" class=\"col_heading level0 col12\" >50%</th>\n",
       "      <th id=\"T_3325b_level0_col13\" class=\"col_heading level0 col13\" >75%</th>\n",
       "      <th id=\"T_3325b_level0_col14\" class=\"col_heading level0 col14\" >max</th>\n",
       "    </tr>\n",
       "  </thead>\n",
       "  <tbody>\n",
       "    <tr>\n",
       "      <th id=\"T_3325b_level0_row0\" class=\"row_heading level0 row0\" >id</th>\n",
       "      <td id=\"T_3325b_row0_col0\" class=\"data row0 col0\" >100000</td>\n",
       "      <td id=\"T_3325b_row0_col1\" class=\"data row0 col1\" >0</td>\n",
       "      <td id=\"T_3325b_row0_col2\" class=\"data row0 col2\" >99990</td>\n",
       "      <td id=\"T_3325b_row0_col3\" class=\"data row0 col3\" >10</td>\n",
       "      <td id=\"T_3325b_row0_col4\" class=\"data row0 col4\" >0</td>\n",
       "      <td id=\"T_3325b_row0_col5\" class=\"data row0 col5\" >0</td>\n",
       "      <td id=\"T_3325b_row0_col6\" class=\"data row0 col6\" >0.00%</td>\n",
       "      <td id=\"T_3325b_row0_col7\" class=\"data row0 col7\" >object</td>\n",
       "      <td id=\"T_3325b_row0_col8\" class=\"data row0 col8\" ></td>\n",
       "      <td id=\"T_3325b_row0_col9\" class=\"data row0 col9\" ></td>\n",
       "      <td id=\"T_3325b_row0_col10\" class=\"data row0 col10\" ></td>\n",
       "      <td id=\"T_3325b_row0_col11\" class=\"data row0 col11\" ></td>\n",
       "      <td id=\"T_3325b_row0_col12\" class=\"data row0 col12\" ></td>\n",
       "      <td id=\"T_3325b_row0_col13\" class=\"data row0 col13\" ></td>\n",
       "      <td id=\"T_3325b_row0_col14\" class=\"data row0 col14\" ></td>\n",
       "    </tr>\n",
       "    <tr>\n",
       "      <th id=\"T_3325b_level0_row1\" class=\"row_heading level0 row1\" >f0</th>\n",
       "      <td id=\"T_3325b_row1_col0\" class=\"data row1 col0\" >100000</td>\n",
       "      <td id=\"T_3325b_row1_col1\" class=\"data row1 col1\" >0</td>\n",
       "      <td id=\"T_3325b_row1_col2\" class=\"data row1 col2\" >99885</td>\n",
       "      <td id=\"T_3325b_row1_col3\" class=\"data row1 col3\" >115</td>\n",
       "      <td id=\"T_3325b_row1_col4\" class=\"data row1 col4\" >0</td>\n",
       "      <td id=\"T_3325b_row1_col5\" class=\"data row1 col5\" >0</td>\n",
       "      <td id=\"T_3325b_row1_col6\" class=\"data row1 col6\" >0.00%</td>\n",
       "      <td id=\"T_3325b_row1_col7\" class=\"data row1 col7\" >float32</td>\n",
       "      <td id=\"T_3325b_row1_col8\" class=\"data row1 col8\" >0.5</td>\n",
       "      <td id=\"T_3325b_row1_col9\" class=\"data row1 col9\" >0.872</td>\n",
       "      <td id=\"T_3325b_row1_col10\" class=\"data row1 col10\" >-1.41</td>\n",
       "      <td id=\"T_3325b_row1_col11\" class=\"data row1 col11\" >-0.0726</td>\n",
       "      <td id=\"T_3325b_row1_col12\" class=\"data row1 col12\" >0.502</td>\n",
       "      <td id=\"T_3325b_row1_col13\" class=\"data row1 col13\" >1.07</td>\n",
       "      <td id=\"T_3325b_row1_col14\" class=\"data row1 col14\" >2.36</td>\n",
       "    </tr>\n",
       "    <tr>\n",
       "      <th id=\"T_3325b_level0_row2\" class=\"row_heading level0 row2\" >f1</th>\n",
       "      <td id=\"T_3325b_row2_col0\" class=\"data row2 col0\" >100000</td>\n",
       "      <td id=\"T_3325b_row2_col1\" class=\"data row2 col1\" >0</td>\n",
       "      <td id=\"T_3325b_row2_col2\" class=\"data row2 col2\" >99878</td>\n",
       "      <td id=\"T_3325b_row2_col3\" class=\"data row2 col3\" >122</td>\n",
       "      <td id=\"T_3325b_row2_col4\" class=\"data row2 col4\" >0</td>\n",
       "      <td id=\"T_3325b_row2_col5\" class=\"data row2 col5\" >0</td>\n",
       "      <td id=\"T_3325b_row2_col6\" class=\"data row2 col6\" >0.00%</td>\n",
       "      <td id=\"T_3325b_row2_col7\" class=\"data row2 col7\" >float32</td>\n",
       "      <td id=\"T_3325b_row2_col8\" class=\"data row2 col8\" >0.25</td>\n",
       "      <td id=\"T_3325b_row2_col9\" class=\"data row2 col9\" >0.504</td>\n",
       "      <td id=\"T_3325b_row2_col10\" class=\"data row2 col10\" >-0.848</td>\n",
       "      <td id=\"T_3325b_row2_col11\" class=\"data row2 col11\" >-0.201</td>\n",
       "      <td id=\"T_3325b_row2_col12\" class=\"data row2 col12\" >0.25</td>\n",
       "      <td id=\"T_3325b_row2_col13\" class=\"data row2 col13\" >0.701</td>\n",
       "      <td id=\"T_3325b_row2_col14\" class=\"data row2 col14\" >1.34</td>\n",
       "    </tr>\n",
       "    <tr>\n",
       "      <th id=\"T_3325b_level0_row3\" class=\"row_heading level0 row3\" >f2</th>\n",
       "      <td id=\"T_3325b_row3_col0\" class=\"data row3 col0\" >100000</td>\n",
       "      <td id=\"T_3325b_row3_col1\" class=\"data row3 col1\" >0</td>\n",
       "      <td id=\"T_3325b_row3_col2\" class=\"data row3 col2\" >99885</td>\n",
       "      <td id=\"T_3325b_row3_col3\" class=\"data row3 col3\" >115</td>\n",
       "      <td id=\"T_3325b_row3_col4\" class=\"data row3 col4\" >0</td>\n",
       "      <td id=\"T_3325b_row3_col5\" class=\"data row3 col5\" >0</td>\n",
       "      <td id=\"T_3325b_row3_col6\" class=\"data row3 col6\" >0.00%</td>\n",
       "      <td id=\"T_3325b_row3_col7\" class=\"data row3 col7\" >float32</td>\n",
       "      <td id=\"T_3325b_row3_col8\" class=\"data row3 col8\" >2.5</td>\n",
       "      <td id=\"T_3325b_row3_col9\" class=\"data row3 col9\" >3.25</td>\n",
       "      <td id=\"T_3325b_row3_col10\" class=\"data row3 col10\" >-12.1</td>\n",
       "      <td id=\"T_3325b_row3_col11\" class=\"data row3 col11\" >0.288</td>\n",
       "      <td id=\"T_3325b_row3_col12\" class=\"data row3 col12\" >2.52</td>\n",
       "      <td id=\"T_3325b_row3_col13\" class=\"data row3 col13\" >4.72</td>\n",
       "      <td id=\"T_3325b_row3_col14\" class=\"data row3 col14\" >16.0</td>\n",
       "    </tr>\n",
       "    <tr>\n",
       "      <th id=\"T_3325b_level0_row4\" class=\"row_heading level0 row4\" >product</th>\n",
       "      <td id=\"T_3325b_row4_col0\" class=\"data row4 col0\" >100000</td>\n",
       "      <td id=\"T_3325b_row4_col1\" class=\"data row4 col1\" >1</td>\n",
       "      <td id=\"T_3325b_row4_col2\" class=\"data row4 col2\" >99730</td>\n",
       "      <td id=\"T_3325b_row4_col3\" class=\"data row4 col3\" >270</td>\n",
       "      <td id=\"T_3325b_row4_col4\" class=\"data row4 col4\" >0</td>\n",
       "      <td id=\"T_3325b_row4_col5\" class=\"data row4 col5\" >0</td>\n",
       "      <td id=\"T_3325b_row4_col6\" class=\"data row4 col6\" >0.00%</td>\n",
       "      <td id=\"T_3325b_row4_col7\" class=\"data row4 col7\" >float32</td>\n",
       "      <td id=\"T_3325b_row4_col8\" class=\"data row4 col8\" >92.5</td>\n",
       "      <td id=\"T_3325b_row4_col9\" class=\"data row4 col9\" >44.3</td>\n",
       "      <td id=\"T_3325b_row4_col10\" class=\"data row4 col10\" >0.0</td>\n",
       "      <td id=\"T_3325b_row4_col11\" class=\"data row4 col11\" >56.5</td>\n",
       "      <td id=\"T_3325b_row4_col12\" class=\"data row4 col12\" >91.8</td>\n",
       "      <td id=\"T_3325b_row4_col13\" class=\"data row4 col13\" >1.29e+02</td>\n",
       "      <td id=\"T_3325b_row4_col14\" class=\"data row4 col14\" >1.85e+02</td>\n",
       "    </tr>\n",
       "  </tbody>\n",
       "</table>\n"
      ]
     },
     "metadata": {}
    },
    {
     "output_type": "stream",
     "name": "stdout",
     "text": [
      "\n",
      "\n",
      "\u001B[94m  \u001B[1m Distribution of data in numeric columns\n"
     ]
    },
    {
     "output_type": "display_data",
     "data": {
      "text/plain": [
       "<Figure size 1200x600 with 8 Axes>"
      ],
      "image/png": "[encoded data removed]"
     },
     "metadata": {}
    },
    {
     "output_type": "stream",
     "name": "stdout",
     "text": [
      "\n",
      "\n",
      "\u001B[94m  \u001B[1m  Correlation of kendall \n"
     ]
    },
    {
     "output_type": "display_data",
     "data": {
      "text/plain": [
       "<Figure size 500x500 with 2 Axes>"
      ],
      "image/png": "[encoded data removed]"
     },
     "metadata": {}
    }
   ]
  },
  {
   "cell_type": "code",
   "source": [
    "df_info(df_1)"
   ],
   "metadata": {
    "id": "P12_ojEYkI29",
    "colab": {
     "base_uri": "https://localhost:8080/",
     "height": 1000
    },
    "outputId": "c63db059-b2ea-46f3-c97f-1186ad54ec9b"
   },
   "execution_count": null,
   "outputs": [
    {
     "output_type": "stream",
     "name": "stdout",
     "text": [
      "The type left the same as before\n",
      "\u001B[94m  \u001B[1m   General information   \n"
     ]
    },
    {
     "output_type": "display_data",
     "data": {
      "text/plain": [
       "                              \n",
       "float32                4.00000\n",
       "object                 1.00000\n",
       "columns                5.00000\n",
       "row               100000.00000\n",
       "memory_usage, MB       2.28894"
      ],
      "text/html": [
       "\n",
       "  <div id=\"df-d1254a51-14bc-42ce-99c2-ed4befa4e159\">\n",
       "    <div class=\"colab-df-container\">\n",
       "      <div>\n",
       "<style scoped>\n",
       "    .dataframe tbody tr th:only-of-type {\n",
       "        vertical-align: middle;\n",
       "    }\n",
       "\n",
       "    .dataframe tbody tr th {\n",
       "        vertical-align: top;\n",
       "    }\n",
       "\n",
       "    .dataframe thead th {\n",
       "        text-align: right;\n",
       "    }\n",
       "</style>\n",
       "<table border=\"1\" class=\"dataframe\">\n",
       "  <thead>\n",
       "    <tr style=\"text-align: right;\">\n",
       "      <th></th>\n",
       "      <th></th>\n",
       "    </tr>\n",
       "  </thead>\n",
       "  <tbody>\n",
       "    <tr>\n",
       "      <th>float32</th>\n",
       "      <td>4.00000</td>\n",
       "    </tr>\n",
       "    <tr>\n",
       "      <th>object</th>\n",
       "      <td>1.00000</td>\n",
       "    </tr>\n",
       "    <tr>\n",
       "      <th>columns</th>\n",
       "      <td>5.00000</td>\n",
       "    </tr>\n",
       "    <tr>\n",
       "      <th>row</th>\n",
       "      <td>100000.00000</td>\n",
       "    </tr>\n",
       "    <tr>\n",
       "      <th>memory_usage, MB</th>\n",
       "      <td>2.28894</td>\n",
       "    </tr>\n",
       "  </tbody>\n",
       "</table>\n",
       "</div>\n",
       "      <button class=\"colab-df-convert\" onclick=\"convertToInteractive('df-d1254a51-14bc-42ce-99c2-ed4befa4e159')\"\n",
       "              title=\"Convert this dataframe to an interactive table.\"\n",
       "              style=\"display:none;\">\n",
       "        \n",
       "  <svg xmlns=\"http://www.w3.org/2000/svg\" height=\"24px\"viewBox=\"0 0 24 24\"\n",
       "       width=\"24px\">\n",
       "    <path d=\"M0 0h24v24H0V0z\" fill=\"none\"/>\n",
       "    <path d=\"M18.56 5.44l.94 2.06.94-2.06 2.06-.94-2.06-.94-.94-2.06-.94 2.06-2.06.94zm-11 1L8.5 8.5l.94-2.06 2.06-.94-2.06-.94L8.5 2.5l-.94 2.06-2.06.94zm10 10l.94 2.06.94-2.06 2.06-.94-2.06-.94-.94-2.06-.94 2.06-2.06.94z\"/><path d=\"M17.41 7.96l-1.37-1.37c-.4-.4-.92-.59-1.43-.59-.52 0-1.04.2-1.43.59L10.3 9.45l-7.72 7.72c-.78.78-.78 2.05 0 2.83L4 21.41c.39.39.9.59 1.41.59.51 0 1.02-.2 1.41-.59l7.78-7.78 2.81-2.81c.8-.78.8-2.07 0-2.86zM5.41 20L4 18.59l7.72-7.72 1.47 1.35L5.41 20z\"/>\n",
       "  </svg>\n",
       "      </button>\n",
       "      \n",
       "  <style>\n",
       "    .colab-df-container {\n",
       "      display:flex;\n",
       "      flex-wrap:wrap;\n",
       "      gap: 12px;\n",
       "    }\n",
       "\n",
       "    .colab-df-convert {\n",
       "      background-color: #E8F0FE;\n",
       "      border: none;\n",
       "      border-radius: 50%;\n",
       "      cursor: pointer;\n",
       "      display: none;\n",
       "      fill: #1967D2;\n",
       "      height: 32px;\n",
       "      padding: 0 0 0 0;\n",
       "      width: 32px;\n",
       "    }\n",
       "\n",
       "    .colab-df-convert:hover {\n",
       "      background-color: #E2EBFA;\n",
       "      box-shadow: 0px 1px 2px rgba(60, 64, 67, 0.3), 0px 1px 3px 1px rgba(60, 64, 67, 0.15);\n",
       "      fill: #174EA6;\n",
       "    }\n",
       "\n",
       "    [theme=dark] .colab-df-convert {\n",
       "      background-color: #3B4455;\n",
       "      fill: #D2E3FC;\n",
       "    }\n",
       "\n",
       "    [theme=dark] .colab-df-convert:hover {\n",
       "      background-color: #434B5C;\n",
       "      box-shadow: 0px 1px 3px 1px rgba(0, 0, 0, 0.15);\n",
       "      filter: drop-shadow(0px 1px 2px rgba(0, 0, 0, 0.3));\n",
       "      fill: #FFFFFF;\n",
       "    }\n",
       "  </style>\n",
       "\n",
       "      <script>\n",
       "        const buttonEl =\n",
       "          document.querySelector('#df-d1254a51-14bc-42ce-99c2-ed4befa4e159 button.colab-df-convert');\n",
       "        buttonEl.style.display =\n",
       "          google.colab.kernel.accessAllowed ? 'block' : 'none';\n",
       "\n",
       "        async function convertToInteractive(key) {\n",
       "          const element = document.querySelector('#df-d1254a51-14bc-42ce-99c2-ed4befa4e159');\n",
       "          const dataTable =\n",
       "            await google.colab.kernel.invokeFunction('convertToInteractive',\n",
       "                                                     [key], {});\n",
       "          if (!dataTable) return;\n",
       "\n",
       "          const docLinkHtml = 'Like what you see? Visit the ' +\n",
       "            '<a target=\"_blank\" href=https://colab.research.google.com/notebooks/data_table.ipynb>data table notebook</a>'\n",
       "            + ' to learn more about interactive tables.';\n",
       "          element.innerHTML = '';\n",
       "          dataTable['output_type'] = 'display_data';\n",
       "          await google.colab.output.renderOutput(dataTable, element);\n",
       "          const docLink = document.createElement('div');\n",
       "          docLink.innerHTML = docLinkHtml;\n",
       "          element.appendChild(docLink);\n",
       "        }\n",
       "      </script>\n",
       "    </div>\n",
       "  </div>\n",
       "  "
      ]
     },
     "metadata": {}
    },
    {
     "output_type": "stream",
     "name": "stdout",
     "text": [
      "\n",
      "\n",
      "\u001B[94m  \u001B[1m     Deep information    \n"
     ]
    },
    {
     "output_type": "display_data",
     "data": {
      "text/plain": [
       "<pandas.io.formats.style.Styler at 0x7fdd37e35070>"
      ],
      "text/html": [
       "<style type=\"text/css\">\n",
       "#T_1d8ab_row0_col0, #T_1d8ab_row0_col1, #T_1d8ab_row0_col2, #T_1d8ab_row0_col3, #T_1d8ab_row0_col4, #T_1d8ab_row0_col5, #T_1d8ab_row0_col6, #T_1d8ab_row0_col7, #T_1d8ab_row0_col8, #T_1d8ab_row0_col9, #T_1d8ab_row0_col10, #T_1d8ab_row0_col11, #T_1d8ab_row0_col12, #T_1d8ab_row0_col13, #T_1d8ab_row0_col14, #T_1d8ab_row1_col0, #T_1d8ab_row1_col1, #T_1d8ab_row1_col2, #T_1d8ab_row1_col3, #T_1d8ab_row1_col4, #T_1d8ab_row1_col5, #T_1d8ab_row1_col6, #T_1d8ab_row1_col7, #T_1d8ab_row1_col8, #T_1d8ab_row1_col9, #T_1d8ab_row1_col10, #T_1d8ab_row1_col11, #T_1d8ab_row1_col12, #T_1d8ab_row1_col13, #T_1d8ab_row1_col14, #T_1d8ab_row2_col0, #T_1d8ab_row2_col1, #T_1d8ab_row2_col2, #T_1d8ab_row2_col3, #T_1d8ab_row2_col4, #T_1d8ab_row2_col5, #T_1d8ab_row2_col6, #T_1d8ab_row2_col7, #T_1d8ab_row2_col8, #T_1d8ab_row2_col9, #T_1d8ab_row2_col10, #T_1d8ab_row2_col11, #T_1d8ab_row2_col12, #T_1d8ab_row2_col13, #T_1d8ab_row2_col14, #T_1d8ab_row3_col0, #T_1d8ab_row3_col1, #T_1d8ab_row3_col2, #T_1d8ab_row3_col3, #T_1d8ab_row3_col4, #T_1d8ab_row3_col5, #T_1d8ab_row3_col6, #T_1d8ab_row3_col7, #T_1d8ab_row3_col8, #T_1d8ab_row3_col9, #T_1d8ab_row3_col10, #T_1d8ab_row3_col11, #T_1d8ab_row3_col12, #T_1d8ab_row3_col13, #T_1d8ab_row3_col14, #T_1d8ab_row4_col0, #T_1d8ab_row4_col1, #T_1d8ab_row4_col2, #T_1d8ab_row4_col3, #T_1d8ab_row4_col4, #T_1d8ab_row4_col5, #T_1d8ab_row4_col6, #T_1d8ab_row4_col7, #T_1d8ab_row4_col8, #T_1d8ab_row4_col9, #T_1d8ab_row4_col10, #T_1d8ab_row4_col11, #T_1d8ab_row4_col12, #T_1d8ab_row4_col13, #T_1d8ab_row4_col14 {\n",
       "  border: 0.5px solid black;\n",
       "  width: 85px;\n",
       "  text-align: center;\n",
       "}\n",
       "</style>\n",
       "<table id=\"T_1d8ab\" class=\"dataframe\">\n",
       "  <thead>\n",
       "    <tr>\n",
       "      <th class=\"blank level0\" >&nbsp;</th>\n",
       "      <th id=\"T_1d8ab_level0_col0\" class=\"col_heading level0 col0\" >rows</th>\n",
       "      <th id=\"T_1d8ab_level0_col1\" class=\"col_heading level0 col1\" >null_row</th>\n",
       "      <th id=\"T_1d8ab_level0_col2\" class=\"col_heading level0 col2\" >uniq</th>\n",
       "      <th id=\"T_1d8ab_level0_col3\" class=\"col_heading level0 col3\" >dup_val</th>\n",
       "      <th id=\"T_1d8ab_level0_col4\" class=\"col_heading level0 col4\" >dup_row</th>\n",
       "      <th id=\"T_1d8ab_level0_col5\" class=\"col_heading level0 col5\" >NaN</th>\n",
       "      <th id=\"T_1d8ab_level0_col6\" class=\"col_heading level0 col6\" >NaN,%</th>\n",
       "      <th id=\"T_1d8ab_level0_col7\" class=\"col_heading level0 col7\" >type</th>\n",
       "      <th id=\"T_1d8ab_level0_col8\" class=\"col_heading level0 col8\" >mean</th>\n",
       "      <th id=\"T_1d8ab_level0_col9\" class=\"col_heading level0 col9\" >std</th>\n",
       "      <th id=\"T_1d8ab_level0_col10\" class=\"col_heading level0 col10\" >min</th>\n",
       "      <th id=\"T_1d8ab_level0_col11\" class=\"col_heading level0 col11\" >25%</th>\n",
       "      <th id=\"T_1d8ab_level0_col12\" class=\"col_heading level0 col12\" >50%</th>\n",
       "      <th id=\"T_1d8ab_level0_col13\" class=\"col_heading level0 col13\" >75%</th>\n",
       "      <th id=\"T_1d8ab_level0_col14\" class=\"col_heading level0 col14\" >max</th>\n",
       "    </tr>\n",
       "  </thead>\n",
       "  <tbody>\n",
       "    <tr>\n",
       "      <th id=\"T_1d8ab_level0_row0\" class=\"row_heading level0 row0\" >id</th>\n",
       "      <td id=\"T_1d8ab_row0_col0\" class=\"data row0 col0\" >100000</td>\n",
       "      <td id=\"T_1d8ab_row0_col1\" class=\"data row0 col1\" >0</td>\n",
       "      <td id=\"T_1d8ab_row0_col2\" class=\"data row0 col2\" >99996</td>\n",
       "      <td id=\"T_1d8ab_row0_col3\" class=\"data row0 col3\" >4</td>\n",
       "      <td id=\"T_1d8ab_row0_col4\" class=\"data row0 col4\" >0</td>\n",
       "      <td id=\"T_1d8ab_row0_col5\" class=\"data row0 col5\" >0</td>\n",
       "      <td id=\"T_1d8ab_row0_col6\" class=\"data row0 col6\" >0.00%</td>\n",
       "      <td id=\"T_1d8ab_row0_col7\" class=\"data row0 col7\" >object</td>\n",
       "      <td id=\"T_1d8ab_row0_col8\" class=\"data row0 col8\" ></td>\n",
       "      <td id=\"T_1d8ab_row0_col9\" class=\"data row0 col9\" ></td>\n",
       "      <td id=\"T_1d8ab_row0_col10\" class=\"data row0 col10\" ></td>\n",
       "      <td id=\"T_1d8ab_row0_col11\" class=\"data row0 col11\" ></td>\n",
       "      <td id=\"T_1d8ab_row0_col12\" class=\"data row0 col12\" ></td>\n",
       "      <td id=\"T_1d8ab_row0_col13\" class=\"data row0 col13\" ></td>\n",
       "      <td id=\"T_1d8ab_row0_col14\" class=\"data row0 col14\" ></td>\n",
       "    </tr>\n",
       "    <tr>\n",
       "      <th id=\"T_1d8ab_level0_row1\" class=\"row_heading level0 row1\" >f0</th>\n",
       "      <td id=\"T_1d8ab_row1_col0\" class=\"data row1 col0\" >100000</td>\n",
       "      <td id=\"T_1d8ab_row1_col1\" class=\"data row1 col1\" >0</td>\n",
       "      <td id=\"T_1d8ab_row1_col2\" class=\"data row1 col2\" >99902</td>\n",
       "      <td id=\"T_1d8ab_row1_col3\" class=\"data row1 col3\" >98</td>\n",
       "      <td id=\"T_1d8ab_row1_col4\" class=\"data row1 col4\" >0</td>\n",
       "      <td id=\"T_1d8ab_row1_col5\" class=\"data row1 col5\" >0</td>\n",
       "      <td id=\"T_1d8ab_row1_col6\" class=\"data row1 col6\" >0.00%</td>\n",
       "      <td id=\"T_1d8ab_row1_col7\" class=\"data row1 col7\" >float32</td>\n",
       "      <td id=\"T_1d8ab_row1_col8\" class=\"data row1 col8\" >1.14</td>\n",
       "      <td id=\"T_1d8ab_row1_col9\" class=\"data row1 col9\" >8.97</td>\n",
       "      <td id=\"T_1d8ab_row1_col10\" class=\"data row1 col10\" >-31.6</td>\n",
       "      <td id=\"T_1d8ab_row1_col11\" class=\"data row1 col11\" >-6.3</td>\n",
       "      <td id=\"T_1d8ab_row1_col12\" class=\"data row1 col12\" >1.15</td>\n",
       "      <td id=\"T_1d8ab_row1_col13\" class=\"data row1 col13\" >8.62</td>\n",
       "      <td id=\"T_1d8ab_row1_col14\" class=\"data row1 col14\" >29.4</td>\n",
       "    </tr>\n",
       "    <tr>\n",
       "      <th id=\"T_1d8ab_level0_row2\" class=\"row_heading level0 row2\" >f1</th>\n",
       "      <td id=\"T_1d8ab_row2_col0\" class=\"data row2 col0\" >100000</td>\n",
       "      <td id=\"T_1d8ab_row2_col1\" class=\"data row2 col1\" >0</td>\n",
       "      <td id=\"T_1d8ab_row2_col2\" class=\"data row2 col2\" >99872</td>\n",
       "      <td id=\"T_1d8ab_row2_col3\" class=\"data row2 col3\" >128</td>\n",
       "      <td id=\"T_1d8ab_row2_col4\" class=\"data row2 col4\" >0</td>\n",
       "      <td id=\"T_1d8ab_row2_col5\" class=\"data row2 col5\" >0</td>\n",
       "      <td id=\"T_1d8ab_row2_col6\" class=\"data row2 col6\" >0.00%</td>\n",
       "      <td id=\"T_1d8ab_row2_col7\" class=\"data row2 col7\" >float32</td>\n",
       "      <td id=\"T_1d8ab_row2_col8\" class=\"data row2 col8\" >-4.8</td>\n",
       "      <td id=\"T_1d8ab_row2_col9\" class=\"data row2 col9\" >5.12</td>\n",
       "      <td id=\"T_1d8ab_row2_col10\" class=\"data row2 col10\" >-26.4</td>\n",
       "      <td id=\"T_1d8ab_row2_col11\" class=\"data row2 col11\" >-8.27</td>\n",
       "      <td id=\"T_1d8ab_row2_col12\" class=\"data row2 col12\" >-4.81</td>\n",
       "      <td id=\"T_1d8ab_row2_col13\" class=\"data row2 col13\" >-1.33</td>\n",
       "      <td id=\"T_1d8ab_row2_col14\" class=\"data row2 col14\" >18.7</td>\n",
       "    </tr>\n",
       "    <tr>\n",
       "      <th id=\"T_1d8ab_level0_row3\" class=\"row_heading level0 row3\" >f2</th>\n",
       "      <td id=\"T_1d8ab_row3_col0\" class=\"data row3 col0\" >100000</td>\n",
       "      <td id=\"T_1d8ab_row3_col1\" class=\"data row3 col1\" >0</td>\n",
       "      <td id=\"T_1d8ab_row3_col2\" class=\"data row3 col2\" >90695</td>\n",
       "      <td id=\"T_1d8ab_row3_col3\" class=\"data row3 col3\" >9305</td>\n",
       "      <td id=\"T_1d8ab_row3_col4\" class=\"data row3 col4\" >0</td>\n",
       "      <td id=\"T_1d8ab_row3_col5\" class=\"data row3 col5\" >0</td>\n",
       "      <td id=\"T_1d8ab_row3_col6\" class=\"data row3 col6\" >0.00%</td>\n",
       "      <td id=\"T_1d8ab_row3_col7\" class=\"data row3 col7\" >float32</td>\n",
       "      <td id=\"T_1d8ab_row3_col8\" class=\"data row3 col8\" >2.49</td>\n",
       "      <td id=\"T_1d8ab_row3_col9\" class=\"data row3 col9\" >1.7</td>\n",
       "      <td id=\"T_1d8ab_row3_col10\" class=\"data row3 col10\" >-0.0181</td>\n",
       "      <td id=\"T_1d8ab_row3_col11\" class=\"data row3 col11\" >1.0</td>\n",
       "      <td id=\"T_1d8ab_row3_col12\" class=\"data row3 col12\" >2.01</td>\n",
       "      <td id=\"T_1d8ab_row3_col13\" class=\"data row3 col13\" >4.0</td>\n",
       "      <td id=\"T_1d8ab_row3_col14\" class=\"data row3 col14\" >5.02</td>\n",
       "    </tr>\n",
       "    <tr>\n",
       "      <th id=\"T_1d8ab_level0_row4\" class=\"row_heading level0 row4\" >product</th>\n",
       "      <td id=\"T_1d8ab_row4_col0\" class=\"data row4 col0\" >100000</td>\n",
       "      <td id=\"T_1d8ab_row4_col1\" class=\"data row4 col1\" >8235</td>\n",
       "      <td id=\"T_1d8ab_row4_col2\" class=\"data row4 col2\" >12</td>\n",
       "      <td id=\"T_1d8ab_row4_col3\" class=\"data row4 col3\" >99988</td>\n",
       "      <td id=\"T_1d8ab_row4_col4\" class=\"data row4 col4\" >0</td>\n",
       "      <td id=\"T_1d8ab_row4_col5\" class=\"data row4 col5\" >0</td>\n",
       "      <td id=\"T_1d8ab_row4_col6\" class=\"data row4 col6\" >0.00%</td>\n",
       "      <td id=\"T_1d8ab_row4_col7\" class=\"data row4 col7\" >float32</td>\n",
       "      <td id=\"T_1d8ab_row4_col8\" class=\"data row4 col8\" >68.8</td>\n",
       "      <td id=\"T_1d8ab_row4_col9\" class=\"data row4 col9\" >45.9</td>\n",
       "      <td id=\"T_1d8ab_row4_col10\" class=\"data row4 col10\" >0.0</td>\n",
       "      <td id=\"T_1d8ab_row4_col11\" class=\"data row4 col11\" >27.0</td>\n",
       "      <td id=\"T_1d8ab_row4_col12\" class=\"data row4 col12\" >57.1</td>\n",
       "      <td id=\"T_1d8ab_row4_col13\" class=\"data row4 col13\" >1.08e+02</td>\n",
       "      <td id=\"T_1d8ab_row4_col14\" class=\"data row4 col14\" >1.38e+02</td>\n",
       "    </tr>\n",
       "  </tbody>\n",
       "</table>\n"
      ]
     },
     "metadata": {}
    },
    {
     "output_type": "stream",
     "name": "stdout",
     "text": [
      "\n",
      "\n",
      "\u001B[94m  \u001B[1m Distribution of data in numeric columns\n"
     ]
    },
    {
     "output_type": "display_data",
     "data": {
      "text/plain": [
       "<Figure size 1200x600 with 8 Axes>"
      ],
      "image/png": "[encoded data removed]"
     },
     "metadata": {}
    },
    {
     "output_type": "stream",
     "name": "stdout",
     "text": [
      "\n",
      "\n",
      "\u001B[94m  \u001B[1m  Correlation of kendall \n"
     ]
    },
    {
     "output_type": "display_data",
     "data": {
      "text/plain": [
       "<Figure size 500x500 with 2 Axes>"
      ],
      "image/png": "[encoded data removed]"
     },
     "metadata": {}
    }
   ]
  },
  {
   "cell_type": "code",
   "source": [
    "df_info(df_2)"
   ],
   "metadata": {
    "id": "wIPV5bT9kJZJ",
    "colab": {
     "base_uri": "https://localhost:8080/",
     "height": 1000
    },
    "outputId": "19170fe2-84f6-4b34-fbe6-9a0cc43309f2"
   },
   "execution_count": null,
   "outputs": [
    {
     "output_type": "stream",
     "name": "stdout",
     "text": [
      "The type left the same as before\n",
      "\u001B[94m  \u001B[1m   General information   \n"
     ]
    },
    {
     "output_type": "display_data",
     "data": {
      "text/plain": [
       "                              \n",
       "float32                4.00000\n",
       "object                 1.00000\n",
       "columns                5.00000\n",
       "row               100000.00000\n",
       "memory_usage, MB       2.28894"
      ],
      "text/html": [
       "\n",
       "  <div id=\"df-fa9c1516-c69f-451b-a2cf-f7ba6b69b1f5\">\n",
       "    <div class=\"colab-df-container\">\n",
       "      <div>\n",
       "<style scoped>\n",
       "    .dataframe tbody tr th:only-of-type {\n",
       "        vertical-align: middle;\n",
       "    }\n",
       "\n",
       "    .dataframe tbody tr th {\n",
       "        vertical-align: top;\n",
       "    }\n",
       "\n",
       "    .dataframe thead th {\n",
       "        text-align: right;\n",
       "    }\n",
       "</style>\n",
       "<table border=\"1\" class=\"dataframe\">\n",
       "  <thead>\n",
       "    <tr style=\"text-align: right;\">\n",
       "      <th></th>\n",
       "      <th></th>\n",
       "    </tr>\n",
       "  </thead>\n",
       "  <tbody>\n",
       "    <tr>\n",
       "      <th>float32</th>\n",
       "      <td>4.00000</td>\n",
       "    </tr>\n",
       "    <tr>\n",
       "      <th>object</th>\n",
       "      <td>1.00000</td>\n",
       "    </tr>\n",
       "    <tr>\n",
       "      <th>columns</th>\n",
       "      <td>5.00000</td>\n",
       "    </tr>\n",
       "    <tr>\n",
       "      <th>row</th>\n",
       "      <td>100000.00000</td>\n",
       "    </tr>\n",
       "    <tr>\n",
       "      <th>memory_usage, MB</th>\n",
       "      <td>2.28894</td>\n",
       "    </tr>\n",
       "  </tbody>\n",
       "</table>\n",
       "</div>\n",
       "      <button class=\"colab-df-convert\" onclick=\"convertToInteractive('df-fa9c1516-c69f-451b-a2cf-f7ba6b69b1f5')\"\n",
       "              title=\"Convert this dataframe to an interactive table.\"\n",
       "              style=\"display:none;\">\n",
       "        \n",
       "  <svg xmlns=\"http://www.w3.org/2000/svg\" height=\"24px\"viewBox=\"0 0 24 24\"\n",
       "       width=\"24px\">\n",
       "    <path d=\"M0 0h24v24H0V0z\" fill=\"none\"/>\n",
       "    <path d=\"M18.56 5.44l.94 2.06.94-2.06 2.06-.94-2.06-.94-.94-2.06-.94 2.06-2.06.94zm-11 1L8.5 8.5l.94-2.06 2.06-.94-2.06-.94L8.5 2.5l-.94 2.06-2.06.94zm10 10l.94 2.06.94-2.06 2.06-.94-2.06-.94-.94-2.06-.94 2.06-2.06.94z\"/><path d=\"M17.41 7.96l-1.37-1.37c-.4-.4-.92-.59-1.43-.59-.52 0-1.04.2-1.43.59L10.3 9.45l-7.72 7.72c-.78.78-.78 2.05 0 2.83L4 21.41c.39.39.9.59 1.41.59.51 0 1.02-.2 1.41-.59l7.78-7.78 2.81-2.81c.8-.78.8-2.07 0-2.86zM5.41 20L4 18.59l7.72-7.72 1.47 1.35L5.41 20z\"/>\n",
       "  </svg>\n",
       "      </button>\n",
       "      \n",
       "  <style>\n",
       "    .colab-df-container {\n",
       "      display:flex;\n",
       "      flex-wrap:wrap;\n",
       "      gap: 12px;\n",
       "    }\n",
       "\n",
       "    .colab-df-convert {\n",
       "      background-color: #E8F0FE;\n",
       "      border: none;\n",
       "      border-radius: 50%;\n",
       "      cursor: pointer;\n",
       "      display: none;\n",
       "      fill: #1967D2;\n",
       "      height: 32px;\n",
       "      padding: 0 0 0 0;\n",
       "      width: 32px;\n",
       "    }\n",
       "\n",
       "    .colab-df-convert:hover {\n",
       "      background-color: #E2EBFA;\n",
       "      box-shadow: 0px 1px 2px rgba(60, 64, 67, 0.3), 0px 1px 3px 1px rgba(60, 64, 67, 0.15);\n",
       "      fill: #174EA6;\n",
       "    }\n",
       "\n",
       "    [theme=dark] .colab-df-convert {\n",
       "      background-color: #3B4455;\n",
       "      fill: #D2E3FC;\n",
       "    }\n",
       "\n",
       "    [theme=dark] .colab-df-convert:hover {\n",
       "      background-color: #434B5C;\n",
       "      box-shadow: 0px 1px 3px 1px rgba(0, 0, 0, 0.15);\n",
       "      filter: drop-shadow(0px 1px 2px rgba(0, 0, 0, 0.3));\n",
       "      fill: #FFFFFF;\n",
       "    }\n",
       "  </style>\n",
       "\n",
       "      <script>\n",
       "        const buttonEl =\n",
       "          document.querySelector('#df-fa9c1516-c69f-451b-a2cf-f7ba6b69b1f5 button.colab-df-convert');\n",
       "        buttonEl.style.display =\n",
       "          google.colab.kernel.accessAllowed ? 'block' : 'none';\n",
       "\n",
       "        async function convertToInteractive(key) {\n",
       "          const element = document.querySelector('#df-fa9c1516-c69f-451b-a2cf-f7ba6b69b1f5');\n",
       "          const dataTable =\n",
       "            await google.colab.kernel.invokeFunction('convertToInteractive',\n",
       "                                                     [key], {});\n",
       "          if (!dataTable) return;\n",
       "\n",
       "          const docLinkHtml = 'Like what you see? Visit the ' +\n",
       "            '<a target=\"_blank\" href=https://colab.research.google.com/notebooks/data_table.ipynb>data table notebook</a>'\n",
       "            + ' to learn more about interactive tables.';\n",
       "          element.innerHTML = '';\n",
       "          dataTable['output_type'] = 'display_data';\n",
       "          await google.colab.output.renderOutput(dataTable, element);\n",
       "          const docLink = document.createElement('div');\n",
       "          docLink.innerHTML = docLinkHtml;\n",
       "          element.appendChild(docLink);\n",
       "        }\n",
       "      </script>\n",
       "    </div>\n",
       "  </div>\n",
       "  "
      ]
     },
     "metadata": {}
    },
    {
     "output_type": "stream",
     "name": "stdout",
     "text": [
      "\n",
      "\n",
      "\u001B[94m  \u001B[1m     Deep information    \n"
     ]
    },
    {
     "output_type": "display_data",
     "data": {
      "text/plain": [
       "<pandas.io.formats.style.Styler at 0x7fdd38b4d490>"
      ],
      "text/html": [
       "<style type=\"text/css\">\n",
       "#T_d7663_row0_col0, #T_d7663_row0_col1, #T_d7663_row0_col2, #T_d7663_row0_col3, #T_d7663_row0_col4, #T_d7663_row0_col5, #T_d7663_row0_col6, #T_d7663_row0_col7, #T_d7663_row0_col8, #T_d7663_row0_col9, #T_d7663_row0_col10, #T_d7663_row0_col11, #T_d7663_row0_col12, #T_d7663_row0_col13, #T_d7663_row0_col14, #T_d7663_row1_col0, #T_d7663_row1_col1, #T_d7663_row1_col2, #T_d7663_row1_col3, #T_d7663_row1_col4, #T_d7663_row1_col5, #T_d7663_row1_col6, #T_d7663_row1_col7, #T_d7663_row1_col8, #T_d7663_row1_col9, #T_d7663_row1_col10, #T_d7663_row1_col11, #T_d7663_row1_col12, #T_d7663_row1_col13, #T_d7663_row1_col14, #T_d7663_row2_col0, #T_d7663_row2_col1, #T_d7663_row2_col2, #T_d7663_row2_col3, #T_d7663_row2_col4, #T_d7663_row2_col5, #T_d7663_row2_col6, #T_d7663_row2_col7, #T_d7663_row2_col8, #T_d7663_row2_col9, #T_d7663_row2_col10, #T_d7663_row2_col11, #T_d7663_row2_col12, #T_d7663_row2_col13, #T_d7663_row2_col14, #T_d7663_row3_col0, #T_d7663_row3_col1, #T_d7663_row3_col2, #T_d7663_row3_col3, #T_d7663_row3_col4, #T_d7663_row3_col5, #T_d7663_row3_col6, #T_d7663_row3_col7, #T_d7663_row3_col8, #T_d7663_row3_col9, #T_d7663_row3_col10, #T_d7663_row3_col11, #T_d7663_row3_col12, #T_d7663_row3_col13, #T_d7663_row3_col14, #T_d7663_row4_col0, #T_d7663_row4_col1, #T_d7663_row4_col2, #T_d7663_row4_col3, #T_d7663_row4_col4, #T_d7663_row4_col5, #T_d7663_row4_col6, #T_d7663_row4_col7, #T_d7663_row4_col8, #T_d7663_row4_col9, #T_d7663_row4_col10, #T_d7663_row4_col11, #T_d7663_row4_col12, #T_d7663_row4_col13, #T_d7663_row4_col14 {\n",
       "  border: 0.5px solid black;\n",
       "  width: 85px;\n",
       "  text-align: center;\n",
       "}\n",
       "</style>\n",
       "<table id=\"T_d7663\" class=\"dataframe\">\n",
       "  <thead>\n",
       "    <tr>\n",
       "      <th class=\"blank level0\" >&nbsp;</th>\n",
       "      <th id=\"T_d7663_level0_col0\" class=\"col_heading level0 col0\" >rows</th>\n",
       "      <th id=\"T_d7663_level0_col1\" class=\"col_heading level0 col1\" >null_row</th>\n",
       "      <th id=\"T_d7663_level0_col2\" class=\"col_heading level0 col2\" >uniq</th>\n",
       "      <th id=\"T_d7663_level0_col3\" class=\"col_heading level0 col3\" >dup_val</th>\n",
       "      <th id=\"T_d7663_level0_col4\" class=\"col_heading level0 col4\" >dup_row</th>\n",
       "      <th id=\"T_d7663_level0_col5\" class=\"col_heading level0 col5\" >NaN</th>\n",
       "      <th id=\"T_d7663_level0_col6\" class=\"col_heading level0 col6\" >NaN,%</th>\n",
       "      <th id=\"T_d7663_level0_col7\" class=\"col_heading level0 col7\" >type</th>\n",
       "      <th id=\"T_d7663_level0_col8\" class=\"col_heading level0 col8\" >mean</th>\n",
       "      <th id=\"T_d7663_level0_col9\" class=\"col_heading level0 col9\" >std</th>\n",
       "      <th id=\"T_d7663_level0_col10\" class=\"col_heading level0 col10\" >min</th>\n",
       "      <th id=\"T_d7663_level0_col11\" class=\"col_heading level0 col11\" >25%</th>\n",
       "      <th id=\"T_d7663_level0_col12\" class=\"col_heading level0 col12\" >50%</th>\n",
       "      <th id=\"T_d7663_level0_col13\" class=\"col_heading level0 col13\" >75%</th>\n",
       "      <th id=\"T_d7663_level0_col14\" class=\"col_heading level0 col14\" >max</th>\n",
       "    </tr>\n",
       "  </thead>\n",
       "  <tbody>\n",
       "    <tr>\n",
       "      <th id=\"T_d7663_level0_row0\" class=\"row_heading level0 row0\" >id</th>\n",
       "      <td id=\"T_d7663_row0_col0\" class=\"data row0 col0\" >100000</td>\n",
       "      <td id=\"T_d7663_row0_col1\" class=\"data row0 col1\" >0</td>\n",
       "      <td id=\"T_d7663_row0_col2\" class=\"data row0 col2\" >99996</td>\n",
       "      <td id=\"T_d7663_row0_col3\" class=\"data row0 col3\" >4</td>\n",
       "      <td id=\"T_d7663_row0_col4\" class=\"data row0 col4\" >0</td>\n",
       "      <td id=\"T_d7663_row0_col5\" class=\"data row0 col5\" >0</td>\n",
       "      <td id=\"T_d7663_row0_col6\" class=\"data row0 col6\" >0.00%</td>\n",
       "      <td id=\"T_d7663_row0_col7\" class=\"data row0 col7\" >object</td>\n",
       "      <td id=\"T_d7663_row0_col8\" class=\"data row0 col8\" ></td>\n",
       "      <td id=\"T_d7663_row0_col9\" class=\"data row0 col9\" ></td>\n",
       "      <td id=\"T_d7663_row0_col10\" class=\"data row0 col10\" ></td>\n",
       "      <td id=\"T_d7663_row0_col11\" class=\"data row0 col11\" ></td>\n",
       "      <td id=\"T_d7663_row0_col12\" class=\"data row0 col12\" ></td>\n",
       "      <td id=\"T_d7663_row0_col13\" class=\"data row0 col13\" ></td>\n",
       "      <td id=\"T_d7663_row0_col14\" class=\"data row0 col14\" ></td>\n",
       "    </tr>\n",
       "    <tr>\n",
       "      <th id=\"T_d7663_level0_row1\" class=\"row_heading level0 row1\" >f0</th>\n",
       "      <td id=\"T_d7663_row1_col0\" class=\"data row1 col0\" >100000</td>\n",
       "      <td id=\"T_d7663_row1_col1\" class=\"data row1 col1\" >0</td>\n",
       "      <td id=\"T_d7663_row1_col2\" class=\"data row1 col2\" >99922</td>\n",
       "      <td id=\"T_d7663_row1_col3\" class=\"data row1 col3\" >78</td>\n",
       "      <td id=\"T_d7663_row1_col4\" class=\"data row1 col4\" >0</td>\n",
       "      <td id=\"T_d7663_row1_col5\" class=\"data row1 col5\" >0</td>\n",
       "      <td id=\"T_d7663_row1_col6\" class=\"data row1 col6\" >0.00%</td>\n",
       "      <td id=\"T_d7663_row1_col7\" class=\"data row1 col7\" >float32</td>\n",
       "      <td id=\"T_d7663_row1_col8\" class=\"data row1 col8\" >0.00202</td>\n",
       "      <td id=\"T_d7663_row1_col9\" class=\"data row1 col9\" >1.73</td>\n",
       "      <td id=\"T_d7663_row1_col10\" class=\"data row1 col10\" >-8.76</td>\n",
       "      <td id=\"T_d7663_row1_col11\" class=\"data row1 col11\" >-1.16</td>\n",
       "      <td id=\"T_d7663_row1_col12\" class=\"data row1 col12\" >0.00942</td>\n",
       "      <td id=\"T_d7663_row1_col13\" class=\"data row1 col13\" >1.16</td>\n",
       "      <td id=\"T_d7663_row1_col14\" class=\"data row1 col14\" >7.24</td>\n",
       "    </tr>\n",
       "    <tr>\n",
       "      <th id=\"T_d7663_level0_row2\" class=\"row_heading level0 row2\" >f1</th>\n",
       "      <td id=\"T_d7663_row2_col0\" class=\"data row2 col0\" >100000</td>\n",
       "      <td id=\"T_d7663_row2_col1\" class=\"data row2 col1\" >0</td>\n",
       "      <td id=\"T_d7663_row2_col2\" class=\"data row2 col2\" >99944</td>\n",
       "      <td id=\"T_d7663_row2_col3\" class=\"data row2 col3\" >56</td>\n",
       "      <td id=\"T_d7663_row2_col4\" class=\"data row2 col4\" >0</td>\n",
       "      <td id=\"T_d7663_row2_col5\" class=\"data row2 col5\" >0</td>\n",
       "      <td id=\"T_d7663_row2_col6\" class=\"data row2 col6\" >0.00%</td>\n",
       "      <td id=\"T_d7663_row2_col7\" class=\"data row2 col7\" >float32</td>\n",
       "      <td id=\"T_d7663_row2_col8\" class=\"data row2 col8\" >-0.00208</td>\n",
       "      <td id=\"T_d7663_row2_col9\" class=\"data row2 col9\" >1.73</td>\n",
       "      <td id=\"T_d7663_row2_col10\" class=\"data row2 col10\" >-7.08</td>\n",
       "      <td id=\"T_d7663_row2_col11\" class=\"data row2 col11\" >-1.17</td>\n",
       "      <td id=\"T_d7663_row2_col12\" class=\"data row2 col12\" >-0.00948</td>\n",
       "      <td id=\"T_d7663_row2_col13\" class=\"data row2 col13\" >1.16</td>\n",
       "      <td id=\"T_d7663_row2_col14\" class=\"data row2 col14\" >7.84</td>\n",
       "    </tr>\n",
       "    <tr>\n",
       "      <th id=\"T_d7663_level0_row3\" class=\"row_heading level0 row3\" >f2</th>\n",
       "      <td id=\"T_d7663_row3_col0\" class=\"data row3 col0\" >100000</td>\n",
       "      <td id=\"T_d7663_row3_col1\" class=\"data row3 col1\" >0</td>\n",
       "      <td id=\"T_d7663_row3_col2\" class=\"data row3 col2\" >99896</td>\n",
       "      <td id=\"T_d7663_row3_col3\" class=\"data row3 col3\" >104</td>\n",
       "      <td id=\"T_d7663_row3_col4\" class=\"data row3 col4\" >0</td>\n",
       "      <td id=\"T_d7663_row3_col5\" class=\"data row3 col5\" >0</td>\n",
       "      <td id=\"T_d7663_row3_col6\" class=\"data row3 col6\" >0.00%</td>\n",
       "      <td id=\"T_d7663_row3_col7\" class=\"data row3 col7\" >float32</td>\n",
       "      <td id=\"T_d7663_row3_col8\" class=\"data row3 col8\" >2.5</td>\n",
       "      <td id=\"T_d7663_row3_col9\" class=\"data row3 col9\" >3.47</td>\n",
       "      <td id=\"T_d7663_row3_col10\" class=\"data row3 col10\" >-12.0</td>\n",
       "      <td id=\"T_d7663_row3_col11\" class=\"data row3 col11\" >0.13</td>\n",
       "      <td id=\"T_d7663_row3_col12\" class=\"data row3 col12\" >2.48</td>\n",
       "      <td id=\"T_d7663_row3_col13\" class=\"data row3 col13\" >4.86</td>\n",
       "      <td id=\"T_d7663_row3_col14\" class=\"data row3 col14\" >16.7</td>\n",
       "    </tr>\n",
       "    <tr>\n",
       "      <th id=\"T_d7663_level0_row4\" class=\"row_heading level0 row4\" >product</th>\n",
       "      <td id=\"T_d7663_row4_col0\" class=\"data row4 col0\" >100000</td>\n",
       "      <td id=\"T_d7663_row4_col1\" class=\"data row4 col1\" >1</td>\n",
       "      <td id=\"T_d7663_row4_col2\" class=\"data row4 col2\" >99725</td>\n",
       "      <td id=\"T_d7663_row4_col3\" class=\"data row4 col3\" >275</td>\n",
       "      <td id=\"T_d7663_row4_col4\" class=\"data row4 col4\" >0</td>\n",
       "      <td id=\"T_d7663_row4_col5\" class=\"data row4 col5\" >0</td>\n",
       "      <td id=\"T_d7663_row4_col6\" class=\"data row4 col6\" >0.00%</td>\n",
       "      <td id=\"T_d7663_row4_col7\" class=\"data row4 col7\" >float32</td>\n",
       "      <td id=\"T_d7663_row4_col8\" class=\"data row4 col8\" >95.0</td>\n",
       "      <td id=\"T_d7663_row4_col9\" class=\"data row4 col9\" >44.7</td>\n",
       "      <td id=\"T_d7663_row4_col10\" class=\"data row4 col10\" >0.0</td>\n",
       "      <td id=\"T_d7663_row4_col11\" class=\"data row4 col11\" >59.5</td>\n",
       "      <td id=\"T_d7663_row4_col12\" class=\"data row4 col12\" >94.9</td>\n",
       "      <td id=\"T_d7663_row4_col13\" class=\"data row4 col13\" >1.31e+02</td>\n",
       "      <td id=\"T_d7663_row4_col14\" class=\"data row4 col14\" >1.9e+02</td>\n",
       "    </tr>\n",
       "  </tbody>\n",
       "</table>\n"
      ]
     },
     "metadata": {}
    },
    {
     "output_type": "stream",
     "name": "stdout",
     "text": [
      "\n",
      "\n",
      "\u001B[94m  \u001B[1m Distribution of data in numeric columns\n"
     ]
    },
    {
     "output_type": "display_data",
     "data": {
      "text/plain": [
       "<Figure size 1200x600 with 8 Axes>"
      ],
      "image/png": "[encoded data removed]"
     },
     "metadata": {}
    },
    {
     "output_type": "stream",
     "name": "stdout",
     "text": [
      "\n",
      "\n",
      "\u001B[94m  \u001B[1m  Correlation of kendall \n"
     ]
    },
    {
     "output_type": "display_data",
     "data": {
      "text/plain": [
       "<Figure size 500x500 with 2 Axes>"
      ],
      "image/png": "[encoded data removed]"
     },
     "metadata": {}
    }
   ]
  },
  {
   "cell_type": "code",
   "source": [
    "df_0[df_0.id.duplicated()]"
   ],
   "metadata": {
    "id": "N7ocbKCgWDZr",
    "colab": {
     "base_uri": "https://localhost:8080/",
     "height": 363
    },
    "outputId": "a05215c8-31b2-4321-9006-122376c19c1a"
   },
   "execution_count": null,
   "outputs": [
    {
     "output_type": "execute_result",
     "data": {
      "text/plain": [
       "          id        f0        f1         f2     product\n",
       "7530   HZww2  1.061194 -0.373969  10.430210  158.828690\n",
       "41724  bxg6G -0.823752  0.546319   3.630479   93.007797\n",
       "51970  A5aEY -0.180335  0.935548  -2.094773   33.020206\n",
       "63593  QcMuo  0.635635 -0.473422   0.862670   64.578674\n",
       "66136  74z30  1.084962 -0.312358   6.990771  127.643326\n",
       "69163  AGS9W -0.933795  0.116194  -3.655896   19.230453\n",
       "75715  Tdehs  0.112079  0.430296   3.218993   60.964020\n",
       "90815  fiKDv  0.049883  0.841313   6.394613  137.346588\n",
       "92341  TtcGQ  0.110711  1.022689   0.911381  101.318008\n",
       "97785  bsk9y  0.378429  0.005837   0.160827  160.637299"
      ],
      "text/html": [
       "\n",
       "  <div id=\"df-b200dd4e-50e8-4d4b-94ce-598d1250a722\">\n",
       "    <div class=\"colab-df-container\">\n",
       "      <div>\n",
       "<style scoped>\n",
       "    .dataframe tbody tr th:only-of-type {\n",
       "        vertical-align: middle;\n",
       "    }\n",
       "\n",
       "    .dataframe tbody tr th {\n",
       "        vertical-align: top;\n",
       "    }\n",
       "\n",
       "    .dataframe thead th {\n",
       "        text-align: right;\n",
       "    }\n",
       "</style>\n",
       "<table border=\"1\" class=\"dataframe\">\n",
       "  <thead>\n",
       "    <tr style=\"text-align: right;\">\n",
       "      <th></th>\n",
       "      <th>id</th>\n",
       "      <th>f0</th>\n",
       "      <th>f1</th>\n",
       "      <th>f2</th>\n",
       "      <th>product</th>\n",
       "    </tr>\n",
       "  </thead>\n",
       "  <tbody>\n",
       "    <tr>\n",
       "      <th>7530</th>\n",
       "      <td>HZww2</td>\n",
       "      <td>1.061194</td>\n",
       "      <td>-0.373969</td>\n",
       "      <td>10.430210</td>\n",
       "      <td>158.828690</td>\n",
       "    </tr>\n",
       "    <tr>\n",
       "      <th>41724</th>\n",
       "      <td>bxg6G</td>\n",
       "      <td>-0.823752</td>\n",
       "      <td>0.546319</td>\n",
       "      <td>3.630479</td>\n",
       "      <td>93.007797</td>\n",
       "    </tr>\n",
       "    <tr>\n",
       "      <th>51970</th>\n",
       "      <td>A5aEY</td>\n",
       "      <td>-0.180335</td>\n",
       "      <td>0.935548</td>\n",
       "      <td>-2.094773</td>\n",
       "      <td>33.020206</td>\n",
       "    </tr>\n",
       "    <tr>\n",
       "      <th>63593</th>\n",
       "      <td>QcMuo</td>\n",
       "      <td>0.635635</td>\n",
       "      <td>-0.473422</td>\n",
       "      <td>0.862670</td>\n",
       "      <td>64.578674</td>\n",
       "    </tr>\n",
       "    <tr>\n",
       "      <th>66136</th>\n",
       "      <td>74z30</td>\n",
       "      <td>1.084962</td>\n",
       "      <td>-0.312358</td>\n",
       "      <td>6.990771</td>\n",
       "      <td>127.643326</td>\n",
       "    </tr>\n",
       "    <tr>\n",
       "      <th>69163</th>\n",
       "      <td>AGS9W</td>\n",
       "      <td>-0.933795</td>\n",
       "      <td>0.116194</td>\n",
       "      <td>-3.655896</td>\n",
       "      <td>19.230453</td>\n",
       "    </tr>\n",
       "    <tr>\n",
       "      <th>75715</th>\n",
       "      <td>Tdehs</td>\n",
       "      <td>0.112079</td>\n",
       "      <td>0.430296</td>\n",
       "      <td>3.218993</td>\n",
       "      <td>60.964020</td>\n",
       "    </tr>\n",
       "    <tr>\n",
       "      <th>90815</th>\n",
       "      <td>fiKDv</td>\n",
       "      <td>0.049883</td>\n",
       "      <td>0.841313</td>\n",
       "      <td>6.394613</td>\n",
       "      <td>137.346588</td>\n",
       "    </tr>\n",
       "    <tr>\n",
       "      <th>92341</th>\n",
       "      <td>TtcGQ</td>\n",
       "      <td>0.110711</td>\n",
       "      <td>1.022689</td>\n",
       "      <td>0.911381</td>\n",
       "      <td>101.318008</td>\n",
       "    </tr>\n",
       "    <tr>\n",
       "      <th>97785</th>\n",
       "      <td>bsk9y</td>\n",
       "      <td>0.378429</td>\n",
       "      <td>0.005837</td>\n",
       "      <td>0.160827</td>\n",
       "      <td>160.637299</td>\n",
       "    </tr>\n",
       "  </tbody>\n",
       "</table>\n",
       "</div>\n",
       "      <button class=\"colab-df-convert\" onclick=\"convertToInteractive('df-b200dd4e-50e8-4d4b-94ce-598d1250a722')\"\n",
       "              title=\"Convert this dataframe to an interactive table.\"\n",
       "              style=\"display:none;\">\n",
       "        \n",
       "  <svg xmlns=\"http://www.w3.org/2000/svg\" height=\"24px\"viewBox=\"0 0 24 24\"\n",
       "       width=\"24px\">\n",
       "    <path d=\"M0 0h24v24H0V0z\" fill=\"none\"/>\n",
       "    <path d=\"M18.56 5.44l.94 2.06.94-2.06 2.06-.94-2.06-.94-.94-2.06-.94 2.06-2.06.94zm-11 1L8.5 8.5l.94-2.06 2.06-.94-2.06-.94L8.5 2.5l-.94 2.06-2.06.94zm10 10l.94 2.06.94-2.06 2.06-.94-2.06-.94-.94-2.06-.94 2.06-2.06.94z\"/><path d=\"M17.41 7.96l-1.37-1.37c-.4-.4-.92-.59-1.43-.59-.52 0-1.04.2-1.43.59L10.3 9.45l-7.72 7.72c-.78.78-.78 2.05 0 2.83L4 21.41c.39.39.9.59 1.41.59.51 0 1.02-.2 1.41-.59l7.78-7.78 2.81-2.81c.8-.78.8-2.07 0-2.86zM5.41 20L4 18.59l7.72-7.72 1.47 1.35L5.41 20z\"/>\n",
       "  </svg>\n",
       "      </button>\n",
       "      \n",
       "  <style>\n",
       "    .colab-df-container {\n",
       "      display:flex;\n",
       "      flex-wrap:wrap;\n",
       "      gap: 12px;\n",
       "    }\n",
       "\n",
       "    .colab-df-convert {\n",
       "      background-color: #E8F0FE;\n",
       "      border: none;\n",
       "      border-radius: 50%;\n",
       "      cursor: pointer;\n",
       "      display: none;\n",
       "      fill: #1967D2;\n",
       "      height: 32px;\n",
       "      padding: 0 0 0 0;\n",
       "      width: 32px;\n",
       "    }\n",
       "\n",
       "    .colab-df-convert:hover {\n",
       "      background-color: #E2EBFA;\n",
       "      box-shadow: 0px 1px 2px rgba(60, 64, 67, 0.3), 0px 1px 3px 1px rgba(60, 64, 67, 0.15);\n",
       "      fill: #174EA6;\n",
       "    }\n",
       "\n",
       "    [theme=dark] .colab-df-convert {\n",
       "      background-color: #3B4455;\n",
       "      fill: #D2E3FC;\n",
       "    }\n",
       "\n",
       "    [theme=dark] .colab-df-convert:hover {\n",
       "      background-color: #434B5C;\n",
       "      box-shadow: 0px 1px 3px 1px rgba(0, 0, 0, 0.15);\n",
       "      filter: drop-shadow(0px 1px 2px rgba(0, 0, 0, 0.3));\n",
       "      fill: #FFFFFF;\n",
       "    }\n",
       "  </style>\n",
       "\n",
       "      <script>\n",
       "        const buttonEl =\n",
       "          document.querySelector('#df-b200dd4e-50e8-4d4b-94ce-598d1250a722 button.colab-df-convert');\n",
       "        buttonEl.style.display =\n",
       "          google.colab.kernel.accessAllowed ? 'block' : 'none';\n",
       "\n",
       "        async function convertToInteractive(key) {\n",
       "          const element = document.querySelector('#df-b200dd4e-50e8-4d4b-94ce-598d1250a722');\n",
       "          const dataTable =\n",
       "            await google.colab.kernel.invokeFunction('convertToInteractive',\n",
       "                                                     [key], {});\n",
       "          if (!dataTable) return;\n",
       "\n",
       "          const docLinkHtml = 'Like what you see? Visit the ' +\n",
       "            '<a target=\"_blank\" href=https://colab.research.google.com/notebooks/data_table.ipynb>data table notebook</a>'\n",
       "            + ' to learn more about interactive tables.';\n",
       "          element.innerHTML = '';\n",
       "          dataTable['output_type'] = 'display_data';\n",
       "          await google.colab.output.renderOutput(dataTable, element);\n",
       "          const docLink = document.createElement('div');\n",
       "          docLink.innerHTML = docLinkHtml;\n",
       "          element.appendChild(docLink);\n",
       "        }\n",
       "      </script>\n",
       "    </div>\n",
       "  </div>\n",
       "  "
      ]
     },
     "metadata": {},
     "execution_count": 69
    }
   ]
  },
  {
   "cell_type": "code",
   "source": [
    "df_1[df_1.id.duplicated()]"
   ],
   "metadata": {
    "id": "ZFc_-x8eWsmx",
    "colab": {
     "base_uri": "https://localhost:8080/",
     "height": 175
    },
    "outputId": "4b4073a5-002d-40f3-b56b-52bb3a3cf63b"
   },
   "execution_count": null,
   "outputs": [
    {
     "output_type": "execute_result",
     "data": {
      "text/plain": [
       "          id         f0        f1        f2     product\n",
       "41906  LHZR0  -8.989672 -4.286607  2.009139   57.085625\n",
       "82178  bfPNe  -6.202799 -4.820045  2.995107   84.038887\n",
       "82873  wt4Uk  10.259973 -9.376355  4.994297  134.766312\n",
       "84461  5ltQ6  18.213839  2.191999  3.993869  107.813042"
      ],
      "text/html": [
       "\n",
       "  <div id=\"df-915588db-709b-4f7a-bfaa-368a38bebb81\">\n",
       "    <div class=\"colab-df-container\">\n",
       "      <div>\n",
       "<style scoped>\n",
       "    .dataframe tbody tr th:only-of-type {\n",
       "        vertical-align: middle;\n",
       "    }\n",
       "\n",
       "    .dataframe tbody tr th {\n",
       "        vertical-align: top;\n",
       "    }\n",
       "\n",
       "    .dataframe thead th {\n",
       "        text-align: right;\n",
       "    }\n",
       "</style>\n",
       "<table border=\"1\" class=\"dataframe\">\n",
       "  <thead>\n",
       "    <tr style=\"text-align: right;\">\n",
       "      <th></th>\n",
       "      <th>id</th>\n",
       "      <th>f0</th>\n",
       "      <th>f1</th>\n",
       "      <th>f2</th>\n",
       "      <th>product</th>\n",
       "    </tr>\n",
       "  </thead>\n",
       "  <tbody>\n",
       "    <tr>\n",
       "      <th>41906</th>\n",
       "      <td>LHZR0</td>\n",
       "      <td>-8.989672</td>\n",
       "      <td>-4.286607</td>\n",
       "      <td>2.009139</td>\n",
       "      <td>57.085625</td>\n",
       "    </tr>\n",
       "    <tr>\n",
       "      <th>82178</th>\n",
       "      <td>bfPNe</td>\n",
       "      <td>-6.202799</td>\n",
       "      <td>-4.820045</td>\n",
       "      <td>2.995107</td>\n",
       "      <td>84.038887</td>\n",
       "    </tr>\n",
       "    <tr>\n",
       "      <th>82873</th>\n",
       "      <td>wt4Uk</td>\n",
       "      <td>10.259973</td>\n",
       "      <td>-9.376355</td>\n",
       "      <td>4.994297</td>\n",
       "      <td>134.766312</td>\n",
       "    </tr>\n",
       "    <tr>\n",
       "      <th>84461</th>\n",
       "      <td>5ltQ6</td>\n",
       "      <td>18.213839</td>\n",
       "      <td>2.191999</td>\n",
       "      <td>3.993869</td>\n",
       "      <td>107.813042</td>\n",
       "    </tr>\n",
       "  </tbody>\n",
       "</table>\n",
       "</div>\n",
       "      <button class=\"colab-df-convert\" onclick=\"convertToInteractive('df-915588db-709b-4f7a-bfaa-368a38bebb81')\"\n",
       "              title=\"Convert this dataframe to an interactive table.\"\n",
       "              style=\"display:none;\">\n",
       "        \n",
       "  <svg xmlns=\"http://www.w3.org/2000/svg\" height=\"24px\"viewBox=\"0 0 24 24\"\n",
       "       width=\"24px\">\n",
       "    <path d=\"M0 0h24v24H0V0z\" fill=\"none\"/>\n",
       "    <path d=\"M18.56 5.44l.94 2.06.94-2.06 2.06-.94-2.06-.94-.94-2.06-.94 2.06-2.06.94zm-11 1L8.5 8.5l.94-2.06 2.06-.94-2.06-.94L8.5 2.5l-.94 2.06-2.06.94zm10 10l.94 2.06.94-2.06 2.06-.94-2.06-.94-.94-2.06-.94 2.06-2.06.94z\"/><path d=\"M17.41 7.96l-1.37-1.37c-.4-.4-.92-.59-1.43-.59-.52 0-1.04.2-1.43.59L10.3 9.45l-7.72 7.72c-.78.78-.78 2.05 0 2.83L4 21.41c.39.39.9.59 1.41.59.51 0 1.02-.2 1.41-.59l7.78-7.78 2.81-2.81c.8-.78.8-2.07 0-2.86zM5.41 20L4 18.59l7.72-7.72 1.47 1.35L5.41 20z\"/>\n",
       "  </svg>\n",
       "      </button>\n",
       "      \n",
       "  <style>\n",
       "    .colab-df-container {\n",
       "      display:flex;\n",
       "      flex-wrap:wrap;\n",
       "      gap: 12px;\n",
       "    }\n",
       "\n",
       "    .colab-df-convert {\n",
       "      background-color: #E8F0FE;\n",
       "      border: none;\n",
       "      border-radius: 50%;\n",
       "      cursor: pointer;\n",
       "      display: none;\n",
       "      fill: #1967D2;\n",
       "      height: 32px;\n",
       "      padding: 0 0 0 0;\n",
       "      width: 32px;\n",
       "    }\n",
       "\n",
       "    .colab-df-convert:hover {\n",
       "      background-color: #E2EBFA;\n",
       "      box-shadow: 0px 1px 2px rgba(60, 64, 67, 0.3), 0px 1px 3px 1px rgba(60, 64, 67, 0.15);\n",
       "      fill: #174EA6;\n",
       "    }\n",
       "\n",
       "    [theme=dark] .colab-df-convert {\n",
       "      background-color: #3B4455;\n",
       "      fill: #D2E3FC;\n",
       "    }\n",
       "\n",
       "    [theme=dark] .colab-df-convert:hover {\n",
       "      background-color: #434B5C;\n",
       "      box-shadow: 0px 1px 3px 1px rgba(0, 0, 0, 0.15);\n",
       "      filter: drop-shadow(0px 1px 2px rgba(0, 0, 0, 0.3));\n",
       "      fill: #FFFFFF;\n",
       "    }\n",
       "  </style>\n",
       "\n",
       "      <script>\n",
       "        const buttonEl =\n",
       "          document.querySelector('#df-915588db-709b-4f7a-bfaa-368a38bebb81 button.colab-df-convert');\n",
       "        buttonEl.style.display =\n",
       "          google.colab.kernel.accessAllowed ? 'block' : 'none';\n",
       "\n",
       "        async function convertToInteractive(key) {\n",
       "          const element = document.querySelector('#df-915588db-709b-4f7a-bfaa-368a38bebb81');\n",
       "          const dataTable =\n",
       "            await google.colab.kernel.invokeFunction('convertToInteractive',\n",
       "                                                     [key], {});\n",
       "          if (!dataTable) return;\n",
       "\n",
       "          const docLinkHtml = 'Like what you see? Visit the ' +\n",
       "            '<a target=\"_blank\" href=https://colab.research.google.com/notebooks/data_table.ipynb>data table notebook</a>'\n",
       "            + ' to learn more about interactive tables.';\n",
       "          element.innerHTML = '';\n",
       "          dataTable['output_type'] = 'display_data';\n",
       "          await google.colab.output.renderOutput(dataTable, element);\n",
       "          const docLink = document.createElement('div');\n",
       "          docLink.innerHTML = docLinkHtml;\n",
       "          element.appendChild(docLink);\n",
       "        }\n",
       "      </script>\n",
       "    </div>\n",
       "  </div>\n",
       "  "
      ]
     },
     "metadata": {},
     "execution_count": 70
    }
   ]
  },
  {
   "cell_type": "code",
   "source": [
    "df_2[df_2.id.duplicated()]"
   ],
   "metadata": {
    "id": "lo2wAPNXW3zj",
    "colab": {
     "base_uri": "https://localhost:8080/",
     "height": 175
    },
    "outputId": "18be96e8-18b6-44ab-bfbf-f134b0403559"
   },
   "execution_count": null,
   "outputs": [
    {
     "output_type": "execute_result",
     "data": {
      "text/plain": [
       "          id        f0        f1        f2     product\n",
       "43233  xCHr8 -0.847066  2.101796  5.597130  184.388641\n",
       "49564  VF7Jo -0.883115  0.560537  0.723601  136.233414\n",
       "55967  KUPhW  1.211151  3.176408  5.543540  132.831802\n",
       "95090  Vcm5J  2.587702  1.986875  2.482245   92.327576"
      ],
      "text/html": [
       "\n",
       "  <div id=\"df-7b26f0a6-ef20-455f-b554-bdcc1877d6d2\">\n",
       "    <div class=\"colab-df-container\">\n",
       "      <div>\n",
       "<style scoped>\n",
       "    .dataframe tbody tr th:only-of-type {\n",
       "        vertical-align: middle;\n",
       "    }\n",
       "\n",
       "    .dataframe tbody tr th {\n",
       "        vertical-align: top;\n",
       "    }\n",
       "\n",
       "    .dataframe thead th {\n",
       "        text-align: right;\n",
       "    }\n",
       "</style>\n",
       "<table border=\"1\" class=\"dataframe\">\n",
       "  <thead>\n",
       "    <tr style=\"text-align: right;\">\n",
       "      <th></th>\n",
       "      <th>id</th>\n",
       "      <th>f0</th>\n",
       "      <th>f1</th>\n",
       "      <th>f2</th>\n",
       "      <th>product</th>\n",
       "    </tr>\n",
       "  </thead>\n",
       "  <tbody>\n",
       "    <tr>\n",
       "      <th>43233</th>\n",
       "      <td>xCHr8</td>\n",
       "      <td>-0.847066</td>\n",
       "      <td>2.101796</td>\n",
       "      <td>5.597130</td>\n",
       "      <td>184.388641</td>\n",
       "    </tr>\n",
       "    <tr>\n",
       "      <th>49564</th>\n",
       "      <td>VF7Jo</td>\n",
       "      <td>-0.883115</td>\n",
       "      <td>0.560537</td>\n",
       "      <td>0.723601</td>\n",
       "      <td>136.233414</td>\n",
       "    </tr>\n",
       "    <tr>\n",
       "      <th>55967</th>\n",
       "      <td>KUPhW</td>\n",
       "      <td>1.211151</td>\n",
       "      <td>3.176408</td>\n",
       "      <td>5.543540</td>\n",
       "      <td>132.831802</td>\n",
       "    </tr>\n",
       "    <tr>\n",
       "      <th>95090</th>\n",
       "      <td>Vcm5J</td>\n",
       "      <td>2.587702</td>\n",
       "      <td>1.986875</td>\n",
       "      <td>2.482245</td>\n",
       "      <td>92.327576</td>\n",
       "    </tr>\n",
       "  </tbody>\n",
       "</table>\n",
       "</div>\n",
       "      <button class=\"colab-df-convert\" onclick=\"convertToInteractive('df-7b26f0a6-ef20-455f-b554-bdcc1877d6d2')\"\n",
       "              title=\"Convert this dataframe to an interactive table.\"\n",
       "              style=\"display:none;\">\n",
       "        \n",
       "  <svg xmlns=\"http://www.w3.org/2000/svg\" height=\"24px\"viewBox=\"0 0 24 24\"\n",
       "       width=\"24px\">\n",
       "    <path d=\"M0 0h24v24H0V0z\" fill=\"none\"/>\n",
       "    <path d=\"M18.56 5.44l.94 2.06.94-2.06 2.06-.94-2.06-.94-.94-2.06-.94 2.06-2.06.94zm-11 1L8.5 8.5l.94-2.06 2.06-.94-2.06-.94L8.5 2.5l-.94 2.06-2.06.94zm10 10l.94 2.06.94-2.06 2.06-.94-2.06-.94-.94-2.06-.94 2.06-2.06.94z\"/><path d=\"M17.41 7.96l-1.37-1.37c-.4-.4-.92-.59-1.43-.59-.52 0-1.04.2-1.43.59L10.3 9.45l-7.72 7.72c-.78.78-.78 2.05 0 2.83L4 21.41c.39.39.9.59 1.41.59.51 0 1.02-.2 1.41-.59l7.78-7.78 2.81-2.81c.8-.78.8-2.07 0-2.86zM5.41 20L4 18.59l7.72-7.72 1.47 1.35L5.41 20z\"/>\n",
       "  </svg>\n",
       "      </button>\n",
       "      \n",
       "  <style>\n",
       "    .colab-df-container {\n",
       "      display:flex;\n",
       "      flex-wrap:wrap;\n",
       "      gap: 12px;\n",
       "    }\n",
       "\n",
       "    .colab-df-convert {\n",
       "      background-color: #E8F0FE;\n",
       "      border: none;\n",
       "      border-radius: 50%;\n",
       "      cursor: pointer;\n",
       "      display: none;\n",
       "      fill: #1967D2;\n",
       "      height: 32px;\n",
       "      padding: 0 0 0 0;\n",
       "      width: 32px;\n",
       "    }\n",
       "\n",
       "    .colab-df-convert:hover {\n",
       "      background-color: #E2EBFA;\n",
       "      box-shadow: 0px 1px 2px rgba(60, 64, 67, 0.3), 0px 1px 3px 1px rgba(60, 64, 67, 0.15);\n",
       "      fill: #174EA6;\n",
       "    }\n",
       "\n",
       "    [theme=dark] .colab-df-convert {\n",
       "      background-color: #3B4455;\n",
       "      fill: #D2E3FC;\n",
       "    }\n",
       "\n",
       "    [theme=dark] .colab-df-convert:hover {\n",
       "      background-color: #434B5C;\n",
       "      box-shadow: 0px 1px 3px 1px rgba(0, 0, 0, 0.15);\n",
       "      filter: drop-shadow(0px 1px 2px rgba(0, 0, 0, 0.3));\n",
       "      fill: #FFFFFF;\n",
       "    }\n",
       "  </style>\n",
       "\n",
       "      <script>\n",
       "        const buttonEl =\n",
       "          document.querySelector('#df-7b26f0a6-ef20-455f-b554-bdcc1877d6d2 button.colab-df-convert');\n",
       "        buttonEl.style.display =\n",
       "          google.colab.kernel.accessAllowed ? 'block' : 'none';\n",
       "\n",
       "        async function convertToInteractive(key) {\n",
       "          const element = document.querySelector('#df-7b26f0a6-ef20-455f-b554-bdcc1877d6d2');\n",
       "          const dataTable =\n",
       "            await google.colab.kernel.invokeFunction('convertToInteractive',\n",
       "                                                     [key], {});\n",
       "          if (!dataTable) return;\n",
       "\n",
       "          const docLinkHtml = 'Like what you see? Visit the ' +\n",
       "            '<a target=\"_blank\" href=https://colab.research.google.com/notebooks/data_table.ipynb>data table notebook</a>'\n",
       "            + ' to learn more about interactive tables.';\n",
       "          element.innerHTML = '';\n",
       "          dataTable['output_type'] = 'display_data';\n",
       "          await google.colab.output.renderOutput(dataTable, element);\n",
       "          const docLink = document.createElement('div');\n",
       "          docLink.innerHTML = docLinkHtml;\n",
       "          element.appendChild(docLink);\n",
       "        }\n",
       "      </script>\n",
       "    </div>\n",
       "  </div>\n",
       "  "
      ]
     },
     "metadata": {},
     "execution_count": 71
    }
   ]
  },
  {
   "cell_type": "markdown",
   "source": [
    "Данные не имеют пропущенных значений и явных дубликатов. Датасеты df_0 и df_1 имет по одному признаку с нормальным распределением, в то время как в df_3 их 3 из 4. Во всех датасетах наблюдаются нулевые значения в столбце product,вариантов заполнения нет. В датасете df_1 довольно много таких значений, поэтому удаление значений нецелесообразно. Между целевым признаком product и f2 во всех датасетах наблюдается корреляция. В данных так же наблюдаются выбросы"
   ],
   "metadata": {
    "id": "n9yp1FTBn2Z8"
   }
  },
  {
   "cell_type": "markdown",
   "metadata": {
    "id": "ZLOQWOkL6FWC"
   },
   "source": [
    "## 2 Обучение модели"
   ]
  },
  {
   "cell_type": "code",
   "source": [
    "# function for the fitting model\n",
    "def linear_model(df):\n",
    "    # define stratify train and test data\n",
    "    X = df.iloc[:, 1:-1]\n",
    "    y = df.iloc[:, -1]\n",
    "    X_train, X_test, \\\n",
    "    y_train, y_test = train_test_split(X, y, random_state=RANDOM_STATE)\n",
    "    # bild and train\n",
    "    model = make_pipeline(StandardScaler(), LinearRegression())\n",
    "    model.fit(X_train, y_train)\n",
    "    # evalute the model\n",
    "    prediction = model.predict(X_test)\n",
    "    rmse = mean_squared_error(y_test, prediction, squared=False)\n",
    "    r2 = r2_score(y_test, prediction)\n",
    "    # create dataframe from true values and predictions\n",
    "    predict_test = pd.DataFrame({\n",
    "        \"predict\": prediction, \n",
    "        \"test\": y_test}, \n",
    "        index=y_test.index\n",
    "    )\n",
    "    return r2, rmse, prediction, y_test, predict_test\n"
   ],
   "metadata": {
    "id": "7SdMSmCzVPt7"
   },
   "execution_count": null,
   "outputs": []
  },
  {
   "cell_type": "code",
   "source": [
    "len(y_test_0)"
   ],
   "metadata": {
    "colab": {
     "base_uri": "https://localhost:8080/"
    },
    "id": "-f3DKpzzbaJF",
    "outputId": "36c4eca4-ed07-4a26-a7e8-49ac866d8c98"
   },
   "execution_count": null,
   "outputs": [
    {
     "output_type": "execute_result",
     "data": {
      "text/plain": [
       "25000"
      ]
     },
     "metadata": {},
     "execution_count": 73
    }
   ]
  },
  {
   "cell_type": "code",
   "source": [
    "len(predict_test_0)"
   ],
   "metadata": {
    "colab": {
     "base_uri": "https://localhost:8080/"
    },
    "id": "Vl3SuNLNbeUO",
    "outputId": "3ef60f8e-679c-48b7-c330-b616437572ed"
   },
   "execution_count": null,
   "outputs": [
    {
     "output_type": "execute_result",
     "data": {
      "text/plain": [
       "25000"
      ]
     },
     "metadata": {},
     "execution_count": 74
    }
   ]
  },
  {
   "cell_type": "code",
   "source": [
    "# get from the function metrics, predictions, true values and dataframe\n",
    "r2_0, rmse_0, prediction_0, y_test_0, predict_test_0 = linear_model(df_0)\n",
    "r2_1, rmse_1, prediction_1, y_test_1, predict_test_1 = linear_model(df_1)\n",
    "r2_2, rmse_2, prediction_2, y_test_2, predict_test_2 = linear_model(df_2)"
   ],
   "metadata": {
    "id": "LKXHClcgiPe6"
   },
   "execution_count": null,
   "outputs": []
  },
  {
   "cell_type": "code",
   "source": [
    "# display results for region 0\n",
    "print(f\"\"\"Error rate:{r2_0: .2f} \n",
    "RMSE: {rmse_0:.2f}\n",
    "Mean of predicted oil production: \\\n",
    "{prediction_0.mean():.2f} thousand barrels\n",
    "Mean of real oil production: \\\n",
    "{y_test_0.mean():.2f} thousand barrels\"\"\")"
   ],
   "metadata": {
    "id": "1qta0XO8oOYm",
    "colab": {
     "base_uri": "https://localhost:8080/"
    },
    "outputId": "233ac595-18f8-44e4-c139-d5b4feaf2f04"
   },
   "execution_count": null,
   "outputs": [
    {
     "output_type": "stream",
     "name": "stdout",
     "text": [
      "Error rate: 0.27 \n",
      "RMSE: 37.76\n",
      "Mean of predicted oil production: 92.40 thousand barrels\n",
      "Mean of real oil production: 92.33 thousand barrels\n"
     ]
    }
   ]
  },
  {
   "cell_type": "code",
   "source": [
    "# display results for region 1\n",
    "print(f\"\"\"Error rate:{r2_1: .2f} \n",
    "RMSE: {rmse_1:.2f}\n",
    "Mean of predicted oil production: \\\n",
    "{prediction_1.mean():.2f} thousand barrels\n",
    "Mean of real oil production: \\\n",
    "{y_test_1.mean():.2f} thousand barrels\"\"\")"
   ],
   "metadata": {
    "id": "f6JrRZsvwU9H",
    "colab": {
     "base_uri": "https://localhost:8080/"
    },
    "outputId": "f851507e-7dd7-462f-f32b-e605725aaf22"
   },
   "execution_count": null,
   "outputs": [
    {
     "output_type": "stream",
     "name": "stdout",
     "text": [
      "Error rate: 1.00 \n",
      "RMSE: 0.89\n",
      "Mean of predicted oil production: 68.71 thousand barrels\n",
      "Mean of real oil production: 68.73 thousand barrels\n"
     ]
    }
   ]
  },
  {
   "cell_type": "code",
   "source": [
    "# display results for region 2\n",
    "print(f\"\"\"Error rate:{r2_2: .2f} \n",
    "RMSE: {rmse_2:.2f}\n",
    "Mean of predicted oil production: \\\n",
    "{prediction_2.mean():.2f} thousand barrels\n",
    "Mean of real oil production: \\\n",
    "{y_test_2.mean():.2f} thousand barrels\"\"\")"
   ],
   "metadata": {
    "id": "DnIl3Bqy0QiL",
    "colab": {
     "base_uri": "https://localhost:8080/"
    },
    "outputId": "006ad19a-71f5-4c17-fc03-2054869d8317"
   },
   "execution_count": null,
   "outputs": [
    {
     "output_type": "stream",
     "name": "stdout",
     "text": [
      "Error rate: 0.20 \n",
      "RMSE: 40.15\n",
      "Mean of predicted oil production: 94.77 thousand barrels\n",
      "Mean of real oil production: 95.15 thousand barrels\n"
     ]
    }
   ]
  },
  {
   "cell_type": "markdown",
   "metadata": {
    "id": "3epVn3Lk0Ocl"
   },
   "source": [
    "### Вывод\n",
    "Обученнная модель линейной регрессии показала наилучшее качество, исходя из метрики `r2`, в регионе 1 и там же предсказал наименьшее среднее количество запасов сырья. Тем не менее, эти данные совпали с действительным средним. Но наибольшие запасы сырья содержатся в регионах 0 и 3, где качество модели оставляет желать лучшего."
   ]
  },
  {
   "cell_type": "markdown",
   "metadata": {
    "id": "NTrZXhdo7EAJ"
   },
   "source": [
    "## 3 Расчет безубыточного объема сырья"
   ]
  },
  {
   "cell_type": "code",
   "source": [
    "# save all bissnes parameters \n",
    "ALL_STATIONS = 500 # research stations\n",
    "BEST_STATIONS = 200 # choose the best stations\n",
    "DEVELOP_BUDGET = 10**10 # how much money for developing\n",
    "INCOME = 450 * 1000 # price per 1000 barrels\n",
    "LOSS = 0.025 # level of the loss for the region"
   ],
   "metadata": {
    "id": "jqBhDfdIlAzt"
   },
   "execution_count": null,
   "outputs": []
  },
  {
   "cell_type": "code",
   "source": [
    "# look at the break-even volume and compare with the real volume\n",
    "print(f'''Break-even production volume:\\\n",
    "{DEVELOP_BUDGET / BEST_STATIONS / INCOME: .0f} thousand barrels''')\n",
    "for i, test in enumerate([y_test_0, y_test_1, y_test_2]):\n",
    "    print(f\"\"\"Mean of real oil production in {i} region: \\\n",
    "{test.mean():.2f} thousand barrels\"\"\")"
   ],
   "metadata": {
    "colab": {
     "base_uri": "https://localhost:8080/"
    },
    "id": "LnYebPVkgafu",
    "outputId": "8f07154c-ee81-43ff-d4c6-c90807f5e988"
   },
   "execution_count": null,
   "outputs": [
    {
     "output_type": "stream",
     "name": "stdout",
     "text": [
      "Break-even production volume: 111 thousand barrels\n",
      "Mean of real oil production in 0 region: 92.33 thousand barrels\n",
      "Mean of real oil production in 1 region: 68.73 thousand barrels\n",
      "Mean of real oil production in 2 region: 95.15 thousand barrels\n"
     ]
    }
   ]
  },
  {
   "cell_type": "markdown",
   "metadata": {
    "id": "4IUSkA080L0g"
   },
   "source": [
    "### Вывод\n",
    "Ни один из регионов не превысил планку безубыточности. Более близком к этому регион 0, опережая на несколько десятых регион 2"
   ]
  },
  {
   "cell_type": "markdown",
   "metadata": {
    "id": "V81tYR5M7Ejf"
   },
   "source": [
    "## 4 Расчет прибыли"
   ]
  },
  {
   "cell_type": "code",
   "source": [
    "def revenue(data):\n",
    "    # calculates the revenue of the top stations\n",
    "    top_stations = data.sort_values(by=\"predict\", \n",
    "                                    ascending=False)[:BEST_STATIONS]\n",
    "    return top_stations[\"test\"].sum() * INCOME - DEVELOP_BUDGET\n"
   ],
   "metadata": {
    "id": "3iO_3rZ7B2Gl"
   },
   "execution_count": null,
   "outputs": []
  },
  {
   "cell_type": "code",
   "source": [
    "# display the number of profit for each datasets \n",
    "for i, name in enumerate([predict_test_0, predict_test_1, predict_test_2]):\n",
    "    print(f\"\"\"Profit in {i} region for the received volume of raw materials \\\n",
    "{revenue(name) / 10**9:,.2f} billions rubles\"\"\")"
   ],
   "metadata": {
    "colab": {
     "base_uri": "https://localhost:8080/"
    },
    "id": "PKAzj2yw7dgr",
    "outputId": "68a39529-b42b-45e8-9c2d-02d94e139a5e"
   },
   "execution_count": null,
   "outputs": [
    {
     "output_type": "stream",
     "name": "stdout",
     "text": [
      "Profit in 0 region for the received volume of raw materials 3.36 billions rubles\n",
      "Profit in 1 region for the received volume of raw materials 2.42 billions rubles\n",
      "Profit in 2 region for the received volume of raw materials 2.60 billions rubles\n"
     ]
    }
   ]
  },
  {
   "cell_type": "code",
   "source": [
    "def distribution(data_pt, number, iterator=1000):\n",
    "        \n",
    "    # create an empty list to store the revenue values\n",
    "    values = []\n",
    "\n",
    "    # iterate 1000 times to simulate different samples and calculate revenue\n",
    "    for i in range(iterator):\n",
    "        # sample with replacement to simulate different stations being selected each time\n",
    "        sample_test = data_pt.sample(\n",
    "            n=ALL_STATIONS, replace=True, random_state=state)\n",
    "        # calculate the revenue for this sample and add it to the list\n",
    "        values.append(revenue(sample_test))\n",
    "\n",
    "    # convert the list to a pandas Series for easier analysis and plotting\n",
    "    distrube_revenue = pd.Series(values)\n",
    "    # calculate the probability of loss (revenue < 0)\n",
    "    loss_percent = (distrube_revenue < 0).mean()\n",
    "    # plot a histogram of the revenue values\n",
    "    sns.histplot(data=distrube_revenue, kde=True)\n",
    "    # add a vertical line for the mean revenue\n",
    "    plt.axvline(distrube_revenue.mean(), color='r', linestyle='--')\n",
    "    # add a title and axis labels to the plot\n",
    "    plt.title(f\"Distribution of the all revenues in region {number}\")\n",
    "    plt.xlabel(\"Revenue\")\n",
    "    plt.show()\n",
    "    # print the probability of loss and the range of the 95% confidence interval for the mean revenue\n",
    "    print_loss = f\"Probabillity of loss in region {number} is {loss_percent:.2%}\"\n",
    "    print_interval = f\"\"\"There is a 95% probability that the average profit \\n\n",
    "    value will fall within the range of \\n \n",
    "    {distrube_revenue.quantile(0.025) / 10**6:,.2f} millions rubles to \\n\n",
    "    {distrube_revenue.quantile(0.975) / 10**6:,.2f} millions rubles\"\"\"\n",
    "    print(print_loss, print_interval, sep=\"\\n\")\n"
   ],
   "metadata": {
    "id": "SyfcQVmapZYs"
   },
   "execution_count": null,
   "outputs": []
  },
  {
   "cell_type": "code",
   "source": [
    "distribution(predict_test_0, 0)\n"
   ],
   "metadata": {
    "id": "U-xPcBb4zbk2",
    "colab": {
     "base_uri": "https://localhost:8080/",
     "height": 611
    },
    "outputId": "032018bf-7247-4c77-ee6e-e78a2f8f32f8"
   },
   "execution_count": null,
   "outputs": [
    {
     "output_type": "display_data",
     "data": {
      "text/plain": [
       "<Figure size 640x480 with 1 Axes>"
      ],
      "image/png": "[encoded data removed]"
     },
     "metadata": {}
    },
    {
     "output_type": "stream",
     "name": "stdout",
     "text": [
      "Probabillity of loss in region 0 is 6.00%\n",
      "There is a 95% probability that the average profit \n",
      "\n",
      "    value will fall within the range of \n",
      " \n",
      "    -110.47 millions rubles to \n",
      "\n",
      "    897.46 millions rubles\n"
     ]
    }
   ]
  },
  {
   "cell_type": "code",
   "source": [
    "distribution(predict_test_1, 1)\n"
   ],
   "metadata": {
    "colab": {
     "base_uri": "https://localhost:8080/",
     "height": 611
    },
    "id": "OiBKO4c1KvJA",
    "outputId": "4bab4b01-6faa-4879-d983-fd22cb441bee"
   },
   "execution_count": null,
   "outputs": [
    {
     "output_type": "display_data",
     "data": {
      "text/plain": [
       "<Figure size 640x480 with 1 Axes>"
      ],
      "image/png": "[encoded data removed]"
     },
     "metadata": {}
    },
    {
     "output_type": "stream",
     "name": "stdout",
     "text": [
      "Probabillity of loss in region 1 is 1.50%\n",
      "There is a 95% probability that the average profit \n",
      "\n",
      "    value will fall within the range of \n",
      " \n",
      "    61.68 millions rubles to \n",
      "\n",
      "    845.34 millions rubles\n"
     ]
    }
   ]
  },
  {
   "cell_type": "code",
   "source": [
    "distribution(predict_test_2, 1)\n"
   ],
   "metadata": {
    "colab": {
     "base_uri": "https://localhost:8080/",
     "height": 611
    },
    "id": "FKmsInhXQH6t",
    "outputId": "2aeb9693-38d3-40cd-ffda-be21813a38a8"
   },
   "execution_count": null,
   "outputs": [
    {
     "output_type": "display_data",
     "data": {
      "text/plain": [
       "<Figure size 640x480 with 1 Axes>"
      ],
      "image/png": "[encoded data removed]"
     },
     "metadata": {}
    },
    {
     "output_type": "stream",
     "name": "stdout",
     "text": [
      "Probabillity of loss in region 1 is 8.00%\n",
      "There is a 95% probability that the average profit \n",
      "\n",
      "    value will fall within the range of \n",
      " \n",
      "    -14.48 millions rubles to \n",
      "\n",
      "    88.84 millions rubles\n"
     ]
    }
   ]
  },
  {
   "cell_type": "markdown",
   "metadata": {
    "id": "4YNCE8rwv-BX"
   },
   "source": [
    "### Вывод \n",
    "Наименьшие потери, которые составляют 1.5%, в регионе 1. Там же распределение значений прибыли наиболее плотное. Перспективные регионы показали уровень потерь больший, чем регион 0 и более широкое распределение значений прибыли."
   ]
  },
  {
   "cell_type": "markdown",
   "metadata": {
    "id": "TWqnWDTz7EyN"
   },
   "source": [
    "## 5 Заключение\n",
    "\n",
    "В регионе 0 вероятность убытков составляет 6%, а в регионе 1 и 2 - 1.5% и 8% соответственно. Это означает, что наиболее рискованным является второй регион.\n",
    "\n",
    "Однако, при этом во всех регионах прогнозируемые средние значения прибыли с вероятностью 95% могут быть от -110 до 897 млн. рублей.\n",
    "\n",
    "Точка безубыточности составляет 111 тыс. баррелей. Реальное среднее производство нефти в регионах 0, 1 и 2 составляет соответственно 92.33 тыс. баррелей, 68.73 тыс. баррелей и 95.15 тыс. баррелей.\n",
    "\n",
    "Оценка качества модели прогнозирования показала, что в регионе 0 и 2 модели дают прогнозы с неплохой точностью, хотя RMSE достаточно высокий. В регионе 1 модель дает более точные прогнозы, но ошибка прогноза немного выше.\n",
    "\n",
    "На основе всех этих данных можно рекомендовать бизнесу сконцентрироваться на развитии добычи нефти в регионе 1, где вероятность убытков самая низкая и модель прогнозирования дает более точные прогнозы производства. Однако, бизнес также может рассмотреть возможность развития в регионах 0 и 2, если риски могут быть управляемыми и потенциальная прибыль будет достаточно высокой."
   ]
  }
 ],
 "metadata": {
  "ExecuteTimeLog": [
   {
    "duration": 1282,
    "start_time": "2023-02-19T23:10:42.349Z"
   },
   {
    "duration": 4,
    "start_time": "2023-02-19T23:10:43.633Z"
   },
   {
    "duration": 217,
    "start_time": "2023-02-19T23:10:43.638Z"
   },
   {
    "duration": 17,
    "start_time": "2023-02-19T23:10:43.857Z"
   },
   {
    "duration": 13,
    "start_time": "2023-02-19T23:10:43.875Z"
   },
   {
    "duration": 4,
    "start_time": "2023-02-19T23:10:43.890Z"
   },
   {
    "duration": 18,
    "start_time": "2023-02-19T23:10:43.896Z"
   },
   {
    "duration": 14,
    "start_time": "2023-02-19T23:10:43.916Z"
   },
   {
    "duration": 5,
    "start_time": "2023-02-19T23:10:43.931Z"
   },
   {
    "duration": 714,
    "start_time": "2023-02-19T23:10:43.947Z"
   },
   {
    "duration": 56,
    "start_time": "2023-02-19T23:10:44.663Z"
   },
   {
    "duration": 28,
    "start_time": "2023-02-19T23:10:44.721Z"
   },
   {
    "duration": 47,
    "start_time": "2023-02-19T23:10:44.750Z"
   },
   {
    "duration": 14,
    "start_time": "2023-02-19T23:10:44.798Z"
   },
   {
    "duration": 826,
    "start_time": "2023-02-19T23:10:44.813Z"
   },
   {
    "duration": 20,
    "start_time": "2023-02-19T23:10:45.641Z"
   },
   {
    "duration": 25,
    "start_time": "2023-02-19T23:10:45.663Z"
   },
   {
    "duration": 10,
    "start_time": "2023-02-19T23:10:45.689Z"
   },
   {
    "duration": 12,
    "start_time": "2023-02-19T23:10:45.701Z"
   },
   {
    "duration": 147,
    "start_time": "2023-02-19T23:10:45.714Z"
   },
   {
    "duration": 3,
    "start_time": "2023-02-19T23:10:45.862Z"
   },
   {
    "duration": 461,
    "start_time": "2023-02-19T23:10:45.866Z"
   },
   {
    "duration": 302,
    "start_time": "2023-02-19T23:10:46.329Z"
   },
   {
    "duration": 21,
    "start_time": "2023-02-19T23:10:46.634Z"
   },
   {
    "duration": 35,
    "start_time": "2023-02-19T23:10:46.656Z"
   },
   {
    "duration": 24,
    "start_time": "2023-02-19T23:10:46.692Z"
   },
   {
    "duration": 10,
    "start_time": "2023-02-19T23:10:46.718Z"
   },
   {
    "duration": 443,
    "start_time": "2023-02-19T23:10:46.732Z"
   },
   {
    "duration": 4,
    "start_time": "2023-02-19T23:10:47.177Z"
   },
   {
    "duration": 25,
    "start_time": "2023-02-19T23:10:47.182Z"
   },
   {
    "duration": 34,
    "start_time": "2023-02-19T23:10:47.209Z"
   },
   {
    "duration": 194,
    "start_time": "2023-02-19T23:10:47.245Z"
   },
   {
    "duration": 17,
    "start_time": "2023-02-19T23:10:47.440Z"
   },
   {
    "duration": 3666,
    "start_time": "2023-02-19T23:10:47.458Z"
   },
   {
    "duration": 39,
    "start_time": "2023-02-19T23:10:51.126Z"
   },
   {
    "duration": 19,
    "start_time": "2023-02-19T23:10:51.167Z"
   },
   {
    "duration": 52,
    "start_time": "2023-02-19T23:10:51.187Z"
   },
   {
    "duration": 5157,
    "start_time": "2023-02-19T23:10:51.240Z"
   },
   {
    "duration": 8,
    "start_time": "2023-02-19T23:10:56.398Z"
   },
   {
    "duration": 12,
    "start_time": "2023-02-19T23:10:56.407Z"
   },
   {
    "duration": 7,
    "start_time": "2023-02-19T23:10:56.421Z"
   },
   {
    "duration": 4995,
    "start_time": "2023-02-19T23:10:56.429Z"
   },
   {
    "duration": 646,
    "start_time": "2023-02-19T23:11:01.425Z"
   },
   {
    "duration": 7,
    "start_time": "2023-02-19T23:11:02.074Z"
   },
   {
    "duration": 11,
    "start_time": "2023-02-19T23:11:02.082Z"
   },
   {
    "duration": 7,
    "start_time": "2023-02-19T23:11:02.094Z"
   },
   {
    "duration": 6610,
    "start_time": "2023-02-19T23:11:02.102Z"
   },
   {
    "duration": 291,
    "start_time": "2023-02-19T23:11:08.713Z"
   },
   {
    "duration": 7,
    "start_time": "2023-02-19T23:11:09.005Z"
   },
   {
    "duration": 10,
    "start_time": "2023-02-19T23:11:09.013Z"
   },
   {
    "duration": 8,
    "start_time": "2023-02-19T23:11:09.024Z"
   },
   {
    "duration": 759,
    "start_time": "2023-02-19T23:11:09.033Z"
   },
   {
    "duration": 8,
    "start_time": "2023-02-19T23:11:09.794Z"
   },
   {
    "duration": 1825,
    "start_time": "2023-02-19T23:11:09.803Z"
   },
   {
    "duration": 565,
    "start_time": "2023-02-19T23:11:11.629Z"
   },
   {
    "duration": 8,
    "start_time": "2023-02-19T23:11:12.196Z"
   },
   {
    "duration": 29,
    "start_time": "2023-02-19T23:11:12.206Z"
   },
   {
    "duration": 20,
    "start_time": "2023-02-19T23:11:12.236Z"
   },
   {
    "duration": 351,
    "start_time": "2023-02-19T23:11:12.257Z"
   },
   {
    "duration": 5,
    "start_time": "2023-02-19T23:11:12.610Z"
   },
   {
    "duration": 5048,
    "start_time": "2023-02-19T23:11:12.616Z"
   },
   {
    "duration": 4,
    "start_time": "2023-02-19T23:11:17.666Z"
   },
   {
    "duration": 20,
    "start_time": "2023-02-19T23:11:17.671Z"
   },
   {
    "duration": 10,
    "start_time": "2023-02-19T23:11:17.692Z"
   },
   {
    "duration": 32,
    "start_time": "2023-02-19T23:11:17.704Z"
   },
   {
    "duration": 428,
    "start_time": "2023-02-19T23:11:17.738Z"
   },
   {
    "duration": 3587,
    "start_time": "2023-02-19T23:11:18.168Z"
   },
   {
    "duration": 714,
    "start_time": "2023-02-19T23:11:21.757Z"
   },
   {
    "duration": 627,
    "start_time": "2023-02-19T23:11:22.472Z"
   },
   {
    "duration": 6,
    "start_time": "2023-02-19T23:11:23.100Z"
   },
   {
    "duration": 1609,
    "start_time": "2023-02-19T23:11:23.107Z"
   },
   {
    "duration": 233,
    "start_time": "2023-02-19T23:11:24.717Z"
   },
   {
    "duration": 274,
    "start_time": "2023-02-19T23:11:24.951Z"
   },
   {
    "duration": 300,
    "start_time": "2023-02-19T23:11:25.227Z"
   },
   {
    "duration": 941,
    "start_time": "2023-02-19T23:11:25.529Z"
   },
   {
    "duration": 5,
    "start_time": "2023-02-19T23:11:26.472Z"
   },
   {
    "duration": 186,
    "start_time": "2023-02-19T23:11:26.478Z"
   },
   {
    "duration": 27,
    "start_time": "2023-02-19T23:11:26.665Z"
   },
   {
    "duration": 2674,
    "start_time": "2023-02-19T23:11:26.693Z"
   },
   {
    "duration": 10,
    "start_time": "2023-02-19T23:11:29.369Z"
   },
   {
    "duration": 43,
    "start_time": "2023-02-19T23:11:29.380Z"
   },
   {
    "duration": 1133,
    "start_time": "2023-02-20T14:55:45.284Z"
   },
   {
    "duration": 4,
    "start_time": "2023-02-20T14:55:46.419Z"
   },
   {
    "duration": 73,
    "start_time": "2023-02-20T14:55:46.426Z"
   },
   {
    "duration": 23,
    "start_time": "2023-02-20T14:55:46.501Z"
   },
   {
    "duration": 24,
    "start_time": "2023-02-20T14:55:46.525Z"
   },
   {
    "duration": 5,
    "start_time": "2023-02-20T14:55:46.552Z"
   },
   {
    "duration": 37,
    "start_time": "2023-02-20T14:55:46.559Z"
   },
   {
    "duration": 13,
    "start_time": "2023-02-20T14:55:46.598Z"
   },
   {
    "duration": 6,
    "start_time": "2023-02-20T14:55:46.613Z"
   },
   {
    "duration": 914,
    "start_time": "2023-02-20T14:55:46.622Z"
   },
   {
    "duration": 84,
    "start_time": "2023-02-20T14:55:47.539Z"
   },
   {
    "duration": 12,
    "start_time": "2023-02-20T14:55:47.625Z"
   },
   {
    "duration": 62,
    "start_time": "2023-02-20T14:55:47.639Z"
   },
   {
    "duration": 16,
    "start_time": "2023-02-20T14:55:47.703Z"
   },
   {
    "duration": 616,
    "start_time": "2023-02-20T14:55:47.720Z"
   },
   {
    "duration": 14,
    "start_time": "2023-02-20T14:55:48.338Z"
   },
   {
    "duration": 14,
    "start_time": "2023-02-20T14:55:48.353Z"
   },
   {
    "duration": 23,
    "start_time": "2023-02-20T14:55:48.369Z"
   },
   {
    "duration": 9,
    "start_time": "2023-02-20T14:55:48.393Z"
   },
   {
    "duration": 165,
    "start_time": "2023-02-20T14:55:48.404Z"
   },
   {
    "duration": 3,
    "start_time": "2023-02-20T14:55:48.570Z"
   },
   {
    "duration": 412,
    "start_time": "2023-02-20T14:55:48.574Z"
   },
   {
    "duration": 302,
    "start_time": "2023-02-20T14:55:48.991Z"
   },
   {
    "duration": 22,
    "start_time": "2023-02-20T14:55:49.295Z"
   },
   {
    "duration": 22,
    "start_time": "2023-02-20T14:55:49.319Z"
   },
   {
    "duration": 37,
    "start_time": "2023-02-20T14:55:49.343Z"
   },
   {
    "duration": 18,
    "start_time": "2023-02-20T14:55:49.382Z"
   },
   {
    "duration": 483,
    "start_time": "2023-02-20T14:55:49.404Z"
   },
   {
    "duration": 7,
    "start_time": "2023-02-20T14:55:49.888Z"
   },
   {
    "duration": 27,
    "start_time": "2023-02-20T14:55:49.897Z"
   },
   {
    "duration": 11,
    "start_time": "2023-02-20T14:55:49.925Z"
   },
   {
    "duration": 212,
    "start_time": "2023-02-20T14:55:49.938Z"
   },
   {
    "duration": 10,
    "start_time": "2023-02-20T14:55:50.152Z"
   },
   {
    "duration": 4021,
    "start_time": "2023-02-20T14:55:50.164Z"
   },
   {
    "duration": 40,
    "start_time": "2023-02-20T14:55:54.187Z"
   },
   {
    "duration": 13,
    "start_time": "2023-02-20T14:55:54.229Z"
   },
   {
    "duration": 6,
    "start_time": "2023-02-20T14:55:54.243Z"
   },
   {
    "duration": 5589,
    "start_time": "2023-02-20T14:55:54.250Z"
   },
   {
    "duration": 8,
    "start_time": "2023-02-20T14:55:59.841Z"
   },
   {
    "duration": 25,
    "start_time": "2023-02-20T14:55:59.851Z"
   },
   {
    "duration": 14,
    "start_time": "2023-02-20T14:55:59.878Z"
   },
   {
    "duration": 5284,
    "start_time": "2023-02-20T14:55:59.894Z"
   },
   {
    "duration": 654,
    "start_time": "2023-02-20T14:56:05.179Z"
   },
   {
    "duration": 7,
    "start_time": "2023-02-20T14:56:05.835Z"
   },
   {
    "duration": 17,
    "start_time": "2023-02-20T14:56:05.844Z"
   },
   {
    "duration": 12,
    "start_time": "2023-02-20T14:56:05.863Z"
   },
   {
    "duration": 6938,
    "start_time": "2023-02-20T14:56:05.877Z"
   },
   {
    "duration": 301,
    "start_time": "2023-02-20T14:56:12.817Z"
   },
   {
    "duration": 7,
    "start_time": "2023-02-20T14:56:13.120Z"
   },
   {
    "duration": 9,
    "start_time": "2023-02-20T14:56:13.128Z"
   },
   {
    "duration": 5,
    "start_time": "2023-02-20T14:56:13.139Z"
   },
   {
    "duration": 901,
    "start_time": "2023-02-20T14:56:13.146Z"
   },
   {
    "duration": 8,
    "start_time": "2023-02-20T14:56:14.049Z"
   },
   {
    "duration": 1941,
    "start_time": "2023-02-20T14:56:14.059Z"
   },
   {
    "duration": 639,
    "start_time": "2023-02-20T14:56:16.001Z"
   },
   {
    "duration": 9,
    "start_time": "2023-02-20T14:56:16.642Z"
   },
   {
    "duration": 14,
    "start_time": "2023-02-20T14:56:16.652Z"
   },
   {
    "duration": 31,
    "start_time": "2023-02-20T14:56:16.668Z"
   },
   {
    "duration": 359,
    "start_time": "2023-02-20T14:56:16.700Z"
   },
   {
    "duration": 6,
    "start_time": "2023-02-20T14:56:17.060Z"
   },
   {
    "duration": 4981,
    "start_time": "2023-02-20T14:56:17.068Z"
   },
   {
    "duration": 5,
    "start_time": "2023-02-20T14:56:22.051Z"
   },
   {
    "duration": 17,
    "start_time": "2023-02-20T14:56:22.057Z"
   },
   {
    "duration": 7,
    "start_time": "2023-02-20T14:56:22.075Z"
   },
   {
    "duration": 27,
    "start_time": "2023-02-20T14:56:22.083Z"
   },
   {
    "duration": 467,
    "start_time": "2023-02-20T14:56:22.111Z"
   },
   {
    "duration": 3876,
    "start_time": "2023-02-20T14:56:22.580Z"
   },
   {
    "duration": 851,
    "start_time": "2023-02-20T14:56:26.458Z"
   },
   {
    "duration": 638,
    "start_time": "2023-02-20T14:56:27.311Z"
   },
   {
    "duration": 5,
    "start_time": "2023-02-20T14:56:27.950Z"
   },
   {
    "duration": 1739,
    "start_time": "2023-02-20T14:56:27.956Z"
   },
   {
    "duration": 261,
    "start_time": "2023-02-20T14:56:29.697Z"
   },
   {
    "duration": 288,
    "start_time": "2023-02-20T14:56:29.960Z"
   },
   {
    "duration": 246,
    "start_time": "2023-02-20T14:56:30.250Z"
   },
   {
    "duration": 1088,
    "start_time": "2023-02-20T14:56:30.497Z"
   },
   {
    "duration": 5,
    "start_time": "2023-02-20T14:56:31.587Z"
   },
   {
    "duration": 283,
    "start_time": "2023-02-20T14:56:31.594Z"
   },
   {
    "duration": 29,
    "start_time": "2023-02-20T14:56:31.879Z"
   },
   {
    "duration": 2936,
    "start_time": "2023-02-20T14:56:31.910Z"
   },
   {
    "duration": 11,
    "start_time": "2023-02-20T14:56:34.848Z"
   },
   {
    "duration": 26,
    "start_time": "2023-02-20T14:56:34.860Z"
   },
   {
    "duration": 38,
    "start_time": "2023-02-20T15:24:22.356Z"
   },
   {
    "duration": 31,
    "start_time": "2023-02-20T15:24:36.150Z"
   },
   {
    "duration": 1263,
    "start_time": "2023-02-20T15:34:36.800Z"
   },
   {
    "duration": 4,
    "start_time": "2023-02-20T15:34:38.067Z"
   },
   {
    "duration": 68,
    "start_time": "2023-02-20T15:34:38.073Z"
   },
   {
    "duration": 19,
    "start_time": "2023-02-20T15:34:38.143Z"
   },
   {
    "duration": 20,
    "start_time": "2023-02-20T15:34:38.164Z"
   },
   {
    "duration": 8,
    "start_time": "2023-02-20T15:34:38.186Z"
   },
   {
    "duration": 24,
    "start_time": "2023-02-20T15:34:38.195Z"
   },
   {
    "duration": 37,
    "start_time": "2023-02-20T15:34:38.221Z"
   },
   {
    "duration": 13,
    "start_time": "2023-02-20T15:34:38.260Z"
   },
   {
    "duration": 881,
    "start_time": "2023-02-20T15:34:38.276Z"
   },
   {
    "duration": 84,
    "start_time": "2023-02-20T15:34:39.158Z"
   },
   {
    "duration": 11,
    "start_time": "2023-02-20T15:34:39.244Z"
   },
   {
    "duration": 79,
    "start_time": "2023-02-20T15:34:39.257Z"
   },
   {
    "duration": 16,
    "start_time": "2023-02-20T15:34:39.338Z"
   },
   {
    "duration": 756,
    "start_time": "2023-02-20T15:34:39.355Z"
   },
   {
    "duration": 19,
    "start_time": "2023-02-20T15:34:40.114Z"
   },
   {
    "duration": 12,
    "start_time": "2023-02-20T15:34:40.135Z"
   },
   {
    "duration": 68,
    "start_time": "2023-02-20T15:34:40.148Z"
   },
   {
    "duration": 106,
    "start_time": "2023-02-20T15:34:40.218Z"
   },
   {
    "duration": 191,
    "start_time": "2023-02-20T15:34:40.327Z"
   },
   {
    "duration": 7,
    "start_time": "2023-02-20T15:34:40.520Z"
   },
   {
    "duration": 568,
    "start_time": "2023-02-20T15:34:40.531Z"
   },
   {
    "duration": 372,
    "start_time": "2023-02-20T15:34:41.101Z"
   },
   {
    "duration": 34,
    "start_time": "2023-02-20T15:34:41.475Z"
   },
   {
    "duration": 20,
    "start_time": "2023-02-20T15:34:41.511Z"
   },
   {
    "duration": 17,
    "start_time": "2023-02-20T15:34:41.532Z"
   },
   {
    "duration": 8,
    "start_time": "2023-02-20T15:34:41.550Z"
   },
   {
    "duration": 574,
    "start_time": "2023-02-20T15:34:41.562Z"
   },
   {
    "duration": 5,
    "start_time": "2023-02-20T15:34:42.138Z"
   },
   {
    "duration": 22,
    "start_time": "2023-02-20T15:34:42.144Z"
   },
   {
    "duration": 29,
    "start_time": "2023-02-20T15:34:42.169Z"
   },
   {
    "duration": 224,
    "start_time": "2023-02-20T15:34:42.200Z"
   },
   {
    "duration": 12,
    "start_time": "2023-02-20T15:34:42.427Z"
   },
   {
    "duration": 4578,
    "start_time": "2023-02-20T15:34:42.441Z"
   },
   {
    "duration": 76,
    "start_time": "2023-02-20T15:34:47.022Z"
   },
   {
    "duration": 26,
    "start_time": "2023-02-20T15:34:47.101Z"
   },
   {
    "duration": 20,
    "start_time": "2023-02-20T15:34:47.129Z"
   },
   {
    "duration": 6552,
    "start_time": "2023-02-20T15:34:47.152Z"
   },
   {
    "duration": 11,
    "start_time": "2023-02-20T15:34:53.706Z"
   },
   {
    "duration": 14,
    "start_time": "2023-02-20T15:34:53.719Z"
   },
   {
    "duration": 12,
    "start_time": "2023-02-20T15:34:53.735Z"
   },
   {
    "duration": 6653,
    "start_time": "2023-02-20T15:34:53.748Z"
   },
   {
    "duration": 789,
    "start_time": "2023-02-20T15:35:00.404Z"
   },
   {
    "duration": 15,
    "start_time": "2023-02-20T15:35:01.196Z"
   },
   {
    "duration": 33,
    "start_time": "2023-02-20T15:35:01.215Z"
   },
   {
    "duration": 65,
    "start_time": "2023-02-20T15:35:01.250Z"
   },
   {
    "duration": 8287,
    "start_time": "2023-02-20T15:35:01.318Z"
   },
   {
    "duration": 383,
    "start_time": "2023-02-20T15:35:09.611Z"
   },
   {
    "duration": 11,
    "start_time": "2023-02-20T15:35:09.996Z"
   },
   {
    "duration": 22,
    "start_time": "2023-02-20T15:35:10.009Z"
   },
   {
    "duration": 28,
    "start_time": "2023-02-20T15:35:10.033Z"
   },
   {
    "duration": 1065,
    "start_time": "2023-02-20T15:35:10.063Z"
   },
   {
    "duration": 13,
    "start_time": "2023-02-20T15:35:11.130Z"
   },
   {
    "duration": 2314,
    "start_time": "2023-02-20T15:35:11.145Z"
   },
   {
    "duration": 731,
    "start_time": "2023-02-20T15:35:13.461Z"
   },
   {
    "duration": 13,
    "start_time": "2023-02-20T15:35:14.194Z"
   },
   {
    "duration": 27,
    "start_time": "2023-02-20T15:35:14.209Z"
   },
   {
    "duration": 30,
    "start_time": "2023-02-20T15:35:14.238Z"
   },
   {
    "duration": 434,
    "start_time": "2023-02-20T15:35:14.270Z"
   },
   {
    "duration": 6,
    "start_time": "2023-02-20T15:35:14.705Z"
   },
   {
    "duration": 6480,
    "start_time": "2023-02-20T15:35:14.714Z"
   },
   {
    "duration": 9,
    "start_time": "2023-02-20T15:35:21.196Z"
   },
   {
    "duration": 40,
    "start_time": "2023-02-20T15:35:21.207Z"
   },
   {
    "duration": 13,
    "start_time": "2023-02-20T15:35:21.249Z"
   },
   {
    "duration": 51,
    "start_time": "2023-02-20T15:35:21.264Z"
   },
   {
    "duration": 539,
    "start_time": "2023-02-20T15:35:21.317Z"
   },
   {
    "duration": 4860,
    "start_time": "2023-02-20T15:35:21.860Z"
   },
   {
    "duration": 1089,
    "start_time": "2023-02-20T15:35:26.722Z"
   },
   {
    "duration": 873,
    "start_time": "2023-02-20T15:35:27.814Z"
   },
   {
    "duration": 6,
    "start_time": "2023-02-20T15:35:28.690Z"
   },
   {
    "duration": 2009,
    "start_time": "2023-02-20T15:35:28.699Z"
   },
   {
    "duration": 283,
    "start_time": "2023-02-20T15:35:30.711Z"
   },
   {
    "duration": 333,
    "start_time": "2023-02-20T15:35:30.996Z"
   },
   {
    "duration": 304,
    "start_time": "2023-02-20T15:35:31.331Z"
   },
   {
    "duration": 1187,
    "start_time": "2023-02-20T15:35:31.637Z"
   },
   {
    "duration": 6,
    "start_time": "2023-02-20T15:35:32.825Z"
   },
   {
    "duration": 260,
    "start_time": "2023-02-20T15:35:32.832Z"
   },
   {
    "duration": 39,
    "start_time": "2023-02-20T15:35:33.094Z"
   },
   {
    "duration": 3316,
    "start_time": "2023-02-20T15:35:33.135Z"
   },
   {
    "duration": 14,
    "start_time": "2023-02-20T15:35:36.454Z"
   },
   {
    "duration": 30,
    "start_time": "2023-02-20T15:35:36.471Z"
   }
  ],
  "colab": {
   "provenance": [],
   "toc_visible": true
  },
  "kernelspec": {
   "display_name": "Python 3 (ipykernel)",
   "language": "python",
   "name": "python3"
  },
  "language_info": {
   "codemirror_mode": {
    "name": "ipython",
    "version": 3
   },
   "file_extension": ".py",
   "mimetype": "text/x-python",
   "name": "python",
   "nbconvert_exporter": "python",
   "pygments_lexer": "ipython3",
   "version": "3.9.5"
  },
  "toc": {
   "base_numbering": 1,
   "nav_menu": {},
   "number_sections": true,
   "sideBar": true,
   "skip_h1_title": true,
   "title_cell": "Table of Contents",
   "title_sidebar": "Contents",
   "toc_cell": false,
   "toc_position": {},
   "toc_section_display": true,
   "toc_window_display": false
  }
 },
 "nbformat": 4,
 "nbformat_minor": 0
}

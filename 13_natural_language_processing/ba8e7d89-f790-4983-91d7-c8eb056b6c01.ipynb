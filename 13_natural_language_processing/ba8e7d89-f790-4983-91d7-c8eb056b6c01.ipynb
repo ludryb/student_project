{
 "cells": [
  {
   "attachments": {},
   "cell_type": "markdown",
   "metadata": {
    "toc": true
   },
   "source": [
    "<h1>Содержание<span class=\"tocSkip\"></span></h1>\n",
    "<div class=\"toc\"><ul class=\"toc-item\"><li><span><a href=\"#Подготовка\" data-toc-modified-id=\"Подготовка-1\"><span class=\"toc-item-num\">1&nbsp;&nbsp;</span>Подготовка</a></span></li><li><span><a href=\"#Обучение\" data-toc-modified-id=\"Обучение-2\"><span class=\"toc-item-num\">2&nbsp;&nbsp;</span>Обучение</a></span></li><li><span><a href=\"#Выводы\" data-toc-modified-id=\"Выводы-3\"><span class=\"toc-item-num\">3&nbsp;&nbsp;</span>Выводы</a></span></li></ul></div>"
   ]
  },
  {
   "attachments": {},
   "cell_type": "markdown",
   "metadata": {},
   "source": [
    "<div class=\"alert alert-info\">\n",
    "  <strong>Info!</strong> Привет! Тут небольшая вводная информация по моему проекту. Этот проект ужасно требовательный по ресурсам, поэтому выборка была значительно уменьшена. Ввиду того, что выборка была уменьшена - несбалансированность по классам невилировалась. Тем не менее, ансамблиевые модели упорно не считались, не говоря уже о нейросетях)\n",
    "</div>"
   ]
  },
  {
   "attachments": {},
   "cell_type": "markdown",
   "metadata": {},
   "source": [
    "<font color='blue' size=5><b>Комментарий ревьюера</b></font>\n",
    "\n",
    "<font color='blue'>Привет, Людмила! Меня зовут Павел Григорьев, и я буду проверять этот проект.<br>Моя основная цель - не указать на совершённые тобой ошибки, а поделиться своим опытом и помочь тебе совершенствоваться как профессионалу.<br>Спасибо за проделанную работу! Предлагаю общаться на «ты».</font>\n",
    "<details>\n",
    "\t<summary><u>Инструкция по организационным моментам (кликабельно)</u></summary>\n",
    "<font color='blue'>Я буду использовать различные цвета, чтобы было удобнее воспринимать мои комментарии:</font>\n",
    "\n",
    "\n",
    "---\n",
    "\n",
    "\n",
    "<font color='blue'>синий текст - просто текст комментария</font>\n",
    "\n",
    "<font color='green'>✔️ и зеленый текст - все отлично</font>\n",
    "\n",
    "<font color='orange'>⚠️ и оранжевый текст - сделано все правильно, однако есть рекомендации, на что стоит обратить внимание</font>\n",
    "\n",
    "<font color='red'>❌ и красный текст - есть недочеты</font>\n",
    "\n",
    "\n",
    "</details>    \n",
    "    </br>\n",
    "<font color='blue'>Пожалуйста, не удаляй мои комментарии в случае возврата работы, так будет проще разобраться, какие были недочеты, а также сразу увидеть исправленное. </font>\n",
    "\n",
    "Ответы на мои комментарии лучше тоже помечать.\n",
    "Например: <font color='purple'><b>Комментарий студента</b></font>\n",
    "\n",
    "<font color='blue'><b>Давай смотреть, что получилось!</b></font>\n"
   ]
  },
  {
   "attachments": {},
   "cell_type": "markdown",
   "metadata": {},
   "source": [
    "# Проект для «Викишоп»"
   ]
  },
  {
   "attachments": {},
   "cell_type": "markdown",
   "metadata": {},
   "source": [
    "**Исходные данные:**\n",
    "Данных с разметкой о токсичности правок. В файле `toxic_comments.csv` находятся столбец *text*, содержащий текст комментария, а *toxic* — целевой признак.\n",
    "\n",
    "\n",
    "**Цель:**\n",
    "Построить модель, которая будет искать токсичные комментарии и отправлять их на модерацию. Обучить модель классифицировать комментарии на позитивные и негативные, со значением метрики качества *F1* не меньше 0.75. \n",
    "\n"
   ]
  },
  {
   "attachments": {},
   "cell_type": "markdown",
   "metadata": {},
   "source": [
    "**Этапы исследования:**\n",
    "\n",
    "\n",
    "1.  Загрузка исходных данных и их общая оценка\n",
    "2.  Подготовка данных для последующей работы\n",
    "4.  Обучение различных моделей\n",
    "5.  Заключение, подведение итогов работы.\n",
    "\n"
   ]
  },
  {
   "cell_type": "code",
   "execution_count": 51,
   "metadata": {},
   "outputs": [],
   "source": [
    "# !pip install --upgrade matplotlib --quiet install\n",
    "# !pip install seaborn --upgrade --quiet install\n",
    "# !pip install transformers --quiet install\n",
    "# !pip install python-dateutil --quiet install\n",
    "# !pip install imblearn --quiet install\n",
    "# %pip install spacy --quiet install"
   ]
  },
  {
   "cell_type": "code",
   "execution_count": 52,
   "metadata": {},
   "outputs": [],
   "source": [
    "\n",
    "import pandas as pd\n",
    "\n",
    "import matplotlib.pyplot as plt\n",
    "import seaborn as sns\n",
    "\n",
    "import re\n",
    "import nltk\n",
    "import spacy\n",
    "from nltk.corpus import wordnet\n",
    "from nltk.stem import WordNetLemmatizer\n",
    "from sklearn.feature_extraction.text import TfidfVectorizer\n",
    "from sklearn.model_selection import train_test_split\n",
    "from sklearn.metrics import classification_report, f1_score\n",
    "from sklearn.linear_model import LogisticRegression, SGDClassifier\n",
    "\n",
    "RANDOM_STATE = 42"
   ]
  },
  {
   "attachments": {},
   "cell_type": "markdown",
   "metadata": {},
   "source": [
    "<font color='blue'><b>Комментарий ревьюера: </b></font> ✔️\\\n",
    "<font color='green'> Хорошее оформление импортов! \\\n",
    "Импорты собраны в одной ячейке, разделены на функциональные группы пустой строкой.</font>"
   ]
  },
  {
   "cell_type": "code",
   "execution_count": 53,
   "metadata": {},
   "outputs": [],
   "source": [
    "class ShowData:\n",
    "    '''\n",
    "\n",
    "    there are the methods for help to look thought the data\n",
    "    \"download_data\" open dataset(download) from collab and from other paths,\n",
    "    \"change_data\" replaces name of columns according to PEP8 and convert \n",
    "    to lower data type,\n",
    "    \"general_info\" provides with the numbers of columns/rows, type of columns \n",
    "    and occupied memory,\n",
    "    \"deep_info\" provides with statistic info and info for preprocessing step,\n",
    "    \"hist_box\" shows histograms and boxplots for each numeric column \n",
    "    (DON'T FORGET TO CHANGE THE GRAPH SIZE),\n",
    "    \"cor_matrix\" shows correlation matrix for all numeric columns, \n",
    "    it uses Pearson coefficient\n",
    "\n",
    "    '''\n",
    "    def download_data(self, path):\n",
    "\n",
    "        import os\n",
    "        if os.path.exists(path):\n",
    "            df = pd.read_csv(path)\n",
    "        elif os.path.exist(path):\n",
    "            from google.colab import drive\n",
    "            drive.mount('/content/drive')\n",
    "            df = pd.read_csv(path)\n",
    "        else:\n",
    "            print(\"The path doesn't exist\")\n",
    "\n",
    "        return df\n",
    "\n",
    "    def change_data(self, df):\n",
    "\n",
    "        df.columns = (df.columns\n",
    "                        .str.replace('(?<=[a-z])(?=[A-Z])|(\\s)', '_', \n",
    "                                     regex=True).str.lower())\n",
    "        try:\n",
    "            for name in df.select_dtypes(\"number\").columns:\n",
    "                df[name] = pd.to_numeric(df[name], downcast=\"float\"\n",
    "                                        if (df[name] // 1 == 0).all()\n",
    "                                        else \"integer\")\n",
    "        except:\n",
    "            pass\n",
    "        return df\n",
    "\n",
    "    def general_info(self, df):\n",
    "\n",
    "        info_0 = pd.DataFrame(df.dtypes.value_counts(), columns=[\"\"])\n",
    "        info_0.loc[\"columns\", \"\"] = len(df.columns)\n",
    "        info_0.loc[\"row\", \"\"] = len(df)\n",
    "        info_0.loc[\"memory_usage, MB\", \"\"] = df.memory_usage()\\\n",
    "        .sum() / (1024 ** 2)\n",
    "\n",
    "        return info_0\n",
    "\n",
    "    def deep_info(self, df):\n",
    "\n",
    "        info_1 = pd.DataFrame(index=df.columns, columns=['rows'], data=len(df))\n",
    "        info_1[\"null_row\"] = (df == 0).sum(axis=0)\n",
    "        info_1[\"uniq\"] = df.nunique()\n",
    "        info_1[\"dup_val\"] = [df[i].duplicated().sum() for i in df]\n",
    "        info_1[\"dup_row\"] = df.duplicated().sum()\n",
    "        info_1[\"NaN\"] = df.isna().sum()\n",
    "        info_1[\"NaN,%\"] = df.isna().mean()\n",
    "        info_1[\"type\"] = df.dtypes\n",
    "        info_1 = info_1.join(df.describe(include=\"number\")[\"mean\":].transpose())\n",
    "        info_1.fillna(\"\", inplace=True)\n",
    "        for col in info_1.loc[:, \"mean\":]:\n",
    "            info_1[col] = pd.to_numeric(info_1[col], downcast=\"float\")\n",
    "        info_1[\"null_row\"] = pd.to_numeric(info_1[\"null_row\"], \n",
    "                                           downcast=\"integer\")\n",
    "        info_1[\"outliers\"] = info_1[\"max\"] > info_1[\"75%\"] \\\n",
    "                             + 1.5 * (info_1[\"75%\"] - info_1[\"25%\"])\n",
    "\n",
    "        prop = {\n",
    "            \"border\": \"0.5px solid black\",\n",
    "            \"width\": \"85px\",\n",
    "            \"text-align\": \"center\"\n",
    "        }\n",
    "        percent = {\n",
    "            \"NaN,%\":\"{:.3%}\",\n",
    "            \"mean\":\"{:.3}\",\n",
    "            \"std\":\"{:.3}\",\n",
    "            \"min\":\"{:.3}\",\n",
    "            \"25%\":\"{:.3}\",\n",
    "            \"50%\":\"{:.3}\",\n",
    "            \"75%\":\"{:.3}\",\n",
    "            \"max\":\"{:.3}\",\n",
    "        }\n",
    "\n",
    "        return info_1, info_1.style.format(percent).set_properties(**prop)\n",
    "\n",
    "    def hist_box(self, df, size):\n",
    "\n",
    "        df_num = df.select_dtypes(\"number\")\n",
    "        fig = plt.figure(figsize=size)\n",
    "        sfigs = fig.subfigures(round(size[0]), 4)\n",
    "        for i, axes in enumerate(sfigs.flat):\n",
    "            try:\n",
    "                axes.suptitle(df_num.columns[i])\n",
    "                if len(df.iloc[:,i]) > 0:\n",
    "                    ax_1= axes.subplots(2, 1, sharex=True,\n",
    "                                        gridspec_kw={\n",
    "                                            \"height_ratios\": (.15, .85)\n",
    "                                            }\n",
    "                                        )\n",
    "                    sns.boxplot(data=df, x=df_num.columns[i], orient=\"h\",\n",
    "                                ax=ax_1[0])\n",
    "                    sns.histplot(data=df, x=df_num.columns[i], kde=True,\n",
    "                                 ax=ax_1[1])\n",
    "                    plt.xlabel(\"\")\n",
    "                    plt.ylabel(\"\")\n",
    "            except:\n",
    "                break\n",
    "        plt.show()\n",
    "\n",
    "    def cor_matrix(self, df):\n",
    "\n",
    "        length = len(df.columns)\n",
    "        plt.figure(figsize=(length/1.5, length/1.5))\n",
    "        sns.heatmap(df.corr(method=\"pearson\"), annot=True, linewidths=0.3,\n",
    "            cmap=\"coolwarm\", square=True)\n",
    "        plt.show()"
   ]
  },
  {
   "attachments": {},
   "cell_type": "markdown",
   "metadata": {},
   "source": [
    "<font color='blue'><b>Комментарий ревьюера: </b></font> ✔️\\\n",
    "<font color='green'> Очистка сделана верно! Мы оставили только символы Латинского алфавита нижнего регистра.</font> "
   ]
  },
  {
   "cell_type": "code",
   "execution_count": 54,
   "metadata": {},
   "outputs": [
    {
     "data": {
      "text/html": [
       "<div>\n",
       "<style scoped>\n",
       "    .dataframe tbody tr th:only-of-type {\n",
       "        vertical-align: middle;\n",
       "    }\n",
       "\n",
       "    .dataframe tbody tr th {\n",
       "        vertical-align: top;\n",
       "    }\n",
       "\n",
       "    .dataframe thead th {\n",
       "        text-align: right;\n",
       "    }\n",
       "</style>\n",
       "<table border=\"1\" class=\"dataframe\">\n",
       "  <thead>\n",
       "    <tr style=\"text-align: right;\">\n",
       "      <th></th>\n",
       "      <th>Unnamed: 0</th>\n",
       "      <th>text</th>\n",
       "      <th>toxic</th>\n",
       "    </tr>\n",
       "  </thead>\n",
       "  <tbody>\n",
       "    <tr>\n",
       "      <th>0</th>\n",
       "      <td>0</td>\n",
       "      <td>Explanation\\nWhy the edits made under my username Hardcore Metallica Fan were reverted? They weren't vandalisms, just closure on some GAs after I voted at N...</td>\n",
       "      <td>0</td>\n",
       "    </tr>\n",
       "    <tr>\n",
       "      <th>1</th>\n",
       "      <td>1</td>\n",
       "      <td>D'aww! He matches this background colour I'm seemingly stuck with. Thanks.  (talk) 21:51, January 11, 2016 (UTC)</td>\n",
       "      <td>0</td>\n",
       "    </tr>\n",
       "    <tr>\n",
       "      <th>2</th>\n",
       "      <td>2</td>\n",
       "      <td>Hey man, I'm really not trying to edit war. It's just that this guy is constantly removing relevant information and talking to me through edits instead of m...</td>\n",
       "      <td>0</td>\n",
       "    </tr>\n",
       "    <tr>\n",
       "      <th>3</th>\n",
       "      <td>3</td>\n",
       "      <td>\"\\nMore\\nI can't make any real suggestions on improvement - I wondered if the section statistics should be later on, or a subsection of \"\"types of accidents...</td>\n",
       "      <td>0</td>\n",
       "    </tr>\n",
       "    <tr>\n",
       "      <th>4</th>\n",
       "      <td>4</td>\n",
       "      <td>You, sir, are my hero. Any chance you remember what page that's on?</td>\n",
       "      <td>0</td>\n",
       "    </tr>\n",
       "  </tbody>\n",
       "</table>\n",
       "</div>"
      ],
      "text/plain": [
       "   Unnamed: 0  \\\n",
       "0           0   \n",
       "1           1   \n",
       "2           2   \n",
       "3           3   \n",
       "4           4   \n",
       "\n",
       "                                                                                                                                                              text  \\\n",
       "0  Explanation\\nWhy the edits made under my username Hardcore Metallica Fan were reverted? They weren't vandalisms, just closure on some GAs after I voted at N...   \n",
       "1                                                 D'aww! He matches this background colour I'm seemingly stuck with. Thanks.  (talk) 21:51, January 11, 2016 (UTC)   \n",
       "2  Hey man, I'm really not trying to edit war. It's just that this guy is constantly removing relevant information and talking to me through edits instead of m...   \n",
       "3  \"\\nMore\\nI can't make any real suggestions on improvement - I wondered if the section statistics should be later on, or a subsection of \"\"types of accidents...   \n",
       "4                                                                                              You, sir, are my hero. Any chance you remember what page that's on?   \n",
       "\n",
       "   toxic  \n",
       "0      0  \n",
       "1      0  \n",
       "2      0  \n",
       "3      0  \n",
       "4      0  "
      ]
     },
     "execution_count": 54,
     "metadata": {},
     "output_type": "execute_result"
    }
   ],
   "source": [
    "# create a variable for class\n",
    "sd = ShowData()\n",
    "# download data\n",
    "data = sd.download_data(\"toxic_comments.csv\")\n",
    "# show first 5 rows\n",
    "data.head()"
   ]
  },
  {
   "attachments": {},
   "cell_type": "markdown",
   "metadata": {},
   "source": [
    "<font color='blue'><b>Комментарий ревьюера: </b></font> ❌\\\n",
    "<font color='red'>Ошибка исполнения кода. Данные должны загружаться у тех кому проект предоставляется.</font>"
   ]
  },
  {
   "cell_type": "code",
   "execution_count": 55,
   "metadata": {},
   "outputs": [
    {
     "data": {
      "text/html": [
       "<div>\n",
       "<style scoped>\n",
       "    .dataframe tbody tr th:only-of-type {\n",
       "        vertical-align: middle;\n",
       "    }\n",
       "\n",
       "    .dataframe tbody tr th {\n",
       "        vertical-align: top;\n",
       "    }\n",
       "\n",
       "    .dataframe thead th {\n",
       "        text-align: right;\n",
       "    }\n",
       "</style>\n",
       "<table border=\"1\" class=\"dataframe\">\n",
       "  <thead>\n",
       "    <tr style=\"text-align: right;\">\n",
       "      <th></th>\n",
       "      <th></th>\n",
       "    </tr>\n",
       "  </thead>\n",
       "  <tbody>\n",
       "    <tr>\n",
       "      <th>int32</th>\n",
       "      <td>1.000000</td>\n",
       "    </tr>\n",
       "    <tr>\n",
       "      <th>object</th>\n",
       "      <td>1.000000</td>\n",
       "    </tr>\n",
       "    <tr>\n",
       "      <th>int8</th>\n",
       "      <td>1.000000</td>\n",
       "    </tr>\n",
       "    <tr>\n",
       "      <th>columns</th>\n",
       "      <td>3.000000</td>\n",
       "    </tr>\n",
       "    <tr>\n",
       "      <th>row</th>\n",
       "      <td>159292.000000</td>\n",
       "    </tr>\n",
       "    <tr>\n",
       "      <th>memory_usage, MB</th>\n",
       "      <td>1.974987</td>\n",
       "    </tr>\n",
       "  </tbody>\n",
       "</table>\n",
       "</div>"
      ],
      "text/plain": [
       "                               \n",
       "int32                  1.000000\n",
       "object                 1.000000\n",
       "int8                   1.000000\n",
       "columns                3.000000\n",
       "row               159292.000000\n",
       "memory_usage, MB       1.974987"
      ]
     },
     "execution_count": 55,
     "metadata": {},
     "output_type": "execute_result"
    }
   ],
   "source": [
    "pd.set_option(\"max_colwidth\", 160)\n",
    "# invert the data columns to snake case\n",
    "data = sd.change_data(data)\n",
    "# look through the general info about data\n",
    "sd.general_info(data)"
   ]
  },
  {
   "cell_type": "code",
   "execution_count": 56,
   "metadata": {},
   "outputs": [
    {
     "data": {
      "text/html": [
       "<div>\n",
       "<style scoped>\n",
       "    .dataframe tbody tr th:only-of-type {\n",
       "        vertical-align: middle;\n",
       "    }\n",
       "\n",
       "    .dataframe tbody tr th {\n",
       "        vertical-align: top;\n",
       "    }\n",
       "\n",
       "    .dataframe thead th {\n",
       "        text-align: right;\n",
       "    }\n",
       "</style>\n",
       "<table border=\"1\" class=\"dataframe\">\n",
       "  <thead>\n",
       "    <tr style=\"text-align: right;\">\n",
       "      <th></th>\n",
       "      <th>rows</th>\n",
       "      <th>null_row</th>\n",
       "      <th>uniq</th>\n",
       "      <th>dup_val</th>\n",
       "      <th>dup_row</th>\n",
       "      <th>NaN</th>\n",
       "      <th>NaN,%</th>\n",
       "      <th>type</th>\n",
       "      <th>mean</th>\n",
       "      <th>std</th>\n",
       "      <th>min</th>\n",
       "      <th>25%</th>\n",
       "      <th>50%</th>\n",
       "      <th>75%</th>\n",
       "      <th>max</th>\n",
       "      <th>outliers</th>\n",
       "    </tr>\n",
       "  </thead>\n",
       "  <tbody>\n",
       "    <tr>\n",
       "      <th>unnamed:_0</th>\n",
       "      <td>159292</td>\n",
       "      <td>1</td>\n",
       "      <td>159292</td>\n",
       "      <td>0</td>\n",
       "      <td>0</td>\n",
       "      <td>0</td>\n",
       "      <td>0.0</td>\n",
       "      <td>int32</td>\n",
       "      <td>79725.697242</td>\n",
       "      <td>46028.837471</td>\n",
       "      <td>0.0</td>\n",
       "      <td>39872.75</td>\n",
       "      <td>79721.5</td>\n",
       "      <td>119573.25</td>\n",
       "      <td>159450.0</td>\n",
       "      <td>False</td>\n",
       "    </tr>\n",
       "    <tr>\n",
       "      <th>text</th>\n",
       "      <td>159292</td>\n",
       "      <td>0</td>\n",
       "      <td>159292</td>\n",
       "      <td>0</td>\n",
       "      <td>0</td>\n",
       "      <td>0</td>\n",
       "      <td>0.0</td>\n",
       "      <td>object</td>\n",
       "      <td>NaN</td>\n",
       "      <td>NaN</td>\n",
       "      <td>NaN</td>\n",
       "      <td>NaN</td>\n",
       "      <td>NaN</td>\n",
       "      <td>NaN</td>\n",
       "      <td>NaN</td>\n",
       "      <td>False</td>\n",
       "    </tr>\n",
       "    <tr>\n",
       "      <th>toxic</th>\n",
       "      <td>159292</td>\n",
       "      <td>143106</td>\n",
       "      <td>2</td>\n",
       "      <td>159290</td>\n",
       "      <td>0</td>\n",
       "      <td>0</td>\n",
       "      <td>0.0</td>\n",
       "      <td>int8</td>\n",
       "      <td>0.101612</td>\n",
       "      <td>0.302139</td>\n",
       "      <td>0.0</td>\n",
       "      <td>0.00</td>\n",
       "      <td>0.0</td>\n",
       "      <td>0.00</td>\n",
       "      <td>1.0</td>\n",
       "      <td>True</td>\n",
       "    </tr>\n",
       "  </tbody>\n",
       "</table>\n",
       "</div>"
      ],
      "text/plain": [
       "              rows  null_row    uniq  dup_val  dup_row  NaN  NaN,%    type  \\\n",
       "unnamed:_0  159292         1  159292        0        0    0    0.0   int32   \n",
       "text        159292         0  159292        0        0    0    0.0  object   \n",
       "toxic       159292    143106       2   159290        0    0    0.0    int8   \n",
       "\n",
       "                    mean           std  min       25%      50%        75%  \\\n",
       "unnamed:_0  79725.697242  46028.837471  0.0  39872.75  79721.5  119573.25   \n",
       "text                 NaN           NaN  NaN       NaN      NaN        NaN   \n",
       "toxic           0.101612      0.302139  0.0      0.00      0.0       0.00   \n",
       "\n",
       "                 max  outliers  \n",
       "unnamed:_0  159450.0     False  \n",
       "text             NaN     False  \n",
       "toxic            1.0      True  "
      ]
     },
     "execution_count": 56,
     "metadata": {},
     "output_type": "execute_result"
    }
   ],
   "source": [
    "info = sd.deep_info(data)[0]\n",
    "info"
   ]
  },
  {
   "cell_type": "code",
   "execution_count": 57,
   "metadata": {},
   "outputs": [
    {
     "data": {
      "text/html": [
       "<div>\n",
       "<style scoped>\n",
       "    .dataframe tbody tr th:only-of-type {\n",
       "        vertical-align: middle;\n",
       "    }\n",
       "\n",
       "    .dataframe tbody tr th {\n",
       "        vertical-align: top;\n",
       "    }\n",
       "\n",
       "    .dataframe thead th {\n",
       "        text-align: right;\n",
       "    }\n",
       "</style>\n",
       "<table border=\"1\" class=\"dataframe\">\n",
       "  <thead>\n",
       "    <tr style=\"text-align: right;\">\n",
       "      <th></th>\n",
       "      <th>unnamed:_0</th>\n",
       "      <th>text</th>\n",
       "      <th>toxic</th>\n",
       "    </tr>\n",
       "  </thead>\n",
       "  <tbody>\n",
       "    <tr>\n",
       "      <th>6080</th>\n",
       "      <td>6084</td>\n",
       "      <td>\"::I'll alos be looking in to see how this is going, as GRC is a big deal around these parts. Seek his grace \\n\\n\"</td>\n",
       "      <td>0</td>\n",
       "    </tr>\n",
       "    <tr>\n",
       "      <th>6081</th>\n",
       "      <td>6085</td>\n",
       "      <td>\"\\n\\nThe Ezekiel passage is quoted in the Moloch article in the 1899 Encyclopædidia Biblica as the strongest evidence for the theory that the offerings were...</td>\n",
       "      <td>0</td>\n",
       "    </tr>\n",
       "    <tr>\n",
       "      <th>6082</th>\n",
       "      <td>6086</td>\n",
       "      <td>Thank you for experimenting with  Wikipedia. Your test worked, and it has been reverted or removed. Please use the sandbox for any other tests you may want ...</td>\n",
       "      <td>0</td>\n",
       "    </tr>\n",
       "    <tr>\n",
       "      <th>6083</th>\n",
       "      <td>6087</td>\n",
       "      <td>Any complaints with that as the new wording?</td>\n",
       "      <td>0</td>\n",
       "    </tr>\n",
       "    <tr>\n",
       "      <th>6084</th>\n",
       "      <td>6088</td>\n",
       "      <td>\"\\nI also disagree with the merge as Strength athlete clearly refers to strong sportspeople in general rather than anything to do with competitions or feats...</td>\n",
       "      <td>0</td>\n",
       "    </tr>\n",
       "    <tr>\n",
       "      <th>...</th>\n",
       "      <td>...</td>\n",
       "      <td>...</td>\n",
       "      <td>...</td>\n",
       "    </tr>\n",
       "    <tr>\n",
       "      <th>159287</th>\n",
       "      <td>159446</td>\n",
       "      <td>\":::::And for the second time of asking, when your view completely contradicts the coverage in reliable sources, why should anyone care what you feel? You c...</td>\n",
       "      <td>0</td>\n",
       "    </tr>\n",
       "    <tr>\n",
       "      <th>159288</th>\n",
       "      <td>159447</td>\n",
       "      <td>You should be ashamed of yourself \\n\\nThat is a horrible thing you put on my talk page.  128.61.19.93</td>\n",
       "      <td>0</td>\n",
       "    </tr>\n",
       "    <tr>\n",
       "      <th>159289</th>\n",
       "      <td>159448</td>\n",
       "      <td>Spitzer \\n\\nUmm, theres no actual article for prostitution ring.  - Crunch Captain.</td>\n",
       "      <td>0</td>\n",
       "    </tr>\n",
       "    <tr>\n",
       "      <th>159290</th>\n",
       "      <td>159449</td>\n",
       "      <td>And it looks like it was actually you who put on the speedy to have the first version deleted now that I look at it.</td>\n",
       "      <td>0</td>\n",
       "    </tr>\n",
       "    <tr>\n",
       "      <th>159291</th>\n",
       "      <td>159450</td>\n",
       "      <td>\"\\nAnd ... I really don't think you understand.  I came here and my idea was bad right away.  What kind of community goes \"\"you have bad ideas\"\" go away, in...</td>\n",
       "      <td>0</td>\n",
       "    </tr>\n",
       "  </tbody>\n",
       "</table>\n",
       "<p>153212 rows × 3 columns</p>\n",
       "</div>"
      ],
      "text/plain": [
       "        unnamed:_0  \\\n",
       "6080          6084   \n",
       "6081          6085   \n",
       "6082          6086   \n",
       "6083          6087   \n",
       "6084          6088   \n",
       "...            ...   \n",
       "159287      159446   \n",
       "159288      159447   \n",
       "159289      159448   \n",
       "159290      159449   \n",
       "159291      159450   \n",
       "\n",
       "                                                                                                                                                                   text  \\\n",
       "6080                                                 \"::I'll alos be looking in to see how this is going, as GRC is a big deal around these parts. Seek his grace \\n\\n\"   \n",
       "6081    \"\\n\\nThe Ezekiel passage is quoted in the Moloch article in the 1899 Encyclopædidia Biblica as the strongest evidence for the theory that the offerings were...   \n",
       "6082    Thank you for experimenting with  Wikipedia. Your test worked, and it has been reverted or removed. Please use the sandbox for any other tests you may want ...   \n",
       "6083                                                                                                                       Any complaints with that as the new wording?   \n",
       "6084    \"\\nI also disagree with the merge as Strength athlete clearly refers to strong sportspeople in general rather than anything to do with competitions or feats...   \n",
       "...                                                                                                                                                                 ...   \n",
       "159287  \":::::And for the second time of asking, when your view completely contradicts the coverage in reliable sources, why should anyone care what you feel? You c...   \n",
       "159288                                                            You should be ashamed of yourself \\n\\nThat is a horrible thing you put on my talk page.  128.61.19.93   \n",
       "159289                                                                              Spitzer \\n\\nUmm, theres no actual article for prostitution ring.  - Crunch Captain.   \n",
       "159290                                             And it looks like it was actually you who put on the speedy to have the first version deleted now that I look at it.   \n",
       "159291  \"\\nAnd ... I really don't think you understand.  I came here and my idea was bad right away.  What kind of community goes \"\"you have bad ideas\"\" go away, in...   \n",
       "\n",
       "        toxic  \n",
       "6080        0  \n",
       "6081        0  \n",
       "6082        0  \n",
       "6083        0  \n",
       "6084        0  \n",
       "...       ...  \n",
       "159287      0  \n",
       "159288      0  \n",
       "159289      0  \n",
       "159290      0  \n",
       "159291      0  \n",
       "\n",
       "[153212 rows x 3 columns]"
      ]
     },
     "execution_count": 57,
     "metadata": {},
     "output_type": "execute_result"
    }
   ],
   "source": [
    "data[data.index != data[\"unnamed:_0\"]]"
   ]
  },
  {
   "cell_type": "code",
   "execution_count": 58,
   "metadata": {},
   "outputs": [],
   "source": [
    "data.drop(\"unnamed:_0\", axis=1, inplace=True)"
   ]
  },
  {
   "cell_type": "code",
   "execution_count": 59,
   "metadata": {},
   "outputs": [
    {
     "data": {
      "image/png": "[encoded data removed]",
      "text/plain": [
       "<Figure size 640x480 with 1 Axes>"
      ]
     },
     "metadata": {},
     "output_type": "display_data"
    }
   ],
   "source": [
    "sns.countplot(x = 'toxic', data = data)\n",
    "plt.title(\"Proportion toxicity\")\n",
    "plt.show()\n"
   ]
  },
  {
   "attachments": {},
   "cell_type": "markdown",
   "metadata": {},
   "source": [
    "<font color='blue'><b>Комментарий ревьюера: </b></font> ✔️\\\n",
    "<font color='green'> Мы обнаружили серьёзный дисбаланс при исследовании данных. Как дополнительные материалы, рекомендую статью <a href='https://dyakonov.org/2021/05/27/imbalance/'>Дисбаланс классов</a>, очень классная, как и весь блог Дьяконова. Ещё такой <a href='https://github.com/Dyakonov/ml_hacks/blob/master/book_disbalance_public_v1.ipynb'>ноутбук</a> есть.</font>"
   ]
  },
  {
   "attachments": {},
   "cell_type": "markdown",
   "metadata": {},
   "source": [
    "На основе проведенного анализа данных можно сделать следующие выводы:\n",
    "\n",
    "Набор данных содержит информацию о комментариях и метки о наличии токсичности.\n",
    "Из общей информации видно, что набор данных состоит из 159571 строк и 7 столбцов, и занимает около 10 мегабайт памяти.\n",
    "Анализ подробной информации о данных позволил выявить наличие насбалансированности по классам в данных."
   ]
  },
  {
   "attachments": {},
   "cell_type": "markdown",
   "metadata": {},
   "source": [
    "<font color='blue'><b>Комментарий ревьюера: </b></font> ✔️\\\n",
    "<font color='green'>Данные загружены корректно, первичный осмотр проведен.</font>"
   ]
  },
  {
   "attachments": {},
   "cell_type": "markdown",
   "metadata": {},
   "source": [
    "## Подготовка"
   ]
  },
  {
   "cell_type": "code",
   "execution_count": 60,
   "metadata": {},
   "outputs": [
    {
     "data": {
      "text/plain": [
       "0    143106\n",
       "1     16186\n",
       "Name: toxic, dtype: int64"
      ]
     },
     "execution_count": 60,
     "metadata": {},
     "output_type": "execute_result"
    }
   ],
   "source": [
    "data.toxic.value_counts()"
   ]
  },
  {
   "attachments": {},
   "cell_type": "markdown",
   "metadata": {},
   "source": [
    "<font color='blue'><b>Комментарий ревьюера: </b></font> ❌\\\n",
    "<font color='red'> Мы не можем балансировать весь датасет, поскольку в этом случае мы балансируем также тестовую выборку. С такой тестовой выборкой метрика не сможет адекватно оценить работу модели на входящих данных с реальным распределением таргетов. </font>"
   ]
  },
  {
   "cell_type": "code",
   "execution_count": 61,
   "metadata": {},
   "outputs": [],
   "source": [
    "def clean_text(text):\n",
    "    text = text.lower()\n",
    "    text = re.sub(\"[^a-zA-Z]\", \" \", text)\n",
    "    text = re.sub(\"http\\S+\", \" \", text)\n",
    "    text = re.sub(\"\\s{2,}\", \" \", text)\n",
    "    return text\n",
    "def tokenize_text(text):\n",
    "    return re.split(\"\\W+\", text)\n",
    "def remove_words(text):\n",
    "    stop_words = nltk.corpus.stopwords.words(\"english\")\n",
    "    return [word for word in text if word not in stop_words]\n"
   ]
  },
  {
   "cell_type": "code",
   "execution_count": 62,
   "metadata": {},
   "outputs": [],
   "source": [
    "data[\"text\"] = data[\"text\"].apply(clean_text).apply(tokenize_text)"
   ]
  },
  {
   "cell_type": "code",
   "execution_count": 63,
   "metadata": {},
   "outputs": [],
   "source": [
    "#lemmatization\n",
    "lemma = nltk.WordNetLemmatizer()\n",
    "\n",
    "data[\"text\"] = data[\"text\"].apply(\n",
    "    lambda x: \" \".join([lemma.lemmatize(word) for word in x])\n",
    "    )"
   ]
  },
  {
   "cell_type": "code",
   "execution_count": 64,
   "metadata": {},
   "outputs": [],
   "source": [
    "lemmatizer = WordNetLemmatizer()\n",
    "\n",
    "\n",
    "def lemmatize_with_pos(text):\n",
    "    tagged_tokens = nltk.pos_tag(text.split())  \n",
    "    lemmas = []\n",
    "    for token, pos in tagged_tokens:\n",
    "        pos = get_wordnet_pos(pos)  \n",
    "        if pos is not None:\n",
    "            lemma = lemmatizer.lemmatize(token, pos=pos)  \n",
    "        else:\n",
    "            lemma = lemmatizer.lemmatize(token)  \n",
    "        lemmas.append(lemma)\n",
    "    return \" \".join(lemmas)\n",
    "\n",
    "\n",
    "def get_wordnet_pos(pos_tag):\n",
    "    if pos_tag.startswith('J'):\n",
    "        return wordnet.ADJ\n",
    "    elif pos_tag.startswith('V'):\n",
    "        return wordnet.VERB\n",
    "    elif pos_tag.startswith('N'):\n",
    "        return wordnet.NOUN\n",
    "    elif pos_tag.startswith('R'):\n",
    "        return wordnet.ADV\n",
    "    else:\n",
    "        return None\n",
    "\n",
    "\n",
    "data[\"text\"] = data[\"text\"].apply(lemmatize_with_pos)\n"
   ]
  },
  {
   "attachments": {},
   "cell_type": "markdown",
   "metadata": {},
   "source": [
    "<font color='blue'><b>Комментарий ревьюера : </b></font> ✔️\\\n",
    "<font color='green'> 👍</font>"
   ]
  },
  {
   "attachments": {},
   "cell_type": "markdown",
   "metadata": {},
   "source": [
    "<font color='blue'><b>Комментарий ревьюера 2: </b></font> ⚠️\\\n",
    "<font color='darkorange'> Для Лемматизации нам не нужны все обработчики spaCy. Часть можно отключить, это ускорит обработку.\\\n",
    "`nlp = spacy.load('en_core_web_sm', disable=['parser', 'ner'])`</font>"
   ]
  },
  {
   "attachments": {},
   "cell_type": "markdown",
   "metadata": {},
   "source": [
    "<font color='blue'><b>Комментарий ревьюера 2: </b></font> ✔️\\\n",
    "<font color='green'> Отлично! Теперь видно, что слова в начальных формах.</font>"
   ]
  },
  {
   "attachments": {},
   "cell_type": "markdown",
   "metadata": {},
   "source": [
    "<font color='blue'><b>Комментарий ревьюера 2: </b></font> ✔️\\\n",
    "<font color='green'> Классно, что сохраняешь обработанные данные на диск!</font>"
   ]
  },
  {
   "attachments": {},
   "cell_type": "markdown",
   "metadata": {},
   "source": [
    "<font color='blue'><b>Комментарий ревьюера: </b></font> ✔️\\\n",
    "<font color='green'> Убрали частые неинформативные слова!</font>"
   ]
  },
  {
   "attachments": {},
   "cell_type": "markdown",
   "metadata": {},
   "source": [
    "<font color='blue'><b>Комментарий ревьюера: </b></font> ✔️\\\n",
    "<font color='green'>Здорово что выводишь данные, так удобно отлаживать код, сразу видно, как работает функция.</font>"
   ]
  },
  {
   "attachments": {},
   "cell_type": "markdown",
   "metadata": {},
   "source": [
    "<font color='blue'><b>Комментарий ревьюера: </b></font> ❌\\\n",
    "<font color='red'><s>Обрати внимание, не все слова приведены к начальным формам. Чтобы корректно обработались все части речи, для WordNetLemmatizer() нужно использовать POS-теги (Part of Speech, части речи). Примеры работы с WordNetLemmatizer(), а также с другими инструментами для лемматизации, можно найти в [этой статье](https://webdevblog.ru/podhody-lemmatizacii-s-primerami-v-python/)</s></font>"
   ]
  },
  {
   "attachments": {},
   "cell_type": "markdown",
   "metadata": {},
   "source": [
    "<font color='blue'><b>Комментарий ревьюера : </b></font> \\\n",
    "<font color='blue'> Применение стемминга совместно с Лемматизацией не имеет смысла. Стемминг обрезает концы слов, при этом теряется часть информации.</font>"
   ]
  },
  {
   "cell_type": "code",
   "execution_count": 65,
   "metadata": {},
   "outputs": [],
   "source": [
    "# function for split data into 3 samples with stratify \n",
    "def train_valid_test(data, col):\n",
    "    X = data.drop(col, axis=1)\n",
    "    y = data[col]\n",
    "    X_train, X_second, y_train, y_second = (\n",
    "        train_test_split(X, y, test_size=0.6,\n",
    "                         random_state=RANDOM_STATE,\n",
    "                         stratify=y)\n",
    "        )\n",
    "    X_valid, X_test, y_valid, y_test = (\n",
    "        train_test_split(X_second, y_second, test_size=0.5,\n",
    "                         random_state=RANDOM_STATE,\n",
    "                         stratify=y_second)\n",
    "        )\n",
    "    return X_train, y_train, X_valid, y_valid, X_test, y_test"
   ]
  },
  {
   "cell_type": "code",
   "execution_count": 66,
   "metadata": {},
   "outputs": [],
   "source": [
    "X_train, y_train, X_valid, y_valid, X_test, y_test = train_valid_test(\n",
    "    data[[\"text\", \"toxic\"]], \"toxic\"\n",
    "    )"
   ]
  },
  {
   "cell_type": "code",
   "execution_count": 67,
   "metadata": {},
   "outputs": [
    {
     "data": {
      "text/plain": [
       "((63716, 1), (63716,), (47788, 1), (47788,), (47788, 1), (47788,))"
      ]
     },
     "execution_count": 67,
     "metadata": {},
     "output_type": "execute_result"
    }
   ],
   "source": [
    "X_train.shape, y_train.shape, X_valid.shape, y_valid.shape, X_test.shape, y_test.shape"
   ]
  },
  {
   "cell_type": "code",
   "execution_count": 68,
   "metadata": {},
   "outputs": [
    {
     "data": {
      "text/plain": [
       "((84954, 1), (84954,))"
      ]
     },
     "execution_count": 68,
     "metadata": {},
     "output_type": "execute_result"
    }
   ],
   "source": [
    "X_train_1 = X_train.copy().reset_index(drop=True)\n",
    "y_train_1 = y_train.copy().reset_index(drop=True)\n",
    "X_train_1_new = X_train_1[(y_train_1 == 0)][:(X_train_1.shape[0] // 3)]\n",
    "X_train_1.loc[(y_train_1!= 0)].shape\n",
    "# X_train_1_new.shape\n",
    "X_train = pd.concat([X_train_1_new, \n",
    "                      X_train_1.loc[(y_train_1!= 0).index]])\n",
    "X_train.shape\n",
    "y_train = y_train_1.loc[X_train.index]\n",
    "del X_train_1\n",
    "del y_train_1\n",
    "del X_train_1_new\n",
    "X_train.shape, y_train.shape"
   ]
  },
  {
   "attachments": {},
   "cell_type": "markdown",
   "metadata": {},
   "source": [
    "<font color='blue'><b>Комментарий ревьюера: </b></font> ✔️\\\n",
    "<font color='green'> Здорово, что у нас есть три выборки!</font>"
   ]
  },
  {
   "attachments": {},
   "cell_type": "markdown",
   "metadata": {},
   "source": [
    "<font color='blue'><b>Комментарий ревьюера: </b></font> ⚠️\\\n",
    "<font color='darkorange'> Нам точно нужно 6 столюцов в модели?</font>"
   ]
  },
  {
   "attachments": {},
   "cell_type": "markdown",
   "metadata": {},
   "source": [
    "<font color='blue'><b>Комментарий ревьюера 2: </b></font> ❌\\\n",
    "<font color='red'><s> Метрика `f1_score(average='weighted')` применяется к мультиклассовой классификации и в нашем случае нужно `average='binary'`\\\n",
    "    Взвешенная метрика не улучшает модель, а даёт смещённую оценку.</s></font>"
   ]
  },
  {
   "cell_type": "code",
   "execution_count": 69,
   "metadata": {},
   "outputs": [
    {
     "data": {
      "text/plain": [
       "(84954, 88814)"
      ]
     },
     "execution_count": 69,
     "metadata": {},
     "output_type": "execute_result"
    }
   ],
   "source": [
    "vectors = TfidfVectorizer()\n",
    "X_train = vectors.fit_transform(\n",
    "    X_train.text.values\n",
    "    )\n",
    "X_valid = vectors.transform(\n",
    "    X_valid.text.values\n",
    "    )\n",
    "\n",
    "X_train.shape"
   ]
  },
  {
   "attachments": {},
   "cell_type": "markdown",
   "metadata": {},
   "source": [
    "<font color='blue'><b>Комментарий ревьюера: </b></font> ✔️\\\n",
    "<font color='green'>Хорошо, что используешь pipeline. Что бы получить от него всю эффективность нужно в него ещё классификатор добавить.</font>"
   ]
  },
  {
   "attachments": {},
   "cell_type": "markdown",
   "metadata": {},
   "source": [
    "<font color='blue'><b>Комментарий ревьюера 2: </b></font> ⚠️\\\n",
    "<font color='darkorange'> Возможно можно ограничится TfidfVectorizer()</font>"
   ]
  },
  {
   "attachments": {},
   "cell_type": "markdown",
   "metadata": {},
   "source": [
    "В результате подготовки данных был создан новый набор данных data_new, содержащий очищенные, токенизированные, без стоп-слов, лемматизированные и стеммированные тексты. Тексты также были преобразованы в числовой формат для последующего обучения моделей машинного обучения."
   ]
  },
  {
   "attachments": {},
   "cell_type": "markdown",
   "metadata": {},
   "source": [
    "<div class=\"alert alert-info\">\n",
    "  <strong>Info!</strong> Еще раз повторюсь, что проект очень затратный по ресурсам и имеено поэтому я уменьшила датасет в самом начале) Я учла все твои замечаия и советы и теперь, к сожалению, не могу приступить к обучению. Надеюсь ты примешь проект в таком виде, потому что я ничего не могу поделать с тем, что ядро падает. Как виидишь, я пыталась уменьшить даанные для обучения в 4 раза, но это не помогло\n",
    "</div>"
   ]
  },
  {
   "attachments": {},
   "cell_type": "markdown",
   "metadata": {},
   "source": [
    "<font color='blue'><b>Комментарий ревьюера 2: </b></font> ✔️\\\n",
    "<font color='green'> Людмила, работа с ресурсами - это одна из задач этого проекта. Посмотри, пожалуйста, здесь все созданные датафреймы и копии датафреймов. Возможно, есть другие \"лишние\" объекты.\\\n",
    "Ревизию можно сделать с помощью кода:\n",
    "```python\n",
    "import sys\n",
    "\n",
    "for var_name in dir():\n",
    "    if not var_name.startswith(\"_\"):\n",
    "        var = globals()[var_name]\n",
    "        print(f\"{var_name: <30} {sys.getsizeof(var): >10}\")\n",
    "```\n",
    "\n",
    "Не нужно ставить работодателя перед выбором кого менять: машину или разработчика ))</font>"
   ]
  },
  {
   "attachments": {},
   "cell_type": "markdown",
   "metadata": {},
   "source": [
    "## Обучение"
   ]
  },
  {
   "cell_type": "code",
   "execution_count": 70,
   "metadata": {},
   "outputs": [
    {
     "data": {
      "text/plain": [
       "0.7038100208768266"
      ]
     },
     "execution_count": 70,
     "metadata": {},
     "output_type": "execute_result"
    }
   ],
   "source": [
    "model = LogisticRegression(random_state=RANDOM_STATE)\n",
    "model.fit(X_train, y_train)\n",
    "pred_lr = model.predict(X_valid)\n",
    "f1_score(pred_lr, y_valid, average='binary')"
   ]
  },
  {
   "attachments": {},
   "cell_type": "markdown",
   "metadata": {},
   "source": [
    "<font color='blue'><b>Комментарий ревьюера: </b></font> ✔️\\\n",
    "<font color='green'>Отлично, что используешь валидационную выборку для оценки моделей.</font>"
   ]
  },
  {
   "cell_type": "code",
   "execution_count": 71,
   "metadata": {},
   "outputs": [
    {
     "name": "stdout",
     "output_type": "stream",
     "text": [
      "              precision    recall  f1-score   support\n",
      "\n",
      "           0       1.00      0.95      0.97     44980\n",
      "           1       0.56      0.96      0.70      2808\n",
      "\n",
      "    accuracy                           0.95     47788\n",
      "   macro avg       0.78      0.96      0.84     47788\n",
      "weighted avg       0.97      0.95      0.96     47788\n",
      "\n"
     ]
    }
   ],
   "source": [
    "print(classification_report(pred_lr, y_valid))"
   ]
  },
  {
   "cell_type": "code",
   "execution_count": 72,
   "metadata": {},
   "outputs": [
    {
     "data": {
      "text/plain": [
       "0.6061118152372905"
      ]
     },
     "execution_count": 72,
     "metadata": {},
     "output_type": "execute_result"
    }
   ],
   "source": [
    "from sklearn.ensemble import GradientBoostingClassifier\n",
    "\n",
    "gb = GradientBoostingClassifier(random_state=RANDOM_STATE)\n",
    "gb.fit(X_train, y_train)\n",
    "pred_gb = gb.predict(X_valid)\n",
    "f1_score(pred_gb, y_valid, average='binary')"
   ]
  },
  {
   "cell_type": "code",
   "execution_count": 73,
   "metadata": {},
   "outputs": [
    {
     "name": "stdout",
     "output_type": "stream",
     "text": [
      "              precision    recall  f1-score   support\n",
      "\n",
      "           0       1.00      0.94      0.97     45543\n",
      "           1       0.44      0.96      0.61      2245\n",
      "\n",
      "    accuracy                           0.94     47788\n",
      "   macro avg       0.72      0.95      0.79     47788\n",
      "weighted avg       0.97      0.94      0.95     47788\n",
      "\n"
     ]
    }
   ],
   "source": [
    "print(classification_report(pred_gb, y_valid))"
   ]
  },
  {
   "cell_type": "code",
   "execution_count": 74,
   "metadata": {},
   "outputs": [
    {
     "data": {
      "text/plain": [
       "0.6012884753042232"
      ]
     },
     "execution_count": 74,
     "metadata": {},
     "output_type": "execute_result"
    }
   ],
   "source": [
    "nb = SGDClassifier()\n",
    "result_bayes = nb.fit(X_train, y_train)\n",
    "pred_nb = nb.predict(X_valid)\n",
    "f1_score(pred_nb, y_valid, average='binary')"
   ]
  },
  {
   "attachments": {},
   "cell_type": "markdown",
   "metadata": {},
   "source": [
    "<font color='blue'><b>Комментарий ревьюера 2: </b></font> ⚠️\\\n",
    "<font color='darkorange'>`GaussianNB()` Очень требователен к ресурсам. Возможно, можно выбрать модель попроще, вроде SGDClassifier(), ведь скорее всего потребуется подбор гиперппараметров, что бы получить нужную метрику.</font>"
   ]
  },
  {
   "attachments": {},
   "cell_type": "markdown",
   "metadata": {},
   "source": [
    "<font color='blue'><b>Комментарий ревьюера : </b></font> ✔️\\\n",
    "<font color='green'> 👍</font>"
   ]
  },
  {
   "cell_type": "code",
   "execution_count": 78,
   "metadata": {},
   "outputs": [
    {
     "name": "stdout",
     "output_type": "stream",
     "text": [
      "Best model: LogisticRegression(C=20, class_weight='balanced', max_iter=500, random_state=42,\n",
      "                   solver='liblinear')\n",
      "Best score: 0.7680112781449846\n"
     ]
    }
   ],
   "source": [
    "from sklearn.model_selection import GridSearchCV\n",
    "from sklearn.linear_model import LogisticRegression\n",
    "\n",
    "# Define the parameter grid for GridSearchCV\n",
    "param_grid = {\n",
    "    'C': [1, 10, 20],\n",
    "    'solver': ['liblinear', 'lbfgs'],\n",
    "    'max_iter': [500, 1000]\n",
    "}\n",
    "\n",
    "# Create a LogisticRegression instance\n",
    "logreg = LogisticRegression(random_state=RANDOM_STATE, class_weight=\"balanced\")\n",
    "\n",
    "# Create GridSearchCV instance\n",
    "grid_search = GridSearchCV(estimator=logreg, param_grid=param_grid, cv=5, scoring='f1')\n",
    "\n",
    "# Fit the data to perform grid search\n",
    "grid_search.fit(X_train, y_train)\n",
    "\n",
    "# Get the best model and its score\n",
    "best_model = grid_search.best_estimator_\n",
    "best_score = grid_search.best_score_\n",
    "\n",
    "print(\"Best model:\", best_model)\n",
    "print(\"Best score:\", best_score)\n"
   ]
  },
  {
   "cell_type": "code",
   "execution_count": 79,
   "metadata": {},
   "outputs": [
    {
     "name": "stdout",
     "output_type": "stream",
     "text": [
      "0.7615665384235967\n",
      "              precision    recall  f1-score   support\n",
      "\n",
      "           0       0.98      0.97      0.97     42932\n",
      "           1       0.73      0.79      0.76      4856\n",
      "\n",
      "    accuracy                           0.95     47788\n",
      "   macro avg       0.85      0.88      0.87     47788\n",
      "weighted avg       0.95      0.95      0.95     47788\n",
      "\n"
     ]
    }
   ],
   "source": [
    "lr_model = LogisticRegression(C=20, class_weight='balanced', max_iter=500, random_state=42,\n",
    "                   solver='liblinear')\n",
    "\n",
    "lr_model.fit(X_train, y_train)\n",
    "predpred = lr_model.predict(X_test)\n",
    "print(f1_score(predpred, y_test))\n",
    "print(classification_report(y_test, predpred))"
   ]
  },
  {
   "attachments": {},
   "cell_type": "markdown",
   "metadata": {},
   "source": [
    "Были оубчены различные модели на подготовленных.\n",
    "Метрика F1-меры использовалась для оценки качества моделей.\n",
    "Удовлетворительные результаты классификации на валидационной выборке и тестовой \n",
    "выборке показала модель логистической регрессии."
   ]
  },
  {
   "attachments": {},
   "cell_type": "markdown",
   "metadata": {},
   "source": [
    "## Выводы"
   ]
  },
  {
   "attachments": {},
   "cell_type": "markdown",
   "metadata": {},
   "source": [
    "В итоге, после обучения моделей-классификаторов, модель регрессии показала хорошее качество с F1-мерой равной 0.8. Это говорит о том, что модель достаточно точно классифицирует токсичные и нетоксичные комментарии.\n",
    "\n",
    "С учетом этого, преимущества для бизнеса от проделанной работы могут быть следующими:\n",
    "\n",
    "Фильтрация токсичных комментариев: Бизнесу важно защитить свою онлайн-платформу от негативных и токсичных комментариев. Используя разработанную модель, можно автоматически фильтровать и скрывать такие комментарии, что способствует созданию безопасной и приятной среды для пользователей.\n",
    "\n",
    "Улучшение качества обратной связи: Подготовка данных и разработка модели позволяют более эффективно анализировать комментарии и отзывы пользователей. Это может помочь бизнесу выявлять и анализировать проблемные области, улучшать качество своих продуктов или услуг и предлагать более релевантные и полезные ответы на комментарии.\n",
    "\n",
    "Экономия времени и ресурсов: Автоматическая классификация комментариев позволяет сэкономить время и ресурсы, которые ранее были затрачены на ручную модерацию или анализ комментариев. Модель может автоматически обрабатывать большие объемы данных, что помогает оптимизировать процессы и увеличивает эффективность работы.\n",
    "\n",
    "Улучшение пользовательского опыта: Благодаря автоматическому фильтрованию токсичных комментариев, пользователи получают более приятный опыт использования платформы или сервиса. Это может привести к увеличению уровня доверия пользователей, повышению удовлетворенности и увеличению их вовлеченности.\n",
    "\n",
    "В целом, разработка и применение модели классификации токсичных комментариев имеет множество практических преимуществ для бизнеса. Она помогает создать безопасную и комфортную среду для пользователей, улучшить качество обратной связи, сэкономить время и ресурсы,"
   ]
  },
  {
   "attachments": {},
   "cell_type": "markdown",
   "metadata": {},
   "source": [
    "<font color='blue'><b>Комментарий ревьюера: </b></font> ✔️\\\n",
    "<font color='green'> Очень приятно видеть вывод в конце проекта!\\\n",
    "Приведены ответы на главные вопросы проекта.</font>"
   ]
  },
  {
   "attachments": {},
   "cell_type": "markdown",
   "metadata": {},
   "source": [
    "<font color='blue'><b>Итоговый комментарий ревьюера</b></font>\\\n",
    "<font color='green'>Людмила, хороший проект получился!\n",
    "Большое спасибо за проделанную работу. Видно, что приложено много усилий.\n",
    "</font>\n",
    "\n",
    "<font color='blue'>Что нужно исправить:</font>\n",
    "<ul><font color='red'>Не балансируйй весь датасет.</font></ul>\n",
    "<ul><font color='red'>Поправь Лемматизацию.</font></ul>\n",
    "<ul><font color='red'>Оцени модели метрикой для бинарной классификации f1 average='binary'.</font></ul>\n",
    "\n",
    "<font color='blue'>Что можно сделать лучше:</font>\n",
    "<font color='orange'>В работе я оставил несколько советов. Буду рад, если ты учтешь их.</font></ul>\n",
    "\n",
    "<font color='blue'><b>Жду новую версию проекта :)</b></font>"
   ]
  },
  {
   "attachments": {},
   "cell_type": "markdown",
   "metadata": {},
   "source": [
    "<font color='blue'><b>Итоговый комментарий ревьюера</b></font>\\\n",
    "<font color='green'>Людмила, большое спасибо за доработку. Валидационная и Тестовая выборки не балансируются, проведена Лемматизация, Используется требуемая метрика.\n",
    "</font>\n",
    "\n",
    "<font color='blue'>Что нужно исправить:</font>\n",
    "<ul><font color='red'>Поправь загрузку данных.</font></ul>\n",
    "<ul><font color='red'>Построй модель со значением метрики качества F1 не меньше 0.75 на тестовых данных.</font></ul>\n",
    "\n",
    "<font color='blue'>Что можно сделать лучше:</font>\n",
    "<font color='orange'>В работе я оставил несколько советов. Буду рад, если ты учтешь их.</font></ul>\n",
    "\n",
    "<font color='blue'><b>Жду новую версию проекта :)</b></font>"
   ]
  }
 ],
 "metadata": {
  "ExecuteTimeLog": [
   {
    "duration": 9,
    "start_time": "2023-06-15T13:30:17.009Z"
   },
   {
    "duration": 4220,
    "start_time": "2023-06-15T13:30:17.020Z"
   },
   {
    "duration": 120,
    "start_time": "2023-06-15T13:30:21.242Z"
   },
   {
    "duration": 268,
    "start_time": "2023-06-15T13:30:21.365Z"
   }
  ],
  "kernelspec": {
   "display_name": "Python 3 (ipykernel)",
   "language": "python",
   "name": "python3"
  },
  "language_info": {
   "codemirror_mode": {
    "name": "ipython",
    "version": 3
   },
   "file_extension": ".py",
   "mimetype": "text/x-python",
   "name": "python",
   "nbconvert_exporter": "python",
   "pygments_lexer": "ipython3",
   "version": "3.10.9"
  },
  "toc": {
   "base_numbering": 1,
   "nav_menu": {},
   "number_sections": true,
   "sideBar": true,
   "skip_h1_title": true,
   "title_cell": "Содержание",
   "title_sidebar": "Contents",
   "toc_cell": true,
   "toc_position": {
    "height": "calc(100% - 180px)",
    "left": "10px",
    "top": "150px",
    "width": "302.391px"
   },
   "toc_section_display": true,
   "toc_window_display": false
  }
 },
 "nbformat": 4,
 "nbformat_minor": 2
}

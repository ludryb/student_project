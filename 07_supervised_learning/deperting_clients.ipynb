{
 "cells": [
  {
   "attachments": {},
   "cell_type": "markdown",
   "metadata": {
    "id": "HXJZRLnGvjku"
   },
   "source": [
    "# Модель предсказаний оттока клиентов "
   ]
  },
  {
   "attachments": {},
   "cell_type": "markdown",
   "metadata": {
    "id": "6euGHKx2wEoY"
   },
   "source": [
    "**Исходные данные:** \n",
    "исторические данные о поведении клиентов и расторжении договоров с банком\n",
    "\n",
    "\n",
    "**Цель:**\n",
    "спрогнозировать, уйдёт клиент из банка в ближайшее время или нет c предельно большим значением F1-меры (более 0.59)\n"
   ]
  },
  {
   "attachments": {},
   "cell_type": "markdown",
   "metadata": {
    "id": "ZJc9KcZ0wECt"
   },
   "source": [
    "**Этапы исследования:**\n",
    "\n",
    "\n",
    "1.   Загрузка исходных данных и их общая оценка, построение гистрограмм для каждого столбца с числовыми значениями\n",
    "\n",
    "2. Исследовать баланс классов, обучить модель без учёта дисбаланса\n",
    "\n",
    "3. Улучшить качество модели, учитывая дисбаланс классов. Обучить разные модели и найти лучшую\n",
    "\n",
    "4. Провести финальное тестирование\n",
    "\n",
    "5. Заключение\n"
   ]
  },
  {
   "attachments": {},
   "cell_type": "markdown",
   "metadata": {
    "id": "JnxXRkG6586c"
   },
   "source": [
    "## 1 Загрузка исходных данных"
   ]
  },
  {
   "cell_type": "code",
   "execution_count": 1,
   "metadata": {},
   "outputs": [
    {
     "name": "stdout",
     "output_type": "stream",
     "text": [
      "Requirement already satisfied: imblearn in /opt/conda/lib/python3.9/site-packages (0.0)\n",
      "Requirement already satisfied: imbalanced-learn in /opt/conda/lib/python3.9/site-packages (from imblearn) (0.10.1)\n",
      "Requirement already satisfied: scikit-learn>=1.0.2 in /opt/conda/lib/python3.9/site-packages (from imbalanced-learn->imblearn) (1.2.2)\n",
      "Requirement already satisfied: numpy>=1.17.3 in /opt/conda/lib/python3.9/site-packages (from imbalanced-learn->imblearn) (1.21.1)\n",
      "Requirement already satisfied: threadpoolctl>=2.0.0 in /opt/conda/lib/python3.9/site-packages (from imbalanced-learn->imblearn) (3.1.0)\n",
      "Requirement already satisfied: joblib>=1.1.1 in /opt/conda/lib/python3.9/site-packages (from imbalanced-learn->imblearn) (1.2.0)\n",
      "Requirement already satisfied: scipy>=1.3.2 in /opt/conda/lib/python3.9/site-packages (from imbalanced-learn->imblearn) (1.9.1)\n",
      "Requirement already satisfied: matplotlib in /opt/conda/lib/python3.9/site-packages (3.7.1)\n",
      "Requirement already satisfied: python-dateutil>=2.7 in /opt/conda/lib/python3.9/site-packages (from matplotlib) (2.8.1)\n",
      "Requirement already satisfied: numpy>=1.20 in /opt/conda/lib/python3.9/site-packages (from matplotlib) (1.21.1)\n",
      "Requirement already satisfied: pyparsing>=2.3.1 in /opt/conda/lib/python3.9/site-packages (from matplotlib) (2.4.7)\n",
      "Requirement already satisfied: importlib-resources>=3.2.0 in /opt/conda/lib/python3.9/site-packages (from matplotlib) (5.12.0)\n",
      "Requirement already satisfied: pillow>=6.2.0 in /opt/conda/lib/python3.9/site-packages (from matplotlib) (8.4.0)\n",
      "Requirement already satisfied: kiwisolver>=1.0.1 in /opt/conda/lib/python3.9/site-packages (from matplotlib) (1.4.4)\n",
      "Requirement already satisfied: cycler>=0.10 in /opt/conda/lib/python3.9/site-packages (from matplotlib) (0.11.0)\n",
      "Requirement already satisfied: contourpy>=1.0.1 in /opt/conda/lib/python3.9/site-packages (from matplotlib) (1.0.7)\n",
      "Requirement already satisfied: packaging>=20.0 in /opt/conda/lib/python3.9/site-packages (from matplotlib) (21.3)\n",
      "Requirement already satisfied: fonttools>=4.22.0 in /opt/conda/lib/python3.9/site-packages (from matplotlib) (4.39.2)\n",
      "Requirement already satisfied: zipp>=3.1.0 in /opt/conda/lib/python3.9/site-packages (from importlib-resources>=3.2.0->matplotlib) (3.5.0)\n",
      "Requirement already satisfied: six>=1.5 in /opt/conda/lib/python3.9/site-packages (from python-dateutil>=2.7->matplotlib) (1.16.0)\n",
      "Requirement already satisfied: scikit-learn in /opt/conda/lib/python3.9/site-packages (1.2.2)\n",
      "Requirement already satisfied: scipy>=1.3.2 in /opt/conda/lib/python3.9/site-packages (from scikit-learn) (1.9.1)\n",
      "Requirement already satisfied: numpy>=1.17.3 in /opt/conda/lib/python3.9/site-packages (from scikit-learn) (1.21.1)\n",
      "Requirement already satisfied: threadpoolctl>=2.0.0 in /opt/conda/lib/python3.9/site-packages (from scikit-learn) (3.1.0)\n",
      "Requirement already satisfied: joblib>=1.1.1 in /opt/conda/lib/python3.9/site-packages (from scikit-learn) (1.2.0)\n"
     ]
    }
   ],
   "source": [
    "!pip install imblearn\n",
    "!pip install --upgrade matplotlib\n",
    "!pip install -U scikit-learn"
   ]
  },
  {
   "cell_type": "code",
   "execution_count": 2,
   "metadata": {
    "executionInfo": {
     "elapsed": 342,
     "status": "ok",
     "timestamp": 1679696973909,
     "user": {
      "displayName": "Ludmila Rybalko",
      "userId": "01313176638513958393"
     },
     "user_tz": -60
    },
    "id": "s_a_vOr4yVlZ"
   },
   "outputs": [],
   "source": [
    "import time\n",
    "import pandas as pd\n",
    "import numpy as np\n",
    "import matplotlib.pyplot as plt\n",
    "import matplotlib.gridspec as gridspec\n",
    "import seaborn as sns\n",
    "import scipy.stats as st\n",
    "from sklearn.model_selection import (train_test_split, StratifiedKFold, \n",
    "                                     cross_val_score, cross_val_predict,\n",
    "                                     RandomizedSearchCV, GridSearchCV)\n",
    "from sklearn.preprocessing import OneHotEncoder, RobustScaler\n",
    "from sklearn.compose import make_column_transformer\n",
    "from sklearn.metrics import (f1_score, classification_report, \n",
    "                             confusion_matrix, accuracy_score, RocCurveDisplay,\n",
    "                             roc_auc_score, roc_curve, auc)\n",
    "from sklearn.linear_model import LogisticRegression\n",
    "from sklearn.tree import DecisionTreeClassifier\n",
    "from sklearn.neighbors import KNeighborsClassifier\n",
    "from sklearn.ensemble import RandomForestClassifier\n",
    "from sklearn.svm import SVC\n",
    "from imblearn.over_sampling import (RandomOverSampler, SMOTE, SMOTENC, ADASYN, \n",
    "                                    BorderlineSMOTE, SVMSMOTE)\n",
    "from imblearn.pipeline import Pipeline, make_pipeline\n",
    "\n",
    "RANDOM_STATE = 42"
   ]
  },
  {
   "attachments": {},
   "cell_type": "markdown",
   "metadata": {},
   "source": [
    "\n",
    "<div class=\"alert alert-block alert-success\">\n",
  
    "</div>"
   ]
  },
  {
   "cell_type": "code",
   "execution_count": 3,
   "metadata": {
    "colab": {
     "base_uri": "https://localhost:8080/"
    },
    "executionInfo": {
     "elapsed": 2019,
     "status": "ok",
     "timestamp": 1679696976266,
     "user": {
      "displayName": "Ludmila Rybalko",
      "userId": "01313176638513958393"
     },
     "user_tz": -60
    },
    "id": "YgRaLZKRojWr",
    "outputId": "6cf82a69-d94f-4ffe-c25b-3955cec12338"
   },
   "outputs": [],
   "source": [
    "try:\n",
    "    from google.colab import drive\n",
    "    drive.mount('/content/drive')\n",
    "    df = pd.read_csv(\"/content/drive/MyDrive/Yandex/Churn.csv\")\n",
    "except:\n",
    "    df = pd.read_csv(\"/datasets/Churn.csv\")"
   ]
  },
  {
   "cell_type": "code",
   "execution_count": 4,
   "metadata": {
    "executionInfo": {
     "elapsed": 31,
     "status": "ok",
     "timestamp": 1679696976267,
     "user": {
      "displayName": "Ludmila Rybalko",
      "userId": "01313176638513958393"
     },
     "user_tz": -60
    },
    "id": "ksLMOrXmGefB"
   },
   "outputs": [],
   "source": [
    "# function for primary analysis of data with non-normal distribution\n",
    "# Kendall correlation\n",
    "def df_info(df):\n",
    "    # numeric and non-numeric for histograms and statistic info\n",
    "    df_num = df.select_dtypes(\"number\")\n",
    "    df_no_num = df.select_dtypes(exclude=\"number\")\n",
    "    # correlation method for heatmap\n",
    "    meth_corr = \"kendall\"\n",
    "    # how to split the statistic info for numeric columns\n",
    "    split_show = 8\n",
    "    # display 2 digits after the decimal point\n",
    "    pd.set_option('display.precision', 2)\n",
    "    # change labels of columns\n",
    "    df.columns = (df.columns\n",
    "                  .str.replace('(?<=[a-z])(?=[A-Z])', '_', regex=True)\n",
    "                  .str.lower())\n",
    "  \n",
    "    # print('{:^24s}'.format(\"General information\"))\n",
    "    display(df.info(memory_usage=\"deep\"))\n",
    "    print()\n",
    "    print()\n",
    "\n",
    "    print('\\033[94m  \\033[1m {:^24s}'.format(\n",
    "        \"Distribution of data in numeric columns\"\n",
    "        )\n",
    "    )\n",
    "    fig = plt.figure(figsize=(14,8))\n",
    "    sfigs = fig.subfigures(round(len(df_num.columns)/4), 4)\n",
    "    for i, axes in enumerate(sfigs.flat):\n",
    "      try:\n",
    "        axes.suptitle(df_num.columns[i])\n",
    "        if len(df.iloc[:,i]) > 0:\n",
    "          ax_1= axes.subplots(2, 1, sharex=True, \n",
    "                              gridspec_kw={\"height_ratios\": (.15, .85)})\n",
    "          sns.boxplot(data=df, x=df_num.columns[i], orient=\"h\", ax=ax_1[0])\n",
    "          sns.histplot(data=df, x=df_num.columns[i], kde=True, ax=ax_1[1])\n",
    "          plt.xlabel(\"\")\n",
    "          plt.ylabel(\"\")\n",
    "      except:\n",
    "        break\n",
    "    plt.show()\n",
    "    print()\n",
    "    print()\n",
    "\n",
    "    print('\\033[94m  \\033[1m {:^24s}'.format(\"Statistic information\"))\n",
    "    display(df_num.describe().iloc[:, :split_show])\n",
    "    display(df_num.describe().iloc[:, split_show:])\n",
    "    print()\n",
    "    display(df_no_num.describe())\n",
    "    print()\n",
    "    print()\n",
    "\n",
    "    print('\\033[94m  \\033[1m {:^24s}'.format(\"Missing values\"))\n",
    "    miss_val = pd.DataFrame(df.isna().sum(), \n",
    "                            columns=[\"miss_count\"])\n",
    "    miss_val[\"miss_percent\"] = round(miss_val/100, 2)\n",
    "    miss_val[\"duplicates\"] = df.duplicated().sum()\n",
    "    display(miss_val.style.background_gradient(\"coolwarm\", axis=0))\n",
    "    print()\n",
    "    print()\n",
    "\n",
    "    print('\\033[94m  \\033[1m {:^24s}'.format(\"Correlation\"))\n",
    "    plt.figure(figsize=(16,14))\n",
    "    sns.heatmap(df.corr(method=meth_corr), annot=True, linewidths=0.3, \n",
    "                cmap='coolwarm', square=True)\n",
    "    plt.show()\n",
    "    pd.reset_option('display.precision')"
   ]
  },
  {
   "cell_type": "code",
   "execution_count": 5,
   "metadata": {},
   "outputs": [],
   "source": [
    "# function for split data into 3 samples with stratify \n",
    "def train_valid_test(data, col):\n",
    "    X = data.drop(col, axis=1)\n",
    "    y = data[col]\n",
    "    X_train, X_second, y_train, y_second = (\n",
    "        train_test_split(X, y, test_size=0.6,\n",
    "                         random_state=RANDOM_STATE,\n",
    "                         stratify=y)\n",
    "        )\n",
    "    X_valid, X_test, y_valid, y_test = (\n",
    "        train_test_split(X_second, y_second, test_size=0.5,\n",
    "                         random_state=RANDOM_STATE,\n",
    "                         stratify=y_second)\n",
    "        )\n",
    "    return X_train, y_train, X_valid, y_valid, X_test, y_test"
   ]
  },
  {
   "cell_type": "code",
   "execution_count": 6,
   "metadata": {
    "colab": {
     "base_uri": "https://localhost:8080/",
     "height": 270
    },
    "executionInfo": {
     "elapsed": 30,
     "status": "ok",
     "timestamp": 1679696976268,
     "user": {
      "displayName": "Ludmila Rybalko",
      "userId": "01313176638513958393"
     },
     "user_tz": -60
    },
    "id": "a8FHeHv0cHMM",
    "outputId": "e5f16f22-2d6d-42f1-a2fe-66df4b91b77c",
    "scrolled": true
   },
   "outputs": [
    {
     "data": {
      "text/html": [
       "<div>\n",
       "<style scoped>\n",
       "    .dataframe tbody tr th:only-of-type {\n",
       "        vertical-align: middle;\n",
       "    }\n",
       "\n",
       "    .dataframe tbody tr th {\n",
       "        vertical-align: top;\n",
       "    }\n",
       "\n",
       "    .dataframe thead th {\n",
       "        text-align: right;\n",
       "    }\n",
       "</style>\n",
       "<table border=\"1\" class=\"dataframe\">\n",
       "  <thead>\n",
       "    <tr style=\"text-align: right;\">\n",
       "      <th></th>\n",
       "      <th>RowNumber</th>\n",
       "      <th>CustomerId</th>\n",
       "      <th>Surname</th>\n",
       "      <th>CreditScore</th>\n",
       "      <th>Geography</th>\n",
       "      <th>Gender</th>\n",
       "      <th>Age</th>\n",
       "      <th>Tenure</th>\n",
       "      <th>Balance</th>\n",
       "      <th>NumOfProducts</th>\n",
       "      <th>HasCrCard</th>\n",
       "      <th>IsActiveMember</th>\n",
       "      <th>EstimatedSalary</th>\n",
       "      <th>Exited</th>\n",
       "    </tr>\n",
       "  </thead>\n",
       "  <tbody>\n",
       "    <tr>\n",
       "      <th>0</th>\n",
       "      <td>1</td>\n",
       "      <td>15634602</td>\n",
       "      <td>Hargrave</td>\n",
       "      <td>619</td>\n",
       "      <td>France</td>\n",
       "      <td>Female</td>\n",
       "      <td>42</td>\n",
       "      <td>2.0</td>\n",
       "      <td>0.00</td>\n",
       "      <td>1</td>\n",
       "      <td>1</td>\n",
       "      <td>1</td>\n",
       "      <td>101348.88</td>\n",
       "      <td>1</td>\n",
       "    </tr>\n",
       "    <tr>\n",
       "      <th>1</th>\n",
       "      <td>2</td>\n",
       "      <td>15647311</td>\n",
       "      <td>Hill</td>\n",
       "      <td>608</td>\n",
       "      <td>Spain</td>\n",
       "      <td>Female</td>\n",
       "      <td>41</td>\n",
       "      <td>1.0</td>\n",
       "      <td>83807.86</td>\n",
       "      <td>1</td>\n",
       "      <td>0</td>\n",
       "      <td>1</td>\n",
       "      <td>112542.58</td>\n",
       "      <td>0</td>\n",
       "    </tr>\n",
       "    <tr>\n",
       "      <th>2</th>\n",
       "      <td>3</td>\n",
       "      <td>15619304</td>\n",
       "      <td>Onio</td>\n",
       "      <td>502</td>\n",
       "      <td>France</td>\n",
       "      <td>Female</td>\n",
       "      <td>42</td>\n",
       "      <td>8.0</td>\n",
       "      <td>159660.80</td>\n",
       "      <td>3</td>\n",
       "      <td>1</td>\n",
       "      <td>0</td>\n",
       "      <td>113931.57</td>\n",
       "      <td>1</td>\n",
       "    </tr>\n",
       "    <tr>\n",
       "      <th>3</th>\n",
       "      <td>4</td>\n",
       "      <td>15701354</td>\n",
       "      <td>Boni</td>\n",
       "      <td>699</td>\n",
       "      <td>France</td>\n",
       "      <td>Female</td>\n",
       "      <td>39</td>\n",
       "      <td>1.0</td>\n",
       "      <td>0.00</td>\n",
       "      <td>2</td>\n",
       "      <td>0</td>\n",
       "      <td>0</td>\n",
       "      <td>93826.63</td>\n",
       "      <td>0</td>\n",
       "    </tr>\n",
       "    <tr>\n",
       "      <th>4</th>\n",
       "      <td>5</td>\n",
       "      <td>15737888</td>\n",
       "      <td>Mitchell</td>\n",
       "      <td>850</td>\n",
       "      <td>Spain</td>\n",
       "      <td>Female</td>\n",
       "      <td>43</td>\n",
       "      <td>2.0</td>\n",
       "      <td>125510.82</td>\n",
       "      <td>1</td>\n",
       "      <td>1</td>\n",
       "      <td>1</td>\n",
       "      <td>79084.10</td>\n",
       "      <td>0</td>\n",
       "    </tr>\n",
       "  </tbody>\n",
       "</table>\n",
       "</div>"
      ],
      "text/plain": [
       "   RowNumber  CustomerId   Surname  CreditScore Geography  Gender  Age  \\\n",
       "0          1    15634602  Hargrave          619    France  Female   42   \n",
       "1          2    15647311      Hill          608     Spain  Female   41   \n",
       "2          3    15619304      Onio          502    France  Female   42   \n",
       "3          4    15701354      Boni          699    France  Female   39   \n",
       "4          5    15737888  Mitchell          850     Spain  Female   43   \n",
       "\n",
       "   Tenure    Balance  NumOfProducts  HasCrCard  IsActiveMember  \\\n",
       "0     2.0       0.00              1          1               1   \n",
       "1     1.0   83807.86              1          0               1   \n",
       "2     8.0  159660.80              3          1               0   \n",
       "3     1.0       0.00              2          0               0   \n",
       "4     2.0  125510.82              1          1               1   \n",
       "\n",
       "   EstimatedSalary  Exited  \n",
       "0        101348.88       1  \n",
       "1        112542.58       0  \n",
       "2        113931.57       1  \n",
       "3         93826.63       0  \n",
       "4         79084.10       0  "
      ]
     },
     "execution_count": 6,
     "metadata": {},
     "output_type": "execute_result"
    }
   ],
   "source": [
    "df.head()"
   ]
  },
  {
   "cell_type": "code",
   "execution_count": 45,
   "metadata": {
    "colab": {
     "base_uri": "https://localhost:8080/",
     "height": 1000
    },
    "executionInfo": {
     "elapsed": 1417,
     "status": "ok",
     "timestamp": 1679696977657,
     "user": {
      "displayName": "Ludmila Rybalko",
      "userId": "01313176638513958393"
     },
     "user_tz": -60
    },
    "id": "pF7XdoatyAI-",
    "outputId": "b920fe20-9021-4be7-8b23-a68aafd91c77",
    "scrolled": false
   },
   "outputs": [
    {
     "name": "stdout",
     "output_type": "stream",
     "text": [
      "<class 'pandas.core.frame.DataFrame'>\n",
      "RangeIndex: 10000 entries, 0 to 9999\n",
      "Data columns (total 11 columns):\n",
      " #   Column            Non-Null Count  Dtype  \n",
      "---  ------            --------------  -----  \n",
      " 0   credit_score      10000 non-null  int16  \n",
      " 1   geography         10000 non-null  object \n",
      " 2   gender            10000 non-null  object \n",
      " 3   age               10000 non-null  int8   \n",
      " 4   tenure            10000 non-null  float32\n",
      " 5   balance           10000 non-null  float32\n",
      " 6   num_of_products   10000 non-null  int8   \n",
      " 7   has_cr_card       10000 non-null  int8   \n",
      " 8   is_active_member  10000 non-null  int8   \n",
      " 9   estimated_salary  10000 non-null  float32\n",
      " 10  exited            10000 non-null  int8   \n",
      "dtypes: float32(3), int16(1), int8(5), object(2)\n",
      "memory usage: 1.4 MB\n"
     ]
    },
    {
     "data": {
      "text/plain": [
       "None"
      ]
     },
     "metadata": {},
     "output_type": "display_data"
    },
    {
     "name": "stdout",
     "output_type": "stream",
     "text": [
      "\n",
      "\n",
      "\u001b[94m  \u001b[1m Distribution of data in numeric columns\n"
     ]
    },
    {
     "data": {
      "image/png": "[encoded data removed]",
      "text/plain": [
       "<Figure size 1008x576 with 16 Axes>"
      ]
     },
     "metadata": {},
     "output_type": "display_data"
    },
    {
     "name": "stdout",
     "output_type": "stream",
     "text": [
      "\n",
      "\n",
      "\u001b[94m  \u001b[1m  Statistic information  \n"
     ]
    },
    {
     "data": {
      "text/html": [
       "<div>\n",
       "<style scoped>\n",
       "    .dataframe tbody tr th:only-of-type {\n",
       "        vertical-align: middle;\n",
       "    }\n",
       "\n",
       "    .dataframe tbody tr th {\n",
       "        vertical-align: top;\n",
       "    }\n",
       "\n",
       "    .dataframe thead th {\n",
       "        text-align: right;\n",
       "    }\n",
       "</style>\n",
       "<table border=\"1\" class=\"dataframe\">\n",
       "  <thead>\n",
       "    <tr style=\"text-align: right;\">\n",
       "      <th></th>\n",
       "      <th>credit_score</th>\n",
       "      <th>age</th>\n",
       "      <th>tenure</th>\n",
       "      <th>balance</th>\n",
       "      <th>num_of_products</th>\n",
       "      <th>has_cr_card</th>\n",
       "      <th>is_active_member</th>\n",
       "      <th>estimated_salary</th>\n",
       "    </tr>\n",
       "  </thead>\n",
       "  <tbody>\n",
       "    <tr>\n",
       "      <th>count</th>\n",
       "      <td>10000.00</td>\n",
       "      <td>10000.00</td>\n",
       "      <td>10000.00</td>\n",
       "      <td>10000.00</td>\n",
       "      <td>10000.00</td>\n",
       "      <td>10000.00</td>\n",
       "      <td>10000.00</td>\n",
       "      <td>10000.00</td>\n",
       "    </tr>\n",
       "    <tr>\n",
       "      <th>mean</th>\n",
       "      <td>650.53</td>\n",
       "      <td>38.92</td>\n",
       "      <td>4.99</td>\n",
       "      <td>76485.89</td>\n",
       "      <td>1.53</td>\n",
       "      <td>0.71</td>\n",
       "      <td>0.52</td>\n",
       "      <td>100090.23</td>\n",
       "    </tr>\n",
       "    <tr>\n",
       "      <th>std</th>\n",
       "      <td>96.65</td>\n",
       "      <td>10.49</td>\n",
       "      <td>2.89</td>\n",
       "      <td>62397.41</td>\n",
       "      <td>0.58</td>\n",
       "      <td>0.46</td>\n",
       "      <td>0.50</td>\n",
       "      <td>57510.49</td>\n",
       "    </tr>\n",
       "    <tr>\n",
       "      <th>min</th>\n",
       "      <td>350.00</td>\n",
       "      <td>18.00</td>\n",
       "      <td>0.00</td>\n",
       "      <td>0.00</td>\n",
       "      <td>1.00</td>\n",
       "      <td>0.00</td>\n",
       "      <td>0.00</td>\n",
       "      <td>11.58</td>\n",
       "    </tr>\n",
       "    <tr>\n",
       "      <th>25%</th>\n",
       "      <td>584.00</td>\n",
       "      <td>32.00</td>\n",
       "      <td>2.00</td>\n",
       "      <td>0.00</td>\n",
       "      <td>1.00</td>\n",
       "      <td>0.00</td>\n",
       "      <td>0.00</td>\n",
       "      <td>51002.11</td>\n",
       "    </tr>\n",
       "    <tr>\n",
       "      <th>50%</th>\n",
       "      <td>652.00</td>\n",
       "      <td>37.00</td>\n",
       "      <td>5.00</td>\n",
       "      <td>97198.54</td>\n",
       "      <td>1.00</td>\n",
       "      <td>1.00</td>\n",
       "      <td>1.00</td>\n",
       "      <td>100193.91</td>\n",
       "    </tr>\n",
       "    <tr>\n",
       "      <th>75%</th>\n",
       "      <td>718.00</td>\n",
       "      <td>44.00</td>\n",
       "      <td>7.00</td>\n",
       "      <td>127644.24</td>\n",
       "      <td>2.00</td>\n",
       "      <td>1.00</td>\n",
       "      <td>1.00</td>\n",
       "      <td>149388.25</td>\n",
       "    </tr>\n",
       "    <tr>\n",
       "      <th>max</th>\n",
       "      <td>850.00</td>\n",
       "      <td>92.00</td>\n",
       "      <td>10.00</td>\n",
       "      <td>250898.09</td>\n",
       "      <td>4.00</td>\n",
       "      <td>1.00</td>\n",
       "      <td>1.00</td>\n",
       "      <td>199992.48</td>\n",
       "    </tr>\n",
       "  </tbody>\n",
       "</table>\n",
       "</div>"
      ],
      "text/plain": [
       "       credit_score       age    tenure    balance  num_of_products  \\\n",
       "count      10000.00  10000.00  10000.00   10000.00         10000.00   \n",
       "mean         650.53     38.92      4.99   76485.89             1.53   \n",
       "std           96.65     10.49      2.89   62397.41             0.58   \n",
       "min          350.00     18.00      0.00       0.00             1.00   \n",
       "25%          584.00     32.00      2.00       0.00             1.00   \n",
       "50%          652.00     37.00      5.00   97198.54             1.00   \n",
       "75%          718.00     44.00      7.00  127644.24             2.00   \n",
       "max          850.00     92.00     10.00  250898.09             4.00   \n",
       "\n",
       "       has_cr_card  is_active_member  estimated_salary  \n",
       "count     10000.00          10000.00          10000.00  \n",
       "mean          0.71              0.52         100090.23  \n",
       "std           0.46              0.50          57510.49  \n",
       "min           0.00              0.00             11.58  \n",
       "25%           0.00              0.00          51002.11  \n",
       "50%           1.00              1.00         100193.91  \n",
       "75%           1.00              1.00         149388.25  \n",
       "max           1.00              1.00         199992.48  "
      ]
     },
     "metadata": {},
     "output_type": "display_data"
    },
    {
     "data": {
      "text/html": [
       "<div>\n",
       "<style scoped>\n",
       "    .dataframe tbody tr th:only-of-type {\n",
       "        vertical-align: middle;\n",
       "    }\n",
       "\n",
       "    .dataframe tbody tr th {\n",
       "        vertical-align: top;\n",
       "    }\n",
       "\n",
       "    .dataframe thead th {\n",
       "        text-align: right;\n",
       "    }\n",
       "</style>\n",
       "<table border=\"1\" class=\"dataframe\">\n",
       "  <thead>\n",
       "    <tr style=\"text-align: right;\">\n",
       "      <th></th>\n",
       "      <th>exited</th>\n",
       "    </tr>\n",
       "  </thead>\n",
       "  <tbody>\n",
       "    <tr>\n",
       "      <th>count</th>\n",
       "      <td>10000.0</td>\n",
       "    </tr>\n",
       "    <tr>\n",
       "      <th>mean</th>\n",
       "      <td>0.2</td>\n",
       "    </tr>\n",
       "    <tr>\n",
       "      <th>std</th>\n",
       "      <td>0.4</td>\n",
       "    </tr>\n",
       "    <tr>\n",
       "      <th>min</th>\n",
       "      <td>0.0</td>\n",
       "    </tr>\n",
       "    <tr>\n",
       "      <th>25%</th>\n",
       "      <td>0.0</td>\n",
       "    </tr>\n",
       "    <tr>\n",
       "      <th>50%</th>\n",
       "      <td>0.0</td>\n",
       "    </tr>\n",
       "    <tr>\n",
       "      <th>75%</th>\n",
       "      <td>0.0</td>\n",
       "    </tr>\n",
       "    <tr>\n",
       "      <th>max</th>\n",
       "      <td>1.0</td>\n",
       "    </tr>\n",
       "  </tbody>\n",
       "</table>\n",
       "</div>"
      ],
      "text/plain": [
       "        exited\n",
       "count  10000.0\n",
       "mean       0.2\n",
       "std        0.4\n",
       "min        0.0\n",
       "25%        0.0\n",
       "50%        0.0\n",
       "75%        0.0\n",
       "max        1.0"
      ]
     },
     "metadata": {},
     "output_type": "display_data"
    },
    {
     "name": "stdout",
     "output_type": "stream",
     "text": [
      "\n"
     ]
    },
    {
     "data": {
      "text/html": [
       "<div>\n",
       "<style scoped>\n",
       "    .dataframe tbody tr th:only-of-type {\n",
       "        vertical-align: middle;\n",
       "    }\n",
       "\n",
       "    .dataframe tbody tr th {\n",
       "        vertical-align: top;\n",
       "    }\n",
       "\n",
       "    .dataframe thead th {\n",
       "        text-align: right;\n",
       "    }\n",
       "</style>\n",
       "<table border=\"1\" class=\"dataframe\">\n",
       "  <thead>\n",
       "    <tr style=\"text-align: right;\">\n",
       "      <th></th>\n",
       "      <th>geography</th>\n",
       "      <th>gender</th>\n",
       "    </tr>\n",
       "  </thead>\n",
       "  <tbody>\n",
       "    <tr>\n",
       "      <th>count</th>\n",
       "      <td>10000</td>\n",
       "      <td>10000</td>\n",
       "    </tr>\n",
       "    <tr>\n",
       "      <th>unique</th>\n",
       "      <td>3</td>\n",
       "      <td>2</td>\n",
       "    </tr>\n",
       "    <tr>\n",
       "      <th>top</th>\n",
       "      <td>France</td>\n",
       "      <td>Male</td>\n",
       "    </tr>\n",
       "    <tr>\n",
       "      <th>freq</th>\n",
       "      <td>5014</td>\n",
       "      <td>5457</td>\n",
       "    </tr>\n",
       "  </tbody>\n",
       "</table>\n",
       "</div>"
      ],
      "text/plain": [
       "       geography gender\n",
       "count      10000  10000\n",
       "unique         3      2\n",
       "top       France   Male\n",
       "freq        5014   5457"
      ]
     },
     "metadata": {},
     "output_type": "display_data"
    },
    {
     "name": "stdout",
     "output_type": "stream",
     "text": [
      "\n",
      "\n",
      "\u001b[94m  \u001b[1m      Missing values     \n"
     ]
    },
    {
     "data": {
      "text/html": [
       "<style  type=\"text/css\" >\n",
       "#T_bd8e0_row0_col0,#T_bd8e0_row0_col1,#T_bd8e0_row0_col2,#T_bd8e0_row1_col0,#T_bd8e0_row1_col1,#T_bd8e0_row1_col2,#T_bd8e0_row2_col0,#T_bd8e0_row2_col1,#T_bd8e0_row2_col2,#T_bd8e0_row3_col0,#T_bd8e0_row3_col1,#T_bd8e0_row3_col2,#T_bd8e0_row4_col0,#T_bd8e0_row4_col1,#T_bd8e0_row4_col2,#T_bd8e0_row5_col0,#T_bd8e0_row5_col1,#T_bd8e0_row5_col2,#T_bd8e0_row6_col0,#T_bd8e0_row6_col1,#T_bd8e0_row6_col2,#T_bd8e0_row7_col0,#T_bd8e0_row7_col1,#T_bd8e0_row7_col2,#T_bd8e0_row8_col0,#T_bd8e0_row8_col1,#T_bd8e0_row8_col2,#T_bd8e0_row9_col0,#T_bd8e0_row9_col1,#T_bd8e0_row9_col2,#T_bd8e0_row10_col0,#T_bd8e0_row10_col1,#T_bd8e0_row10_col2{\n",
       "            background-color:  #3b4cc0;\n",
       "            color:  #f1f1f1;\n",
       "        }</style><table id=\"T_bd8e0_\" ><thead>    <tr>        <th class=\"blank level0\" ></th>        <th class=\"col_heading level0 col0\" >miss_count</th>        <th class=\"col_heading level0 col1\" >miss_percent</th>        <th class=\"col_heading level0 col2\" >duplicates</th>    </tr></thead><tbody>\n",
       "                <tr>\n",
       "                        <th id=\"T_bd8e0_level0_row0\" class=\"row_heading level0 row0\" >credit_score</th>\n",
       "                        <td id=\"T_bd8e0_row0_col0\" class=\"data row0 col0\" >0</td>\n",
       "                        <td id=\"T_bd8e0_row0_col1\" class=\"data row0 col1\" >0.00</td>\n",
       "                        <td id=\"T_bd8e0_row0_col2\" class=\"data row0 col2\" >0</td>\n",
       "            </tr>\n",
       "            <tr>\n",
       "                        <th id=\"T_bd8e0_level0_row1\" class=\"row_heading level0 row1\" >geography</th>\n",
       "                        <td id=\"T_bd8e0_row1_col0\" class=\"data row1 col0\" >0</td>\n",
       "                        <td id=\"T_bd8e0_row1_col1\" class=\"data row1 col1\" >0.00</td>\n",
       "                        <td id=\"T_bd8e0_row1_col2\" class=\"data row1 col2\" >0</td>\n",
       "            </tr>\n",
       "            <tr>\n",
       "                        <th id=\"T_bd8e0_level0_row2\" class=\"row_heading level0 row2\" >gender</th>\n",
       "                        <td id=\"T_bd8e0_row2_col0\" class=\"data row2 col0\" >0</td>\n",
       "                        <td id=\"T_bd8e0_row2_col1\" class=\"data row2 col1\" >0.00</td>\n",
       "                        <td id=\"T_bd8e0_row2_col2\" class=\"data row2 col2\" >0</td>\n",
       "            </tr>\n",
       "            <tr>\n",
       "                        <th id=\"T_bd8e0_level0_row3\" class=\"row_heading level0 row3\" >age</th>\n",
       "                        <td id=\"T_bd8e0_row3_col0\" class=\"data row3 col0\" >0</td>\n",
       "                        <td id=\"T_bd8e0_row3_col1\" class=\"data row3 col1\" >0.00</td>\n",
       "                        <td id=\"T_bd8e0_row3_col2\" class=\"data row3 col2\" >0</td>\n",
       "            </tr>\n",
       "            <tr>\n",
       "                        <th id=\"T_bd8e0_level0_row4\" class=\"row_heading level0 row4\" >tenure</th>\n",
       "                        <td id=\"T_bd8e0_row4_col0\" class=\"data row4 col0\" >0</td>\n",
       "                        <td id=\"T_bd8e0_row4_col1\" class=\"data row4 col1\" >0.00</td>\n",
       "                        <td id=\"T_bd8e0_row4_col2\" class=\"data row4 col2\" >0</td>\n",
       "            </tr>\n",
       "            <tr>\n",
       "                        <th id=\"T_bd8e0_level0_row5\" class=\"row_heading level0 row5\" >balance</th>\n",
       "                        <td id=\"T_bd8e0_row5_col0\" class=\"data row5 col0\" >0</td>\n",
       "                        <td id=\"T_bd8e0_row5_col1\" class=\"data row5 col1\" >0.00</td>\n",
       "                        <td id=\"T_bd8e0_row5_col2\" class=\"data row5 col2\" >0</td>\n",
       "            </tr>\n",
       "            <tr>\n",
       "                        <th id=\"T_bd8e0_level0_row6\" class=\"row_heading level0 row6\" >num_of_products</th>\n",
       "                        <td id=\"T_bd8e0_row6_col0\" class=\"data row6 col0\" >0</td>\n",
       "                        <td id=\"T_bd8e0_row6_col1\" class=\"data row6 col1\" >0.00</td>\n",
       "                        <td id=\"T_bd8e0_row6_col2\" class=\"data row6 col2\" >0</td>\n",
       "            </tr>\n",
       "            <tr>\n",
       "                        <th id=\"T_bd8e0_level0_row7\" class=\"row_heading level0 row7\" >has_cr_card</th>\n",
       "                        <td id=\"T_bd8e0_row7_col0\" class=\"data row7 col0\" >0</td>\n",
       "                        <td id=\"T_bd8e0_row7_col1\" class=\"data row7 col1\" >0.00</td>\n",
       "                        <td id=\"T_bd8e0_row7_col2\" class=\"data row7 col2\" >0</td>\n",
       "            </tr>\n",
       "            <tr>\n",
       "                        <th id=\"T_bd8e0_level0_row8\" class=\"row_heading level0 row8\" >is_active_member</th>\n",
       "                        <td id=\"T_bd8e0_row8_col0\" class=\"data row8 col0\" >0</td>\n",
       "                        <td id=\"T_bd8e0_row8_col1\" class=\"data row8 col1\" >0.00</td>\n",
       "                        <td id=\"T_bd8e0_row8_col2\" class=\"data row8 col2\" >0</td>\n",
       "            </tr>\n",
       "            <tr>\n",
       "                        <th id=\"T_bd8e0_level0_row9\" class=\"row_heading level0 row9\" >estimated_salary</th>\n",
       "                        <td id=\"T_bd8e0_row9_col0\" class=\"data row9 col0\" >0</td>\n",
       "                        <td id=\"T_bd8e0_row9_col1\" class=\"data row9 col1\" >0.00</td>\n",
       "                        <td id=\"T_bd8e0_row9_col2\" class=\"data row9 col2\" >0</td>\n",
       "            </tr>\n",
       "            <tr>\n",
       "                        <th id=\"T_bd8e0_level0_row10\" class=\"row_heading level0 row10\" >exited</th>\n",
       "                        <td id=\"T_bd8e0_row10_col0\" class=\"data row10 col0\" >0</td>\n",
       "                        <td id=\"T_bd8e0_row10_col1\" class=\"data row10 col1\" >0.00</td>\n",
       "                        <td id=\"T_bd8e0_row10_col2\" class=\"data row10 col2\" >0</td>\n",
       "            </tr>\n",
       "    </tbody></table>"
      ],
      "text/plain": [
       "<pandas.io.formats.style.Styler at 0x7f2e954f25e0>"
      ]
     },
     "metadata": {},
     "output_type": "display_data"
    },
    {
     "name": "stdout",
     "output_type": "stream",
     "text": [
      "\n",
      "\n",
      "\u001b[94m  \u001b[1m       Correlation       \n"
     ]
    },
    {
     "data": {
      "image/png": "[encoded data removed]",
      "text/plain": [
       "<Figure size 1152x1008 with 2 Axes>"
      ]
     },
     "metadata": {},
     "output_type": "display_data"
    }
   ],
   "source": [
    "df_info(df)"
   ]
  },
  {
   "attachments": {},
   "cell_type": "markdown",
   "metadata": {
    "id": "IcRNEK_MYgwV"
   },
   "source": [
    "### Вывод\n",
    "\n",
    "Данные распределены не нормально, это следует учитывать при применении некоторых методов и функций. Целевой признак `excited` - бинарный, будущая модель будет решать задачу бинарной классификации. Для построения модели необходимо категориальные столбцы конвертировать с числовой тип и применить масштабирование для числовых столбцов. Так же отметим несбалансированность в бинарном столбце `has_cr_card`. В некоторых столбцах присутствуют всплески или аномальные значения и выбросы. В столбце `tenure` имеются пропущенные значения, которые требуется обработать. Явных дубликатов не обнаружено. Корреляция целевого признака с признаками - слабая или очень слабая. "
   ]
  },
  {
   "attachments": {},
   "cell_type": "markdown",
   "metadata": {
    "id": "vSkerdAgCy0I"
   },
   "source": [
    "## 2 Подготовка данных"
   ]
  },
  {
   "cell_type": "code",
   "execution_count": 8,
   "metadata": {
    "colab": {
     "base_uri": "https://localhost:8080/"
    },
    "executionInfo": {
     "elapsed": 9,
     "status": "ok",
     "timestamp": 1679696977658,
     "user": {
      "displayName": "Ludmila Rybalko",
      "userId": "01313176638513958393"
     },
     "user_tz": -60
    },
    "id": "IDwOPlRCG2vS",
    "outputId": "c3d2ecfe-b075-4f26-d79e-af34829d6dee"
   },
   "outputs": [
    {
     "name": "stdout",
     "output_type": "stream",
     "text": [
      "10000\n"
     ]
    },
    {
     "data": {
      "text/plain": [
       "10000"
      ]
     },
     "execution_count": 8,
     "metadata": {},
     "output_type": "execute_result"
    }
   ],
   "source": [
    "# check the unique ids\n",
    "print(len(df))\n",
    "df.customer_id.nunique()"
   ]
  },
  {
   "cell_type": "code",
   "execution_count": 9,
   "metadata": {
    "executionInfo": {
     "elapsed": 5,
     "status": "ok",
     "timestamp": 1679696977659,
     "user": {
      "displayName": "Ludmila Rybalko",
      "userId": "01313176638513958393"
     },
     "user_tz": -60
    },
    "id": "UQtb0kKhPlRz"
   },
   "outputs": [],
   "source": [
    "# remove usless features\n",
    "df.drop({\"row_number\", \"customer_id\", \"surname\"}, \n",
    "        axis=1, inplace=True)"
   ]
  },
  {
   "cell_type": "code",
   "execution_count": 10,
   "metadata": {
    "executionInfo": {
     "elapsed": 367,
     "status": "ok",
     "timestamp": 1679696978021,
     "user": {
      "displayName": "Ludmila Rybalko",
      "userId": "01313176638513958393"
     },
     "user_tz": -60
    },
    "id": "CN-4QXpuYHAN"
   },
   "outputs": [],
   "source": [
    "# fill empty slots \n",
    "df.fillna(method=\"ffill\", inplace=True)"
   ]
  },
  {
   "cell_type": "code",
   "execution_count": 11,
   "metadata": {
    "colab": {
     "base_uri": "https://localhost:8080/",
     "height": 296
    },
    "executionInfo": {
     "elapsed": 32,
     "status": "ok",
     "timestamp": 1679696978022,
     "user": {
      "displayName": "Ludmila Rybalko",
      "userId": "01313176638513958393"
     },
     "user_tz": -60
    },
    "id": "60x0lIasa1cD",
    "outputId": "050f8864-a9b8-48df-9671-60633ff41e8e"
   },
   "outputs": [
    {
     "name": "stdout",
     "output_type": "stream",
     "text": [
      "0\n"
     ]
    },
    {
     "data": {
      "image/png": "[encoded data removed]",
      "text/plain": [
       "<Figure size 432x288 with 1 Axes>"
      ]
     },
     "metadata": {
      "needs_background": "light"
     },
     "output_type": "display_data"
    }
   ],
   "source": [
    "# check NaN-values and distribution \n",
    "print(df.tenure.isna().sum())\n",
    "sns.histplot(df.tenure, kde=True)\n",
    "plt.show()"
   ]
  },
  {
   "cell_type": "code",
   "execution_count": 12,
   "metadata": {
    "executionInfo": {
     "elapsed": 29,
     "status": "ok",
     "timestamp": 1679696978023,
     "user": {
      "displayName": "Ludmila Rybalko",
      "userId": "01313176638513958393"
     },
     "user_tz": -60
    },
    "id": "bFQUR43h1hBO"
   },
   "outputs": [],
   "source": [
    "# change types of numeric columns \n",
    "for name in df.select_dtypes(\"number\").columns:\n",
    "    if df[name].dtype == \"int\":\n",
    "        df[name] = pd.to_numeric(df[name], downcast=\"integer\")\n",
    "    else:\n",
    "        df[name] = pd.to_numeric(df[name], downcast=\"float\")"
   ]
  },
  {
   "cell_type": "code",
   "execution_count": 13,
   "metadata": {
    "colab": {
     "base_uri": "https://localhost:8080/"
    },
    "executionInfo": {
     "elapsed": 30,
     "status": "ok",
     "timestamp": 1679696978024,
     "user": {
      "displayName": "Ludmila Rybalko",
      "userId": "01313176638513958393"
     },
     "user_tz": -60
    },
    "id": "VByKQoJq1n3W",
    "outputId": "610a85a9-426b-4bea-c04c-90a602d5a0ca"
   },
   "outputs": [
    {
     "data": {
      "text/plain": [
       "credit_score         460\n",
       "geography              3\n",
       "gender                 2\n",
       "age                   70\n",
       "tenure                11\n",
       "balance             6382\n",
       "num_of_products        4\n",
       "has_cr_card            2\n",
       "is_active_member       2\n",
       "estimated_salary    9999\n",
       "dtype: int64"
      ]
     },
     "execution_count": 13,
     "metadata": {},
     "output_type": "execute_result"
    }
   ],
   "source": [
    "# check the number of unqiue values without target\n",
    "num_uniq = df.nunique()[:-1]\n",
    "num_uniq"
   ]
  },
  {
   "cell_type": "code",
   "execution_count": 14,
   "metadata": {
    "executionInfo": {
     "elapsed": 26,
     "status": "ok",
     "timestamp": 1679696978025,
     "user": {
      "displayName": "Ludmila Rybalko",
      "userId": "01313176638513958393"
     },
     "user_tz": -60
    },
    "id": "njuB2tDPRKiF"
   },
   "outputs": [],
   "source": [
    "# remove the binary columns\n",
    "num_uniq.drop([\"has_cr_card\",\"is_active_member\"], inplace=True)"
   ]
  },
  {
   "cell_type": "code",
   "execution_count": 15,
   "metadata": {
    "colab": {
     "base_uri": "https://localhost:8080/"
    },
    "executionInfo": {
     "elapsed": 27,
     "status": "ok",
     "timestamp": 1679696978026,
     "user": {
      "displayName": "Ludmila Rybalko",
      "userId": "01313176638513958393"
     },
     "user_tz": -60
    },
    "id": "HUhZUItUTnCn",
    "outputId": "ce95defd-f561-49cb-bc50-6815cfb09078"
   },
   "outputs": [
    {
     "name": "stdout",
     "output_type": "stream",
     "text": [
      "[(4000, 10), (4000,), (3000, 10), (3000,), (3000, 10), (3000,)]\n"
     ]
    }
   ],
   "source": [
    "# for OneHotEncoder split data into 3 samples with helps special function\n",
    "X_train, y_train, X_valid, y_valid, X_test, y_test = (\n",
    "        train_valid_test(df, \"exited\"))\n",
    "print([i.shape for i in [X_train, y_train, X_valid, y_valid, X_test, y_test]])"
   ]
  },
  {
   "cell_type": "code",
   "execution_count": 16,
   "metadata": {
    "colab": {
     "base_uri": "https://localhost:8080/",
     "height": 206
    },
    "executionInfo": {
     "elapsed": 24,
     "status": "ok",
     "timestamp": 1679696978027,
     "user": {
      "displayName": "Ludmila Rybalko",
      "userId": "01313176638513958393"
     },
     "user_tz": -60
    },
    "id": "5E6o18eXEFBE",
    "outputId": "b471b4e4-729b-4036-e34b-96304f32174a"
   },
   "outputs": [
    {
     "data": {
      "text/html": [
       "<div>\n",
       "<style scoped>\n",
       "    .dataframe tbody tr th:only-of-type {\n",
       "        vertical-align: middle;\n",
       "    }\n",
       "\n",
       "    .dataframe tbody tr th {\n",
       "        vertical-align: top;\n",
       "    }\n",
       "\n",
       "    .dataframe thead th {\n",
       "        text-align: right;\n",
       "    }\n",
       "</style>\n",
       "<table border=\"1\" class=\"dataframe\">\n",
       "  <thead>\n",
       "    <tr style=\"text-align: right;\">\n",
       "      <th></th>\n",
       "      <th>credit_score</th>\n",
       "      <th>geography</th>\n",
       "      <th>gender</th>\n",
       "      <th>age</th>\n",
       "      <th>tenure</th>\n",
       "      <th>balance</th>\n",
       "      <th>num_of_products</th>\n",
       "      <th>has_cr_card</th>\n",
       "      <th>is_active_member</th>\n",
       "      <th>estimated_salary</th>\n",
       "    </tr>\n",
       "  </thead>\n",
       "  <tbody>\n",
       "    <tr>\n",
       "      <th>829</th>\n",
       "      <td>577</td>\n",
       "      <td>France</td>\n",
       "      <td>Female</td>\n",
       "      <td>39</td>\n",
       "      <td>10.0</td>\n",
       "      <td>0.000000</td>\n",
       "      <td>2</td>\n",
       "      <td>1</td>\n",
       "      <td>0</td>\n",
       "      <td>10553.309570</td>\n",
       "    </tr>\n",
       "    <tr>\n",
       "      <th>5937</th>\n",
       "      <td>740</td>\n",
       "      <td>Spain</td>\n",
       "      <td>Female</td>\n",
       "      <td>31</td>\n",
       "      <td>8.0</td>\n",
       "      <td>0.000000</td>\n",
       "      <td>2</td>\n",
       "      <td>0</td>\n",
       "      <td>0</td>\n",
       "      <td>86657.476562</td>\n",
       "    </tr>\n",
       "    <tr>\n",
       "      <th>4905</th>\n",
       "      <td>590</td>\n",
       "      <td>Spain</td>\n",
       "      <td>Male</td>\n",
       "      <td>30</td>\n",
       "      <td>7.0</td>\n",
       "      <td>0.000000</td>\n",
       "      <td>2</td>\n",
       "      <td>1</td>\n",
       "      <td>0</td>\n",
       "      <td>83090.351562</td>\n",
       "    </tr>\n",
       "    <tr>\n",
       "      <th>9413</th>\n",
       "      <td>751</td>\n",
       "      <td>France</td>\n",
       "      <td>Female</td>\n",
       "      <td>44</td>\n",
       "      <td>10.0</td>\n",
       "      <td>0.000000</td>\n",
       "      <td>2</td>\n",
       "      <td>1</td>\n",
       "      <td>0</td>\n",
       "      <td>170634.484375</td>\n",
       "    </tr>\n",
       "    <tr>\n",
       "      <th>4953</th>\n",
       "      <td>629</td>\n",
       "      <td>Spain</td>\n",
       "      <td>Male</td>\n",
       "      <td>34</td>\n",
       "      <td>1.0</td>\n",
       "      <td>121151.046875</td>\n",
       "      <td>1</td>\n",
       "      <td>0</td>\n",
       "      <td>0</td>\n",
       "      <td>119357.929688</td>\n",
       "    </tr>\n",
       "  </tbody>\n",
       "</table>\n",
       "</div>"
      ],
      "text/plain": [
       "      credit_score geography  gender  age  tenure        balance  \\\n",
       "829            577    France  Female   39    10.0       0.000000   \n",
       "5937           740     Spain  Female   31     8.0       0.000000   \n",
       "4905           590     Spain    Male   30     7.0       0.000000   \n",
       "9413           751    France  Female   44    10.0       0.000000   \n",
       "4953           629     Spain    Male   34     1.0  121151.046875   \n",
       "\n",
       "      num_of_products  has_cr_card  is_active_member  estimated_salary  \n",
       "829                 2            1                 0      10553.309570  \n",
       "5937                2            0                 0      86657.476562  \n",
       "4905                2            1                 0      83090.351562  \n",
       "9413                2            1                 0     170634.484375  \n",
       "4953                1            0                 0     119357.929688  "
      ]
     },
     "execution_count": 16,
     "metadata": {},
     "output_type": "execute_result"
    }
   ],
   "source": [
    "# look at the dataset\n",
    "X_train.head()"
   ]
  },
  {
   "cell_type": "code",
   "execution_count": 17,
   "metadata": {
    "executionInfo": {
     "elapsed": 23,
     "status": "ok",
     "timestamp": 1679696978028,
     "user": {
      "displayName": "Ludmila Rybalko",
      "userId": "01313176638513958393"
     },
     "user_tz": -60
    },
    "id": "RcEhl9CJvVyE"
   },
   "outputs": [],
   "source": [
    "# merge OHE-method and scaler \n",
    "ohe_scale = make_column_transformer(\n",
    "    (OneHotEncoder(drop=\"first\", dtype=\"int8\", sparse_output=False), \n",
    "    num_uniq[num_uniq < 12].index),\n",
    "    (RobustScaler(), num_uniq[(num_uniq > 12)].index),\n",
    "    remainder=\"passthrough\",\n",
    "    verbose_feature_names_out=False\n",
    ")\n",
    "# output is dataframe\n",
    "ohe_scale.set_output(transform=\"pandas\")\n",
    "# apply method\n",
    "X_train = ohe_scale.fit_transform(X_train)"
   ]
  },
  {
   "cell_type": "code",
   "execution_count": 18,
   "metadata": {
    "colab": {
     "base_uri": "https://localhost:8080/",
     "height": 237
    },
    "executionInfo": {
     "elapsed": 24,
     "status": "ok",
     "timestamp": 1679696978029,
     "user": {
      "displayName": "Ludmila Rybalko",
      "userId": "01313176638513958393"
     },
     "user_tz": -60
    },
    "id": "DxHUJNWJS8j0",
    "outputId": "d3ca35ce-e835-4a7e-8021-9f0124e2a67e"
   },
   "outputs": [
    {
     "data": {
      "text/html": [
       "<div>\n",
       "<style scoped>\n",
       "    .dataframe tbody tr th:only-of-type {\n",
       "        vertical-align: middle;\n",
       "    }\n",
       "\n",
       "    .dataframe tbody tr th {\n",
       "        vertical-align: top;\n",
       "    }\n",
       "\n",
       "    .dataframe thead th {\n",
       "        text-align: right;\n",
       "    }\n",
       "</style>\n",
       "<table border=\"1\" class=\"dataframe\">\n",
       "  <thead>\n",
       "    <tr style=\"text-align: right;\">\n",
       "      <th></th>\n",
       "      <th>geography_Germany</th>\n",
       "      <th>geography_Spain</th>\n",
       "      <th>gender_Male</th>\n",
       "      <th>tenure_1.0</th>\n",
       "      <th>tenure_2.0</th>\n",
       "      <th>tenure_3.0</th>\n",
       "      <th>tenure_4.0</th>\n",
       "      <th>tenure_5.0</th>\n",
       "      <th>tenure_6.0</th>\n",
       "      <th>tenure_7.0</th>\n",
       "      <th>...</th>\n",
       "      <th>tenure_10.0</th>\n",
       "      <th>num_of_products_2</th>\n",
       "      <th>num_of_products_3</th>\n",
       "      <th>num_of_products_4</th>\n",
       "      <th>credit_score</th>\n",
       "      <th>age</th>\n",
       "      <th>balance</th>\n",
       "      <th>estimated_salary</th>\n",
       "      <th>has_cr_card</th>\n",
       "      <th>is_active_member</th>\n",
       "    </tr>\n",
       "  </thead>\n",
       "  <tbody>\n",
       "    <tr>\n",
       "      <th>829</th>\n",
       "      <td>0</td>\n",
       "      <td>0</td>\n",
       "      <td>0</td>\n",
       "      <td>0</td>\n",
       "      <td>0</td>\n",
       "      <td>0</td>\n",
       "      <td>0</td>\n",
       "      <td>0</td>\n",
       "      <td>0</td>\n",
       "      <td>0</td>\n",
       "      <td>...</td>\n",
       "      <td>1</td>\n",
       "      <td>1</td>\n",
       "      <td>0</td>\n",
       "      <td>0</td>\n",
       "      <td>-0.567669</td>\n",
       "      <td>0.166667</td>\n",
       "      <td>-0.753689</td>\n",
       "      <td>-0.910129</td>\n",
       "      <td>1</td>\n",
       "      <td>0</td>\n",
       "    </tr>\n",
       "    <tr>\n",
       "      <th>5937</th>\n",
       "      <td>0</td>\n",
       "      <td>1</td>\n",
       "      <td>0</td>\n",
       "      <td>0</td>\n",
       "      <td>0</td>\n",
       "      <td>0</td>\n",
       "      <td>0</td>\n",
       "      <td>0</td>\n",
       "      <td>0</td>\n",
       "      <td>0</td>\n",
       "      <td>...</td>\n",
       "      <td>0</td>\n",
       "      <td>1</td>\n",
       "      <td>0</td>\n",
       "      <td>0</td>\n",
       "      <td>0.657895</td>\n",
       "      <td>-0.500000</td>\n",
       "      <td>-0.753689</td>\n",
       "      <td>-0.132279</td>\n",
       "      <td>0</td>\n",
       "      <td>0</td>\n",
       "    </tr>\n",
       "    <tr>\n",
       "      <th>4905</th>\n",
       "      <td>0</td>\n",
       "      <td>1</td>\n",
       "      <td>1</td>\n",
       "      <td>0</td>\n",
       "      <td>0</td>\n",
       "      <td>0</td>\n",
       "      <td>0</td>\n",
       "      <td>0</td>\n",
       "      <td>0</td>\n",
       "      <td>1</td>\n",
       "      <td>...</td>\n",
       "      <td>0</td>\n",
       "      <td>1</td>\n",
       "      <td>0</td>\n",
       "      <td>0</td>\n",
       "      <td>-0.469925</td>\n",
       "      <td>-0.583333</td>\n",
       "      <td>-0.753689</td>\n",
       "      <td>-0.168738</td>\n",
       "      <td>1</td>\n",
       "      <td>0</td>\n",
       "    </tr>\n",
       "  </tbody>\n",
       "</table>\n",
       "<p>3 rows × 22 columns</p>\n",
       "</div>"
      ],
      "text/plain": [
       "      geography_Germany  geography_Spain  gender_Male  tenure_1.0  tenure_2.0  \\\n",
       "829                   0                0            0           0           0   \n",
       "5937                  0                1            0           0           0   \n",
       "4905                  0                1            1           0           0   \n",
       "\n",
       "      tenure_3.0  tenure_4.0  tenure_5.0  tenure_6.0  tenure_7.0  ...  \\\n",
       "829            0           0           0           0           0  ...   \n",
       "5937           0           0           0           0           0  ...   \n",
       "4905           0           0           0           0           1  ...   \n",
       "\n",
       "      tenure_10.0  num_of_products_2  num_of_products_3  num_of_products_4  \\\n",
       "829             1                  1                  0                  0   \n",
       "5937            0                  1                  0                  0   \n",
       "4905            0                  1                  0                  0   \n",
       "\n",
       "      credit_score       age   balance  estimated_salary  has_cr_card  \\\n",
       "829      -0.567669  0.166667 -0.753689         -0.910129            1   \n",
       "5937      0.657895 -0.500000 -0.753689         -0.132279            0   \n",
       "4905     -0.469925 -0.583333 -0.753689         -0.168738            1   \n",
       "\n",
       "      is_active_member  \n",
       "829                  0  \n",
       "5937                 0  \n",
       "4905                 0  \n",
       "\n",
       "[3 rows x 22 columns]"
      ]
     },
     "execution_count": 18,
     "metadata": {},
     "output_type": "execute_result"
    }
   ],
   "source": [
    "# look at fist fove rows\n",
    "X_train.head(3)"
   ]
  },
  {
   "attachments": {},
   "cell_type": "markdown",
   "metadata": {
    "id": "Sb00B3JAYdkv"
   },
   "source": [
    "### Вывод\n",
    "Столбцы surname, `row_num`, `customer_id` и `surname` были удалены как бесполезные признаки для будущей модели. Пропущенные значения были заполнены по принципу использования предыдущего значения для сохранения формы распределения. Изменены типы значений столбцов. Датасет разделен на три части: тренировочную, валидационную и тестовую. Для тестовой выборки проведены масштабирование и перевод значений в бинарный тип."
   ]
  },
  {
   "attachments": {},
   "cell_type": "markdown",
   "metadata": {
    "id": "ZLOQWOkL6FWC"
   },
   "source": [
    "## 3 Баланс классов"
   ]
  },
  {
   "cell_type": "code",
   "execution_count": 19,
   "metadata": {
    "executionInfo": {
     "elapsed": 23,
     "status": "ok",
     "timestamp": 1679696978030,
     "user": {
      "displayName": "Ludmila Rybalko",
      "userId": "01313176638513958393"
     },
     "user_tz": -60
    },
    "id": "Vw8wzQNWl098"
   },
   "outputs": [],
   "source": [
    "# create a new dataframe with binary columns\n",
    "binary = X_train.loc[:, X_train.isin([0,1]).all()]"
   ]
  },
  {
   "cell_type": "code",
   "execution_count": 20,
   "metadata": {
    "colab": {
     "base_uri": "https://localhost:8080/",
     "height": 604
    },
    "executionInfo": {
     "elapsed": 3026,
     "status": "ok",
     "timestamp": 1679696981033,
     "user": {
      "displayName": "Ludmila Rybalko",
      "userId": "01313176638513958393"
     },
     "user_tz": -60
    },
    "id": "G9GcEIA-lQ8H",
    "outputId": "3a066d31-5aa4-4db8-8901-ea3c12c3f806"
   },
   "outputs": [
    {
     "data": {
      "image/png": "[encoded data removed]",
      "text/plain": [
       "<Figure size 1152x720 with 20 Axes>"
      ]
     },
     "metadata": {
      "needs_background": "light"
     },
     "output_type": "display_data"
    }
   ],
   "source": [
    "# show distribution of value in binary columns\n",
    "fig, axs = plt.subplots(round(len(binary.columns)/5), 5, figsize=(16, 10), \n",
    "                        sharex=True)\n",
    "for i, ax in enumerate(axs.flat):\n",
    "    try:\n",
    "        binary.iloc[:, i].value_counts(normalize=True).plot(kind=\"bar\", ax=ax)\n",
    "        ax.set_title(binary.iloc[:, i].name)\n",
    "    except:\n",
    "        ax.set_axis_off()\n",
    "plt.show()"
   ]
  },
  {
   "cell_type": "code",
   "execution_count": 21,
   "metadata": {
    "colab": {
     "base_uri": "https://localhost:8080/",
     "height": 613
    },
    "executionInfo": {
     "elapsed": 15,
     "status": "ok",
     "timestamp": 1679696981035,
     "user": {
      "displayName": "Ludmila Rybalko",
      "userId": "01313176638513958393"
     },
     "user_tz": -60
    },
    "id": "6OsjzZ7RluNq",
    "outputId": "4e87bbbe-0f17-4227-97a4-0c2581f842c4"
   },
   "outputs": [
    {
     "data": {
      "text/html": [
       "<style  type=\"text/css\" >\n",
       "#T_a4a10_row0_col0{\n",
       "            background-color:  #aec9fc;\n",
       "            color:  #000000;\n",
       "        }#T_a4a10_row1_col0{\n",
       "            background-color:  #b1cbfc;\n",
       "            color:  #000000;\n",
       "        }#T_a4a10_row2_col0{\n",
       "            background-color:  #f08b6e;\n",
       "            color:  #000000;\n",
       "        }#T_a4a10_row3_col0,#T_a4a10_row5_col0,#T_a4a10_row9_col0{\n",
       "            background-color:  #6687ed;\n",
       "            color:  #000000;\n",
       "        }#T_a4a10_row4_col0{\n",
       "            background-color:  #6a8bef;\n",
       "            color:  #000000;\n",
       "        }#T_a4a10_row6_col0,#T_a4a10_row10_col0{\n",
       "            background-color:  #6485ec;\n",
       "            color:  #000000;\n",
       "        }#T_a4a10_row7_col0{\n",
       "            background-color:  #6788ee;\n",
       "            color:  #000000;\n",
       "        }#T_a4a10_row8_col0{\n",
       "            background-color:  #5f7fe8;\n",
       "            color:  #000000;\n",
       "        }#T_a4a10_row11_col0{\n",
       "            background-color:  #6384eb;\n",
       "            color:  #000000;\n",
       "        }#T_a4a10_row12_col0{\n",
       "            background-color:  #4b64d5;\n",
       "            color:  #f1f1f1;\n",
       "        }#T_a4a10_row13_col0{\n",
       "            background-color:  #f7bca1;\n",
       "            color:  #000000;\n",
       "        }#T_a4a10_row14_col0{\n",
       "            background-color:  #445acc;\n",
       "            color:  #f1f1f1;\n",
       "        }#T_a4a10_row15_col0{\n",
       "            background-color:  #3b4cc0;\n",
       "            color:  #f1f1f1;\n",
       "        }#T_a4a10_row16_col0{\n",
       "            background-color:  #b40426;\n",
       "            color:  #f1f1f1;\n",
       "        }#T_a4a10_row17_col0{\n",
       "            background-color:  #f59f80;\n",
       "            color:  #000000;\n",
       "        }</style><table id=\"T_a4a10_\" ><thead>    <tr>        <th class=\"blank level0\" ></th>        <th class=\"col_heading level0 col0\" >0</th>    </tr></thead><tbody>\n",
       "                <tr>\n",
       "                        <th id=\"T_a4a10_level0_row0\" class=\"row_heading level0 row0\" >geography_Germany</th>\n",
       "                        <td id=\"T_a4a10_row0_col0\" class=\"data row0 col0\" >0.246750</td>\n",
       "            </tr>\n",
       "            <tr>\n",
       "                        <th id=\"T_a4a10_level0_row1\" class=\"row_heading level0 row1\" >geography_Spain</th>\n",
       "                        <td id=\"T_a4a10_row1_col0\" class=\"data row1 col0\" >0.251250</td>\n",
       "            </tr>\n",
       "            <tr>\n",
       "                        <th id=\"T_a4a10_level0_row2\" class=\"row_heading level0 row2\" >gender_Male</th>\n",
       "                        <td id=\"T_a4a10_row2_col0\" class=\"data row2 col0\" >0.552500</td>\n",
       "            </tr>\n",
       "            <tr>\n",
       "                        <th id=\"T_a4a10_level0_row3\" class=\"row_heading level0 row3\" >tenure_1.0</th>\n",
       "                        <td id=\"T_a4a10_row3_col0\" class=\"data row3 col0\" >0.103750</td>\n",
       "            </tr>\n",
       "            <tr>\n",
       "                        <th id=\"T_a4a10_level0_row4\" class=\"row_heading level0 row4\" >tenure_2.0</th>\n",
       "                        <td id=\"T_a4a10_row4_col0\" class=\"data row4 col0\" >0.111250</td>\n",
       "            </tr>\n",
       "            <tr>\n",
       "                        <th id=\"T_a4a10_level0_row5\" class=\"row_heading level0 row5\" >tenure_3.0</th>\n",
       "                        <td id=\"T_a4a10_row5_col0\" class=\"data row5 col0\" >0.101500</td>\n",
       "            </tr>\n",
       "            <tr>\n",
       "                        <th id=\"T_a4a10_level0_row6\" class=\"row_heading level0 row6\" >tenure_4.0</th>\n",
       "                        <td id=\"T_a4a10_row6_col0\" class=\"data row6 col0\" >0.100500</td>\n",
       "            </tr>\n",
       "            <tr>\n",
       "                        <th id=\"T_a4a10_level0_row7\" class=\"row_heading level0 row7\" >tenure_5.0</th>\n",
       "                        <td id=\"T_a4a10_row7_col0\" class=\"data row7 col0\" >0.106250</td>\n",
       "            </tr>\n",
       "            <tr>\n",
       "                        <th id=\"T_a4a10_level0_row8\" class=\"row_heading level0 row8\" >tenure_6.0</th>\n",
       "                        <td id=\"T_a4a10_row8_col0\" class=\"data row8 col0\" >0.088500</td>\n",
       "            </tr>\n",
       "            <tr>\n",
       "                        <th id=\"T_a4a10_level0_row9\" class=\"row_heading level0 row9\" >tenure_7.0</th>\n",
       "                        <td id=\"T_a4a10_row9_col0\" class=\"data row9 col0\" >0.102500</td>\n",
       "            </tr>\n",
       "            <tr>\n",
       "                        <th id=\"T_a4a10_level0_row10\" class=\"row_heading level0 row10\" >tenure_8.0</th>\n",
       "                        <td id=\"T_a4a10_row10_col0\" class=\"data row10 col0\" >0.100500</td>\n",
       "            </tr>\n",
       "            <tr>\n",
       "                        <th id=\"T_a4a10_level0_row11\" class=\"row_heading level0 row11\" >tenure_9.0</th>\n",
       "                        <td id=\"T_a4a10_row11_col0\" class=\"data row11 col0\" >0.096750</td>\n",
       "            </tr>\n",
       "            <tr>\n",
       "                        <th id=\"T_a4a10_level0_row12\" class=\"row_heading level0 row12\" >tenure_10.0</th>\n",
       "                        <td id=\"T_a4a10_row12_col0\" class=\"data row12 col0\" >0.046500</td>\n",
       "            </tr>\n",
       "            <tr>\n",
       "                        <th id=\"T_a4a10_level0_row13\" class=\"row_heading level0 row13\" >num_of_products_2</th>\n",
       "                        <td id=\"T_a4a10_row13_col0\" class=\"data row13 col0\" >0.460750</td>\n",
       "            </tr>\n",
       "            <tr>\n",
       "                        <th id=\"T_a4a10_level0_row14\" class=\"row_heading level0 row14\" >num_of_products_3</th>\n",
       "                        <td id=\"T_a4a10_row14_col0\" class=\"data row14 col0\" >0.029750</td>\n",
       "            </tr>\n",
       "            <tr>\n",
       "                        <th id=\"T_a4a10_level0_row15\" class=\"row_heading level0 row15\" >num_of_products_4</th>\n",
       "                        <td id=\"T_a4a10_row15_col0\" class=\"data row15 col0\" >0.006250</td>\n",
       "            </tr>\n",
       "            <tr>\n",
       "                        <th id=\"T_a4a10_level0_row16\" class=\"row_heading level0 row16\" >has_cr_card</th>\n",
       "                        <td id=\"T_a4a10_row16_col0\" class=\"data row16 col0\" >0.702250</td>\n",
       "            </tr>\n",
       "            <tr>\n",
       "                        <th id=\"T_a4a10_level0_row17\" class=\"row_heading level0 row17\" >is_active_member</th>\n",
       "                        <td id=\"T_a4a10_row17_col0\" class=\"data row17 col0\" >0.518500</td>\n",
       "            </tr>\n",
       "    </tbody></table>"
      ],
      "text/plain": [
       "<pandas.io.formats.style.Styler at 0x7f2e97bbbb80>"
      ]
     },
     "execution_count": 21,
     "metadata": {},
     "output_type": "execute_result"
    }
   ],
   "source": [
    "# show share of units\n",
    "binary.mean().to_frame().style.background_gradient(\"coolwarm\")"
   ]
  },
  {
   "cell_type": "code",
   "execution_count": 22,
   "metadata": {
    "colab": {
     "base_uri": "https://localhost:8080/"
    },
    "executionInfo": {
     "elapsed": 765,
     "status": "ok",
     "timestamp": 1679696981788,
     "user": {
      "displayName": "Ludmila Rybalko",
      "userId": "01313176638513958393"
     },
     "user_tz": -60
    },
    "id": "5x74nMJV6YoF",
    "outputId": "d7b6f533-4ab2-4635-c1ca-e089b2174202"
   },
   "outputs": [
    {
     "name": "stdout",
     "output_type": "stream",
     "text": [
      "Accuracy: 0.86\n",
      "ROC-AUC: 0.85\n",
      "Confusion matrix:\n",
      " [[2307   82]\n",
      " [ 335  276]]\n",
      "Classification report:\n",
      "               precision    recall  f1-score   support\n",
      "\n",
      "           0       0.87      0.97      0.92      2389\n",
      "           1       0.77      0.45      0.57       611\n",
      "\n",
      "    accuracy                           0.86      3000\n",
      "   macro avg       0.82      0.71      0.74      3000\n",
      "weighted avg       0.85      0.86      0.85      3000\n",
      "\n"
     ]
    }
   ],
   "source": [
    "# model's score with imbalanced data\n",
    "baseline = RandomForestClassifier(random_state=RANDOM_STATE)\n",
    "baseline.fit(X_train, y_train)\n",
    "prediction = baseline.predict(ohe_scale.transform(X_valid))\n",
    "print(f\"Accuracy: {accuracy_score(y_valid, prediction):.2}\")\n",
    "print(f\"ROC-AUC: {roc_auc_score(y_valid, baseline.predict_proba(ohe_scale.transform(X_valid))[:, 1]):.2}\")\n",
    "print(\"Confusion matrix:\\n\", confusion_matrix(y_valid, prediction))\n",
    "print(\"Classification report:\\n\", classification_report(y_valid, prediction))"
   ]
  },
  {
   "cell_type": "code",
   "execution_count": 23,
   "metadata": {},
   "outputs": [
    {
     "data": {
      "image/png": "[encoded data removed]",
      "text/plain": [
       "<Figure size 432x432 with 1 Axes>"
      ]
     },
     "metadata": {
      "needs_background": "light"
     },
     "output_type": "display_data"
    }
   ],
   "source": [
    "fig, axs = plt.subplots(figsize=(6, 6))\n",
    "RocCurveDisplay.from_estimator(\n",
    "    baseline, ohe_scale.transform(X_valid), y_valid,\n",
    "    name=\"ROC\", color=\"darkred\",ax=axs\n",
    ")\n",
    "plt.plot([0, 1], [0, 1], \"k--\", label=\"chance level (AUC = 0.5)\")\n",
    "plt.title(\"ROC-curve for after OHE and Scale\")\n",
    "plt.legend()\n",
    "plt.show()"
   ]
  },
  {
   "cell_type": "code",
   "execution_count": 24,
   "metadata": {
    "executionInfo": {
     "elapsed": 13,
     "status": "ok",
     "timestamp": 1679696981789,
     "user": {
      "displayName": "Ludmila Rybalko",
      "userId": "01313176638513958393"
     },
     "user_tz": -60
    },
    "id": "vPW6Xj_z70dg"
   },
   "outputs": [],
   "source": [
    "# create a list for different upsampling methods \n",
    "over_sample = [RandomOverSampler(random_state=RANDOM_STATE), \n",
    "            SMOTE(random_state=RANDOM_STATE), \n",
    "            SMOTENC(random_state=RANDOM_STATE, \n",
    "                    categorical_features=X_train.columns\\\n",
    "                    .get_indexer(binary.columns)),\n",
    "            ADASYN(random_state=RANDOM_STATE), \n",
    "            BorderlineSMOTE(random_state=RANDOM_STATE), \n",
    "            SVMSMOTE(random_state=RANDOM_STATE)\n",
    "]"
   ]
  },
  {
   "cell_type": "code",
   "execution_count": 25,
   "metadata": {
    "executionInfo": {
     "elapsed": 11,
     "status": "ok",
     "timestamp": 1679696981790,
     "user": {
      "displayName": "Ludmila Rybalko",
      "userId": "01313176638513958393"
     },
     "user_tz": -60
    },
    "id": "yYTivod3hrSx"
   },
   "outputs": [],
   "source": [
    "# make cross-validation\n",
    "cross_v = StratifiedKFold(n_splits=10, shuffle=False)"
   ]
  },
  {
   "cell_type": "code",
   "execution_count": 26,
   "metadata": {
    "colab": {
     "base_uri": "https://localhost:8080/"
    },
    "executionInfo": {
     "elapsed": 76585,
     "status": "ok",
     "timestamp": 1679697058366,
     "user": {
      "displayName": "Ludmila Rybalko",
      "userId": "01313176638513958393"
     },
     "user_tz": -60
    },
    "id": "y3CG6mExoAob",
    "outputId": "2ca9ba18-19e0-4da6-b671-f00a005fe51f"
   },
   "outputs": [
    {
     "name": "stdout",
     "output_type": "stream",
     "text": [
      "RandomOverSampler =    0.58\n",
      "SMOTE =    0.57\n",
      "SMOTENC =    0.56\n",
      "ADASYN =    0.57\n",
      "BorderlineSMOTE =    0.57\n",
      "SVMSMOTE =    0.58\n"
     ]
    }
   ],
   "source": [
    "# choose the best method for oversampling\n",
    "result_ovs = []\n",
    "roc_ovs = []\n",
    "for myth in over_sample:\n",
    "    pip_ovs = make_pipeline(myth, \n",
    "                           RandomForestClassifier(random_state=RANDOM_STATE))\n",
    "    score_ovs = cross_val_score(pip_ovs, X_train, y_train, scoring=\"f1\", \n",
    "                               cv=cross_v)\n",
    "    y_pred_proba = cross_val_predict(pip_ovs, X_train, y_train, \n",
    "                                     cv=cross_v, method=\"predict_proba\")\n",
    "    # predicted probabilities of positive class\n",
    "    fpr, tpr, _ = roc_curve(y_train, y_pred_proba[:, 1])\n",
    "    roc_auc = auc(fpr, tpr)\n",
    "    roc_ovs.append((fpr, tpr, roc_auc))\n",
    "    result_ovs.append(score_ovs)\n",
    "    print(f'{str(myth).split(\"(\")[0]} =\\\n",
    "    {score_ovs.mean():.2}')"
   ]
  },
  {
   "cell_type": "code",
   "execution_count": 27,
   "metadata": {},
   "outputs": [
    {
     "data": {
      "image/png": "[encoded data removed]",
      "text/plain": [
       "<Figure size 576x576 with 1 Axes>"
      ]
     },
     "metadata": {
      "needs_background": "light"
     },
     "output_type": "display_data"
    }
   ],
   "source": [
    "plt.figure(figsize=(8, 8))\n",
    "plt.plot([0, 1], [0, 1], 'k--')\n",
    "for fpr, tpr, roc_auc in roc_ovs:\n",
    "    plt.plot(fpr, tpr, label='AUC = %0.2f' % roc_auc)\n",
    "plt.xlabel('False positive rate')\n",
    "plt.ylabel('True positive rate')\n",
    "plt.title('ROC curve')\n",
    "plt.legend(loc='best')\n",
    "plt.show()"
   ]
  },
  {
   "cell_type": "code",
   "execution_count": 28,
   "metadata": {},
   "outputs": [
    {
     "data": {
      "image/png": "[encoded data removed]",
      "text/plain": [
       "<Figure size 432x288 with 1 Axes>"
      ]
     },
     "metadata": {
      "needs_background": "light"
     },
     "output_type": "display_data"
    }
   ],
   "source": [
    "# show spreading f1-score \n",
    "plt.boxplot(result_ovs, \n",
    "            labels=[\"ROS\", \"SMOTE\", \"SMOTESN\", \"ADA\", \"BSMOTE\", \"SVMS\"])\n",
    "plt.title(\"Comparison of different oversampling methods\")\n",
    "plt.ylabel(\"fi-score dispersion\")\n",
    "plt.show()"
   ]
  },
  {
   "attachments": {},
   "cell_type": "markdown",
   "metadata": {
    "id": "3epVn3Lk0Ocl"
   },
   "source": [
    "### Вывод\n",
    "\n",
    "Ввиду малого наличия в данных класса единиц - метрики качества получаются смещенными. Для рассмотрения метрик был использован алгоритм `RandomForestClassifier`. Высокая точность(`accuracy`) обусловлена высокой вероятностью предсказания класса 0, так же видим большое количество ошибок в предсказания обученной модели(сумма вне главной диагонали матрицы ошибок). Все это подводит к использованию перебалансировки классов путем добавления строк с недостающим признаком. Предварительно разделив данные на стратифицированные выборки, чтобы избежать переобучения модели, был выбран метод `SVMSMOTE` со наибольшим средним значеним `f1-score`, исходя из графиков распределения значений. Оперировать конкретными значениями, учитывая их стохастический характер, нет возможности."
   ]
  },
  {
   "attachments": {},
   "cell_type": "markdown",
   "metadata": {
    "id": "NTrZXhdo7EAJ"
   },
   "source": [
    "## 4 Лучшая модель"
   ]
  },
  {
   "cell_type": "code",
   "execution_count": 29,
   "metadata": {
    "executionInfo": {
     "elapsed": 17,
     "status": "ok",
     "timestamp": 1679697058750,
     "user": {
      "displayName": "Ludmila Rybalko",
      "userId": "01313176638513958393"
     },
     "user_tz": -60
    },
    "id": "n-lS8AToo_f5"
   },
   "outputs": [],
   "source": [
    "# create a list with the diffrent algorithms \n",
    "algorithm = [LogisticRegression(random_state=RANDOM_STATE), \n",
    "             DecisionTreeClassifier(random_state=RANDOM_STATE), \n",
    "             KNeighborsClassifier(), \n",
    "             RandomForestClassifier(random_state=RANDOM_STATE),\n",
    "             SVC(gamma='auto')]"
   ]
  },
  {
   "cell_type": "code",
   "execution_count": 30,
   "metadata": {
    "colab": {
     "base_uri": "https://localhost:8080/"
    },
    "executionInfo": {
     "elapsed": 57485,
     "status": "ok",
     "timestamp": 1679697116220,
     "user": {
      "displayName": "Ludmila Rybalko",
      "userId": "01313176638513958393"
     },
     "user_tz": -60
    },
    "id": "Ecl-9wUSrt2k",
    "outputId": "6dfa23d2-7e2c-489b-d7a3-f41b5fb89794"
   },
   "outputs": [
    {
     "name": "stdout",
     "output_type": "stream",
     "text": [
      "LogisticRegression(random_state=42) = 0.54\n",
      "DecisionTreeClassifier(random_state=42) = 0.46\n",
      "KNeighborsClassifier = 0.5\n",
      "RandomForestClassifier(random_state=42) = 0.57\n",
      "SVC(gamma='auto') = 0.56\n",
      "--- 19.76004385948181 seconds ---\n"
     ]
    }
   ],
   "source": [
    "start_time = time.time()\n",
    "# choose the best algorithm \n",
    "result_alg = []\n",
    "for alg in algorithm:\n",
    "    pip_alg = make_pipeline(BorderlineSMOTE(random_state=RANDOM_STATE),\n",
    "                            alg)\n",
    "    score_alg = cross_val_score(pip_alg, X_train, y_train, \n",
    "                                scoring=\"f1\", cv=cross_v)\n",
    "    result_alg.append(score_alg)\n",
    "    print(f'{str(alg).replace(\"()\", \"\")} = {score_alg.mean():.2}' ) \n",
    "print(\"--- %s seconds ---\" % (time.time() - start_time))"
   ]
  },
  {
   "cell_type": "code",
   "execution_count": 31,
   "metadata": {
    "colab": {
     "base_uri": "https://localhost:8080/",
     "height": 281
    },
    "executionInfo": {
     "elapsed": 409,
     "status": "ok",
     "timestamp": 1679697116602,
     "user": {
      "displayName": "Ludmila Rybalko",
      "userId": "01313176638513958393"
     },
     "user_tz": -60
    },
    "id": "wj7yu4l0xgwi",
    "outputId": "a80ec0d7-9bec-488c-bec1-2950b8a59938"
   },
   "outputs": [
    {
     "data": {
      "image/png": "[encoded data removed]",
      "text/plain": [
       "<Figure size 432x288 with 1 Axes>"
      ]
     },
     "metadata": {
      "needs_background": "light"
     },
     "output_type": "display_data"
    }
   ],
   "source": [
    "# show the spreding result \n",
    "plt.boxplot(result_alg, labels=[\"LR\", \"CART\", \"KNN\", \"RF\", \"SVC\"])\n",
    "plt.title(\"Comparison of diffrent algorithms\")\n",
    "plt.ylabel(\"f1-score dispersion\")\n",
    "plt.show()"
   ]
  },
  {
   "cell_type": "code",
   "execution_count": 32,
   "metadata": {
    "executionInfo": {
     "elapsed": 13,
     "status": "ok",
     "timestamp": 1679697116605,
     "user": {
      "displayName": "Ludmila Rybalko",
      "userId": "01313176638513958393"
     },
     "user_tz": -60
    },
    "id": "kzzwJPQumFTi"
   },
   "outputs": [],
   "source": [
    "# create a dictionary for different parameters \n",
    "params = {\n",
    "    'rf__n_estimators': range(10, 70, 10),\n",
    "    'rf__criterion': [\"gini\", \"entropy\", \"log_loss\"],\n",
    "    'rf__max_depth': range(2, 25, 1)\n",
    "    }"
   ]
  },
  {
   "cell_type": "code",
   "execution_count": 33,
   "metadata": {
    "colab": {
     "base_uri": "https://localhost:8080/"
    },
    "executionInfo": {
     "elapsed": 2083986,
     "status": "ok",
     "timestamp": 1679699200579,
     "user": {
      "displayName": "Ludmila Rybalko",
      "userId": "01313176638513958393"
     },
     "user_tz": -60
    },
    "id": "ZMpL8bg3nMWe",
    "outputId": "df1bbcee-8be7-451e-a072-c128b5792569"
   },
   "outputs": [
    {
     "name": "stdout",
     "output_type": "stream",
     "text": [
      "--- 986.1854763031006 seconds ---\n"
     ]
    }
   ],
   "source": [
    "start_time = time.time()\n",
    "# make pipeline for sampling and algorithm\n",
    "pipeline = Pipeline([(\"sampling\", BorderlineSMOTE(random_state=RANDOM_STATE)),\n",
    "                     (\"rf\", RandomForestClassifier(n_estimators=100, \n",
    "                                                  random_state=RANDOM_STATE))])\n",
    "# use GridSearch for search the best parameters\n",
    "grid_search = GridSearchCV(pipeline, param_grid=params, cv=cross_v, \n",
    "                        scoring='f1', return_train_score=True)\n",
    "grid_search.fit(X_train, y_train)\n",
    "print(\"--- %s seconds ---\" % (time.time() - start_time))"
   ]
  },
  {
   "cell_type": "code",
   "execution_count": 34,
   "metadata": {
    "colab": {
     "base_uri": "https://localhost:8080/"
    },
    "executionInfo": {
     "elapsed": 57444,
     "status": "ok",
     "timestamp": 1679699258014,
     "user": {
      "displayName": "Ludmila Rybalko",
      "userId": "01313176638513958393"
     },
     "user_tz": -60
    },
    "id": "nAgdfSJOwcy_",
    "outputId": "4ad143dc-be23-49c3-9eb6-8b62fb66c452"
   },
   "outputs": [
    {
     "name": "stdout",
     "output_type": "stream",
     "text": [
      "--- 27.272196292877197 seconds ---\n"
     ]
    }
   ],
   "source": [
    "start_time = time.time()\n",
    "# try another search for getting better parameters\n",
    "random_search = RandomizedSearchCV(pipeline, param_distributions=params, \n",
    "                                   cv=cross_v, scoring='f1', \n",
    "                                   return_train_score=True)\n",
    "random_search.fit(X_train, y_train)\n",
    "print(\"--- %s seconds ---\" % (time.time() - start_time))"
   ]
  },
  {
   "cell_type": "code",
   "execution_count": 35,
   "metadata": {
    "colab": {
     "base_uri": "https://localhost:8080/"
    },
    "executionInfo": {
     "elapsed": 3,
     "status": "ok",
     "timestamp": 1679699321866,
     "user": {
      "displayName": "Ludmila Rybalko",
      "userId": "01313176638513958393"
     },
     "user_tz": -60
    },
    "id": "6iI0uqRt-pij",
    "outputId": "c990ec34-b4b8-4000-f0f1-fa8d08ff47ab"
   },
   "outputs": [
    {
     "data": {
      "text/plain": [
       "0.5870102238482776"
      ]
     },
     "execution_count": 35,
     "metadata": {},
     "output_type": "execute_result"
    }
   ],
   "source": [
    "# show the best f1-score for GridSearc model\n",
    "grid_search.best_score_"
   ]
  },
  {
   "cell_type": "code",
   "execution_count": 36,
   "metadata": {
    "colab": {
     "base_uri": "https://localhost:8080/"
    },
    "executionInfo": {
     "elapsed": 217,
     "status": "ok",
     "timestamp": 1679699324028,
     "user": {
      "displayName": "Ludmila Rybalko",
      "userId": "01313176638513958393"
     },
     "user_tz": -60
    },
    "id": "Qti0VzmqJ-Ba",
    "outputId": "e766d469-a56c-4f39-d0ca-8fa27766f5e4"
   },
   "outputs": [
    {
     "data": {
      "text/plain": [
       "0.5870102238482776"
      ]
     },
     "execution_count": 36,
     "metadata": {},
     "output_type": "execute_result"
    }
   ],
   "source": [
    "# show the best f1-score for RandomizedSearch model\n",
    "random_search.best_score_"
   ]
  },
  {
   "cell_type": "code",
   "execution_count": 37,
   "metadata": {
    "executionInfo": {
     "elapsed": 214,
     "status": "ok",
     "timestamp": 1679699327077,
     "user": {
      "displayName": "Ludmila Rybalko",
      "userId": "01313176638513958393"
     },
     "user_tz": -60
    },
    "id": "JHVJsW6NUTrg"
   },
   "outputs": [],
   "source": [
    "# function to print the dependence of the score on the hyperparameters\n",
    "def graph_quality(search_method):\n",
    "    quality = pd.DataFrame(search_method.cv_results_)\n",
    "\n",
    "    quality.drop(quality.columns.difference([\"mean_train_score\", \n",
    "                                              \"param_rf__n_estimators\", \n",
    "                                              \"param_rf__max_depth\", \n",
    "                                              \"param_rf__criterion\"]), axis=1, \n",
    "                inplace=True)\n",
    "    sns.set_style(\"darkgrid\")\n",
    "    fig, ax = plt.subplots(1, 2, figsize=(16, 8))\n",
    "    sns.lineplot(data=quality, x=\"param_rf__max_depth\", y=\"mean_train_score\", \n",
    "                hue=\"param_rf__criterion\", markers=True, estimator=None, \n",
    "                style=\"param_rf__criterion\",ax=ax[0])\n",
    "    sns.lineplot(data=quality, x=\"param_rf__n_estimators\", y=\"mean_train_score\", \n",
    "                hue=\"param_rf__criterion\", markers=True, estimator=None, \n",
    "                style=\"param_rf__criterion\",ax=ax[1])\n",
    "    plt.show()"
   ]
  },
  {
   "cell_type": "code",
   "execution_count": 38,
   "metadata": {
    "colab": {
     "base_uri": "https://localhost:8080/",
     "height": 498
    },
    "executionInfo": {
     "elapsed": 1330,
     "status": "ok",
     "timestamp": 1679699330817,
     "user": {
      "displayName": "Ludmila Rybalko",
      "userId": "01313176638513958393"
     },
     "user_tz": -60
    },
    "id": "5MRNmY6uN2-r",
    "outputId": "527d848d-0f46-4569-9f97-da1ec70adb65"
   },
   "outputs": [
    {
     "data": {
      "image/png": "[encoded data removed]",
      "text/plain": [
       "<Figure size 1152x576 with 2 Axes>"
      ]
     },
     "metadata": {},
     "output_type": "display_data"
    }
   ],
   "source": [
    "# show the ghaph for GridSearch\n",
    "graph_quality(grid_search)"
   ]
  },
  {
   "cell_type": "code",
   "execution_count": 39,
   "metadata": {
    "colab": {
     "base_uri": "https://localhost:8080/",
     "height": 498
    },
    "executionInfo": {
     "elapsed": 985,
     "status": "ok",
     "timestamp": 1679699382872,
     "user": {
      "displayName": "Ludmila Rybalko",
      "userId": "01313176638513958393"
     },
     "user_tz": -60
    },
    "id": "_43loXNnbAHk",
    "outputId": "ef5abfa8-e7cf-45e9-d60b-3b10e089c48f"
   },
   "outputs": [
    {
     "data": {
      "image/png": "[encoded data removed]",
      "text/plain": [
       "<Figure size 1152x576 with 2 Axes>"
      ]
     },
     "metadata": {},
     "output_type": "display_data"
    }
   ],
   "source": [
    "# show the ghaph for RandomizedSeach\n",
    "graph_quality(random_search)"
   ]
  },
  {
   "attachments": {},
   "cell_type": "markdown",
   "metadata": {
    "id": "4IUSkA080L0g"
   },
   "source": [
    "### Вывод\n",
    "Среди нескольких выбранных алгоритмов для задач бинарной классификации наиболее качественным оказался `RandomForestClassifier`. Для этого алгорита подбирались параметры с использованием нескольких методов. Качество, определенной с помощью метрики `f1-score`, на обученной выборке показало значение около 0.59"
   ]
  },
  {
   "attachments": {},
   "cell_type": "markdown",
   "metadata": {
    "id": "V81tYR5M7Ejf"
   },
   "source": [
    "## 5 Финальное тестирование"
   ]
  },
  {
   "cell_type": "code",
   "execution_count": 40,
   "metadata": {
    "executionInfo": {
     "elapsed": 215,
     "status": "ok",
     "timestamp": 1679699388964,
     "user": {
      "displayName": "Ludmila Rybalko",
      "userId": "01313176638513958393"
     },
     "user_tz": -60
    },
    "id": "yphRcn4gv8zQ"
   },
   "outputs": [],
   "source": [
    "# calculate predictions on the transforming test sample\n",
    "grid_predict = grid_search.predict(ohe_scale.transform(X_test))\n",
    "random_predict = random_search.predict(ohe_scale.transform(X_test))"
   ]
  },
  {
   "cell_type": "code",
   "execution_count": 42,
   "metadata": {
    "colab": {
     "base_uri": "https://localhost:8080/"
    },
    "executionInfo": {
     "elapsed": 229,
     "status": "ok",
     "timestamp": 1679700078126,
     "user": {
      "displayName": "Ludmila Rybalko",
      "userId": "01313176638513958393"
     },
     "user_tz": -60
    },
    "id": "7eIGQxXbuPtC",
    "outputId": "03be9762-e167-4972-ce0f-5d88647c9f23"
   },
   "outputs": [
    {
     "name": "stdout",
     "output_type": "stream",
     "text": [
      "f1 score for GridSearchCV = 0.594\n",
      "Accuracy for GridSearchCV = 0.822\n",
      "ROC-AUC = 0.518\n",
      "              precision    recall  f1-score   support\n",
      "\n",
      "           0       0.90      0.87      0.89      2389\n",
      "           1       0.55      0.64      0.59       611\n",
      "\n",
      "    accuracy                           0.82      3000\n",
      "   macro avg       0.73      0.75      0.74      3000\n",
      "weighted avg       0.83      0.82      0.83      3000\n",
      "\n"
     ]
    }
   ],
   "source": [
    "# metrics for the prediction GridSearch\n",
    "print(f'f1 score for GridSearchCV = {f1_score(y_test, grid_predict):.3f}')\n",
    "print(f'Accuracy for GridSearchCV = {accuracy_score(y_test, grid_predict):.3f}')\n",
    "print(f\"ROC-AUC = {roc_auc_score(y_valid, grid_search.predict_proba(ohe_scale.transform(X_test))[:, 1]):.3f}\")\n",
    "print(classification_report(y_test, grid_predict))"
   ]
  },
  {
   "cell_type": "code",
   "execution_count": 43,
   "metadata": {
    "colab": {
     "base_uri": "https://localhost:8080/"
    },
    "executionInfo": {
     "elapsed": 248,
     "status": "ok",
     "timestamp": 1679700084584,
     "user": {
      "displayName": "Ludmila Rybalko",
      "userId": "01313176638513958393"
     },
     "user_tz": -60
    },
    "id": "T9MBMPY5LWK_",
    "outputId": "b709867e-4a28-4d9b-b636-2fe2b3231462"
   },
   "outputs": [
    {
     "name": "stdout",
     "output_type": "stream",
     "text": [
      "f1 score for RandomizedSearchCV = 0.594\n",
      "Accuracy for RandomizedSearchCV = 0.822\n",
      "ROC-AUC = 0.518\n",
      "              precision    recall  f1-score   support\n",
      "\n",
      "           0       0.90      0.87      0.89      2389\n",
      "           1       0.55      0.64      0.59       611\n",
      "\n",
      "    accuracy                           0.82      3000\n",
      "   macro avg       0.73      0.75      0.74      3000\n",
      "weighted avg       0.83      0.82      0.83      3000\n",
      "\n"
     ]
    }
   ],
   "source": [
    "# metrics for the prediction RandomizedSearch\n",
    "print(f'f1 score for RandomizedSearchCV = {f1_score(y_test, random_predict):.3f}')\n",
    "print(f'Accuracy for RandomizedSearchCV = {accuracy_score(y_test, random_predict):.3f}')\n",
    "print(f\"ROC-AUC = {roc_auc_score(y_valid, grid_search.predict_proba(ohe_scale.transform(X_test))[:, 1]):.3f}\")\n",
    "print(classification_report(y_test, random_predict))"
   ]
  },
  {
   "cell_type": "code",
   "execution_count": 44,
   "metadata": {},
   "outputs": [
    {
     "data": {
      "image/png": "[encoded data removed]",
      "text/plain": [
       "<Figure size 432x432 with 1 Axes>"
      ]
     },
     "metadata": {},
     "output_type": "display_data"
    }
   ],
   "source": [
    "fig, axs = plt.subplots(figsize=(6, 6))\n",
    "RocCurveDisplay.from_predictions(y_test,\n",
    "    grid_search.predict_proba(ohe_scale.transform(X_test))[:, 1], \n",
    "    name=\"ROC\", color=\"darkred\",ax=axs\n",
    ")\n",
    "plt.plot([0, 1], [0, 1], \"k--\", label=\"chance level (AUC = 0.5)\")\n",
    "plt.title(\"ROC-curve\")\n",
    "plt.legend()\n",
    "plt.show()"
   ]
  },
  {
   "attachments": {},
   "cell_type": "markdown",
   "metadata": {
    "id": "4YNCE8rwv-BX"
   },
   "source": [
    "### Вывод\n",
    "Для предсказаний использовалось две модели, для которых параметры подбирались различными методами. Метрика качества показала довольно высокие значения для класса 1, более 0.6, наряду с высокой точностью. Метрики минорного класса возросли. Суммарная метрика `f1` показывает значение более 0.7"
   ]
  },
  {
   "attachments": {},
   "cell_type": "markdown",
   "metadata": {
    "id": "TWqnWDTz7EyN"
   },
   "source": [
    "## 5 Заключение"
   ]
  },
  {
   "attachments": {},
   "cell_type": "markdown",
   "metadata": {
    "id": "y9Kr7-Z19KBz"
   },
   "source": [
    "Для исходного датасета была проведена скурпулезная работа по предварительной обработке данных, которая включила в себя: первичный анализ, заполнение пропусков, изменение типов данных. Стоит отдельно отметить подготовку данных для последующей их обработки моделью. Для этого некоторых столбцы были удалены, другие переведены в бинарный класс. Для остальных числовых столбцов проведено масштабирование значение для приведения их к единому виду. Ввиду того, что при первичном анализе были замечены аномалии и выбросы в данных, особенно тщательно подбирался метод масштабирования. После масштибрования наблюдался дисбаланс в классах, что было устранено подбором и применением методики, позволяющей добавить значения в минорный класс. Для стоящей задачи бинарной классификации была подобрана соответствующая модель и параметры для нее. Качество обученой модели - удовлетворительное. Метрика качества показала значение более 0.6, что позволяет определять потенциально уходящих клиентов с вероятностью более 60% "
   ]
  }
 ],
 "metadata": {
  "ExecuteTimeLog": [
   {
    "duration": 1282,
    "start_time": "2023-02-19T23:10:42.349Z"
   },
   {
    "duration": 4,
    "start_time": "2023-02-19T23:10:43.633Z"
   },
   {
    "duration": 217,
    "start_time": "2023-02-19T23:10:43.638Z"
   },
   {
    "duration": 17,
    "start_time": "2023-02-19T23:10:43.857Z"
   },
   {
    "duration": 13,
    "start_time": "2023-02-19T23:10:43.875Z"
   },
   {
    "duration": 4,
    "start_time": "2023-02-19T23:10:43.890Z"
   },
   {
    "duration": 18,
    "start_time": "2023-02-19T23:10:43.896Z"
   },
   {
    "duration": 14,
    "start_time": "2023-02-19T23:10:43.916Z"
   },
   {
    "duration": 5,
    "start_time": "2023-02-19T23:10:43.931Z"
   },
   {
    "duration": 714,
    "start_time": "2023-02-19T23:10:43.947Z"
   },
   {
    "duration": 56,
    "start_time": "2023-02-19T23:10:44.663Z"
   },
   {
    "duration": 28,
    "start_time": "2023-02-19T23:10:44.721Z"
   },
   {
    "duration": 47,
    "start_time": "2023-02-19T23:10:44.750Z"
   },
   {
    "duration": 14,
    "start_time": "2023-02-19T23:10:44.798Z"
   },
   {
    "duration": 826,
    "start_time": "2023-02-19T23:10:44.813Z"
   },
   {
    "duration": 20,
    "start_time": "2023-02-19T23:10:45.641Z"
   },
   {
    "duration": 25,
    "start_time": "2023-02-19T23:10:45.663Z"
   },
   {
    "duration": 10,
    "start_time": "2023-02-19T23:10:45.689Z"
   },
   {
    "duration": 12,
    "start_time": "2023-02-19T23:10:45.701Z"
   },
   {
    "duration": 147,
    "start_time": "2023-02-19T23:10:45.714Z"
   },
   {
    "duration": 3,
    "start_time": "2023-02-19T23:10:45.862Z"
   },
   {
    "duration": 461,
    "start_time": "2023-02-19T23:10:45.866Z"
   },
   {
    "duration": 302,
    "start_time": "2023-02-19T23:10:46.329Z"
   },
   {
    "duration": 21,
    "start_time": "2023-02-19T23:10:46.634Z"
   },
   {
    "duration": 35,
    "start_time": "2023-02-19T23:10:46.656Z"
   },
   {
    "duration": 24,
    "start_time": "2023-02-19T23:10:46.692Z"
   },
   {
    "duration": 10,
    "start_time": "2023-02-19T23:10:46.718Z"
   },
   {
    "duration": 443,
    "start_time": "2023-02-19T23:10:46.732Z"
   },
   {
    "duration": 4,
    "start_time": "2023-02-19T23:10:47.177Z"
   },
   {
    "duration": 25,
    "start_time": "2023-02-19T23:10:47.182Z"
   },
   {
    "duration": 34,
    "start_time": "2023-02-19T23:10:47.209Z"
   },
   {
    "duration": 194,
    "start_time": "2023-02-19T23:10:47.245Z"
   },
   {
    "duration": 17,
    "start_time": "2023-02-19T23:10:47.440Z"
   },
   {
    "duration": 3666,
    "start_time": "2023-02-19T23:10:47.458Z"
   },
   {
    "duration": 39,
    "start_time": "2023-02-19T23:10:51.126Z"
   },
   {
    "duration": 19,
    "start_time": "2023-02-19T23:10:51.167Z"
   },
   {
    "duration": 52,
    "start_time": "2023-02-19T23:10:51.187Z"
   },
   {
    "duration": 5157,
    "start_time": "2023-02-19T23:10:51.240Z"
   },
   {
    "duration": 8,
    "start_time": "2023-02-19T23:10:56.398Z"
   },
   {
    "duration": 12,
    "start_time": "2023-02-19T23:10:56.407Z"
   },
   {
    "duration": 7,
    "start_time": "2023-02-19T23:10:56.421Z"
   },
   {
    "duration": 4995,
    "start_time": "2023-02-19T23:10:56.429Z"
   },
   {
    "duration": 646,
    "start_time": "2023-02-19T23:11:01.425Z"
   },
   {
    "duration": 7,
    "start_time": "2023-02-19T23:11:02.074Z"
   },
   {
    "duration": 11,
    "start_time": "2023-02-19T23:11:02.082Z"
   },
   {
    "duration": 7,
    "start_time": "2023-02-19T23:11:02.094Z"
   },
   {
    "duration": 6610,
    "start_time": "2023-02-19T23:11:02.102Z"
   },
   {
    "duration": 291,
    "start_time": "2023-02-19T23:11:08.713Z"
   },
   {
    "duration": 7,
    "start_time": "2023-02-19T23:11:09.005Z"
   },
   {
    "duration": 10,
    "start_time": "2023-02-19T23:11:09.013Z"
   },
   {
    "duration": 8,
    "start_time": "2023-02-19T23:11:09.024Z"
   },
   {
    "duration": 759,
    "start_time": "2023-02-19T23:11:09.033Z"
   },
   {
    "duration": 8,
    "start_time": "2023-02-19T23:11:09.794Z"
   },
   {
    "duration": 1825,
    "start_time": "2023-02-19T23:11:09.803Z"
   },
   {
    "duration": 565,
    "start_time": "2023-02-19T23:11:11.629Z"
   },
   {
    "duration": 8,
    "start_time": "2023-02-19T23:11:12.196Z"
   },
   {
    "duration": 29,
    "start_time": "2023-02-19T23:11:12.206Z"
   },
   {
    "duration": 20,
    "start_time": "2023-02-19T23:11:12.236Z"
   },
   {
    "duration": 351,
    "start_time": "2023-02-19T23:11:12.257Z"
   },
   {
    "duration": 5,
    "start_time": "2023-02-19T23:11:12.610Z"
   },
   {
    "duration": 5048,
    "start_time": "2023-02-19T23:11:12.616Z"
   },
   {
    "duration": 4,
    "start_time": "2023-02-19T23:11:17.666Z"
   },
   {
    "duration": 20,
    "start_time": "2023-02-19T23:11:17.671Z"
   },
   {
    "duration": 10,
    "start_time": "2023-02-19T23:11:17.692Z"
   },
   {
    "duration": 32,
    "start_time": "2023-02-19T23:11:17.704Z"
   },
   {
    "duration": 428,
    "start_time": "2023-02-19T23:11:17.738Z"
   },
   {
    "duration": 3587,
    "start_time": "2023-02-19T23:11:18.168Z"
   },
   {
    "duration": 714,
    "start_time": "2023-02-19T23:11:21.757Z"
   },
   {
    "duration": 627,
    "start_time": "2023-02-19T23:11:22.472Z"
   },
   {
    "duration": 6,
    "start_time": "2023-02-19T23:11:23.100Z"
   },
   {
    "duration": 1609,
    "start_time": "2023-02-19T23:11:23.107Z"
   },
   {
    "duration": 233,
    "start_time": "2023-02-19T23:11:24.717Z"
   },
   {
    "duration": 274,
    "start_time": "2023-02-19T23:11:24.951Z"
   },
   {
    "duration": 300,
    "start_time": "2023-02-19T23:11:25.227Z"
   },
   {
    "duration": 941,
    "start_time": "2023-02-19T23:11:25.529Z"
   },
   {
    "duration": 5,
    "start_time": "2023-02-19T23:11:26.472Z"
   },
   {
    "duration": 186,
    "start_time": "2023-02-19T23:11:26.478Z"
   },
   {
    "duration": 27,
    "start_time": "2023-02-19T23:11:26.665Z"
   },
   {
    "duration": 2674,
    "start_time": "2023-02-19T23:11:26.693Z"
   },
   {
    "duration": 10,
    "start_time": "2023-02-19T23:11:29.369Z"
   },
   {
    "duration": 43,
    "start_time": "2023-02-19T23:11:29.380Z"
   },
   {
    "duration": 1133,
    "start_time": "2023-02-20T14:55:45.284Z"
   },
   {
    "duration": 4,
    "start_time": "2023-02-20T14:55:46.419Z"
   },
   {
    "duration": 73,
    "start_time": "2023-02-20T14:55:46.426Z"
   },
   {
    "duration": 23,
    "start_time": "2023-02-20T14:55:46.501Z"
   },
   {
    "duration": 24,
    "start_time": "2023-02-20T14:55:46.525Z"
   },
   {
    "duration": 5,
    "start_time": "2023-02-20T14:55:46.552Z"
   },
   {
    "duration": 37,
    "start_time": "2023-02-20T14:55:46.559Z"
   },
   {
    "duration": 13,
    "start_time": "2023-02-20T14:55:46.598Z"
   },
   {
    "duration": 6,
    "start_time": "2023-02-20T14:55:46.613Z"
   },
   {
    "duration": 914,
    "start_time": "2023-02-20T14:55:46.622Z"
   },
   {
    "duration": 84,
    "start_time": "2023-02-20T14:55:47.539Z"
   },
   {
    "duration": 12,
    "start_time": "2023-02-20T14:55:47.625Z"
   },
   {
    "duration": 62,
    "start_time": "2023-02-20T14:55:47.639Z"
   },
   {
    "duration": 16,
    "start_time": "2023-02-20T14:55:47.703Z"
   },
   {
    "duration": 616,
    "start_time": "2023-02-20T14:55:47.720Z"
   },
   {
    "duration": 14,
    "start_time": "2023-02-20T14:55:48.338Z"
   },
   {
    "duration": 14,
    "start_time": "2023-02-20T14:55:48.353Z"
   },
   {
    "duration": 23,
    "start_time": "2023-02-20T14:55:48.369Z"
   },
   {
    "duration": 9,
    "start_time": "2023-02-20T14:55:48.393Z"
   },
   {
    "duration": 165,
    "start_time": "2023-02-20T14:55:48.404Z"
   },
   {
    "duration": 3,
    "start_time": "2023-02-20T14:55:48.570Z"
   },
   {
    "duration": 412,
    "start_time": "2023-02-20T14:55:48.574Z"
   },
   {
    "duration": 302,
    "start_time": "2023-02-20T14:55:48.991Z"
   },
   {
    "duration": 22,
    "start_time": "2023-02-20T14:55:49.295Z"
   },
   {
    "duration": 22,
    "start_time": "2023-02-20T14:55:49.319Z"
   },
   {
    "duration": 37,
    "start_time": "2023-02-20T14:55:49.343Z"
   },
   {
    "duration": 18,
    "start_time": "2023-02-20T14:55:49.382Z"
   },
   {
    "duration": 483,
    "start_time": "2023-02-20T14:55:49.404Z"
   },
   {
    "duration": 7,
    "start_time": "2023-02-20T14:55:49.888Z"
   },
   {
    "duration": 27,
    "start_time": "2023-02-20T14:55:49.897Z"
   },
   {
    "duration": 11,
    "start_time": "2023-02-20T14:55:49.925Z"
   },
   {
    "duration": 212,
    "start_time": "2023-02-20T14:55:49.938Z"
   },
   {
    "duration": 10,
    "start_time": "2023-02-20T14:55:50.152Z"
   },
   {
    "duration": 4021,
    "start_time": "2023-02-20T14:55:50.164Z"
   },
   {
    "duration": 40,
    "start_time": "2023-02-20T14:55:54.187Z"
   },
   {
    "duration": 13,
    "start_time": "2023-02-20T14:55:54.229Z"
   },
   {
    "duration": 6,
    "start_time": "2023-02-20T14:55:54.243Z"
   },
   {
    "duration": 5589,
    "start_time": "2023-02-20T14:55:54.250Z"
   },
   {
    "duration": 8,
    "start_time": "2023-02-20T14:55:59.841Z"
   },
   {
    "duration": 25,
    "start_time": "2023-02-20T14:55:59.851Z"
   },
   {
    "duration": 14,
    "start_time": "2023-02-20T14:55:59.878Z"
   },
   {
    "duration": 5284,
    "start_time": "2023-02-20T14:55:59.894Z"
   },
   {
    "duration": 654,
    "start_time": "2023-02-20T14:56:05.179Z"
   },
   {
    "duration": 7,
    "start_time": "2023-02-20T14:56:05.835Z"
   },
   {
    "duration": 17,
    "start_time": "2023-02-20T14:56:05.844Z"
   },
   {
    "duration": 12,
    "start_time": "2023-02-20T14:56:05.863Z"
   },
   {
    "duration": 6938,
    "start_time": "2023-02-20T14:56:05.877Z"
   },
   {
    "duration": 301,
    "start_time": "2023-02-20T14:56:12.817Z"
   },
   {
    "duration": 7,
    "start_time": "2023-02-20T14:56:13.120Z"
   },
   {
    "duration": 9,
    "start_time": "2023-02-20T14:56:13.128Z"
   },
   {
    "duration": 5,
    "start_time": "2023-02-20T14:56:13.139Z"
   },
   {
    "duration": 901,
    "start_time": "2023-02-20T14:56:13.146Z"
   },
   {
    "duration": 8,
    "start_time": "2023-02-20T14:56:14.049Z"
   },
   {
    "duration": 1941,
    "start_time": "2023-02-20T14:56:14.059Z"
   },
   {
    "duration": 639,
    "start_time": "2023-02-20T14:56:16.001Z"
   },
   {
    "duration": 9,
    "start_time": "2023-02-20T14:56:16.642Z"
   },
   {
    "duration": 14,
    "start_time": "2023-02-20T14:56:16.652Z"
   },
   {
    "duration": 31,
    "start_time": "2023-02-20T14:56:16.668Z"
   },
   {
    "duration": 359,
    "start_time": "2023-02-20T14:56:16.700Z"
   },
   {
    "duration": 6,
    "start_time": "2023-02-20T14:56:17.060Z"
   },
   {
    "duration": 4981,
    "start_time": "2023-02-20T14:56:17.068Z"
   },
   {
    "duration": 5,
    "start_time": "2023-02-20T14:56:22.051Z"
   },
   {
    "duration": 17,
    "start_time": "2023-02-20T14:56:22.057Z"
   },
   {
    "duration": 7,
    "start_time": "2023-02-20T14:56:22.075Z"
   },
   {
    "duration": 27,
    "start_time": "2023-02-20T14:56:22.083Z"
   },
   {
    "duration": 467,
    "start_time": "2023-02-20T14:56:22.111Z"
   },
   {
    "duration": 3876,
    "start_time": "2023-02-20T14:56:22.580Z"
   },
   {
    "duration": 851,
    "start_time": "2023-02-20T14:56:26.458Z"
   },
   {
    "duration": 638,
    "start_time": "2023-02-20T14:56:27.311Z"
   },
   {
    "duration": 5,
    "start_time": "2023-02-20T14:56:27.950Z"
   },
   {
    "duration": 1739,
    "start_time": "2023-02-20T14:56:27.956Z"
   },
   {
    "duration": 261,
    "start_time": "2023-02-20T14:56:29.697Z"
   },
   {
    "duration": 288,
    "start_time": "2023-02-20T14:56:29.960Z"
   },
   {
    "duration": 246,
    "start_time": "2023-02-20T14:56:30.250Z"
   },
   {
    "duration": 1088,
    "start_time": "2023-02-20T14:56:30.497Z"
   },
   {
    "duration": 5,
    "start_time": "2023-02-20T14:56:31.587Z"
   },
   {
    "duration": 283,
    "start_time": "2023-02-20T14:56:31.594Z"
   },
   {
    "duration": 29,
    "start_time": "2023-02-20T14:56:31.879Z"
   },
   {
    "duration": 2936,
    "start_time": "2023-02-20T14:56:31.910Z"
   },
   {
    "duration": 11,
    "start_time": "2023-02-20T14:56:34.848Z"
   },
   {
    "duration": 26,
    "start_time": "2023-02-20T14:56:34.860Z"
   },
   {
    "duration": 38,
    "start_time": "2023-02-20T15:24:22.356Z"
   },
   {
    "duration": 31,
    "start_time": "2023-02-20T15:24:36.150Z"
   },
   {
    "duration": 1263,
    "start_time": "2023-02-20T15:34:36.800Z"
   },
   {
    "duration": 4,
    "start_time": "2023-02-20T15:34:38.067Z"
   },
   {
    "duration": 68,
    "start_time": "2023-02-20T15:34:38.073Z"
   },
   {
    "duration": 19,
    "start_time": "2023-02-20T15:34:38.143Z"
   },
   {
    "duration": 20,
    "start_time": "2023-02-20T15:34:38.164Z"
   },
   {
    "duration": 8,
    "start_time": "2023-02-20T15:34:38.186Z"
   },
   {
    "duration": 24,
    "start_time": "2023-02-20T15:34:38.195Z"
   },
   {
    "duration": 37,
    "start_time": "2023-02-20T15:34:38.221Z"
   },
   {
    "duration": 13,
    "start_time": "2023-02-20T15:34:38.260Z"
   },
   {
    "duration": 881,
    "start_time": "2023-02-20T15:34:38.276Z"
   },
   {
    "duration": 84,
    "start_time": "2023-02-20T15:34:39.158Z"
   },
   {
    "duration": 11,
    "start_time": "2023-02-20T15:34:39.244Z"
   },
   {
    "duration": 79,
    "start_time": "2023-02-20T15:34:39.257Z"
   },
   {
    "duration": 16,
    "start_time": "2023-02-20T15:34:39.338Z"
   },
   {
    "duration": 756,
    "start_time": "2023-02-20T15:34:39.355Z"
   },
   {
    "duration": 19,
    "start_time": "2023-02-20T15:34:40.114Z"
   },
   {
    "duration": 12,
    "start_time": "2023-02-20T15:34:40.135Z"
   },
   {
    "duration": 68,
    "start_time": "2023-02-20T15:34:40.148Z"
   },
   {
    "duration": 106,
    "start_time": "2023-02-20T15:34:40.218Z"
   },
   {
    "duration": 191,
    "start_time": "2023-02-20T15:34:40.327Z"
   },
   {
    "duration": 7,
    "start_time": "2023-02-20T15:34:40.520Z"
   },
   {
    "duration": 568,
    "start_time": "2023-02-20T15:34:40.531Z"
   },
   {
    "duration": 372,
    "start_time": "2023-02-20T15:34:41.101Z"
   },
   {
    "duration": 34,
    "start_time": "2023-02-20T15:34:41.475Z"
   },
   {
    "duration": 20,
    "start_time": "2023-02-20T15:34:41.511Z"
   },
   {
    "duration": 17,
    "start_time": "2023-02-20T15:34:41.532Z"
   },
   {
    "duration": 8,
    "start_time": "2023-02-20T15:34:41.550Z"
   },
   {
    "duration": 574,
    "start_time": "2023-02-20T15:34:41.562Z"
   },
   {
    "duration": 5,
    "start_time": "2023-02-20T15:34:42.138Z"
   },
   {
    "duration": 22,
    "start_time": "2023-02-20T15:34:42.144Z"
   },
   {
    "duration": 29,
    "start_time": "2023-02-20T15:34:42.169Z"
   },
   {
    "duration": 224,
    "start_time": "2023-02-20T15:34:42.200Z"
   },
   {
    "duration": 12,
    "start_time": "2023-02-20T15:34:42.427Z"
   },
   {
    "duration": 4578,
    "start_time": "2023-02-20T15:34:42.441Z"
   },
   {
    "duration": 76,
    "start_time": "2023-02-20T15:34:47.022Z"
   },
   {
    "duration": 26,
    "start_time": "2023-02-20T15:34:47.101Z"
   },
   {
    "duration": 20,
    "start_time": "2023-02-20T15:34:47.129Z"
   },
   {
    "duration": 6552,
    "start_time": "2023-02-20T15:34:47.152Z"
   },
   {
    "duration": 11,
    "start_time": "2023-02-20T15:34:53.706Z"
   },
   {
    "duration": 14,
    "start_time": "2023-02-20T15:34:53.719Z"
   },
   {
    "duration": 12,
    "start_time": "2023-02-20T15:34:53.735Z"
   },
   {
    "duration": 6653,
    "start_time": "2023-02-20T15:34:53.748Z"
   },
   {
    "duration": 789,
    "start_time": "2023-02-20T15:35:00.404Z"
   },
   {
    "duration": 15,
    "start_time": "2023-02-20T15:35:01.196Z"
   },
   {
    "duration": 33,
    "start_time": "2023-02-20T15:35:01.215Z"
   },
   {
    "duration": 65,
    "start_time": "2023-02-20T15:35:01.250Z"
   },
   {
    "duration": 8287,
    "start_time": "2023-02-20T15:35:01.318Z"
   },
   {
    "duration": 383,
    "start_time": "2023-02-20T15:35:09.611Z"
   },
   {
    "duration": 11,
    "start_time": "2023-02-20T15:35:09.996Z"
   },
   {
    "duration": 22,
    "start_time": "2023-02-20T15:35:10.009Z"
   },
   {
    "duration": 28,
    "start_time": "2023-02-20T15:35:10.033Z"
   },
   {
    "duration": 1065,
    "start_time": "2023-02-20T15:35:10.063Z"
   },
   {
    "duration": 13,
    "start_time": "2023-02-20T15:35:11.130Z"
   },
   {
    "duration": 2314,
    "start_time": "2023-02-20T15:35:11.145Z"
   },
   {
    "duration": 731,
    "start_time": "2023-02-20T15:35:13.461Z"
   },
   {
    "duration": 13,
    "start_time": "2023-02-20T15:35:14.194Z"
   },
   {
    "duration": 27,
    "start_time": "2023-02-20T15:35:14.209Z"
   },
   {
    "duration": 30,
    "start_time": "2023-02-20T15:35:14.238Z"
   },
   {
    "duration": 434,
    "start_time": "2023-02-20T15:35:14.270Z"
   },
   {
    "duration": 6,
    "start_time": "2023-02-20T15:35:14.705Z"
   },
   {
    "duration": 6480,
    "start_time": "2023-02-20T15:35:14.714Z"
   },
   {
    "duration": 9,
    "start_time": "2023-02-20T15:35:21.196Z"
   },
   {
    "duration": 40,
    "start_time": "2023-02-20T15:35:21.207Z"
   },
   {
    "duration": 13,
    "start_time": "2023-02-20T15:35:21.249Z"
   },
   {
    "duration": 51,
    "start_time": "2023-02-20T15:35:21.264Z"
   },
   {
    "duration": 539,
    "start_time": "2023-02-20T15:35:21.317Z"
   },
   {
    "duration": 4860,
    "start_time": "2023-02-20T15:35:21.860Z"
   },
   {
    "duration": 1089,
    "start_time": "2023-02-20T15:35:26.722Z"
   },
   {
    "duration": 873,
    "start_time": "2023-02-20T15:35:27.814Z"
   },
   {
    "duration": 6,
    "start_time": "2023-02-20T15:35:28.690Z"
   },
   {
    "duration": 2009,
    "start_time": "2023-02-20T15:35:28.699Z"
   },
   {
    "duration": 283,
    "start_time": "2023-02-20T15:35:30.711Z"
   },
   {
    "duration": 333,
    "start_time": "2023-02-20T15:35:30.996Z"
   },
   {
    "duration": 304,
    "start_time": "2023-02-20T15:35:31.331Z"
   },
   {
    "duration": 1187,
    "start_time": "2023-02-20T15:35:31.637Z"
   },
   {
    "duration": 6,
    "start_time": "2023-02-20T15:35:32.825Z"
   },
   {
    "duration": 260,
    "start_time": "2023-02-20T15:35:32.832Z"
   },
   {
    "duration": 39,
    "start_time": "2023-02-20T15:35:33.094Z"
   },
   {
    "duration": 3316,
    "start_time": "2023-02-20T15:35:33.135Z"
   },
   {
    "duration": 14,
    "start_time": "2023-02-20T15:35:36.454Z"
   },
   {
    "duration": 30,
    "start_time": "2023-02-20T15:35:36.471Z"
   },
   {
    "duration": 1794,
    "start_time": "2023-03-24T23:44:03.693Z"
   },
   {
    "duration": 0,
    "start_time": "2023-03-24T23:44:05.490Z"
   },
   {
    "duration": 0,
    "start_time": "2023-03-24T23:44:05.491Z"
   },
   {
    "duration": 0,
    "start_time": "2023-03-24T23:44:05.492Z"
   },
   {
    "duration": 0,
    "start_time": "2023-03-24T23:44:05.493Z"
   },
   {
    "duration": 0,
    "start_time": "2023-03-24T23:44:05.494Z"
   },
   {
    "duration": 0,
    "start_time": "2023-03-24T23:44:05.495Z"
   },
   {
    "duration": 0,
    "start_time": "2023-03-24T23:44:05.497Z"
   },
   {
    "duration": 0,
    "start_time": "2023-03-24T23:44:05.498Z"
   },
   {
    "duration": 0,
    "start_time": "2023-03-24T23:44:05.499Z"
   },
   {
    "duration": 0,
    "start_time": "2023-03-24T23:44:05.500Z"
   },
   {
    "duration": 0,
    "start_time": "2023-03-24T23:44:05.501Z"
   },
   {
    "duration": 0,
    "start_time": "2023-03-24T23:44:05.502Z"
   },
   {
    "duration": 0,
    "start_time": "2023-03-24T23:44:05.503Z"
   },
   {
    "duration": 0,
    "start_time": "2023-03-24T23:44:05.505Z"
   },
   {
    "duration": 0,
    "start_time": "2023-03-24T23:44:05.506Z"
   },
   {
    "duration": 0,
    "start_time": "2023-03-24T23:44:05.507Z"
   },
   {
    "duration": 0,
    "start_time": "2023-03-24T23:44:05.508Z"
   },
   {
    "duration": 0,
    "start_time": "2023-03-24T23:44:05.509Z"
   },
   {
    "duration": 0,
    "start_time": "2023-03-24T23:44:05.510Z"
   },
   {
    "duration": 1,
    "start_time": "2023-03-24T23:44:05.511Z"
   },
   {
    "duration": 0,
    "start_time": "2023-03-24T23:44:05.513Z"
   },
   {
    "duration": 0,
    "start_time": "2023-03-24T23:44:05.514Z"
   },
   {
    "duration": 0,
    "start_time": "2023-03-24T23:44:05.515Z"
   },
   {
    "duration": 0,
    "start_time": "2023-03-24T23:44:05.516Z"
   },
   {
    "duration": 0,
    "start_time": "2023-03-24T23:44:05.517Z"
   },
   {
    "duration": 0,
    "start_time": "2023-03-24T23:44:05.518Z"
   },
   {
    "duration": 0,
    "start_time": "2023-03-24T23:44:05.519Z"
   },
   {
    "duration": 0,
    "start_time": "2023-03-24T23:44:05.520Z"
   },
   {
    "duration": 0,
    "start_time": "2023-03-24T23:44:05.521Z"
   },
   {
    "duration": 0,
    "start_time": "2023-03-24T23:44:05.523Z"
   },
   {
    "duration": 0,
    "start_time": "2023-03-24T23:44:05.525Z"
   },
   {
    "duration": 0,
    "start_time": "2023-03-24T23:44:05.588Z"
   },
   {
    "duration": 0,
    "start_time": "2023-03-24T23:44:05.589Z"
   },
   {
    "duration": 0,
    "start_time": "2023-03-24T23:44:05.590Z"
   },
   {
    "duration": 0,
    "start_time": "2023-03-24T23:44:05.591Z"
   },
   {
    "duration": 1,
    "start_time": "2023-03-24T23:44:05.592Z"
   },
   {
    "duration": 0,
    "start_time": "2023-03-24T23:44:05.593Z"
   },
   {
    "duration": 8374,
    "start_time": "2023-03-24T23:44:53.908Z"
   },
   {
    "duration": 28,
    "start_time": "2023-03-24T23:45:05.324Z"
   },
   {
    "duration": 2550,
    "start_time": "2023-03-24T23:45:29.198Z"
   },
   {
    "duration": 1317,
    "start_time": "2023-03-24T23:45:31.750Z"
   },
   {
    "duration": 96,
    "start_time": "2023-03-24T23:45:33.068Z"
   },
   {
    "duration": 10,
    "start_time": "2023-03-24T23:45:33.166Z"
   },
   {
    "duration": 23,
    "start_time": "2023-03-24T23:45:33.177Z"
   },
   {
    "duration": 154,
    "start_time": "2023-03-24T23:45:33.202Z"
   },
   {
    "duration": 0,
    "start_time": "2023-03-24T23:45:33.358Z"
   },
   {
    "duration": 0,
    "start_time": "2023-03-24T23:45:33.359Z"
   },
   {
    "duration": 0,
    "start_time": "2023-03-24T23:45:33.361Z"
   },
   {
    "duration": 0,
    "start_time": "2023-03-24T23:45:33.362Z"
   },
   {
    "duration": 0,
    "start_time": "2023-03-24T23:45:33.363Z"
   },
   {
    "duration": 0,
    "start_time": "2023-03-24T23:45:33.364Z"
   },
   {
    "duration": 0,
    "start_time": "2023-03-24T23:45:33.365Z"
   },
   {
    "duration": 0,
    "start_time": "2023-03-24T23:45:33.388Z"
   },
   {
    "duration": 0,
    "start_time": "2023-03-24T23:45:33.389Z"
   },
   {
    "duration": 0,
    "start_time": "2023-03-24T23:45:33.391Z"
   },
   {
    "duration": 0,
    "start_time": "2023-03-24T23:45:33.392Z"
   },
   {
    "duration": 0,
    "start_time": "2023-03-24T23:45:33.393Z"
   },
   {
    "duration": 0,
    "start_time": "2023-03-24T23:45:33.394Z"
   },
   {
    "duration": 0,
    "start_time": "2023-03-24T23:45:33.395Z"
   },
   {
    "duration": 0,
    "start_time": "2023-03-24T23:45:33.396Z"
   },
   {
    "duration": 0,
    "start_time": "2023-03-24T23:45:33.397Z"
   },
   {
    "duration": 0,
    "start_time": "2023-03-24T23:45:33.398Z"
   },
   {
    "duration": 0,
    "start_time": "2023-03-24T23:45:33.399Z"
   },
   {
    "duration": 0,
    "start_time": "2023-03-24T23:45:33.400Z"
   },
   {
    "duration": 0,
    "start_time": "2023-03-24T23:45:33.401Z"
   },
   {
    "duration": 0,
    "start_time": "2023-03-24T23:45:33.402Z"
   },
   {
    "duration": 0,
    "start_time": "2023-03-24T23:45:33.403Z"
   },
   {
    "duration": 0,
    "start_time": "2023-03-24T23:45:33.404Z"
   },
   {
    "duration": 0,
    "start_time": "2023-03-24T23:45:33.405Z"
   },
   {
    "duration": 0,
    "start_time": "2023-03-24T23:45:33.406Z"
   },
   {
    "duration": 0,
    "start_time": "2023-03-24T23:45:33.407Z"
   },
   {
    "duration": 0,
    "start_time": "2023-03-24T23:45:33.409Z"
   },
   {
    "duration": 0,
    "start_time": "2023-03-24T23:45:33.410Z"
   },
   {
    "duration": 0,
    "start_time": "2023-03-24T23:45:33.411Z"
   },
   {
    "duration": 0,
    "start_time": "2023-03-24T23:45:33.412Z"
   },
   {
    "duration": 0,
    "start_time": "2023-03-24T23:45:33.413Z"
   },
   {
    "duration": 0,
    "start_time": "2023-03-24T23:45:33.414Z"
   },
   {
    "duration": 0,
    "start_time": "2023-03-24T23:45:33.415Z"
   },
   {
    "duration": 11477,
    "start_time": "2023-03-24T23:48:23.198Z"
   },
   {
    "duration": 1594,
    "start_time": "2023-03-24T23:48:34.678Z"
   },
   {
    "duration": 45,
    "start_time": "2023-03-24T23:48:36.273Z"
   },
   {
    "duration": 11,
    "start_time": "2023-03-24T23:48:36.321Z"
   },
   {
    "duration": 40,
    "start_time": "2023-03-24T23:48:36.334Z"
   },
   {
    "duration": 1552,
    "start_time": "2023-03-24T23:48:36.375Z"
   },
   {
    "duration": 5,
    "start_time": "2023-03-24T23:48:37.929Z"
   },
   {
    "duration": 8,
    "start_time": "2023-03-24T23:48:37.936Z"
   },
   {
    "duration": 18,
    "start_time": "2023-03-24T23:48:37.945Z"
   },
   {
    "duration": 427,
    "start_time": "2023-03-24T23:48:37.966Z"
   },
   {
    "duration": 13,
    "start_time": "2023-03-24T23:48:38.394Z"
   },
   {
    "duration": 15,
    "start_time": "2023-03-24T23:48:38.408Z"
   },
   {
    "duration": 3,
    "start_time": "2023-03-24T23:48:38.425Z"
   },
   {
    "duration": 14,
    "start_time": "2023-03-24T23:48:38.430Z"
   },
   {
    "duration": 12,
    "start_time": "2023-03-24T23:48:38.446Z"
   },
   {
    "duration": 55,
    "start_time": "2023-03-24T23:48:38.459Z"
   },
   {
    "duration": 17,
    "start_time": "2023-03-24T23:48:38.515Z"
   },
   {
    "duration": 8,
    "start_time": "2023-03-24T23:48:38.534Z"
   },
   {
    "duration": 3335,
    "start_time": "2023-03-24T23:48:38.544Z"
   },
   {
    "duration": 17,
    "start_time": "2023-03-24T23:48:41.881Z"
   },
   {
    "duration": 937,
    "start_time": "2023-03-24T23:48:41.900Z"
   },
   {
    "duration": 3,
    "start_time": "2023-03-24T23:48:42.839Z"
   },
   {
    "duration": 10,
    "start_time": "2023-03-24T23:48:42.844Z"
   },
   {
    "duration": 78365,
    "start_time": "2023-03-24T23:48:42.856Z"
   },
   {
    "duration": 304,
    "start_time": "2023-03-24T23:50:01.223Z"
   },
   {
    "duration": 3,
    "start_time": "2023-03-24T23:50:01.529Z"
   },
   {
    "duration": 8131,
    "start_time": "2023-03-24T23:50:19.648Z"
   },
   {
    "duration": 1479,
    "start_time": "2023-03-24T23:50:27.782Z"
   },
   {
    "duration": 44,
    "start_time": "2023-03-24T23:50:29.263Z"
   },
   {
    "duration": 11,
    "start_time": "2023-03-24T23:50:29.310Z"
   },
   {
    "duration": 44,
    "start_time": "2023-03-24T23:50:29.323Z"
   },
   {
    "duration": 1506,
    "start_time": "2023-03-24T23:50:29.369Z"
   },
   {
    "duration": 6,
    "start_time": "2023-03-24T23:50:30.877Z"
   },
   {
    "duration": 32,
    "start_time": "2023-03-24T23:50:30.887Z"
   },
   {
    "duration": 32,
    "start_time": "2023-03-24T23:50:30.921Z"
   },
   {
    "duration": 452,
    "start_time": "2023-03-24T23:50:30.956Z"
   },
   {
    "duration": 14,
    "start_time": "2023-03-24T23:50:31.409Z"
   },
   {
    "duration": 38,
    "start_time": "2023-03-24T23:50:31.425Z"
   },
   {
    "duration": 23,
    "start_time": "2023-03-24T23:50:31.465Z"
   },
   {
    "duration": 35,
    "start_time": "2023-03-24T23:50:31.490Z"
   },
   {
    "duration": 32,
    "start_time": "2023-03-24T23:50:31.527Z"
   },
   {
    "duration": 53,
    "start_time": "2023-03-24T23:50:31.562Z"
   },
   {
    "duration": 40,
    "start_time": "2023-03-24T23:50:31.616Z"
   },
   {
    "duration": 29,
    "start_time": "2023-03-24T23:50:31.658Z"
   },
   {
    "duration": 3153,
    "start_time": "2023-03-24T23:50:31.689Z"
   },
   {
    "duration": 26,
    "start_time": "2023-03-24T23:50:34.843Z"
   },
   {
    "duration": 947,
    "start_time": "2023-03-24T23:50:34.871Z"
   },
   {
    "duration": 3,
    "start_time": "2023-03-24T23:50:35.820Z"
   },
   {
    "duration": 15,
    "start_time": "2023-03-24T23:50:35.824Z"
   },
   {
    "duration": 78051,
    "start_time": "2023-03-24T23:50:35.841Z"
   },
   {
    "duration": 307,
    "start_time": "2023-03-24T23:51:53.894Z"
   },
   {
    "duration": 4,
    "start_time": "2023-03-24T23:51:54.203Z"
   },
   {
    "duration": 68460,
    "start_time": "2023-03-24T23:51:54.208Z"
   },
   {
    "duration": 316,
    "start_time": "2023-03-24T23:53:02.671Z"
   },
   {
    "duration": 3,
    "start_time": "2023-03-24T23:53:02.989Z"
   },
   {
    "duration": 2093311,
    "start_time": "2023-03-24T23:53:02.994Z"
   },
   {
    "duration": 49172,
    "start_time": "2023-03-25T00:27:56.307Z"
   },
   {
    "duration": 7,
    "start_time": "2023-03-25T00:28:45.481Z"
   },
   {
    "duration": 8,
    "start_time": "2023-03-25T00:28:45.490Z"
   },
   {
    "duration": 11,
    "start_time": "2023-03-25T00:28:45.500Z"
   },
   {
    "duration": 736,
    "start_time": "2023-03-25T00:28:45.513Z"
   },
   {
    "duration": 940,
    "start_time": "2023-03-25T00:28:46.251Z"
   },
   {
    "duration": 107,
    "start_time": "2023-03-25T00:28:47.193Z"
   },
   {
    "duration": 18,
    "start_time": "2023-03-25T00:28:47.302Z"
   },
   {
    "duration": 17,
    "start_time": "2023-03-25T00:28:47.321Z"
   },
   {
    "duration": 21556,
    "start_time": "2023-03-26T09:29:02.563Z"
   },
   {
    "duration": 1667,
    "start_time": "2023-03-26T09:29:24.122Z"
   },
   {
    "duration": 182,
    "start_time": "2023-03-26T09:29:25.791Z"
   },
   {
    "duration": 10,
    "start_time": "2023-03-26T09:29:25.975Z"
   },
   {
    "duration": 24,
    "start_time": "2023-03-26T09:29:25.988Z"
   },
   {
    "duration": 1669,
    "start_time": "2023-03-26T09:29:26.014Z"
   },
   {
    "duration": 6,
    "start_time": "2023-03-26T09:29:27.685Z"
   },
   {
    "duration": 4,
    "start_time": "2023-03-26T09:29:27.692Z"
   },
   {
    "duration": 10,
    "start_time": "2023-03-26T09:29:27.698Z"
   },
   {
    "duration": 331,
    "start_time": "2023-03-26T09:29:27.710Z"
   },
   {
    "duration": 8,
    "start_time": "2023-03-26T09:30:20.005Z"
   },
   {
    "duration": 6,
    "start_time": "2023-03-26T09:30:30.251Z"
   },
   {
    "duration": 4,
    "start_time": "2023-03-26T09:30:31.893Z"
   },
   {
    "duration": 69,
    "start_time": "2023-03-26T09:30:41.449Z"
   },
   {
    "duration": 81,
    "start_time": "2023-03-26T09:30:44.511Z"
   },
   {
    "duration": 972,
    "start_time": "2023-03-26T09:30:48.543Z"
   },
   {
    "duration": 5,
    "start_time": "2023-03-26T09:30:52.131Z"
   },
   {
    "duration": 6,
    "start_time": "2023-03-26T09:31:03.796Z"
   },
   {
    "duration": 7,
    "start_time": "2023-03-26T09:31:10.879Z"
   },
   {
    "duration": 54,
    "start_time": "2023-03-26T13:59:05.734Z"
   },
   {
    "duration": 37041,
    "start_time": "2023-03-26T22:22:59.427Z"
   },
   {
    "duration": 1548,
    "start_time": "2023-03-26T22:23:36.470Z"
   },
   {
    "duration": 92,
    "start_time": "2023-03-26T22:23:38.020Z"
   },
   {
    "duration": 9,
    "start_time": "2023-03-26T22:23:38.114Z"
   },
   {
    "duration": 9,
    "start_time": "2023-03-26T22:23:38.125Z"
   },
   {
    "duration": 22,
    "start_time": "2023-03-26T22:23:38.135Z"
   },
   {
    "duration": 1412,
    "start_time": "2023-03-26T22:23:38.159Z"
   },
   {
    "duration": 6,
    "start_time": "2023-03-26T22:23:39.572Z"
   },
   {
    "duration": 5,
    "start_time": "2023-03-26T22:23:39.579Z"
   },
   {
    "duration": 4,
    "start_time": "2023-03-26T22:23:39.777Z"
   },
   {
    "duration": 3226,
    "start_time": "2023-03-26T22:23:49.952Z"
   },
   {
    "duration": 9,
    "start_time": "2023-03-26T22:24:55.562Z"
   },
   {
    "duration": 1073,
    "start_time": "2023-03-26T22:25:04.091Z"
   },
   {
    "duration": 1054,
    "start_time": "2023-03-26T22:25:11.520Z"
   },
   {
    "duration": 10,
    "start_time": "2023-03-26T22:25:42.408Z"
   },
   {
    "duration": 3103,
    "start_time": "2023-03-26T22:25:48.009Z"
   },
   {
    "duration": 9,
    "start_time": "2023-03-26T22:27:18.472Z"
   },
   {
    "duration": 3115,
    "start_time": "2023-03-26T22:27:28.170Z"
   },
   {
    "duration": 7142,
    "start_time": "2023-03-26T22:37:30.843Z"
   },
   {
    "duration": 1394,
    "start_time": "2023-03-26T22:37:37.987Z"
   },
   {
    "duration": 43,
    "start_time": "2023-03-26T22:37:39.383Z"
   },
   {
    "duration": 10,
    "start_time": "2023-03-26T22:37:39.428Z"
   },
   {
    "duration": 8,
    "start_time": "2023-03-26T22:37:39.441Z"
   },
   {
    "duration": 29,
    "start_time": "2023-03-26T22:37:39.450Z"
   },
   {
    "duration": 1330,
    "start_time": "2023-03-26T22:37:39.481Z"
   },
   {
    "duration": 6,
    "start_time": "2023-03-26T22:37:40.812Z"
   },
   {
    "duration": 4,
    "start_time": "2023-03-26T22:37:40.819Z"
   },
   {
    "duration": 6,
    "start_time": "2023-03-26T22:37:40.824Z"
   },
   {
    "duration": 402,
    "start_time": "2023-03-26T22:37:40.831Z"
   },
   {
    "duration": 12,
    "start_time": "2023-03-26T22:37:41.235Z"
   },
   {
    "duration": 30,
    "start_time": "2023-03-26T22:37:41.248Z"
   },
   {
    "duration": 3,
    "start_time": "2023-03-26T22:37:41.282Z"
   },
   {
    "duration": 15,
    "start_time": "2023-03-26T22:37:41.287Z"
   },
   {
    "duration": 11,
    "start_time": "2023-03-26T22:37:41.303Z"
   },
   {
    "duration": 70,
    "start_time": "2023-03-26T22:37:41.315Z"
   },
   {
    "duration": 0,
    "start_time": "2023-03-26T22:37:41.386Z"
   },
   {
    "duration": 0,
    "start_time": "2023-03-26T22:37:41.387Z"
   },
   {
    "duration": 0,
    "start_time": "2023-03-26T22:37:41.388Z"
   },
   {
    "duration": 0,
    "start_time": "2023-03-26T22:37:41.390Z"
   },
   {
    "duration": 0,
    "start_time": "2023-03-26T22:37:41.391Z"
   },
   {
    "duration": 1,
    "start_time": "2023-03-26T22:37:41.391Z"
   },
   {
    "duration": 1,
    "start_time": "2023-03-26T22:37:41.392Z"
   },
   {
    "duration": 93,
    "start_time": "2023-03-26T22:38:16.982Z"
   },
   {
    "duration": 69,
    "start_time": "2023-03-26T22:38:19.425Z"
   },
   {
    "duration": 121,
    "start_time": "2023-03-26T22:39:11.084Z"
   },
   {
    "duration": 21,
    "start_time": "2023-03-26T22:39:52.490Z"
   },
   {
    "duration": 16,
    "start_time": "2023-03-26T22:39:56.415Z"
   },
   {
    "duration": 7,
    "start_time": "2023-03-26T22:39:59.900Z"
   },
   {
    "duration": 2383,
    "start_time": "2023-03-26T22:40:01.705Z"
   },
   {
    "duration": 11,
    "start_time": "2023-03-26T22:40:07.487Z"
   },
   {
    "duration": 322,
    "start_time": "2023-03-26T22:40:09.689Z"
   },
   {
    "duration": 584,
    "start_time": "2023-03-26T22:40:19.656Z"
   },
   {
    "duration": 344,
    "start_time": "2023-03-26T22:40:22.760Z"
   },
   {
    "duration": 3,
    "start_time": "2023-03-26T22:40:29.670Z"
   },
   {
    "duration": 3,
    "start_time": "2023-03-26T22:40:32.090Z"
   },
   {
    "duration": 9,
    "start_time": "2023-03-26T22:53:31.655Z"
   },
   {
    "duration": 354,
    "start_time": "2023-03-26T22:53:39.353Z"
   },
   {
    "duration": 5647,
    "start_time": "2023-03-26T22:53:47.772Z"
   },
   {
    "duration": 5,
    "start_time": "2023-03-26T22:54:20.075Z"
   },
   {
    "duration": 2960,
    "start_time": "2023-03-26T22:54:28.395Z"
   },
   {
    "duration": 67644,
    "start_time": "2023-03-26T22:54:42.260Z"
   },
   {
    "duration": 3,
    "start_time": "2023-03-26T22:56:04.488Z"
   },
   {
    "duration": 66738,
    "start_time": "2023-03-26T22:56:08.419Z"
   },
   {
    "duration": 347,
    "start_time": "2023-03-26T22:57:15.158Z"
   },
   {
    "duration": 399,
    "start_time": "2023-03-26T22:57:39.596Z"
   },
   {
    "duration": 340,
    "start_time": "2023-03-26T22:57:45.702Z"
   },
   {
    "duration": 348,
    "start_time": "2023-03-26T22:57:54.641Z"
   },
   {
    "duration": 479,
    "start_time": "2023-03-26T22:58:59.859Z"
   },
   {
    "duration": 615,
    "start_time": "2023-03-26T22:59:12.206Z"
   },
   {
    "duration": 457,
    "start_time": "2023-03-26T22:59:35.437Z"
   },
   {
    "duration": 506,
    "start_time": "2023-03-26T22:59:41.415Z"
   },
   {
    "duration": 509,
    "start_time": "2023-03-26T22:59:52.574Z"
   },
   {
    "duration": 412,
    "start_time": "2023-03-26T23:02:26.238Z"
   },
   {
    "duration": 395,
    "start_time": "2023-03-26T23:02:43.386Z"
   },
   {
    "duration": 5,
    "start_time": "2023-03-26T23:07:43.686Z"
   },
   {
    "duration": 4,
    "start_time": "2023-03-26T23:08:43.050Z"
   },
   {
    "duration": 4,
    "start_time": "2023-03-26T23:08:46.625Z"
   },
   {
    "duration": 203,
    "start_time": "2023-03-26T23:09:15.722Z"
   },
   {
    "duration": 239,
    "start_time": "2023-03-26T23:09:56.768Z"
   },
   {
    "duration": 203,
    "start_time": "2023-03-26T23:10:10.105Z"
   },
   {
    "duration": 69,
    "start_time": "2023-03-26T23:12:11.242Z"
   },
   {
    "duration": 209,
    "start_time": "2023-03-26T23:12:14.399Z"
   },
   {
    "duration": 206,
    "start_time": "2023-03-26T23:19:24.604Z"
   },
   {
    "duration": 356,
    "start_time": "2023-03-26T23:19:34.359Z"
   },
   {
    "duration": 7369,
    "start_time": "2023-03-26T23:49:38.297Z"
   },
   {
    "duration": 1391,
    "start_time": "2023-03-26T23:49:45.669Z"
   },
   {
    "duration": 46,
    "start_time": "2023-03-26T23:49:47.062Z"
   },
   {
    "duration": 9,
    "start_time": "2023-03-26T23:49:47.111Z"
   },
   {
    "duration": 8,
    "start_time": "2023-03-26T23:49:47.121Z"
   },
   {
    "duration": 23,
    "start_time": "2023-03-26T23:49:47.130Z"
   },
   {
    "duration": 1209,
    "start_time": "2023-03-26T23:49:47.154Z"
   },
   {
    "duration": 5,
    "start_time": "2023-03-26T23:49:48.364Z"
   },
   {
    "duration": 9,
    "start_time": "2023-03-26T23:49:48.370Z"
   },
   {
    "duration": 18,
    "start_time": "2023-03-26T23:49:48.381Z"
   },
   {
    "duration": 331,
    "start_time": "2023-03-26T23:49:48.401Z"
   },
   {
    "duration": 9,
    "start_time": "2023-03-26T23:49:48.733Z"
   },
   {
    "duration": 10,
    "start_time": "2023-03-26T23:49:48.744Z"
   },
   {
    "duration": 17,
    "start_time": "2023-03-26T23:49:48.755Z"
   },
   {
    "duration": 18,
    "start_time": "2023-03-26T23:49:48.773Z"
   },
   {
    "duration": 8,
    "start_time": "2023-03-26T23:49:48.793Z"
   },
   {
    "duration": 30,
    "start_time": "2023-03-26T23:49:48.803Z"
   },
   {
    "duration": 20,
    "start_time": "2023-03-26T23:49:48.835Z"
   },
   {
    "duration": 14,
    "start_time": "2023-03-26T23:49:48.857Z"
   },
   {
    "duration": 2373,
    "start_time": "2023-03-26T23:49:48.872Z"
   },
   {
    "duration": 10,
    "start_time": "2023-03-26T23:49:51.246Z"
   },
   {
    "duration": 571,
    "start_time": "2023-03-26T23:49:51.258Z"
   },
   {
    "duration": 329,
    "start_time": "2023-03-26T23:49:51.831Z"
   },
   {
    "duration": 3,
    "start_time": "2023-03-26T23:49:52.161Z"
   },
   {
    "duration": 9,
    "start_time": "2023-03-26T23:49:52.172Z"
   },
   {
    "duration": 11027,
    "start_time": "2023-03-26T23:49:52.182Z"
   },
   {
    "duration": 0,
    "start_time": "2023-03-26T23:50:03.211Z"
   },
   {
    "duration": 0,
    "start_time": "2023-03-26T23:50:03.212Z"
   },
   {
    "duration": 0,
    "start_time": "2023-03-26T23:50:03.213Z"
   },
   {
    "duration": 0,
    "start_time": "2023-03-26T23:50:03.214Z"
   },
   {
    "duration": 0,
    "start_time": "2023-03-26T23:50:03.215Z"
   },
   {
    "duration": 0,
    "start_time": "2023-03-26T23:50:03.216Z"
   },
   {
    "duration": 0,
    "start_time": "2023-03-26T23:50:03.216Z"
   },
   {
    "duration": 0,
    "start_time": "2023-03-26T23:50:03.217Z"
   },
   {
    "duration": 0,
    "start_time": "2023-03-26T23:50:03.218Z"
   },
   {
    "duration": 0,
    "start_time": "2023-03-26T23:50:03.219Z"
   },
   {
    "duration": 0,
    "start_time": "2023-03-26T23:50:03.219Z"
   },
   {
    "duration": 0,
    "start_time": "2023-03-26T23:50:03.220Z"
   },
   {
    "duration": 0,
    "start_time": "2023-03-26T23:50:03.221Z"
   },
   {
    "duration": 0,
    "start_time": "2023-03-26T23:50:03.222Z"
   },
   {
    "duration": 0,
    "start_time": "2023-03-26T23:50:03.223Z"
   },
   {
    "duration": 0,
    "start_time": "2023-03-26T23:50:03.224Z"
   },
   {
    "duration": 0,
    "start_time": "2023-03-26T23:50:03.225Z"
   },
   {
    "duration": 6714,
    "start_time": "2023-03-26T23:51:04.889Z"
   },
   {
    "duration": 1302,
    "start_time": "2023-03-26T23:51:11.605Z"
   },
   {
    "duration": 42,
    "start_time": "2023-03-26T23:51:12.909Z"
   },
   {
    "duration": 10,
    "start_time": "2023-03-26T23:51:12.953Z"
   },
   {
    "duration": 11,
    "start_time": "2023-03-26T23:51:12.964Z"
   },
   {
    "duration": 22,
    "start_time": "2023-03-26T23:51:12.977Z"
   },
   {
    "duration": 1187,
    "start_time": "2023-03-26T23:51:13.000Z"
   },
   {
    "duration": 6,
    "start_time": "2023-03-26T23:51:14.188Z"
   },
   {
    "duration": 8,
    "start_time": "2023-03-26T23:51:14.195Z"
   },
   {
    "duration": 30,
    "start_time": "2023-03-26T23:51:14.205Z"
   },
   {
    "duration": 355,
    "start_time": "2023-03-26T23:51:14.236Z"
   },
   {
    "duration": 9,
    "start_time": "2023-03-26T23:51:14.593Z"
   },
   {
    "duration": 60,
    "start_time": "2023-03-26T23:51:14.604Z"
   },
   {
    "duration": 13,
    "start_time": "2023-03-26T23:51:14.665Z"
   },
   {
    "duration": 69,
    "start_time": "2023-03-26T23:51:14.680Z"
   },
   {
    "duration": 48,
    "start_time": "2023-03-26T23:51:14.751Z"
   },
   {
    "duration": 31,
    "start_time": "2023-03-26T23:51:14.800Z"
   },
   {
    "duration": 12,
    "start_time": "2023-03-26T23:51:14.832Z"
   },
   {
    "duration": 26,
    "start_time": "2023-03-26T23:51:14.846Z"
   },
   {
    "duration": 2336,
    "start_time": "2023-03-26T23:51:14.874Z"
   },
   {
    "duration": 11,
    "start_time": "2023-03-26T23:51:17.211Z"
   },
   {
    "duration": 573,
    "start_time": "2023-03-26T23:51:17.224Z"
   },
   {
    "duration": 349,
    "start_time": "2023-03-26T23:51:17.798Z"
   },
   {
    "duration": 3,
    "start_time": "2023-03-26T23:51:18.149Z"
   },
   {
    "duration": 29,
    "start_time": "2023-03-26T23:51:18.153Z"
   },
   {
    "duration": 96779,
    "start_time": "2023-03-26T23:51:18.183Z"
   },
   {
    "duration": 322,
    "start_time": "2023-03-26T23:52:54.964Z"
   },
   {
    "duration": 256,
    "start_time": "2023-03-26T23:52:55.289Z"
   },
   {
    "duration": 2,
    "start_time": "2023-03-26T23:52:55.547Z"
   },
   {
    "duration": 19769,
    "start_time": "2023-03-26T23:52:55.551Z"
   },
   {
    "duration": 283,
    "start_time": "2023-03-26T23:53:15.321Z"
   },
   {
    "duration": 3,
    "start_time": "2023-03-26T23:53:15.605Z"
   },
   {
    "duration": 986192,
    "start_time": "2023-03-26T23:53:15.609Z"
   },
   {
    "duration": 27275,
    "start_time": "2023-03-27T00:09:41.803Z"
   },
   {
    "duration": 4,
    "start_time": "2023-03-27T00:10:09.080Z"
   },
   {
    "duration": 18,
    "start_time": "2023-03-27T00:10:09.085Z"
   },
   {
    "duration": 7,
    "start_time": "2023-03-27T00:10:09.105Z"
   },
   {
    "duration": 637,
    "start_time": "2023-03-27T00:10:09.114Z"
   },
   {
    "duration": 597,
    "start_time": "2023-03-27T00:10:09.753Z"
   },
   {
    "duration": 69,
    "start_time": "2023-03-27T00:10:10.352Z"
   },
   {
    "duration": 160,
    "start_time": "2023-03-27T00:10:10.422Z"
   },
   {
    "duration": 0,
    "start_time": "2023-03-27T00:10:10.584Z"
   },
   {
    "duration": 0,
    "start_time": "2023-03-27T00:10:10.585Z"
   },
   {
    "duration": 48,
    "start_time": "2023-03-27T00:11:08.114Z"
   },
   {
    "duration": 47,
    "start_time": "2023-03-27T00:12:03.339Z"
   },
   {
    "duration": 387,
    "start_time": "2023-03-27T00:12:12.817Z"
   },
   {
    "duration": 3479,
    "start_time": "2023-03-27T00:12:47.740Z"
   }
  ],
  "accelerator": "GPU",
  "colab": {
   "provenance": [],
   "toc_visible": true
  },
  "gpuClass": "standard",
  "kernelspec": {
   "display_name": "Python 3 (ipykernel)",
   "language": "python",
   "name": "python3"
  },
  "language_info": {
   "codemirror_mode": {
    "name": "ipython",
    "version": 3
   },
   "file_extension": ".py",
   "mimetype": "text/x-python",
   "name": "python",
   "nbconvert_exporter": "python",
   "pygments_lexer": "ipython3",
   "version": "3.9.5"
  },
  "toc": {
   "base_numbering": 1,
   "nav_menu": {},
   "number_sections": true,
   "sideBar": true,
   "skip_h1_title": true,
   "title_cell": "Table of Contents",
   "title_sidebar": "Contents",
   "toc_cell": false,
   "toc_position": {},
   "toc_section_display": true,
   "toc_window_display": false
  }
 },
 "nbformat": 4,
 "nbformat_minor": 1
}

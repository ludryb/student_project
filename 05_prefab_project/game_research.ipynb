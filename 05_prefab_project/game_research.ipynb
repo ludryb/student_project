{
  "cells": [
    {
      "attachments": {},
      "cell_type": "markdown",
      "metadata": {
        "id": "HXJZRLnGvjku"
      },
      "source": [
        "# Исследование и анализ данных по продаже компьютерных игр"
      ]
    },
    {
      "attachments": {},
      "cell_type": "markdown",
      "metadata": {
        "id": "6euGHKx2wEoY"
      },
      "source": [
        "**Исходные данные:** \n",
        "\n",
        "исторические данные из открытых источников  о продажах игр, с оценками пользователей и экспертов, жанрами и платформами (например, Xbox или PlayStation).\n",
        "\n",
        "**Цель:**\n",
        "\n",
        "выявить определяющие успешность игры закономерности. Это позволит сделать ставку на потенциально популярный продукт и спланировать рекламные кампании."
      ]
    },
    {
      "attachments": {},
      "cell_type": "markdown",
      "metadata": {
        "id": "ZJc9KcZ0wECt"
      },
      "source": [
        "**Этапы исследования:**\n",
        "\n",
        "\n",
        "1.   Загрузка исходных данных и их общая оценка, построение гистрограмм для каждого столбца с числовыми значениями.\n",
        "\n",
        "\n",
        "2.   Подготовка данных для последующей работы:\n",
        "\n",
        "    *   обработка пропусков: поиск, изучение, заполнении или удаление, где это возможно или обоснованное игнорирование этих значений;\n",
        "  *   работа с типами данных: поиск столбцов с несоответствующими типами и последующая замена;\n",
        "  *   обработка дубликатов;\n",
        "  *   обработка аномальных значений: поиск и восстановление данных, где это возможно, или удаление, для устранения искажения данных.\n",
        "\n",
        "  \n",
        "3.   Добавление новых столбцов: \n",
        "\n",
        "  *   суммарные продажи во всех регионах.  \n",
        "\n",
        "  \n",
        "4.   Проведение исследовательского анализа данных:\n",
        "  * изучение количества игры по годам, оценка значимости периодов;\n",
        "  * изучение распределения продаж в зависимости от платформы, построение графиков распределения по годам для платформы с наибольшими суммарными продажами, определение срока появления/исчезновения старых платфом;\n",
        "  \n",
        "  Нижеприведенные задачи применяются для исследования актуального периода, который определяется на основе предыдущего анализа. Основной фактор определения — эти данные помогут построить прогноз на 2017 год.\n",
        "\n",
        "  * оценка потенциально прибыльных платформ;\n",
        "  * построение диаграммы размаха по глобальным продажам игр в разбивке по платформам;\n",
        "  * анализ влияния отзывов пользователей, критиков на продажи внутри одной популярной платформы, построение диаграммы рассеяния и подсчет корреляции между отзывами и продажами, соотнесение выводов относительно других платформ;\n",
        "  * оценка общего распределение игр по жанрам и продаж по ним.\n",
        "\n",
        "  \n",
        "5. Составление портрета пользователя каждого региона:\n",
        "Определите для пользователя каждого региона (NA, EU, JP):\n",
        "  * определение самых популярные платформы (топ-5) и анализ различия в долях продаж;\n",
        "  * определение и анализ самых популярных жанров (топ-5); \n",
        "  * определение влияния рейтинга ESRB на продажи в отдельном регионе.\n",
        "\n",
        "6. Проверка гипотез:\n",
        "  * средние пользовательские рейтинги платформ Xbox One и PC одинаковые;\n",
        "  * средние пользовательские рейтинги жанров Action и Sports разные.\n",
        "7. Заключение, подведение итогов работы.\n"
      ]
    },
    {
      "attachments": {},
      "cell_type": "markdown",
      "metadata": {
        "id": "JnxXRkG6586c"
      },
      "source": [
        "## 1 Загрузка исходных данных"
      ]
    },
    {
      "cell_type": "code",
      "execution_count": null,
      "metadata": {
        "id": "s_a_vOr4yVlZ",
        "trusted": true
      },
      "outputs": [],
      "source": [
        "import pandas as pd\n",
        "import numpy as np\n",
        "import matplotlib.pyplot as plt\n",
        "import seaborn as sns\n",
        "import scipy.stats as st\n",
        "import plotly.graph_objects as go\n",
        "from plotly.subplots import make_subplots\n",
        "\n"
      ]
    },
    {
      "cell_type": "code",
      "execution_count": null,
      "metadata": {
        "id": "24xsalAbvC1W",
        "trusted": true
      },
      "outputs": [],
      "source": [
        "def decor(col):\n",
        "  f, (ax_box, ax_hist) = plt.subplots(2, sharex=True,\n",
        "                                    gridspec_kw={\"height_ratios\": (.25, .90)},\n",
        "                                    figsize=(10, 8))\n",
        "  sns.set_style(\"whitegrid\")\n",
        "  sns.boxplot(data=col[(col.notna())], ax=ax_box, orient=\"h\")\n",
        "  sns.histplot(data=col[(col.notna())], ax=ax_hist)\n",
        "  plt.yscale(\"log\")\n",
        "  plt.show()"
      ]
    },
    {
      "cell_type": "code",
      "execution_count": null,
      "metadata": {
        "colab": {
          "base_uri": "https://localhost:8080/"
        },
        "id": "YgRaLZKRojWr",
        "outputId": "ef26d2ff-36fc-4824-f3b6-37d693bd4ed8",
        "trusted": true
      },
      "outputs": [
        {
          "name": "stdout",
          "output_type": "stream",
          "text": [
            "Mounted at /content/drive\n"
          ]
        }
      ],
      "source": [
        "try:\n",
        "  from google.colab import drive\n",
        "  drive.mount('/content/drive')\n",
        "  games = pd.read_csv(\"/content/drive/MyDrive/Yandex/games.csv\")\n",
        "except:\n",
        "  games = pd.read_csv(\"/datasets/games.csv\")"
      ]
    },
    {
      "cell_type": "code",
      "execution_count": null,
      "metadata": {
        "colab": {
          "base_uri": "https://localhost:8080/",
          "height": 250
        },
        "id": "SEQ7BnlJ8C1p",
        "outputId": "bbef73dc-b1f5-4bd2-d4e6-e4d7a63a5b34",
        "trusted": true
      },
      "outputs": [
        {
          "data": {
            "text/html": [
              "\n",
              "  <div id=\"df-d4e7562a-e120-487d-9dbd-8b161926e4e9\">\n",
              "    <div class=\"colab-df-container\">\n",
              "      <div>\n",
              "<style scoped>\n",
              "    .dataframe tbody tr th:only-of-type {\n",
              "        vertical-align: middle;\n",
              "    }\n",
              "\n",
              "    .dataframe tbody tr th {\n",
              "        vertical-align: top;\n",
              "    }\n",
              "\n",
              "    .dataframe thead th {\n",
              "        text-align: right;\n",
              "    }\n",
              "</style>\n",
              "<table border=\"1\" class=\"dataframe\">\n",
              "  <thead>\n",
              "    <tr style=\"text-align: right;\">\n",
              "      <th></th>\n",
              "      <th>Name</th>\n",
              "      <th>Platform</th>\n",
              "      <th>Year_of_Release</th>\n",
              "      <th>Genre</th>\n",
              "      <th>NA_sales</th>\n",
              "      <th>EU_sales</th>\n",
              "      <th>JP_sales</th>\n",
              "      <th>Other_sales</th>\n",
              "      <th>Critic_Score</th>\n",
              "      <th>User_Score</th>\n",
              "      <th>Rating</th>\n",
              "    </tr>\n",
              "  </thead>\n",
              "  <tbody>\n",
              "    <tr>\n",
              "      <th>0</th>\n",
              "      <td>Wii Sports</td>\n",
              "      <td>Wii</td>\n",
              "      <td>2006.0</td>\n",
              "      <td>Sports</td>\n",
              "      <td>41.36</td>\n",
              "      <td>28.96</td>\n",
              "      <td>3.77</td>\n",
              "      <td>8.45</td>\n",
              "      <td>76.0</td>\n",
              "      <td>8</td>\n",
              "      <td>E</td>\n",
              "    </tr>\n",
              "    <tr>\n",
              "      <th>1</th>\n",
              "      <td>Super Mario Bros.</td>\n",
              "      <td>NES</td>\n",
              "      <td>1985.0</td>\n",
              "      <td>Platform</td>\n",
              "      <td>29.08</td>\n",
              "      <td>3.58</td>\n",
              "      <td>6.81</td>\n",
              "      <td>0.77</td>\n",
              "      <td>NaN</td>\n",
              "      <td>NaN</td>\n",
              "      <td>NaN</td>\n",
              "    </tr>\n",
              "    <tr>\n",
              "      <th>2</th>\n",
              "      <td>Mario Kart Wii</td>\n",
              "      <td>Wii</td>\n",
              "      <td>2008.0</td>\n",
              "      <td>Racing</td>\n",
              "      <td>15.68</td>\n",
              "      <td>12.76</td>\n",
              "      <td>3.79</td>\n",
              "      <td>3.29</td>\n",
              "      <td>82.0</td>\n",
              "      <td>8.3</td>\n",
              "      <td>E</td>\n",
              "    </tr>\n",
              "    <tr>\n",
              "      <th>3</th>\n",
              "      <td>Wii Sports Resort</td>\n",
              "      <td>Wii</td>\n",
              "      <td>2009.0</td>\n",
              "      <td>Sports</td>\n",
              "      <td>15.61</td>\n",
              "      <td>10.93</td>\n",
              "      <td>3.28</td>\n",
              "      <td>2.95</td>\n",
              "      <td>80.0</td>\n",
              "      <td>8</td>\n",
              "      <td>E</td>\n",
              "    </tr>\n",
              "    <tr>\n",
              "      <th>4</th>\n",
              "      <td>Pokemon Red/Pokemon Blue</td>\n",
              "      <td>GB</td>\n",
              "      <td>1996.0</td>\n",
              "      <td>Role-Playing</td>\n",
              "      <td>11.27</td>\n",
              "      <td>8.89</td>\n",
              "      <td>10.22</td>\n",
              "      <td>1.00</td>\n",
              "      <td>NaN</td>\n",
              "      <td>NaN</td>\n",
              "      <td>NaN</td>\n",
              "    </tr>\n",
              "  </tbody>\n",
              "</table>\n",
              "</div>\n",
              "      <button class=\"colab-df-convert\" onclick=\"convertToInteractive('df-d4e7562a-e120-487d-9dbd-8b161926e4e9')\"\n",
              "              title=\"Convert this dataframe to an interactive table.\"\n",
              "              style=\"display:none;\">\n",
              "        \n",
              "  <svg xmlns=\"http://www.w3.org/2000/svg\" height=\"24px\"viewBox=\"0 0 24 24\"\n",
              "       width=\"24px\">\n",
              "    <path d=\"M0 0h24v24H0V0z\" fill=\"none\"/>\n",
              "    <path d=\"M18.56 5.44l.94 2.06.94-2.06 2.06-.94-2.06-.94-.94-2.06-.94 2.06-2.06.94zm-11 1L8.5 8.5l.94-2.06 2.06-.94-2.06-.94L8.5 2.5l-.94 2.06-2.06.94zm10 10l.94 2.06.94-2.06 2.06-.94-2.06-.94-.94-2.06-.94 2.06-2.06.94z\"/><path d=\"M17.41 7.96l-1.37-1.37c-.4-.4-.92-.59-1.43-.59-.52 0-1.04.2-1.43.59L10.3 9.45l-7.72 7.72c-.78.78-.78 2.05 0 2.83L4 21.41c.39.39.9.59 1.41.59.51 0 1.02-.2 1.41-.59l7.78-7.78 2.81-2.81c.8-.78.8-2.07 0-2.86zM5.41 20L4 18.59l7.72-7.72 1.47 1.35L5.41 20z\"/>\n",
              "  </svg>\n",
              "      </button>\n",
              "      \n",
              "  <style>\n",
              "    .colab-df-container {\n",
              "      display:flex;\n",
              "      flex-wrap:wrap;\n",
              "      gap: 12px;\n",
              "    }\n",
              "\n",
              "    .colab-df-convert {\n",
              "      background-color: #E8F0FE;\n",
              "      border: none;\n",
              "      border-radius: 50%;\n",
              "      cursor: pointer;\n",
              "      display: none;\n",
              "      fill: #1967D2;\n",
              "      height: 32px;\n",
              "      padding: 0 0 0 0;\n",
              "      width: 32px;\n",
              "    }\n",
              "\n",
              "    .colab-df-convert:hover {\n",
              "      background-color: #E2EBFA;\n",
              "      box-shadow: 0px 1px 2px rgba(60, 64, 67, 0.3), 0px 1px 3px 1px rgba(60, 64, 67, 0.15);\n",
              "      fill: #174EA6;\n",
              "    }\n",
              "\n",
              "    [theme=dark] .colab-df-convert {\n",
              "      background-color: #3B4455;\n",
              "      fill: #D2E3FC;\n",
              "    }\n",
              "\n",
              "    [theme=dark] .colab-df-convert:hover {\n",
              "      background-color: #434B5C;\n",
              "      box-shadow: 0px 1px 3px 1px rgba(0, 0, 0, 0.15);\n",
              "      filter: drop-shadow(0px 1px 2px rgba(0, 0, 0, 0.3));\n",
              "      fill: #FFFFFF;\n",
              "    }\n",
              "  </style>\n",
              "\n",
              "      <script>\n",
              "        const buttonEl =\n",
              "          document.querySelector('#df-d4e7562a-e120-487d-9dbd-8b161926e4e9 button.colab-df-convert');\n",
              "        buttonEl.style.display =\n",
              "          google.colab.kernel.accessAllowed ? 'block' : 'none';\n",
              "\n",
              "        async function convertToInteractive(key) {\n",
              "          const element = document.querySelector('#df-d4e7562a-e120-487d-9dbd-8b161926e4e9');\n",
              "          const dataTable =\n",
              "            await google.colab.kernel.invokeFunction('convertToInteractive',\n",
              "                                                     [key], {});\n",
              "          if (!dataTable) return;\n",
              "\n",
              "          const docLinkHtml = 'Like what you see? Visit the ' +\n",
              "            '<a target=\"_blank\" href=https://colab.research.google.com/notebooks/data_table.ipynb>data table notebook</a>'\n",
              "            + ' to learn more about interactive tables.';\n",
              "          element.innerHTML = '';\n",
              "          dataTable['output_type'] = 'display_data';\n",
              "          await google.colab.output.renderOutput(dataTable, element);\n",
              "          const docLink = document.createElement('div');\n",
              "          docLink.innerHTML = docLinkHtml;\n",
              "          element.appendChild(docLink);\n",
              "        }\n",
              "      </script>\n",
              "    </div>\n",
              "  </div>\n",
              "  "
            ],
            "text/plain": [
              "                       Name Platform  Year_of_Release         Genre  NA_sales  \\\n",
              "0                Wii Sports      Wii           2006.0        Sports     41.36   \n",
              "1         Super Mario Bros.      NES           1985.0      Platform     29.08   \n",
              "2            Mario Kart Wii      Wii           2008.0        Racing     15.68   \n",
              "3         Wii Sports Resort      Wii           2009.0        Sports     15.61   \n",
              "4  Pokemon Red/Pokemon Blue       GB           1996.0  Role-Playing     11.27   \n",
              "\n",
              "   EU_sales  JP_sales  Other_sales  Critic_Score User_Score Rating  \n",
              "0     28.96      3.77         8.45          76.0          8      E  \n",
              "1      3.58      6.81         0.77           NaN        NaN    NaN  \n",
              "2     12.76      3.79         3.29          82.0        8.3      E  \n",
              "3     10.93      3.28         2.95          80.0          8      E  \n",
              "4      8.89     10.22         1.00           NaN        NaN    NaN  "
            ]
          },
          "execution_count": 4,
          "metadata": {},
          "output_type": "execute_result"
        }
      ],
      "source": [
        "games.head(5)"
      ]
    },
    {
      "attachments": {},
      "cell_type": "markdown",
      "metadata": {
        "id": "jMKvRFyXBY_v"
      },
      "source": [
        "Общая информация по датасету"
      ]
    },
    {
      "cell_type": "code",
      "execution_count": null,
      "metadata": {
        "colab": {
          "base_uri": "https://localhost:8080/"
        },
        "id": "XFXxK6Lk-p8l",
        "outputId": "21a2db43-00e6-4032-81a7-ea0da5be6336",
        "trusted": true
      },
      "outputs": [
        {
          "name": "stdout",
          "output_type": "stream",
          "text": [
            "<class 'pandas.core.frame.DataFrame'>\n",
            "RangeIndex: 16715 entries, 0 to 16714\n",
            "Data columns (total 11 columns):\n",
            " #   Column           Non-Null Count  Dtype  \n",
            "---  ------           --------------  -----  \n",
            " 0   Name             16713 non-null  object \n",
            " 1   Platform         16715 non-null  object \n",
            " 2   Year_of_Release  16446 non-null  float64\n",
            " 3   Genre            16713 non-null  object \n",
            " 4   NA_sales         16715 non-null  float64\n",
            " 5   EU_sales         16715 non-null  float64\n",
            " 6   JP_sales         16715 non-null  float64\n",
            " 7   Other_sales      16715 non-null  float64\n",
            " 8   Critic_Score     8137 non-null   float64\n",
            " 9   User_Score       10014 non-null  object \n",
            " 10  Rating           9949 non-null   object \n",
            "dtypes: float64(6), object(5)\n",
            "memory usage: 1.4+ MB\n"
          ]
        }
      ],
      "source": [
        "games.info()"
      ]
    },
    {
      "attachments": {},
      "cell_type": "markdown",
      "metadata": {
        "id": "OBPUM2KgBdUP"
      },
      "source": [
        "Названия столбцов не очень удобны в использовании, присутствуют пропущенные значения, некоторые типы значений не соответствуют содержанию столбцов. Для построения гистограмм изменим типы данных в столбцах `year_of_release` и `user_score`, а так же переименуем все столбцы."
      ]
    },
    {
      "cell_type": "code",
      "execution_count": null,
      "metadata": {
        "colab": {
          "base_uri": "https://localhost:8080/"
        },
        "id": "lNnHJTss-8Og",
        "outputId": "914c653a-bd6b-4c42-c9a2-fee8f1d03427",
        "trusted": true
      },
      "outputs": [
        {
          "data": {
            "text/plain": [
              "Index(['Name', 'Platform', 'Year_of_Release', 'Genre', 'NA_sales', 'EU_sales',\n",
              "       'JP_sales', 'Other_sales', 'Critic_Score', 'User_Score', 'Rating'],\n",
              "      dtype='object')"
            ]
          },
          "execution_count": 6,
          "metadata": {},
          "output_type": "execute_result"
        }
      ],
      "source": [
        "games.columns"
      ]
    },
    {
      "cell_type": "code",
      "execution_count": null,
      "metadata": {
        "colab": {
          "base_uri": "https://localhost:8080/"
        },
        "id": "_DJmR8J08YVJ",
        "outputId": "cab71801-37e2-4bd8-ce29-137d7713f51b",
        "trusted": true
      },
      "outputs": [
        {
          "data": {
            "text/plain": [
              "Index(['name', 'platform', 'year_of_release', 'genre', 'NA_sales', 'EU_sales',\n",
              "       'JP_sales', 'other_sales', 'critic_score', 'user_score', 'rating'],\n",
              "      dtype='object')"
            ]
          },
          "execution_count": 7,
          "metadata": {},
          "output_type": "execute_result"
        }
      ],
      "source": [
        "games.columns = ['name', 'platform', 'year_of_release', 'genre', 'NA_sales', \n",
        "                 'EU_sales', 'JP_sales', 'other_sales', 'critic_score', \n",
        "                 'user_score', 'rating']\n",
        "games.columns"
      ]
    },
    {
      "cell_type": "code",
      "execution_count": null,
      "metadata": {
        "id": "oinYn_C6DQoC",
        "trusted": true
      },
      "outputs": [],
      "source": [
        "games.user_score.replace(to_replace=\"tbd\", value=None, inplace=True)\n",
        "games = games.astype(dtype={\n",
        "    \"year_of_release\": \"Int16\",\n",
        "    \"user_score\": float\n",
        "})"
      ]
    },
    {
      "attachments": {},
      "cell_type": "markdown",
      "metadata": {
        "id": "ZxhWQualaPr_"
      },
      "source": [
        "Значение \"tbd\" в столбце пользовательских оценок означает, что оценка будет определена позднее, предположительно, после опроса досаточного количества респондентов. Соответсвенно, рейтинга нет. Поэтому заменили значение пропусками. "
      ]
    },
    {
      "cell_type": "code",
      "execution_count": null,
      "metadata": {
        "colab": {
          "base_uri": "https://localhost:8080/"
        },
        "id": "1QV9KckmElYI",
        "outputId": "339c220f-908b-46bd-83b8-9e2a3c6cf773",
        "trusted": true
      },
      "outputs": [
        {
          "data": {
            "text/plain": [
              "name                object\n",
              "platform            object\n",
              "year_of_release      Int16\n",
              "genre               object\n",
              "NA_sales           float64\n",
              "EU_sales           float64\n",
              "JP_sales           float64\n",
              "other_sales        float64\n",
              "critic_score       float64\n",
              "user_score         float64\n",
              "rating              object\n",
              "dtype: object"
            ]
          },
          "execution_count": 9,
          "metadata": {},
          "output_type": "execute_result"
        }
      ],
      "source": [
        "games.dtypes"
      ]
    },
    {
      "cell_type": "code",
      "execution_count": null,
      "metadata": {
        "colab": {
          "base_uri": "https://localhost:8080/",
          "height": 607
        },
        "id": "ShHnyMgzB-Wd",
        "outputId": "c76aeb8a-dae4-4544-c27b-890b2ea519a1",
        "trusted": true
      },
      "outputs": [
        {
          "data": {
            "image/png": "[encoded data removed]",
            "text/plain": [
              "<Figure size 864x720 with 9 Axes>"
            ]
          },
          "metadata": {
            "needs_background": "light"
          },
          "output_type": "display_data"
        }
      ],
      "source": [
        "games.hist(figsize=(12, 10), layout=(3, 3))\n",
        "\n",
        "plt.show()\n"
      ]
    },
    {
      "attachments": {},
      "cell_type": "markdown",
      "metadata": {
        "id": "m_uEnxr92eQ3"
      },
      "source": [
        "1.   Данные определены для 1980 - 2016 гг релиза. \n",
        "2.   В столбца продаж преобладают нулевые значения.\n",
        "3.   Графики распределения оценок имеют смещение вправо\n",
        "\n",
        "Поверим наблюдения с помощью статической информации о датасете"
      ]
    },
    {
      "cell_type": "code",
      "execution_count": null,
      "metadata": {
        "colab": {
          "base_uri": "https://localhost:8080/",
          "height": 455
        },
        "id": "PrxAJ-Bu-4BL",
        "outputId": "d6130f13-989e-4cf8-c5e8-afa94714a372",
        "trusted": true
      },
      "outputs": [
        {
          "data": {
            "text/html": [
              "\n",
              "  <div id=\"df-bbacd7b5-623a-4b12-b12f-10919ec5778d\">\n",
              "    <div class=\"colab-df-container\">\n",
              "      <div>\n",
              "<style scoped>\n",
              "    .dataframe tbody tr th:only-of-type {\n",
              "        vertical-align: middle;\n",
              "    }\n",
              "\n",
              "    .dataframe tbody tr th {\n",
              "        vertical-align: top;\n",
              "    }\n",
              "\n",
              "    .dataframe thead th {\n",
              "        text-align: right;\n",
              "    }\n",
              "</style>\n",
              "<table border=\"1\" class=\"dataframe\">\n",
              "  <thead>\n",
              "    <tr style=\"text-align: right;\">\n",
              "      <th></th>\n",
              "      <th>name</th>\n",
              "      <th>platform</th>\n",
              "      <th>year_of_release</th>\n",
              "      <th>genre</th>\n",
              "      <th>NA_sales</th>\n",
              "      <th>EU_sales</th>\n",
              "      <th>JP_sales</th>\n",
              "      <th>other_sales</th>\n",
              "      <th>critic_score</th>\n",
              "      <th>user_score</th>\n",
              "      <th>rating</th>\n",
              "    </tr>\n",
              "  </thead>\n",
              "  <tbody>\n",
              "    <tr>\n",
              "      <th>count</th>\n",
              "      <td>16713</td>\n",
              "      <td>16715</td>\n",
              "      <td>16446.000000</td>\n",
              "      <td>16713</td>\n",
              "      <td>16715.000000</td>\n",
              "      <td>16715.000000</td>\n",
              "      <td>16715.000000</td>\n",
              "      <td>16715.000000</td>\n",
              "      <td>8137.000000</td>\n",
              "      <td>8760.000000</td>\n",
              "      <td>9949</td>\n",
              "    </tr>\n",
              "    <tr>\n",
              "      <th>unique</th>\n",
              "      <td>11559</td>\n",
              "      <td>31</td>\n",
              "      <td>NaN</td>\n",
              "      <td>12</td>\n",
              "      <td>NaN</td>\n",
              "      <td>NaN</td>\n",
              "      <td>NaN</td>\n",
              "      <td>NaN</td>\n",
              "      <td>NaN</td>\n",
              "      <td>NaN</td>\n",
              "      <td>8</td>\n",
              "    </tr>\n",
              "    <tr>\n",
              "      <th>top</th>\n",
              "      <td>Need for Speed: Most Wanted</td>\n",
              "      <td>PS2</td>\n",
              "      <td>NaN</td>\n",
              "      <td>Action</td>\n",
              "      <td>NaN</td>\n",
              "      <td>NaN</td>\n",
              "      <td>NaN</td>\n",
              "      <td>NaN</td>\n",
              "      <td>NaN</td>\n",
              "      <td>NaN</td>\n",
              "      <td>E</td>\n",
              "    </tr>\n",
              "    <tr>\n",
              "      <th>freq</th>\n",
              "      <td>12</td>\n",
              "      <td>2161</td>\n",
              "      <td>NaN</td>\n",
              "      <td>3369</td>\n",
              "      <td>NaN</td>\n",
              "      <td>NaN</td>\n",
              "      <td>NaN</td>\n",
              "      <td>NaN</td>\n",
              "      <td>NaN</td>\n",
              "      <td>NaN</td>\n",
              "      <td>3990</td>\n",
              "    </tr>\n",
              "    <tr>\n",
              "      <th>mean</th>\n",
              "      <td>NaN</td>\n",
              "      <td>NaN</td>\n",
              "      <td>2006.484616</td>\n",
              "      <td>NaN</td>\n",
              "      <td>0.263377</td>\n",
              "      <td>0.145060</td>\n",
              "      <td>0.077617</td>\n",
              "      <td>0.047342</td>\n",
              "      <td>68.967679</td>\n",
              "      <td>7.099749</td>\n",
              "      <td>NaN</td>\n",
              "    </tr>\n",
              "    <tr>\n",
              "      <th>std</th>\n",
              "      <td>NaN</td>\n",
              "      <td>NaN</td>\n",
              "      <td>5.877050</td>\n",
              "      <td>NaN</td>\n",
              "      <td>0.813604</td>\n",
              "      <td>0.503339</td>\n",
              "      <td>0.308853</td>\n",
              "      <td>0.186731</td>\n",
              "      <td>13.938165</td>\n",
              "      <td>1.520065</td>\n",
              "      <td>NaN</td>\n",
              "    </tr>\n",
              "    <tr>\n",
              "      <th>min</th>\n",
              "      <td>NaN</td>\n",
              "      <td>NaN</td>\n",
              "      <td>1980.000000</td>\n",
              "      <td>NaN</td>\n",
              "      <td>0.000000</td>\n",
              "      <td>0.000000</td>\n",
              "      <td>0.000000</td>\n",
              "      <td>0.000000</td>\n",
              "      <td>13.000000</td>\n",
              "      <td>0.000000</td>\n",
              "      <td>NaN</td>\n",
              "    </tr>\n",
              "    <tr>\n",
              "      <th>25%</th>\n",
              "      <td>NaN</td>\n",
              "      <td>NaN</td>\n",
              "      <td>2003.000000</td>\n",
              "      <td>NaN</td>\n",
              "      <td>0.000000</td>\n",
              "      <td>0.000000</td>\n",
              "      <td>0.000000</td>\n",
              "      <td>0.000000</td>\n",
              "      <td>60.000000</td>\n",
              "      <td>6.400000</td>\n",
              "      <td>NaN</td>\n",
              "    </tr>\n",
              "    <tr>\n",
              "      <th>50%</th>\n",
              "      <td>NaN</td>\n",
              "      <td>NaN</td>\n",
              "      <td>2007.000000</td>\n",
              "      <td>NaN</td>\n",
              "      <td>0.080000</td>\n",
              "      <td>0.020000</td>\n",
              "      <td>0.000000</td>\n",
              "      <td>0.010000</td>\n",
              "      <td>71.000000</td>\n",
              "      <td>7.500000</td>\n",
              "      <td>NaN</td>\n",
              "    </tr>\n",
              "    <tr>\n",
              "      <th>75%</th>\n",
              "      <td>NaN</td>\n",
              "      <td>NaN</td>\n",
              "      <td>2010.000000</td>\n",
              "      <td>NaN</td>\n",
              "      <td>0.240000</td>\n",
              "      <td>0.110000</td>\n",
              "      <td>0.040000</td>\n",
              "      <td>0.030000</td>\n",
              "      <td>79.000000</td>\n",
              "      <td>8.200000</td>\n",
              "      <td>NaN</td>\n",
              "    </tr>\n",
              "    <tr>\n",
              "      <th>max</th>\n",
              "      <td>NaN</td>\n",
              "      <td>NaN</td>\n",
              "      <td>2016.000000</td>\n",
              "      <td>NaN</td>\n",
              "      <td>41.360000</td>\n",
              "      <td>28.960000</td>\n",
              "      <td>10.220000</td>\n",
              "      <td>10.570000</td>\n",
              "      <td>98.000000</td>\n",
              "      <td>9.700000</td>\n",
              "      <td>NaN</td>\n",
              "    </tr>\n",
              "  </tbody>\n",
              "</table>\n",
              "</div>\n",
              "      <button class=\"colab-df-convert\" onclick=\"convertToInteractive('df-bbacd7b5-623a-4b12-b12f-10919ec5778d')\"\n",
              "              title=\"Convert this dataframe to an interactive table.\"\n",
              "              style=\"display:none;\">\n",
              "        \n",
              "  <svg xmlns=\"http://www.w3.org/2000/svg\" height=\"24px\"viewBox=\"0 0 24 24\"\n",
              "       width=\"24px\">\n",
              "    <path d=\"M0 0h24v24H0V0z\" fill=\"none\"/>\n",
              "    <path d=\"M18.56 5.44l.94 2.06.94-2.06 2.06-.94-2.06-.94-.94-2.06-.94 2.06-2.06.94zm-11 1L8.5 8.5l.94-2.06 2.06-.94-2.06-.94L8.5 2.5l-.94 2.06-2.06.94zm10 10l.94 2.06.94-2.06 2.06-.94-2.06-.94-.94-2.06-.94 2.06-2.06.94z\"/><path d=\"M17.41 7.96l-1.37-1.37c-.4-.4-.92-.59-1.43-.59-.52 0-1.04.2-1.43.59L10.3 9.45l-7.72 7.72c-.78.78-.78 2.05 0 2.83L4 21.41c.39.39.9.59 1.41.59.51 0 1.02-.2 1.41-.59l7.78-7.78 2.81-2.81c.8-.78.8-2.07 0-2.86zM5.41 20L4 18.59l7.72-7.72 1.47 1.35L5.41 20z\"/>\n",
              "  </svg>\n",
              "      </button>\n",
              "      \n",
              "  <style>\n",
              "    .colab-df-container {\n",
              "      display:flex;\n",
              "      flex-wrap:wrap;\n",
              "      gap: 12px;\n",
              "    }\n",
              "\n",
              "    .colab-df-convert {\n",
              "      background-color: #E8F0FE;\n",
              "      border: none;\n",
              "      border-radius: 50%;\n",
              "      cursor: pointer;\n",
              "      display: none;\n",
              "      fill: #1967D2;\n",
              "      height: 32px;\n",
              "      padding: 0 0 0 0;\n",
              "      width: 32px;\n",
              "    }\n",
              "\n",
              "    .colab-df-convert:hover {\n",
              "      background-color: #E2EBFA;\n",
              "      box-shadow: 0px 1px 2px rgba(60, 64, 67, 0.3), 0px 1px 3px 1px rgba(60, 64, 67, 0.15);\n",
              "      fill: #174EA6;\n",
              "    }\n",
              "\n",
              "    [theme=dark] .colab-df-convert {\n",
              "      background-color: #3B4455;\n",
              "      fill: #D2E3FC;\n",
              "    }\n",
              "\n",
              "    [theme=dark] .colab-df-convert:hover {\n",
              "      background-color: #434B5C;\n",
              "      box-shadow: 0px 1px 3px 1px rgba(0, 0, 0, 0.15);\n",
              "      filter: drop-shadow(0px 1px 2px rgba(0, 0, 0, 0.3));\n",
              "      fill: #FFFFFF;\n",
              "    }\n",
              "  </style>\n",
              "\n",
              "      <script>\n",
              "        const buttonEl =\n",
              "          document.querySelector('#df-bbacd7b5-623a-4b12-b12f-10919ec5778d button.colab-df-convert');\n",
              "        buttonEl.style.display =\n",
              "          google.colab.kernel.accessAllowed ? 'block' : 'none';\n",
              "\n",
              "        async function convertToInteractive(key) {\n",
              "          const element = document.querySelector('#df-bbacd7b5-623a-4b12-b12f-10919ec5778d');\n",
              "          const dataTable =\n",
              "            await google.colab.kernel.invokeFunction('convertToInteractive',\n",
              "                                                     [key], {});\n",
              "          if (!dataTable) return;\n",
              "\n",
              "          const docLinkHtml = 'Like what you see? Visit the ' +\n",
              "            '<a target=\"_blank\" href=https://colab.research.google.com/notebooks/data_table.ipynb>data table notebook</a>'\n",
              "            + ' to learn more about interactive tables.';\n",
              "          element.innerHTML = '';\n",
              "          dataTable['output_type'] = 'display_data';\n",
              "          await google.colab.output.renderOutput(dataTable, element);\n",
              "          const docLink = document.createElement('div');\n",
              "          docLink.innerHTML = docLinkHtml;\n",
              "          element.appendChild(docLink);\n",
              "        }\n",
              "      </script>\n",
              "    </div>\n",
              "  </div>\n",
              "  "
            ],
            "text/plain": [
              "                               name platform  year_of_release   genre  \\\n",
              "count                         16713    16715     16446.000000   16713   \n",
              "unique                        11559       31              NaN      12   \n",
              "top     Need for Speed: Most Wanted      PS2              NaN  Action   \n",
              "freq                             12     2161              NaN    3369   \n",
              "mean                            NaN      NaN      2006.484616     NaN   \n",
              "std                             NaN      NaN         5.877050     NaN   \n",
              "min                             NaN      NaN      1980.000000     NaN   \n",
              "25%                             NaN      NaN      2003.000000     NaN   \n",
              "50%                             NaN      NaN      2007.000000     NaN   \n",
              "75%                             NaN      NaN      2010.000000     NaN   \n",
              "max                             NaN      NaN      2016.000000     NaN   \n",
              "\n",
              "            NA_sales      EU_sales      JP_sales   other_sales  critic_score  \\\n",
              "count   16715.000000  16715.000000  16715.000000  16715.000000   8137.000000   \n",
              "unique           NaN           NaN           NaN           NaN           NaN   \n",
              "top              NaN           NaN           NaN           NaN           NaN   \n",
              "freq             NaN           NaN           NaN           NaN           NaN   \n",
              "mean        0.263377      0.145060      0.077617      0.047342     68.967679   \n",
              "std         0.813604      0.503339      0.308853      0.186731     13.938165   \n",
              "min         0.000000      0.000000      0.000000      0.000000     13.000000   \n",
              "25%         0.000000      0.000000      0.000000      0.000000     60.000000   \n",
              "50%         0.080000      0.020000      0.000000      0.010000     71.000000   \n",
              "75%         0.240000      0.110000      0.040000      0.030000     79.000000   \n",
              "max        41.360000     28.960000     10.220000     10.570000     98.000000   \n",
              "\n",
              "         user_score rating  \n",
              "count   8760.000000   9949  \n",
              "unique          NaN      8  \n",
              "top             NaN      E  \n",
              "freq            NaN   3990  \n",
              "mean       7.099749    NaN  \n",
              "std        1.520065    NaN  \n",
              "min        0.000000    NaN  \n",
              "25%        6.400000    NaN  \n",
              "50%        7.500000    NaN  \n",
              "75%        8.200000    NaN  \n",
              "max        9.700000    NaN  "
            ]
          },
          "execution_count": 11,
          "metadata": {},
          "output_type": "execute_result"
        }
      ],
      "source": [
        "games.describe(include=\"all\")"
      ]
    },
    {
      "attachments": {},
      "cell_type": "markdown",
      "metadata": {
        "id": "RNoa2YKLCDrt"
      },
      "source": [
        "Статистическое описание данных подтвердило наблюдения. Здесь же мы можем видеть хаактеристики для категориальных столбцов, что погоает нам в общем оценить количество уникальных значений, самые частые значения и их частоту. Наиболее богата на релизы игра `Need for Speed: Most Wanted`, она встречается в датасете 10 раз, а самая популярная платформа - `PS2` с частотой 2127. Популярный жанр - `Action` (3307), рейтинг - `E` (3919). Оценим количество пропущенных значений по столбцам"
      ]
    },
    {
      "cell_type": "code",
      "execution_count": null,
      "metadata": {
        "colab": {
          "base_uri": "https://localhost:8080/"
        },
        "id": "piLDbcpHBDgH",
        "outputId": "b77f18b9-0d3a-441e-aca6-d2f587a66218",
        "trusted": true
      },
      "outputs": [
        {
          "data": {
            "text/plain": [
              "name                  2\n",
              "platform              0\n",
              "year_of_release     269\n",
              "genre                 2\n",
              "NA_sales              0\n",
              "EU_sales              0\n",
              "JP_sales              0\n",
              "other_sales           0\n",
              "critic_score       8578\n",
              "user_score         7955\n",
              "rating             6766\n",
              "dtype: int64"
            ]
          },
          "execution_count": 12,
          "metadata": {},
          "output_type": "execute_result"
        }
      ],
      "source": [
        "games.isna().sum()"
      ]
    },
    {
      "cell_type": "code",
      "execution_count": null,
      "metadata": {
        "colab": {
          "base_uri": "https://localhost:8080/",
          "height": 394
        },
        "id": "Xg-2ujhwzY0i",
        "outputId": "e792e982-4adf-4ca6-86e2-0123da36df45",
        "trusted": true
      },
      "outputs": [
        {
          "data": {
            "text/html": [
              "<style type=\"text/css\">\n",
              "#T_4af20_row0_col0, #T_4af20_row1_col0, #T_4af20_row3_col0, #T_4af20_row4_col0, #T_4af20_row5_col0, #T_4af20_row6_col0, #T_4af20_row7_col0 {\n",
              "  background-color: #3b4cc0;\n",
              "  color: #f1f1f1;\n",
              "}\n",
              "#T_4af20_row2_col0 {\n",
              "  background-color: #465ecf;\n",
              "  color: #f1f1f1;\n",
              "}\n",
              "#T_4af20_row8_col0 {\n",
              "  background-color: #b40426;\n",
              "  color: #f1f1f1;\n",
              "}\n",
              "#T_4af20_row9_col0 {\n",
              "  background-color: #ca3b37;\n",
              "  color: #f1f1f1;\n",
              "}\n",
              "#T_4af20_row10_col0 {\n",
              "  background-color: #f08b6e;\n",
              "  color: #f1f1f1;\n",
              "}\n",
              "</style>\n",
              "<table id=\"T_4af20_\" class=\"dataframe\">\n",
              "  <thead>\n",
              "    <tr>\n",
              "      <th class=\"blank level0\" >&nbsp;</th>\n",
              "      <th class=\"col_heading level0 col0\" >0</th>\n",
              "    </tr>\n",
              "  </thead>\n",
              "  <tbody>\n",
              "    <tr>\n",
              "      <th id=\"T_4af20_level0_row0\" class=\"row_heading level0 row0\" >name</th>\n",
              "      <td id=\"T_4af20_row0_col0\" class=\"data row0 col0\" >0.000000</td>\n",
              "    </tr>\n",
              "    <tr>\n",
              "      <th id=\"T_4af20_level0_row1\" class=\"row_heading level0 row1\" >platform</th>\n",
              "      <td id=\"T_4af20_row1_col0\" class=\"data row1 col0\" >0.000000</td>\n",
              "    </tr>\n",
              "    <tr>\n",
              "      <th id=\"T_4af20_level0_row2\" class=\"row_heading level0 row2\" >year_of_release</th>\n",
              "      <td id=\"T_4af20_row2_col0\" class=\"data row2 col0\" >2.000000</td>\n",
              "    </tr>\n",
              "    <tr>\n",
              "      <th id=\"T_4af20_level0_row3\" class=\"row_heading level0 row3\" >genre</th>\n",
              "      <td id=\"T_4af20_row3_col0\" class=\"data row3 col0\" >0.000000</td>\n",
              "    </tr>\n",
              "    <tr>\n",
              "      <th id=\"T_4af20_level0_row4\" class=\"row_heading level0 row4\" >NA_sales</th>\n",
              "      <td id=\"T_4af20_row4_col0\" class=\"data row4 col0\" >0.000000</td>\n",
              "    </tr>\n",
              "    <tr>\n",
              "      <th id=\"T_4af20_level0_row5\" class=\"row_heading level0 row5\" >EU_sales</th>\n",
              "      <td id=\"T_4af20_row5_col0\" class=\"data row5 col0\" >0.000000</td>\n",
              "    </tr>\n",
              "    <tr>\n",
              "      <th id=\"T_4af20_level0_row6\" class=\"row_heading level0 row6\" >JP_sales</th>\n",
              "      <td id=\"T_4af20_row6_col0\" class=\"data row6 col0\" >0.000000</td>\n",
              "    </tr>\n",
              "    <tr>\n",
              "      <th id=\"T_4af20_level0_row7\" class=\"row_heading level0 row7\" >other_sales</th>\n",
              "      <td id=\"T_4af20_row7_col0\" class=\"data row7 col0\" >0.000000</td>\n",
              "    </tr>\n",
              "    <tr>\n",
              "      <th id=\"T_4af20_level0_row8\" class=\"row_heading level0 row8\" >critic_score</th>\n",
              "      <td id=\"T_4af20_row8_col0\" class=\"data row8 col0\" >51.000000</td>\n",
              "    </tr>\n",
              "    <tr>\n",
              "      <th id=\"T_4af20_level0_row9\" class=\"row_heading level0 row9\" >user_score</th>\n",
              "      <td id=\"T_4af20_row9_col0\" class=\"data row9 col0\" >48.000000</td>\n",
              "    </tr>\n",
              "    <tr>\n",
              "      <th id=\"T_4af20_level0_row10\" class=\"row_heading level0 row10\" >rating</th>\n",
              "      <td id=\"T_4af20_row10_col0\" class=\"data row10 col0\" >40.000000</td>\n",
              "    </tr>\n",
              "  </tbody>\n",
              "</table>\n"
            ],
            "text/plain": [
              "<pandas.io.formats.style.Styler at 0x7f4629741460>"
            ]
          },
          "execution_count": 13,
          "metadata": {},
          "output_type": "execute_result"
        }
      ],
      "source": [
        "pd.DataFrame(round(games.isna().mean()*100,)).style.background_gradient('coolwarm')"
      ]
    },
    {
      "attachments": {},
      "cell_type": "markdown",
      "metadata": {
        "id": "5hlB6foY0_2G"
      },
      "source": [
        "Наибольшее количество пропусков в столбцах оценок и рейтинга, меньше всего (2%) в столбце года релиза. Оценим количество явных дубликатов "
      ]
    },
    {
      "cell_type": "code",
      "execution_count": null,
      "metadata": {
        "colab": {
          "base_uri": "https://localhost:8080/"
        },
        "id": "bw8OkYCN9uhw",
        "outputId": "77c810cd-1ffe-468b-b48b-7cb3705e0c1d",
        "trusted": true
      },
      "outputs": [
        {
          "data": {
            "text/plain": [
              "0"
            ]
          },
          "execution_count": 14,
          "metadata": {},
          "output_type": "execute_result"
        }
      ],
      "source": [
        "games.duplicated().sum()"
      ]
    },
    {
      "attachments": {},
      "cell_type": "markdown",
      "metadata": {
        "id": "b9POnvOhXhDd"
      },
      "source": [
        "Посмотрим корреляцию между столбцами. "
      ]
    },
    {
      "cell_type": "code",
      "execution_count": null,
      "metadata": {
        "colab": {
          "base_uri": "https://localhost:8080/",
          "height": 905
        },
        "id": "TWNUuIVQNOHZ",
        "outputId": "fe48a6b6-dd54-4ade-862a-f1760272ce25"
      },
      "outputs": [
        {
          "data": {
            "image/png": "[encoded data removed]",
            "text/plain": [
              "<Figure size 1296x1152 with 2 Axes>"
            ]
          },
          "metadata": {
            "needs_background": "light"
          },
          "output_type": "display_data"
        }
      ],
      "source": [
        "games_corr=games.corr(method=\"kendall\")\n",
        "plt.figure(figsize=(18,16))\n",
        "sns.heatmap(games.corr(method=\"kendall\"), annot=True, linewidths=0.3, cmap='coolwarm', square=True)\n",
        "plt.show()"
      ]
    },
    {
      "attachments": {},
      "cell_type": "markdown",
      "metadata": {
        "id": "G73lWSrkYcmI"
      },
      "source": [
        "Пределы корреляции [-1, 1]. Чем ближе к корреляция к пределам, тем выше зависимость. На основе этого, может сделать вывод - столбцы продаж коррелируют между собой. Столбец JP_sales менее всего участвует в корреляции (коэфф. корреляции -0.18, -0.14, -0.056), предположительно, по причине малого количества значимых строк. Корреляция между ними наблюдается потому что столбцы представляют единую величину - продажи, представленную для разных регионов. Столбцы оценок пользователей и критиков довольно близки, судя по корреляции, но зависимость между ними слабая. Зависимось между годом релиза/продажами в Японии и пользовательскими оценками так же довольно слабая."
      ]
    },
    {
      "attachments": {},
      "cell_type": "markdown",
      "metadata": {
        "id": "ZLOQWOkL6FWC"
      },
      "source": [
        "## 2 Подготовка данных"
      ]
    },
    {
      "attachments": {},
      "cell_type": "markdown",
      "metadata": {
        "id": "G9VIdRzJ0yao"
      },
      "source": [
        "Проведем анализ данных по столбцам"
      ]
    },
    {
      "attachments": {},
      "cell_type": "markdown",
      "metadata": {
        "id": "54RuEiG58KSi"
      },
      "source": [
        "### name"
      ]
    },
    {
      "cell_type": "code",
      "execution_count": null,
      "metadata": {
        "colab": {
          "base_uri": "https://localhost:8080/",
          "height": 112
        },
        "id": "j96NHs7nLzBn",
        "outputId": "9ab7949e-1908-420a-f12d-e30e0e061dca",
        "trusted": true
      },
      "outputs": [
        {
          "data": {
            "text/html": [
              "\n",
              "  <div id=\"df-c92177b0-73fc-49b2-9557-054b7665c67b\">\n",
              "    <div class=\"colab-df-container\">\n",
              "      <div>\n",
              "<style scoped>\n",
              "    .dataframe tbody tr th:only-of-type {\n",
              "        vertical-align: middle;\n",
              "    }\n",
              "\n",
              "    .dataframe tbody tr th {\n",
              "        vertical-align: top;\n",
              "    }\n",
              "\n",
              "    .dataframe thead th {\n",
              "        text-align: right;\n",
              "    }\n",
              "</style>\n",
              "<table border=\"1\" class=\"dataframe\">\n",
              "  <thead>\n",
              "    <tr style=\"text-align: right;\">\n",
              "      <th></th>\n",
              "      <th>name</th>\n",
              "      <th>platform</th>\n",
              "      <th>year_of_release</th>\n",
              "      <th>genre</th>\n",
              "      <th>NA_sales</th>\n",
              "      <th>EU_sales</th>\n",
              "      <th>JP_sales</th>\n",
              "      <th>other_sales</th>\n",
              "      <th>critic_score</th>\n",
              "      <th>user_score</th>\n",
              "      <th>rating</th>\n",
              "    </tr>\n",
              "  </thead>\n",
              "  <tbody>\n",
              "    <tr>\n",
              "      <th>659</th>\n",
              "      <td>NaN</td>\n",
              "      <td>GEN</td>\n",
              "      <td>1993</td>\n",
              "      <td>NaN</td>\n",
              "      <td>1.78</td>\n",
              "      <td>0.53</td>\n",
              "      <td>0.00</td>\n",
              "      <td>0.08</td>\n",
              "      <td>NaN</td>\n",
              "      <td>NaN</td>\n",
              "      <td>NaN</td>\n",
              "    </tr>\n",
              "    <tr>\n",
              "      <th>14244</th>\n",
              "      <td>NaN</td>\n",
              "      <td>GEN</td>\n",
              "      <td>1993</td>\n",
              "      <td>NaN</td>\n",
              "      <td>0.00</td>\n",
              "      <td>0.00</td>\n",
              "      <td>0.03</td>\n",
              "      <td>0.00</td>\n",
              "      <td>NaN</td>\n",
              "      <td>NaN</td>\n",
              "      <td>NaN</td>\n",
              "    </tr>\n",
              "  </tbody>\n",
              "</table>\n",
              "</div>\n",
              "      <button class=\"colab-df-convert\" onclick=\"convertToInteractive('df-c92177b0-73fc-49b2-9557-054b7665c67b')\"\n",
              "              title=\"Convert this dataframe to an interactive table.\"\n",
              "              style=\"display:none;\">\n",
              "        \n",
              "  <svg xmlns=\"http://www.w3.org/2000/svg\" height=\"24px\"viewBox=\"0 0 24 24\"\n",
              "       width=\"24px\">\n",
              "    <path d=\"M0 0h24v24H0V0z\" fill=\"none\"/>\n",
              "    <path d=\"M18.56 5.44l.94 2.06.94-2.06 2.06-.94-2.06-.94-.94-2.06-.94 2.06-2.06.94zm-11 1L8.5 8.5l.94-2.06 2.06-.94-2.06-.94L8.5 2.5l-.94 2.06-2.06.94zm10 10l.94 2.06.94-2.06 2.06-.94-2.06-.94-.94-2.06-.94 2.06-2.06.94z\"/><path d=\"M17.41 7.96l-1.37-1.37c-.4-.4-.92-.59-1.43-.59-.52 0-1.04.2-1.43.59L10.3 9.45l-7.72 7.72c-.78.78-.78 2.05 0 2.83L4 21.41c.39.39.9.59 1.41.59.51 0 1.02-.2 1.41-.59l7.78-7.78 2.81-2.81c.8-.78.8-2.07 0-2.86zM5.41 20L4 18.59l7.72-7.72 1.47 1.35L5.41 20z\"/>\n",
              "  </svg>\n",
              "      </button>\n",
              "      \n",
              "  <style>\n",
              "    .colab-df-container {\n",
              "      display:flex;\n",
              "      flex-wrap:wrap;\n",
              "      gap: 12px;\n",
              "    }\n",
              "\n",
              "    .colab-df-convert {\n",
              "      background-color: #E8F0FE;\n",
              "      border: none;\n",
              "      border-radius: 50%;\n",
              "      cursor: pointer;\n",
              "      display: none;\n",
              "      fill: #1967D2;\n",
              "      height: 32px;\n",
              "      padding: 0 0 0 0;\n",
              "      width: 32px;\n",
              "    }\n",
              "\n",
              "    .colab-df-convert:hover {\n",
              "      background-color: #E2EBFA;\n",
              "      box-shadow: 0px 1px 2px rgba(60, 64, 67, 0.3), 0px 1px 3px 1px rgba(60, 64, 67, 0.15);\n",
              "      fill: #174EA6;\n",
              "    }\n",
              "\n",
              "    [theme=dark] .colab-df-convert {\n",
              "      background-color: #3B4455;\n",
              "      fill: #D2E3FC;\n",
              "    }\n",
              "\n",
              "    [theme=dark] .colab-df-convert:hover {\n",
              "      background-color: #434B5C;\n",
              "      box-shadow: 0px 1px 3px 1px rgba(0, 0, 0, 0.15);\n",
              "      filter: drop-shadow(0px 1px 2px rgba(0, 0, 0, 0.3));\n",
              "      fill: #FFFFFF;\n",
              "    }\n",
              "  </style>\n",
              "\n",
              "      <script>\n",
              "        const buttonEl =\n",
              "          document.querySelector('#df-c92177b0-73fc-49b2-9557-054b7665c67b button.colab-df-convert');\n",
              "        buttonEl.style.display =\n",
              "          google.colab.kernel.accessAllowed ? 'block' : 'none';\n",
              "\n",
              "        async function convertToInteractive(key) {\n",
              "          const element = document.querySelector('#df-c92177b0-73fc-49b2-9557-054b7665c67b');\n",
              "          const dataTable =\n",
              "            await google.colab.kernel.invokeFunction('convertToInteractive',\n",
              "                                                     [key], {});\n",
              "          if (!dataTable) return;\n",
              "\n",
              "          const docLinkHtml = 'Like what you see? Visit the ' +\n",
              "            '<a target=\"_blank\" href=https://colab.research.google.com/notebooks/data_table.ipynb>data table notebook</a>'\n",
              "            + ' to learn more about interactive tables.';\n",
              "          element.innerHTML = '';\n",
              "          dataTable['output_type'] = 'display_data';\n",
              "          await google.colab.output.renderOutput(dataTable, element);\n",
              "          const docLink = document.createElement('div');\n",
              "          docLink.innerHTML = docLinkHtml;\n",
              "          element.appendChild(docLink);\n",
              "        }\n",
              "      </script>\n",
              "    </div>\n",
              "  </div>\n",
              "  "
            ],
            "text/plain": [
              "      name platform  year_of_release genre  NA_sales  EU_sales  JP_sales  \\\n",
              "659    NaN      GEN             1993   NaN      1.78      0.53      0.00   \n",
              "14244  NaN      GEN             1993   NaN      0.00      0.00      0.03   \n",
              "\n",
              "       other_sales  critic_score  user_score rating  \n",
              "659           0.08           NaN         NaN    NaN  \n",
              "14244         0.00           NaN         NaN    NaN  "
            ]
          },
          "execution_count": 16,
          "metadata": {},
          "output_type": "execute_result"
        }
      ],
      "source": [
        "games[games.name.isna()]"
      ]
    },
    {
      "attachments": {},
      "cell_type": "markdown",
      "metadata": {
        "id": "cuzke1yz9kVM"
      },
      "source": [
        "Столбец с названиями игр, типа object. Пропущенные значения присутствуют, похоже на ошибку при выгрузке данных, восстановить не представляется возможным. Необходимо оценить количество неявных дубликатов"
      ]
    },
    {
      "cell_type": "code",
      "execution_count": null,
      "metadata": {
        "colab": {
          "base_uri": "https://localhost:8080/"
        },
        "id": "HzuZ3YObRV5d",
        "outputId": "ed37868e-39bf-4916-9b14-3e2b76c50110",
        "trusted": true
      },
      "outputs": [
        {
          "data": {
            "text/plain": [
              "0"
            ]
          },
          "execution_count": 17,
          "metadata": {},
          "output_type": "execute_result"
        }
      ],
      "source": [
        "games.drop(games[games.name.isna()].index, inplace=True)\n",
        "games.name.isna().sum()"
      ]
    },
    {
      "cell_type": "code",
      "execution_count": null,
      "metadata": {
        "colab": {
          "base_uri": "https://localhost:8080/"
        },
        "id": "bexgY-Q99a3n",
        "outputId": "e26d599d-4410-4550-ac6d-f4efe7b61542",
        "trusted": true
      },
      "outputs": [
        {
          "data": {
            "text/plain": [
              "11559"
            ]
          },
          "execution_count": 18,
          "metadata": {},
          "output_type": "execute_result"
        }
      ],
      "source": [
        "games.name.nunique()"
      ]
    },
    {
      "attachments": {},
      "cell_type": "markdown",
      "metadata": {
        "id": "8XLqQ000zG5K"
      },
      "source": [
        "Количество уникальных названий велико. Попробуем сгруппировать данные по плтаформе и поискать одинаковые названия в каждой группе. Если таковые найдутся - удалим их. Игры с одинаковым названием на одной и той же платформе не встречаются. "
      ]
    },
    {
      "cell_type": "code",
      "execution_count": null,
      "metadata": {
        "id": "UBW0UWTT-fyJ",
        "trusted": true
      },
      "outputs": [],
      "source": [
        "name_copy = games.iloc[:, :4].copy()\n",
        "name_copy.name = name_copy.name.str.lower()"
      ]
    },
    {
      "cell_type": "code",
      "execution_count": null,
      "metadata": {
        "colab": {
          "base_uri": "https://localhost:8080/"
        },
        "id": "0UWk3vo09jHJ",
        "outputId": "2d3dbb67-e499-40b8-ac4f-94baaed9c1fe",
        "trusted": true
      },
      "outputs": [
        {
          "name": "stdout",
          "output_type": "stream",
          "text": [
            "                              name platform  year_of_release   genre\n",
            "11715  need for speed: most wanted       PC             2012  Racing\n",
            "                    name platform  year_of_release     genre\n",
            "604        madden nfl 13      PS3             2012    Sports\n",
            "4127  sonic the hedgehog      PS3             <NA>  Platform\n",
            "                             name platform  year_of_release   genre\n",
            "1190  need for speed: most wanted     X360             2012  Racing\n"
          ]
        }
      ],
      "source": [
        "group = name_copy.groupby(\"platform\")\n",
        "keys = group.groups.keys()\n",
        "for i in keys:\n",
        "  if group.get_group(i).duplicated(subset=\"name\").sum() > 0:\n",
        "    dupl = (group.get_group(i)\n",
        "          .loc[group.get_group(i)\n",
        "          .sort_values(by=[\"year_of_release\"])\n",
        "          .duplicated(subset=\"name\", keep=\"first\")])\n",
        "    games.drop(dupl.index, inplace=True)\n",
        "    print(dupl)\n"
      ]
    },
    {
      "cell_type": "code",
      "execution_count": null,
      "metadata": {
        "id": "m3EQoF6G4LOd",
        "trusted": true
      },
      "outputs": [],
      "source": [
        "games.reset_index(inplace=True, drop=True)"
      ]
    },
    {
      "attachments": {},
      "cell_type": "markdown",
      "metadata": {
        "id": "SFo67F2zzVfX"
      },
      "source": [
        "Дубликатов оказалось не так много, а для игры `need for speed: most wanted`, благодаря поиску дубликатов, удалили неверное значение, потому что эта игра вышла в 2005 году."
      ]
    },
    {
      "attachments": {},
      "cell_type": "markdown",
      "metadata": {
        "id": "v_slDhFX8Mj-"
      },
      "source": [
        "### platform"
      ]
    },
    {
      "cell_type": "code",
      "execution_count": null,
      "metadata": {
        "colab": {
          "base_uri": "https://localhost:8080/",
          "height": 514
        },
        "id": "-HV3dKP14dMp",
        "outputId": "ec08dad3-dbba-4c7a-8ebd-74d5974e36f6",
        "trusted": true
      },
      "outputs": [
        {
          "data": {
            "text/plain": [
              "Text(0.5, 0, 'Count')"
            ]
          },
          "execution_count": 22,
          "metadata": {},
          "output_type": "execute_result"
        },
        {
          "data": {
            "image/png": "[encoded data removed]",
            "text/plain": [
              "<Figure size 1152x576 with 1 Axes>"
            ]
          },
          "metadata": {
            "needs_background": "light"
          },
          "output_type": "display_data"
        }
      ],
      "source": [
        "plt.figure(figsize=(16, 8))\n",
        "for k in keys:\n",
        "  plt.bar(k, group.get_group(k).count())\n",
        "plt.ylabel(\"Platform\")\n",
        "plt.xlabel(\"Count\")"
      ]
    },
    {
      "attachments": {},
      "cell_type": "markdown",
      "metadata": {
        "id": "W3aye8Yz4asn"
      },
      "source": [
        "Пропущенных значений нет, тип данных соответствует содержимому. Из графика выше можно видеть, что преобладают игры для Nintendo (DS) и PS2"
      ]
    },
    {
      "attachments": {},
      "cell_type": "markdown",
      "metadata": {
        "id": "GOr_ZT9A65yk"
      },
      "source": [
        "### year_of_release"
      ]
    },
    {
      "cell_type": "code",
      "execution_count": null,
      "metadata": {
        "colab": {
          "base_uri": "https://localhost:8080/",
          "height": 528
        },
        "id": "_fkium5N1p-0",
        "outputId": "faf595e7-8ed4-4ce2-e817-0b72b0ac464f",
        "trusted": true
      },
      "outputs": [
        {
          "data": {
            "image/png": "[encoded data removed]",
            "text/plain": [
              "<Figure size 1152x576 with 1 Axes>"
            ]
          },
          "metadata": {
            "needs_background": "light"
          },
          "output_type": "display_data"
        }
      ],
      "source": [
        "plt.figure(figsize=(16, 8))\n",
        "games.year_of_release.value_counts().sort_index().plot.bar(color=\"#17d0b5\")\n",
        "plt.ylabel(\"count\")\n",
        "plt.xlabel(\"year\")\n",
        "plt.title(\"Distribution by years\")\n",
        "plt.show()"
      ]
    },
    {
      "attachments": {},
      "cell_type": "markdown",
      "metadata": {
        "id": "PqO9P-I230V9"
      },
      "source": [
        "В столбце присутствуют пропущенные значения, тип данных уже изменен. Ожидаемо, что 1980 г занимает последнюю позицию по количеству выпущенных игр в соответствии со слабой развитостью игровой индустрии в целом. Далее игровая индустрия планомерно развивалась вплоть до финансового кризиса 2008. В 2009, по заключенным контрактам игры еще выпускались, а после - резкий спад. Оценим строки с пропущенными значениями"
      ]
    },
    {
      "cell_type": "code",
      "execution_count": null,
      "metadata": {
        "colab": {
          "base_uri": "https://localhost:8080/",
          "height": 476
        },
        "id": "nbncLUnRKLnB",
        "outputId": "1f7dc89b-5e57-498c-99c3-27f5050328d0",
        "trusted": true
      },
      "outputs": [
        {
          "data": {
            "text/html": [
              "\n",
              "  <div id=\"df-8a185233-1ea6-4732-9f3c-43a59649726c\">\n",
              "    <div class=\"colab-df-container\">\n",
              "      <div>\n",
              "<style scoped>\n",
              "    .dataframe tbody tr th:only-of-type {\n",
              "        vertical-align: middle;\n",
              "    }\n",
              "\n",
              "    .dataframe tbody tr th {\n",
              "        vertical-align: top;\n",
              "    }\n",
              "\n",
              "    .dataframe thead th {\n",
              "        text-align: right;\n",
              "    }\n",
              "</style>\n",
              "<table border=\"1\" class=\"dataframe\">\n",
              "  <thead>\n",
              "    <tr style=\"text-align: right;\">\n",
              "      <th></th>\n",
              "      <th>name</th>\n",
              "      <th>platform</th>\n",
              "      <th>year_of_release</th>\n",
              "      <th>genre</th>\n",
              "      <th>NA_sales</th>\n",
              "      <th>EU_sales</th>\n",
              "      <th>JP_sales</th>\n",
              "      <th>other_sales</th>\n",
              "      <th>critic_score</th>\n",
              "      <th>user_score</th>\n",
              "      <th>rating</th>\n",
              "    </tr>\n",
              "  </thead>\n",
              "  <tbody>\n",
              "    <tr>\n",
              "      <th>183</th>\n",
              "      <td>Madden NFL 2004</td>\n",
              "      <td>PS2</td>\n",
              "      <td>&lt;NA&gt;</td>\n",
              "      <td>Sports</td>\n",
              "      <td>4.26</td>\n",
              "      <td>0.26</td>\n",
              "      <td>0.01</td>\n",
              "      <td>0.71</td>\n",
              "      <td>94.0</td>\n",
              "      <td>8.5</td>\n",
              "      <td>E</td>\n",
              "    </tr>\n",
              "    <tr>\n",
              "      <th>377</th>\n",
              "      <td>FIFA Soccer 2004</td>\n",
              "      <td>PS2</td>\n",
              "      <td>&lt;NA&gt;</td>\n",
              "      <td>Sports</td>\n",
              "      <td>0.59</td>\n",
              "      <td>2.36</td>\n",
              "      <td>0.04</td>\n",
              "      <td>0.51</td>\n",
              "      <td>84.0</td>\n",
              "      <td>6.4</td>\n",
              "      <td>E</td>\n",
              "    </tr>\n",
              "    <tr>\n",
              "      <th>456</th>\n",
              "      <td>LEGO Batman: The Videogame</td>\n",
              "      <td>Wii</td>\n",
              "      <td>&lt;NA&gt;</td>\n",
              "      <td>Action</td>\n",
              "      <td>1.80</td>\n",
              "      <td>0.97</td>\n",
              "      <td>0.00</td>\n",
              "      <td>0.29</td>\n",
              "      <td>74.0</td>\n",
              "      <td>7.9</td>\n",
              "      <td>E10+</td>\n",
              "    </tr>\n",
              "    <tr>\n",
              "      <th>475</th>\n",
              "      <td>wwe Smackdown vs. Raw 2006</td>\n",
              "      <td>PS2</td>\n",
              "      <td>&lt;NA&gt;</td>\n",
              "      <td>Fighting</td>\n",
              "      <td>1.57</td>\n",
              "      <td>1.02</td>\n",
              "      <td>0.00</td>\n",
              "      <td>0.41</td>\n",
              "      <td>NaN</td>\n",
              "      <td>NaN</td>\n",
              "      <td>NaN</td>\n",
              "    </tr>\n",
              "    <tr>\n",
              "      <th>608</th>\n",
              "      <td>Space Invaders</td>\n",
              "      <td>2600</td>\n",
              "      <td>&lt;NA&gt;</td>\n",
              "      <td>Shooter</td>\n",
              "      <td>2.36</td>\n",
              "      <td>0.14</td>\n",
              "      <td>0.00</td>\n",
              "      <td>0.03</td>\n",
              "      <td>NaN</td>\n",
              "      <td>NaN</td>\n",
              "      <td>NaN</td>\n",
              "    </tr>\n",
              "    <tr>\n",
              "      <th>626</th>\n",
              "      <td>Rock Band</td>\n",
              "      <td>X360</td>\n",
              "      <td>&lt;NA&gt;</td>\n",
              "      <td>Misc</td>\n",
              "      <td>1.93</td>\n",
              "      <td>0.33</td>\n",
              "      <td>0.00</td>\n",
              "      <td>0.21</td>\n",
              "      <td>92.0</td>\n",
              "      <td>8.2</td>\n",
              "      <td>T</td>\n",
              "    </tr>\n",
              "    <tr>\n",
              "      <th>656</th>\n",
              "      <td>Frogger's Adventures: Temple of the Frog</td>\n",
              "      <td>GBA</td>\n",
              "      <td>&lt;NA&gt;</td>\n",
              "      <td>Adventure</td>\n",
              "      <td>2.15</td>\n",
              "      <td>0.18</td>\n",
              "      <td>0.00</td>\n",
              "      <td>0.07</td>\n",
              "      <td>73.0</td>\n",
              "      <td>9.0</td>\n",
              "      <td>E</td>\n",
              "    </tr>\n",
              "    <tr>\n",
              "      <th>676</th>\n",
              "      <td>LEGO Indiana Jones: The Original Adventures</td>\n",
              "      <td>Wii</td>\n",
              "      <td>&lt;NA&gt;</td>\n",
              "      <td>Action</td>\n",
              "      <td>1.51</td>\n",
              "      <td>0.61</td>\n",
              "      <td>0.00</td>\n",
              "      <td>0.21</td>\n",
              "      <td>78.0</td>\n",
              "      <td>6.6</td>\n",
              "      <td>E10+</td>\n",
              "    </tr>\n",
              "    <tr>\n",
              "      <th>717</th>\n",
              "      <td>Call of Duty 3</td>\n",
              "      <td>Wii</td>\n",
              "      <td>&lt;NA&gt;</td>\n",
              "      <td>Shooter</td>\n",
              "      <td>1.17</td>\n",
              "      <td>0.84</td>\n",
              "      <td>0.00</td>\n",
              "      <td>0.23</td>\n",
              "      <td>69.0</td>\n",
              "      <td>6.7</td>\n",
              "      <td>T</td>\n",
              "    </tr>\n",
              "    <tr>\n",
              "      <th>803</th>\n",
              "      <td>Rock Band</td>\n",
              "      <td>Wii</td>\n",
              "      <td>&lt;NA&gt;</td>\n",
              "      <td>Misc</td>\n",
              "      <td>1.33</td>\n",
              "      <td>0.56</td>\n",
              "      <td>0.00</td>\n",
              "      <td>0.20</td>\n",
              "      <td>80.0</td>\n",
              "      <td>6.3</td>\n",
              "      <td>T</td>\n",
              "    </tr>\n",
              "  </tbody>\n",
              "</table>\n",
              "</div>\n",
              "      <button class=\"colab-df-convert\" onclick=\"convertToInteractive('df-8a185233-1ea6-4732-9f3c-43a59649726c')\"\n",
              "              title=\"Convert this dataframe to an interactive table.\"\n",
              "              style=\"display:none;\">\n",
              "        \n",
              "  <svg xmlns=\"http://www.w3.org/2000/svg\" height=\"24px\"viewBox=\"0 0 24 24\"\n",
              "       width=\"24px\">\n",
              "    <path d=\"M0 0h24v24H0V0z\" fill=\"none\"/>\n",
              "    <path d=\"M18.56 5.44l.94 2.06.94-2.06 2.06-.94-2.06-.94-.94-2.06-.94 2.06-2.06.94zm-11 1L8.5 8.5l.94-2.06 2.06-.94-2.06-.94L8.5 2.5l-.94 2.06-2.06.94zm10 10l.94 2.06.94-2.06 2.06-.94-2.06-.94-.94-2.06-.94 2.06-2.06.94z\"/><path d=\"M17.41 7.96l-1.37-1.37c-.4-.4-.92-.59-1.43-.59-.52 0-1.04.2-1.43.59L10.3 9.45l-7.72 7.72c-.78.78-.78 2.05 0 2.83L4 21.41c.39.39.9.59 1.41.59.51 0 1.02-.2 1.41-.59l7.78-7.78 2.81-2.81c.8-.78.8-2.07 0-2.86zM5.41 20L4 18.59l7.72-7.72 1.47 1.35L5.41 20z\"/>\n",
              "  </svg>\n",
              "      </button>\n",
              "      \n",
              "  <style>\n",
              "    .colab-df-container {\n",
              "      display:flex;\n",
              "      flex-wrap:wrap;\n",
              "      gap: 12px;\n",
              "    }\n",
              "\n",
              "    .colab-df-convert {\n",
              "      background-color: #E8F0FE;\n",
              "      border: none;\n",
              "      border-radius: 50%;\n",
              "      cursor: pointer;\n",
              "      display: none;\n",
              "      fill: #1967D2;\n",
              "      height: 32px;\n",
              "      padding: 0 0 0 0;\n",
              "      width: 32px;\n",
              "    }\n",
              "\n",
              "    .colab-df-convert:hover {\n",
              "      background-color: #E2EBFA;\n",
              "      box-shadow: 0px 1px 2px rgba(60, 64, 67, 0.3), 0px 1px 3px 1px rgba(60, 64, 67, 0.15);\n",
              "      fill: #174EA6;\n",
              "    }\n",
              "\n",
              "    [theme=dark] .colab-df-convert {\n",
              "      background-color: #3B4455;\n",
              "      fill: #D2E3FC;\n",
              "    }\n",
              "\n",
              "    [theme=dark] .colab-df-convert:hover {\n",
              "      background-color: #434B5C;\n",
              "      box-shadow: 0px 1px 3px 1px rgba(0, 0, 0, 0.15);\n",
              "      filter: drop-shadow(0px 1px 2px rgba(0, 0, 0, 0.3));\n",
              "      fill: #FFFFFF;\n",
              "    }\n",
              "  </style>\n",
              "\n",
              "      <script>\n",
              "        const buttonEl =\n",
              "          document.querySelector('#df-8a185233-1ea6-4732-9f3c-43a59649726c button.colab-df-convert');\n",
              "        buttonEl.style.display =\n",
              "          google.colab.kernel.accessAllowed ? 'block' : 'none';\n",
              "\n",
              "        async function convertToInteractive(key) {\n",
              "          const element = document.querySelector('#df-8a185233-1ea6-4732-9f3c-43a59649726c');\n",
              "          const dataTable =\n",
              "            await google.colab.kernel.invokeFunction('convertToInteractive',\n",
              "                                                     [key], {});\n",
              "          if (!dataTable) return;\n",
              "\n",
              "          const docLinkHtml = 'Like what you see? Visit the ' +\n",
              "            '<a target=\"_blank\" href=https://colab.research.google.com/notebooks/data_table.ipynb>data table notebook</a>'\n",
              "            + ' to learn more about interactive tables.';\n",
              "          element.innerHTML = '';\n",
              "          dataTable['output_type'] = 'display_data';\n",
              "          await google.colab.output.renderOutput(dataTable, element);\n",
              "          const docLink = document.createElement('div');\n",
              "          docLink.innerHTML = docLinkHtml;\n",
              "          element.appendChild(docLink);\n",
              "        }\n",
              "      </script>\n",
              "    </div>\n",
              "  </div>\n",
              "  "
            ],
            "text/plain": [
              "                                            name platform  year_of_release  \\\n",
              "183                              Madden NFL 2004      PS2             <NA>   \n",
              "377                             FIFA Soccer 2004      PS2             <NA>   \n",
              "456                   LEGO Batman: The Videogame      Wii             <NA>   \n",
              "475                   wwe Smackdown vs. Raw 2006      PS2             <NA>   \n",
              "608                               Space Invaders     2600             <NA>   \n",
              "626                                    Rock Band     X360             <NA>   \n",
              "656     Frogger's Adventures: Temple of the Frog      GBA             <NA>   \n",
              "676  LEGO Indiana Jones: The Original Adventures      Wii             <NA>   \n",
              "717                               Call of Duty 3      Wii             <NA>   \n",
              "803                                    Rock Band      Wii             <NA>   \n",
              "\n",
              "         genre  NA_sales  EU_sales  JP_sales  other_sales  critic_score  \\\n",
              "183     Sports      4.26      0.26      0.01         0.71          94.0   \n",
              "377     Sports      0.59      2.36      0.04         0.51          84.0   \n",
              "456     Action      1.80      0.97      0.00         0.29          74.0   \n",
              "475   Fighting      1.57      1.02      0.00         0.41           NaN   \n",
              "608    Shooter      2.36      0.14      0.00         0.03           NaN   \n",
              "626       Misc      1.93      0.33      0.00         0.21          92.0   \n",
              "656  Adventure      2.15      0.18      0.00         0.07          73.0   \n",
              "676     Action      1.51      0.61      0.00         0.21          78.0   \n",
              "717    Shooter      1.17      0.84      0.00         0.23          69.0   \n",
              "803       Misc      1.33      0.56      0.00         0.20          80.0   \n",
              "\n",
              "     user_score rating  \n",
              "183         8.5      E  \n",
              "377         6.4      E  \n",
              "456         7.9   E10+  \n",
              "475         NaN    NaN  \n",
              "608         NaN    NaN  \n",
              "626         8.2      T  \n",
              "656         9.0      E  \n",
              "676         6.6   E10+  \n",
              "717         6.7      T  \n",
              "803         6.3      T  "
            ]
          },
          "execution_count": 24,
          "metadata": {},
          "output_type": "execute_result"
        }
      ],
      "source": [
        "games[games.year_of_release.isna()].head(10)"
      ]
    },
    {
      "attachments": {},
      "cell_type": "markdown",
      "metadata": {
        "id": "mOcSwZj0T1in"
      },
      "source": [
        "Заполнить значения не представляется возможным. Так как они представляют незначительную часть датасета (< 2%), то их можно удалить."
      ]
    },
    {
      "cell_type": "code",
      "execution_count": null,
      "metadata": {
        "colab": {
          "base_uri": "https://localhost:8080/"
        },
        "id": "_9NqemtN3zkC",
        "outputId": "205eac37-a39f-4455-8ff0-d890153137e5",
        "trusted": true
      },
      "outputs": [
        {
          "data": {
            "text/plain": [
              "0"
            ]
          },
          "execution_count": 25,
          "metadata": {},
          "output_type": "execute_result"
        }
      ],
      "source": [
        "games = games.dropna(subset=[\"year_of_release\"])\n",
        "games.year_of_release.isna().sum()"
      ]
    },
    {
      "attachments": {},
      "cell_type": "markdown",
      "metadata": {
        "id": "zyPW_Zaq8Ppm"
      },
      "source": [
        "### genre"
      ]
    },
    {
      "cell_type": "code",
      "execution_count": null,
      "metadata": {
        "colab": {
          "base_uri": "https://localhost:8080/",
          "height": 523
        },
        "id": "Wn6CDhctmI0S",
        "outputId": "e5779423-4a96-4b73-e8b5-ce0231890022",
        "trusted": true
      },
      "outputs": [
        {
          "data": {
            "image/png": "[encoded data removed]",
            "text/plain": [
              "<Figure size 1152x576 with 1 Axes>"
            ]
          },
          "metadata": {
            "needs_background": "light"
          },
          "output_type": "display_data"
        }
      ],
      "source": [
        "plt.figure(figsize=(16, 8))\n",
        "games.genre.value_counts().plot.bar(rot=45, color=\"#f54671\")\n",
        "plt.show()"
      ]
    },
    {
      "attachments": {},
      "cell_type": "markdown",
      "metadata": {
        "id": "qIneIrL2mVKU"
      },
      "source": [
        "Присутствуют пропущенные значения в количестве 2-х строк, которые можно удалить. Тип данных соответствует содержимому. Преобладающий жанр - action, наименее популярный - puzzle. Игры - как способ абстрагировать от реальности, action-жанр предполагает быстроту действий и реакции, не предполагая вдумчивости и размышлений, в отличии от puzzle, что объяснеет популярность одного и ее отсутствии у другого."
      ]
    },
    {
      "cell_type": "code",
      "execution_count": null,
      "metadata": {
        "colab": {
          "base_uri": "https://localhost:8080/"
        },
        "id": "2_10GFj9nFCx",
        "outputId": "3da74267-8968-4af1-b655-2acbfe42b40d",
        "trusted": true
      },
      "outputs": [
        {
          "data": {
            "text/plain": [
              "0"
            ]
          },
          "execution_count": 27,
          "metadata": {},
          "output_type": "execute_result"
        }
      ],
      "source": [
        "games = games.dropna(subset=[\"genre\"])\n",
        "games.reset_index(inplace=True, drop=True)\n",
        "games.genre.isna().sum()"
      ]
    },
    {
      "attachments": {},
      "cell_type": "markdown",
      "metadata": {
        "id": "pfTEB4u00SMV"
      },
      "source": [
        "### NA_sales"
      ]
    },
    {
      "cell_type": "code",
      "execution_count": null,
      "metadata": {
        "colab": {
          "base_uri": "https://localhost:8080/",
          "height": 498
        },
        "id": "Nd4kNzVEutbA",
        "outputId": "3a22aa5c-f51c-4c56-bf0f-6f205fd22b43",
        "trusted": true
      },
      "outputs": [
        {
          "data": {
            "image/png": "[encoded data removed]",
            "text/plain": [
              "<Figure size 720x576 with 2 Axes>"
            ]
          },
          "metadata": {
            "needs_background": "light"
          },
          "output_type": "display_data"
        }
      ],
      "source": [
        "decor(games[\"NA_sales\"])"
      ]
    },
    {
      "attachments": {},
      "cell_type": "markdown",
      "metadata": {
        "id": "EPxukcsBuFEg"
      },
      "source": [
        "Пропущенных значений нет, тип значений соответствует содержимому. Довольно много выбросов, наиболее искажающие данные находятся после 5 млн. Рассмотрим эти строки подробнее"
      ]
    },
    {
      "cell_type": "code",
      "execution_count": null,
      "metadata": {
        "colab": {
          "base_uri": "https://localhost:8080/",
          "height": 1000
        },
        "id": "Xr6jAlwPJktE",
        "outputId": "3ae7e10b-ca96-451d-9fa4-6f974b6d167d",
        "trusted": true
      },
      "outputs": [
        {
          "data": {
            "text/html": [
              "\n",
              "  <div id=\"df-bd06a401-1f5b-4c71-afeb-77959b040f74\">\n",
              "    <div class=\"colab-df-container\">\n",
              "      <div>\n",
              "<style scoped>\n",
              "    .dataframe tbody tr th:only-of-type {\n",
              "        vertical-align: middle;\n",
              "    }\n",
              "\n",
              "    .dataframe tbody tr th {\n",
              "        vertical-align: top;\n",
              "    }\n",
              "\n",
              "    .dataframe thead th {\n",
              "        text-align: right;\n",
              "    }\n",
              "</style>\n",
              "<table border=\"1\" class=\"dataframe\">\n",
              "  <thead>\n",
              "    <tr style=\"text-align: right;\">\n",
              "      <th></th>\n",
              "      <th>name</th>\n",
              "      <th>platform</th>\n",
              "      <th>year_of_release</th>\n",
              "      <th>genre</th>\n",
              "      <th>NA_sales</th>\n",
              "      <th>EU_sales</th>\n",
              "      <th>JP_sales</th>\n",
              "      <th>other_sales</th>\n",
              "      <th>critic_score</th>\n",
              "      <th>user_score</th>\n",
              "      <th>rating</th>\n",
              "    </tr>\n",
              "  </thead>\n",
              "  <tbody>\n",
              "    <tr>\n",
              "      <th>0</th>\n",
              "      <td>Wii Sports</td>\n",
              "      <td>Wii</td>\n",
              "      <td>2006</td>\n",
              "      <td>Sports</td>\n",
              "      <td>41.36</td>\n",
              "      <td>28.96</td>\n",
              "      <td>3.77</td>\n",
              "      <td>8.45</td>\n",
              "      <td>76.0</td>\n",
              "      <td>8.0</td>\n",
              "      <td>E</td>\n",
              "    </tr>\n",
              "    <tr>\n",
              "      <th>1</th>\n",
              "      <td>Super Mario Bros.</td>\n",
              "      <td>NES</td>\n",
              "      <td>1985</td>\n",
              "      <td>Platform</td>\n",
              "      <td>29.08</td>\n",
              "      <td>3.58</td>\n",
              "      <td>6.81</td>\n",
              "      <td>0.77</td>\n",
              "      <td>NaN</td>\n",
              "      <td>NaN</td>\n",
              "      <td>NaN</td>\n",
              "    </tr>\n",
              "    <tr>\n",
              "      <th>2</th>\n",
              "      <td>Mario Kart Wii</td>\n",
              "      <td>Wii</td>\n",
              "      <td>2008</td>\n",
              "      <td>Racing</td>\n",
              "      <td>15.68</td>\n",
              "      <td>12.76</td>\n",
              "      <td>3.79</td>\n",
              "      <td>3.29</td>\n",
              "      <td>82.0</td>\n",
              "      <td>8.3</td>\n",
              "      <td>E</td>\n",
              "    </tr>\n",
              "    <tr>\n",
              "      <th>3</th>\n",
              "      <td>Wii Sports Resort</td>\n",
              "      <td>Wii</td>\n",
              "      <td>2009</td>\n",
              "      <td>Sports</td>\n",
              "      <td>15.61</td>\n",
              "      <td>10.93</td>\n",
              "      <td>3.28</td>\n",
              "      <td>2.95</td>\n",
              "      <td>80.0</td>\n",
              "      <td>8.0</td>\n",
              "      <td>E</td>\n",
              "    </tr>\n",
              "    <tr>\n",
              "      <th>4</th>\n",
              "      <td>Pokemon Red/Pokemon Blue</td>\n",
              "      <td>GB</td>\n",
              "      <td>1996</td>\n",
              "      <td>Role-Playing</td>\n",
              "      <td>11.27</td>\n",
              "      <td>8.89</td>\n",
              "      <td>10.22</td>\n",
              "      <td>1.00</td>\n",
              "      <td>NaN</td>\n",
              "      <td>NaN</td>\n",
              "      <td>NaN</td>\n",
              "    </tr>\n",
              "    <tr>\n",
              "      <th>5</th>\n",
              "      <td>Tetris</td>\n",
              "      <td>GB</td>\n",
              "      <td>1989</td>\n",
              "      <td>Puzzle</td>\n",
              "      <td>23.20</td>\n",
              "      <td>2.26</td>\n",
              "      <td>4.22</td>\n",
              "      <td>0.58</td>\n",
              "      <td>NaN</td>\n",
              "      <td>NaN</td>\n",
              "      <td>NaN</td>\n",
              "    </tr>\n",
              "    <tr>\n",
              "      <th>6</th>\n",
              "      <td>New Super Mario Bros.</td>\n",
              "      <td>DS</td>\n",
              "      <td>2006</td>\n",
              "      <td>Platform</td>\n",
              "      <td>11.28</td>\n",
              "      <td>9.14</td>\n",
              "      <td>6.50</td>\n",
              "      <td>2.88</td>\n",
              "      <td>89.0</td>\n",
              "      <td>8.5</td>\n",
              "      <td>E</td>\n",
              "    </tr>\n",
              "    <tr>\n",
              "      <th>7</th>\n",
              "      <td>Wii Play</td>\n",
              "      <td>Wii</td>\n",
              "      <td>2006</td>\n",
              "      <td>Misc</td>\n",
              "      <td>13.96</td>\n",
              "      <td>9.18</td>\n",
              "      <td>2.93</td>\n",
              "      <td>2.84</td>\n",
              "      <td>58.0</td>\n",
              "      <td>6.6</td>\n",
              "      <td>E</td>\n",
              "    </tr>\n",
              "    <tr>\n",
              "      <th>8</th>\n",
              "      <td>New Super Mario Bros. Wii</td>\n",
              "      <td>Wii</td>\n",
              "      <td>2009</td>\n",
              "      <td>Platform</td>\n",
              "      <td>14.44</td>\n",
              "      <td>6.94</td>\n",
              "      <td>4.70</td>\n",
              "      <td>2.24</td>\n",
              "      <td>87.0</td>\n",
              "      <td>8.4</td>\n",
              "      <td>E</td>\n",
              "    </tr>\n",
              "    <tr>\n",
              "      <th>9</th>\n",
              "      <td>Duck Hunt</td>\n",
              "      <td>NES</td>\n",
              "      <td>1984</td>\n",
              "      <td>Shooter</td>\n",
              "      <td>26.93</td>\n",
              "      <td>0.63</td>\n",
              "      <td>0.28</td>\n",
              "      <td>0.47</td>\n",
              "      <td>NaN</td>\n",
              "      <td>NaN</td>\n",
              "      <td>NaN</td>\n",
              "    </tr>\n",
              "    <tr>\n",
              "      <th>10</th>\n",
              "      <td>Nintendogs</td>\n",
              "      <td>DS</td>\n",
              "      <td>2005</td>\n",
              "      <td>Simulation</td>\n",
              "      <td>9.05</td>\n",
              "      <td>10.95</td>\n",
              "      <td>1.93</td>\n",
              "      <td>2.74</td>\n",
              "      <td>NaN</td>\n",
              "      <td>NaN</td>\n",
              "      <td>NaN</td>\n",
              "    </tr>\n",
              "    <tr>\n",
              "      <th>11</th>\n",
              "      <td>Mario Kart DS</td>\n",
              "      <td>DS</td>\n",
              "      <td>2005</td>\n",
              "      <td>Racing</td>\n",
              "      <td>9.71</td>\n",
              "      <td>7.47</td>\n",
              "      <td>4.13</td>\n",
              "      <td>1.90</td>\n",
              "      <td>91.0</td>\n",
              "      <td>8.6</td>\n",
              "      <td>E</td>\n",
              "    </tr>\n",
              "    <tr>\n",
              "      <th>12</th>\n",
              "      <td>Pokemon Gold/Pokemon Silver</td>\n",
              "      <td>GB</td>\n",
              "      <td>1999</td>\n",
              "      <td>Role-Playing</td>\n",
              "      <td>9.00</td>\n",
              "      <td>6.18</td>\n",
              "      <td>7.20</td>\n",
              "      <td>0.71</td>\n",
              "      <td>NaN</td>\n",
              "      <td>NaN</td>\n",
              "      <td>NaN</td>\n",
              "    </tr>\n",
              "    <tr>\n",
              "      <th>13</th>\n",
              "      <td>Wii Fit</td>\n",
              "      <td>Wii</td>\n",
              "      <td>2007</td>\n",
              "      <td>Sports</td>\n",
              "      <td>8.92</td>\n",
              "      <td>8.03</td>\n",
              "      <td>3.60</td>\n",
              "      <td>2.15</td>\n",
              "      <td>80.0</td>\n",
              "      <td>7.7</td>\n",
              "      <td>E</td>\n",
              "    </tr>\n",
              "    <tr>\n",
              "      <th>14</th>\n",
              "      <td>Kinect Adventures!</td>\n",
              "      <td>X360</td>\n",
              "      <td>2010</td>\n",
              "      <td>Misc</td>\n",
              "      <td>15.00</td>\n",
              "      <td>4.89</td>\n",
              "      <td>0.24</td>\n",
              "      <td>1.69</td>\n",
              "      <td>61.0</td>\n",
              "      <td>6.3</td>\n",
              "      <td>E</td>\n",
              "    </tr>\n",
              "    <tr>\n",
              "      <th>15</th>\n",
              "      <td>Wii Fit Plus</td>\n",
              "      <td>Wii</td>\n",
              "      <td>2009</td>\n",
              "      <td>Sports</td>\n",
              "      <td>9.01</td>\n",
              "      <td>8.49</td>\n",
              "      <td>2.53</td>\n",
              "      <td>1.77</td>\n",
              "      <td>80.0</td>\n",
              "      <td>7.4</td>\n",
              "      <td>E</td>\n",
              "    </tr>\n",
              "    <tr>\n",
              "      <th>16</th>\n",
              "      <td>Grand Theft Auto V</td>\n",
              "      <td>PS3</td>\n",
              "      <td>2013</td>\n",
              "      <td>Action</td>\n",
              "      <td>7.02</td>\n",
              "      <td>9.09</td>\n",
              "      <td>0.98</td>\n",
              "      <td>3.96</td>\n",
              "      <td>97.0</td>\n",
              "      <td>8.2</td>\n",
              "      <td>M</td>\n",
              "    </tr>\n",
              "    <tr>\n",
              "      <th>17</th>\n",
              "      <td>Grand Theft Auto: San Andreas</td>\n",
              "      <td>PS2</td>\n",
              "      <td>2004</td>\n",
              "      <td>Action</td>\n",
              "      <td>9.43</td>\n",
              "      <td>0.40</td>\n",
              "      <td>0.41</td>\n",
              "      <td>10.57</td>\n",
              "      <td>95.0</td>\n",
              "      <td>9.0</td>\n",
              "      <td>M</td>\n",
              "    </tr>\n",
              "    <tr>\n",
              "      <th>18</th>\n",
              "      <td>Super Mario World</td>\n",
              "      <td>SNES</td>\n",
              "      <td>1990</td>\n",
              "      <td>Platform</td>\n",
              "      <td>12.78</td>\n",
              "      <td>3.75</td>\n",
              "      <td>3.54</td>\n",
              "      <td>0.55</td>\n",
              "      <td>NaN</td>\n",
              "      <td>NaN</td>\n",
              "      <td>NaN</td>\n",
              "    </tr>\n",
              "    <tr>\n",
              "      <th>20</th>\n",
              "      <td>Pokemon Diamond/Pokemon Pearl</td>\n",
              "      <td>DS</td>\n",
              "      <td>2006</td>\n",
              "      <td>Role-Playing</td>\n",
              "      <td>6.38</td>\n",
              "      <td>4.46</td>\n",
              "      <td>6.04</td>\n",
              "      <td>1.36</td>\n",
              "      <td>NaN</td>\n",
              "      <td>NaN</td>\n",
              "      <td>NaN</td>\n",
              "    </tr>\n",
              "    <tr>\n",
              "      <th>21</th>\n",
              "      <td>Super Mario Land</td>\n",
              "      <td>GB</td>\n",
              "      <td>1989</td>\n",
              "      <td>Platform</td>\n",
              "      <td>10.83</td>\n",
              "      <td>2.71</td>\n",
              "      <td>4.18</td>\n",
              "      <td>0.42</td>\n",
              "      <td>NaN</td>\n",
              "      <td>NaN</td>\n",
              "      <td>NaN</td>\n",
              "    </tr>\n",
              "    <tr>\n",
              "      <th>22</th>\n",
              "      <td>Super Mario Bros. 3</td>\n",
              "      <td>NES</td>\n",
              "      <td>1988</td>\n",
              "      <td>Platform</td>\n",
              "      <td>9.54</td>\n",
              "      <td>3.44</td>\n",
              "      <td>3.84</td>\n",
              "      <td>0.46</td>\n",
              "      <td>NaN</td>\n",
              "      <td>NaN</td>\n",
              "      <td>NaN</td>\n",
              "    </tr>\n",
              "    <tr>\n",
              "      <th>23</th>\n",
              "      <td>Grand Theft Auto V</td>\n",
              "      <td>X360</td>\n",
              "      <td>2013</td>\n",
              "      <td>Action</td>\n",
              "      <td>9.66</td>\n",
              "      <td>5.14</td>\n",
              "      <td>0.06</td>\n",
              "      <td>1.41</td>\n",
              "      <td>97.0</td>\n",
              "      <td>8.1</td>\n",
              "      <td>M</td>\n",
              "    </tr>\n",
              "    <tr>\n",
              "      <th>24</th>\n",
              "      <td>Grand Theft Auto: Vice City</td>\n",
              "      <td>PS2</td>\n",
              "      <td>2002</td>\n",
              "      <td>Action</td>\n",
              "      <td>8.41</td>\n",
              "      <td>5.49</td>\n",
              "      <td>0.47</td>\n",
              "      <td>1.78</td>\n",
              "      <td>95.0</td>\n",
              "      <td>8.7</td>\n",
              "      <td>M</td>\n",
              "    </tr>\n",
              "    <tr>\n",
              "      <th>25</th>\n",
              "      <td>Pokemon Ruby/Pokemon Sapphire</td>\n",
              "      <td>GBA</td>\n",
              "      <td>2002</td>\n",
              "      <td>Role-Playing</td>\n",
              "      <td>6.06</td>\n",
              "      <td>3.90</td>\n",
              "      <td>5.38</td>\n",
              "      <td>0.50</td>\n",
              "      <td>NaN</td>\n",
              "      <td>NaN</td>\n",
              "      <td>NaN</td>\n",
              "    </tr>\n",
              "    <tr>\n",
              "      <th>27</th>\n",
              "      <td>Pokemon Black/Pokemon White</td>\n",
              "      <td>DS</td>\n",
              "      <td>2010</td>\n",
              "      <td>Role-Playing</td>\n",
              "      <td>5.51</td>\n",
              "      <td>3.17</td>\n",
              "      <td>5.65</td>\n",
              "      <td>0.80</td>\n",
              "      <td>NaN</td>\n",
              "      <td>NaN</td>\n",
              "      <td>NaN</td>\n",
              "    </tr>\n",
              "    <tr>\n",
              "      <th>28</th>\n",
              "      <td>Gran Turismo 3: A-Spec</td>\n",
              "      <td>PS2</td>\n",
              "      <td>2001</td>\n",
              "      <td>Racing</td>\n",
              "      <td>6.85</td>\n",
              "      <td>5.09</td>\n",
              "      <td>1.87</td>\n",
              "      <td>1.16</td>\n",
              "      <td>95.0</td>\n",
              "      <td>8.4</td>\n",
              "      <td>E</td>\n",
              "    </tr>\n",
              "    <tr>\n",
              "      <th>29</th>\n",
              "      <td>Call of Duty: Modern Warfare 3</td>\n",
              "      <td>X360</td>\n",
              "      <td>2011</td>\n",
              "      <td>Shooter</td>\n",
              "      <td>9.04</td>\n",
              "      <td>4.24</td>\n",
              "      <td>0.13</td>\n",
              "      <td>1.32</td>\n",
              "      <td>88.0</td>\n",
              "      <td>3.4</td>\n",
              "      <td>M</td>\n",
              "    </tr>\n",
              "    <tr>\n",
              "      <th>30</th>\n",
              "      <td>Pokémon Yellow: Special Pikachu Edition</td>\n",
              "      <td>GB</td>\n",
              "      <td>1998</td>\n",
              "      <td>Role-Playing</td>\n",
              "      <td>5.89</td>\n",
              "      <td>5.04</td>\n",
              "      <td>3.12</td>\n",
              "      <td>0.59</td>\n",
              "      <td>NaN</td>\n",
              "      <td>NaN</td>\n",
              "      <td>NaN</td>\n",
              "    </tr>\n",
              "    <tr>\n",
              "      <th>31</th>\n",
              "      <td>Call of Duty: Black Ops 3</td>\n",
              "      <td>PS4</td>\n",
              "      <td>2015</td>\n",
              "      <td>Shooter</td>\n",
              "      <td>6.03</td>\n",
              "      <td>5.86</td>\n",
              "      <td>0.36</td>\n",
              "      <td>2.38</td>\n",
              "      <td>NaN</td>\n",
              "      <td>NaN</td>\n",
              "      <td>NaN</td>\n",
              "    </tr>\n",
              "    <tr>\n",
              "      <th>32</th>\n",
              "      <td>Call of Duty: Black Ops</td>\n",
              "      <td>X360</td>\n",
              "      <td>2010</td>\n",
              "      <td>Shooter</td>\n",
              "      <td>9.70</td>\n",
              "      <td>3.68</td>\n",
              "      <td>0.11</td>\n",
              "      <td>1.13</td>\n",
              "      <td>87.0</td>\n",
              "      <td>6.3</td>\n",
              "      <td>M</td>\n",
              "    </tr>\n",
              "    <tr>\n",
              "      <th>33</th>\n",
              "      <td>Pokemon X/Pokemon Y</td>\n",
              "      <td>3DS</td>\n",
              "      <td>2013</td>\n",
              "      <td>Role-Playing</td>\n",
              "      <td>5.28</td>\n",
              "      <td>4.19</td>\n",
              "      <td>4.35</td>\n",
              "      <td>0.78</td>\n",
              "      <td>NaN</td>\n",
              "      <td>NaN</td>\n",
              "      <td>NaN</td>\n",
              "    </tr>\n",
              "    <tr>\n",
              "      <th>35</th>\n",
              "      <td>Call of Duty: Black Ops II</td>\n",
              "      <td>X360</td>\n",
              "      <td>2012</td>\n",
              "      <td>Shooter</td>\n",
              "      <td>8.25</td>\n",
              "      <td>4.24</td>\n",
              "      <td>0.07</td>\n",
              "      <td>1.12</td>\n",
              "      <td>83.0</td>\n",
              "      <td>4.8</td>\n",
              "      <td>M</td>\n",
              "    </tr>\n",
              "    <tr>\n",
              "      <th>36</th>\n",
              "      <td>Call of Duty: Modern Warfare 2</td>\n",
              "      <td>X360</td>\n",
              "      <td>2009</td>\n",
              "      <td>Shooter</td>\n",
              "      <td>8.52</td>\n",
              "      <td>3.59</td>\n",
              "      <td>0.08</td>\n",
              "      <td>1.28</td>\n",
              "      <td>94.0</td>\n",
              "      <td>6.3</td>\n",
              "      <td>M</td>\n",
              "    </tr>\n",
              "    <tr>\n",
              "      <th>37</th>\n",
              "      <td>Call of Duty: Modern Warfare 3</td>\n",
              "      <td>PS3</td>\n",
              "      <td>2011</td>\n",
              "      <td>Shooter</td>\n",
              "      <td>5.54</td>\n",
              "      <td>5.73</td>\n",
              "      <td>0.49</td>\n",
              "      <td>1.57</td>\n",
              "      <td>88.0</td>\n",
              "      <td>3.2</td>\n",
              "      <td>M</td>\n",
              "    </tr>\n",
              "    <tr>\n",
              "      <th>38</th>\n",
              "      <td>Grand Theft Auto III</td>\n",
              "      <td>PS2</td>\n",
              "      <td>2001</td>\n",
              "      <td>Action</td>\n",
              "      <td>6.99</td>\n",
              "      <td>4.51</td>\n",
              "      <td>0.30</td>\n",
              "      <td>1.30</td>\n",
              "      <td>97.0</td>\n",
              "      <td>8.5</td>\n",
              "      <td>M</td>\n",
              "    </tr>\n",
              "    <tr>\n",
              "      <th>39</th>\n",
              "      <td>Super Smash Bros. Brawl</td>\n",
              "      <td>Wii</td>\n",
              "      <td>2008</td>\n",
              "      <td>Fighting</td>\n",
              "      <td>6.62</td>\n",
              "      <td>2.55</td>\n",
              "      <td>2.66</td>\n",
              "      <td>1.01</td>\n",
              "      <td>93.0</td>\n",
              "      <td>8.9</td>\n",
              "      <td>T</td>\n",
              "    </tr>\n",
              "    <tr>\n",
              "      <th>40</th>\n",
              "      <td>Mario Kart 7</td>\n",
              "      <td>3DS</td>\n",
              "      <td>2011</td>\n",
              "      <td>Racing</td>\n",
              "      <td>5.03</td>\n",
              "      <td>4.02</td>\n",
              "      <td>2.69</td>\n",
              "      <td>0.91</td>\n",
              "      <td>85.0</td>\n",
              "      <td>8.2</td>\n",
              "      <td>E</td>\n",
              "    </tr>\n",
              "    <tr>\n",
              "      <th>41</th>\n",
              "      <td>Call of Duty: Black Ops</td>\n",
              "      <td>PS3</td>\n",
              "      <td>2010</td>\n",
              "      <td>Shooter</td>\n",
              "      <td>5.99</td>\n",
              "      <td>4.37</td>\n",
              "      <td>0.48</td>\n",
              "      <td>1.79</td>\n",
              "      <td>88.0</td>\n",
              "      <td>6.4</td>\n",
              "      <td>M</td>\n",
              "    </tr>\n",
              "    <tr>\n",
              "      <th>44</th>\n",
              "      <td>Halo 3</td>\n",
              "      <td>X360</td>\n",
              "      <td>2007</td>\n",
              "      <td>Shooter</td>\n",
              "      <td>7.97</td>\n",
              "      <td>2.81</td>\n",
              "      <td>0.13</td>\n",
              "      <td>1.21</td>\n",
              "      <td>94.0</td>\n",
              "      <td>7.8</td>\n",
              "      <td>M</td>\n",
              "    </tr>\n",
              "    <tr>\n",
              "      <th>45</th>\n",
              "      <td>Super Mario 64</td>\n",
              "      <td>N64</td>\n",
              "      <td>1996</td>\n",
              "      <td>Platform</td>\n",
              "      <td>6.91</td>\n",
              "      <td>2.85</td>\n",
              "      <td>1.91</td>\n",
              "      <td>0.23</td>\n",
              "      <td>NaN</td>\n",
              "      <td>NaN</td>\n",
              "      <td>NaN</td>\n",
              "    </tr>\n",
              "    <tr>\n",
              "      <th>49</th>\n",
              "      <td>Super Mario Galaxy</td>\n",
              "      <td>Wii</td>\n",
              "      <td>2007</td>\n",
              "      <td>Platform</td>\n",
              "      <td>6.06</td>\n",
              "      <td>3.35</td>\n",
              "      <td>1.20</td>\n",
              "      <td>0.74</td>\n",
              "      <td>97.0</td>\n",
              "      <td>8.9</td>\n",
              "      <td>E</td>\n",
              "    </tr>\n",
              "    <tr>\n",
              "      <th>50</th>\n",
              "      <td>Super Mario Land 2: 6 Golden Coins</td>\n",
              "      <td>GB</td>\n",
              "      <td>1992</td>\n",
              "      <td>Adventure</td>\n",
              "      <td>6.16</td>\n",
              "      <td>2.04</td>\n",
              "      <td>2.69</td>\n",
              "      <td>0.29</td>\n",
              "      <td>NaN</td>\n",
              "      <td>NaN</td>\n",
              "      <td>NaN</td>\n",
              "    </tr>\n",
              "    <tr>\n",
              "      <th>51</th>\n",
              "      <td>Grand Theft Auto IV</td>\n",
              "      <td>X360</td>\n",
              "      <td>2008</td>\n",
              "      <td>Action</td>\n",
              "      <td>6.76</td>\n",
              "      <td>3.07</td>\n",
              "      <td>0.14</td>\n",
              "      <td>1.03</td>\n",
              "      <td>98.0</td>\n",
              "      <td>7.9</td>\n",
              "      <td>M</td>\n",
              "    </tr>\n",
              "    <tr>\n",
              "      <th>56</th>\n",
              "      <td>Super Mario All-Stars</td>\n",
              "      <td>SNES</td>\n",
              "      <td>1993</td>\n",
              "      <td>Platform</td>\n",
              "      <td>5.99</td>\n",
              "      <td>2.15</td>\n",
              "      <td>2.12</td>\n",
              "      <td>0.29</td>\n",
              "      <td>NaN</td>\n",
              "      <td>NaN</td>\n",
              "      <td>NaN</td>\n",
              "    </tr>\n",
              "    <tr>\n",
              "      <th>59</th>\n",
              "      <td>Super Mario 64</td>\n",
              "      <td>DS</td>\n",
              "      <td>2004</td>\n",
              "      <td>Platform</td>\n",
              "      <td>5.01</td>\n",
              "      <td>3.07</td>\n",
              "      <td>1.25</td>\n",
              "      <td>0.97</td>\n",
              "      <td>NaN</td>\n",
              "      <td>NaN</td>\n",
              "      <td>NaN</td>\n",
              "    </tr>\n",
              "    <tr>\n",
              "      <th>60</th>\n",
              "      <td>Call of Duty: Ghosts</td>\n",
              "      <td>X360</td>\n",
              "      <td>2013</td>\n",
              "      <td>Shooter</td>\n",
              "      <td>6.73</td>\n",
              "      <td>2.56</td>\n",
              "      <td>0.04</td>\n",
              "      <td>0.91</td>\n",
              "      <td>73.0</td>\n",
              "      <td>2.6</td>\n",
              "      <td>M</td>\n",
              "    </tr>\n",
              "    <tr>\n",
              "      <th>61</th>\n",
              "      <td>Just Dance 3</td>\n",
              "      <td>Wii</td>\n",
              "      <td>2011</td>\n",
              "      <td>Misc</td>\n",
              "      <td>5.95</td>\n",
              "      <td>3.11</td>\n",
              "      <td>0.00</td>\n",
              "      <td>1.06</td>\n",
              "      <td>74.0</td>\n",
              "      <td>7.8</td>\n",
              "      <td>E10+</td>\n",
              "    </tr>\n",
              "    <tr>\n",
              "      <th>63</th>\n",
              "      <td>Mario Kart 64</td>\n",
              "      <td>N64</td>\n",
              "      <td>1996</td>\n",
              "      <td>Racing</td>\n",
              "      <td>5.55</td>\n",
              "      <td>1.94</td>\n",
              "      <td>2.23</td>\n",
              "      <td>0.15</td>\n",
              "      <td>NaN</td>\n",
              "      <td>NaN</td>\n",
              "      <td>NaN</td>\n",
              "    </tr>\n",
              "    <tr>\n",
              "      <th>64</th>\n",
              "      <td>Halo: Reach</td>\n",
              "      <td>X360</td>\n",
              "      <td>2010</td>\n",
              "      <td>Shooter</td>\n",
              "      <td>7.04</td>\n",
              "      <td>1.95</td>\n",
              "      <td>0.08</td>\n",
              "      <td>0.79</td>\n",
              "      <td>91.0</td>\n",
              "      <td>7.9</td>\n",
              "      <td>M</td>\n",
              "    </tr>\n",
              "    <tr>\n",
              "      <th>66</th>\n",
              "      <td>Halo 4</td>\n",
              "      <td>X360</td>\n",
              "      <td>2012</td>\n",
              "      <td>Shooter</td>\n",
              "      <td>6.65</td>\n",
              "      <td>2.28</td>\n",
              "      <td>0.04</td>\n",
              "      <td>0.74</td>\n",
              "      <td>87.0</td>\n",
              "      <td>7.0</td>\n",
              "      <td>M</td>\n",
              "    </tr>\n",
              "    <tr>\n",
              "      <th>68</th>\n",
              "      <td>Just Dance 2</td>\n",
              "      <td>Wii</td>\n",
              "      <td>2010</td>\n",
              "      <td>Misc</td>\n",
              "      <td>5.80</td>\n",
              "      <td>2.85</td>\n",
              "      <td>0.01</td>\n",
              "      <td>0.78</td>\n",
              "      <td>74.0</td>\n",
              "      <td>7.3</td>\n",
              "      <td>E10+</td>\n",
              "    </tr>\n",
              "    <tr>\n",
              "      <th>70</th>\n",
              "      <td>Call of Duty 4: Modern Warfare</td>\n",
              "      <td>X360</td>\n",
              "      <td>2007</td>\n",
              "      <td>Shooter</td>\n",
              "      <td>5.93</td>\n",
              "      <td>2.36</td>\n",
              "      <td>0.13</td>\n",
              "      <td>0.90</td>\n",
              "      <td>94.0</td>\n",
              "      <td>8.4</td>\n",
              "      <td>M</td>\n",
              "    </tr>\n",
              "    <tr>\n",
              "      <th>72</th>\n",
              "      <td>Minecraft</td>\n",
              "      <td>X360</td>\n",
              "      <td>2013</td>\n",
              "      <td>Misc</td>\n",
              "      <td>5.70</td>\n",
              "      <td>2.65</td>\n",
              "      <td>0.02</td>\n",
              "      <td>0.81</td>\n",
              "      <td>NaN</td>\n",
              "      <td>NaN</td>\n",
              "      <td>NaN</td>\n",
              "    </tr>\n",
              "    <tr>\n",
              "      <th>75</th>\n",
              "      <td>The Elder Scrolls V: Skyrim</td>\n",
              "      <td>X360</td>\n",
              "      <td>2011</td>\n",
              "      <td>Role-Playing</td>\n",
              "      <td>5.05</td>\n",
              "      <td>2.79</td>\n",
              "      <td>0.10</td>\n",
              "      <td>0.85</td>\n",
              "      <td>96.0</td>\n",
              "      <td>8.4</td>\n",
              "      <td>M</td>\n",
              "    </tr>\n",
              "    <tr>\n",
              "      <th>78</th>\n",
              "      <td>Halo 2</td>\n",
              "      <td>XB</td>\n",
              "      <td>2004</td>\n",
              "      <td>Shooter</td>\n",
              "      <td>6.82</td>\n",
              "      <td>1.53</td>\n",
              "      <td>0.05</td>\n",
              "      <td>0.08</td>\n",
              "      <td>95.0</td>\n",
              "      <td>8.2</td>\n",
              "      <td>M</td>\n",
              "    </tr>\n",
              "    <tr>\n",
              "      <th>82</th>\n",
              "      <td>GoldenEye 007</td>\n",
              "      <td>N64</td>\n",
              "      <td>1997</td>\n",
              "      <td>Shooter</td>\n",
              "      <td>5.80</td>\n",
              "      <td>2.01</td>\n",
              "      <td>0.13</td>\n",
              "      <td>0.15</td>\n",
              "      <td>NaN</td>\n",
              "      <td>NaN</td>\n",
              "      <td>NaN</td>\n",
              "    </tr>\n",
              "    <tr>\n",
              "      <th>89</th>\n",
              "      <td>Pac-Man</td>\n",
              "      <td>2600</td>\n",
              "      <td>1982</td>\n",
              "      <td>Puzzle</td>\n",
              "      <td>7.28</td>\n",
              "      <td>0.45</td>\n",
              "      <td>0.00</td>\n",
              "      <td>0.08</td>\n",
              "      <td>NaN</td>\n",
              "      <td>NaN</td>\n",
              "      <td>NaN</td>\n",
              "    </tr>\n",
              "    <tr>\n",
              "      <th>98</th>\n",
              "      <td>Super Mario Bros. 2</td>\n",
              "      <td>NES</td>\n",
              "      <td>1988</td>\n",
              "      <td>Platform</td>\n",
              "      <td>5.39</td>\n",
              "      <td>1.18</td>\n",
              "      <td>0.70</td>\n",
              "      <td>0.19</td>\n",
              "      <td>NaN</td>\n",
              "      <td>NaN</td>\n",
              "      <td>NaN</td>\n",
              "    </tr>\n",
              "  </tbody>\n",
              "</table>\n",
              "</div>\n",
              "      <button class=\"colab-df-convert\" onclick=\"convertToInteractive('df-bd06a401-1f5b-4c71-afeb-77959b040f74')\"\n",
              "              title=\"Convert this dataframe to an interactive table.\"\n",
              "              style=\"display:none;\">\n",
              "        \n",
              "  <svg xmlns=\"http://www.w3.org/2000/svg\" height=\"24px\"viewBox=\"0 0 24 24\"\n",
              "       width=\"24px\">\n",
              "    <path d=\"M0 0h24v24H0V0z\" fill=\"none\"/>\n",
              "    <path d=\"M18.56 5.44l.94 2.06.94-2.06 2.06-.94-2.06-.94-.94-2.06-.94 2.06-2.06.94zm-11 1L8.5 8.5l.94-2.06 2.06-.94-2.06-.94L8.5 2.5l-.94 2.06-2.06.94zm10 10l.94 2.06.94-2.06 2.06-.94-2.06-.94-.94-2.06-.94 2.06-2.06.94z\"/><path d=\"M17.41 7.96l-1.37-1.37c-.4-.4-.92-.59-1.43-.59-.52 0-1.04.2-1.43.59L10.3 9.45l-7.72 7.72c-.78.78-.78 2.05 0 2.83L4 21.41c.39.39.9.59 1.41.59.51 0 1.02-.2 1.41-.59l7.78-7.78 2.81-2.81c.8-.78.8-2.07 0-2.86zM5.41 20L4 18.59l7.72-7.72 1.47 1.35L5.41 20z\"/>\n",
              "  </svg>\n",
              "      </button>\n",
              "      \n",
              "  <style>\n",
              "    .colab-df-container {\n",
              "      display:flex;\n",
              "      flex-wrap:wrap;\n",
              "      gap: 12px;\n",
              "    }\n",
              "\n",
              "    .colab-df-convert {\n",
              "      background-color: #E8F0FE;\n",
              "      border: none;\n",
              "      border-radius: 50%;\n",
              "      cursor: pointer;\n",
              "      display: none;\n",
              "      fill: #1967D2;\n",
              "      height: 32px;\n",
              "      padding: 0 0 0 0;\n",
              "      width: 32px;\n",
              "    }\n",
              "\n",
              "    .colab-df-convert:hover {\n",
              "      background-color: #E2EBFA;\n",
              "      box-shadow: 0px 1px 2px rgba(60, 64, 67, 0.3), 0px 1px 3px 1px rgba(60, 64, 67, 0.15);\n",
              "      fill: #174EA6;\n",
              "    }\n",
              "\n",
              "    [theme=dark] .colab-df-convert {\n",
              "      background-color: #3B4455;\n",
              "      fill: #D2E3FC;\n",
              "    }\n",
              "\n",
              "    [theme=dark] .colab-df-convert:hover {\n",
              "      background-color: #434B5C;\n",
              "      box-shadow: 0px 1px 3px 1px rgba(0, 0, 0, 0.15);\n",
              "      filter: drop-shadow(0px 1px 2px rgba(0, 0, 0, 0.3));\n",
              "      fill: #FFFFFF;\n",
              "    }\n",
              "  </style>\n",
              "\n",
              "      <script>\n",
              "        const buttonEl =\n",
              "          document.querySelector('#df-bd06a401-1f5b-4c71-afeb-77959b040f74 button.colab-df-convert');\n",
              "        buttonEl.style.display =\n",
              "          google.colab.kernel.accessAllowed ? 'block' : 'none';\n",
              "\n",
              "        async function convertToInteractive(key) {\n",
              "          const element = document.querySelector('#df-bd06a401-1f5b-4c71-afeb-77959b040f74');\n",
              "          const dataTable =\n",
              "            await google.colab.kernel.invokeFunction('convertToInteractive',\n",
              "                                                     [key], {});\n",
              "          if (!dataTable) return;\n",
              "\n",
              "          const docLinkHtml = 'Like what you see? Visit the ' +\n",
              "            '<a target=\"_blank\" href=https://colab.research.google.com/notebooks/data_table.ipynb>data table notebook</a>'\n",
              "            + ' to learn more about interactive tables.';\n",
              "          element.innerHTML = '';\n",
              "          dataTable['output_type'] = 'display_data';\n",
              "          await google.colab.output.renderOutput(dataTable, element);\n",
              "          const docLink = document.createElement('div');\n",
              "          docLink.innerHTML = docLinkHtml;\n",
              "          element.appendChild(docLink);\n",
              "        }\n",
              "      </script>\n",
              "    </div>\n",
              "  </div>\n",
              "  "
            ],
            "text/plain": [
              "                                       name platform  year_of_release  \\\n",
              "0                                Wii Sports      Wii             2006   \n",
              "1                         Super Mario Bros.      NES             1985   \n",
              "2                            Mario Kart Wii      Wii             2008   \n",
              "3                         Wii Sports Resort      Wii             2009   \n",
              "4                  Pokemon Red/Pokemon Blue       GB             1996   \n",
              "5                                    Tetris       GB             1989   \n",
              "6                     New Super Mario Bros.       DS             2006   \n",
              "7                                  Wii Play      Wii             2006   \n",
              "8                 New Super Mario Bros. Wii      Wii             2009   \n",
              "9                                 Duck Hunt      NES             1984   \n",
              "10                               Nintendogs       DS             2005   \n",
              "11                            Mario Kart DS       DS             2005   \n",
              "12              Pokemon Gold/Pokemon Silver       GB             1999   \n",
              "13                                  Wii Fit      Wii             2007   \n",
              "14                       Kinect Adventures!     X360             2010   \n",
              "15                             Wii Fit Plus      Wii             2009   \n",
              "16                       Grand Theft Auto V      PS3             2013   \n",
              "17            Grand Theft Auto: San Andreas      PS2             2004   \n",
              "18                        Super Mario World     SNES             1990   \n",
              "20            Pokemon Diamond/Pokemon Pearl       DS             2006   \n",
              "21                         Super Mario Land       GB             1989   \n",
              "22                      Super Mario Bros. 3      NES             1988   \n",
              "23                       Grand Theft Auto V     X360             2013   \n",
              "24              Grand Theft Auto: Vice City      PS2             2002   \n",
              "25            Pokemon Ruby/Pokemon Sapphire      GBA             2002   \n",
              "27              Pokemon Black/Pokemon White       DS             2010   \n",
              "28                   Gran Turismo 3: A-Spec      PS2             2001   \n",
              "29           Call of Duty: Modern Warfare 3     X360             2011   \n",
              "30  Pokémon Yellow: Special Pikachu Edition       GB             1998   \n",
              "31                Call of Duty: Black Ops 3      PS4             2015   \n",
              "32                  Call of Duty: Black Ops     X360             2010   \n",
              "33                      Pokemon X/Pokemon Y      3DS             2013   \n",
              "35               Call of Duty: Black Ops II     X360             2012   \n",
              "36           Call of Duty: Modern Warfare 2     X360             2009   \n",
              "37           Call of Duty: Modern Warfare 3      PS3             2011   \n",
              "38                     Grand Theft Auto III      PS2             2001   \n",
              "39                  Super Smash Bros. Brawl      Wii             2008   \n",
              "40                             Mario Kart 7      3DS             2011   \n",
              "41                  Call of Duty: Black Ops      PS3             2010   \n",
              "44                                   Halo 3     X360             2007   \n",
              "45                           Super Mario 64      N64             1996   \n",
              "49                       Super Mario Galaxy      Wii             2007   \n",
              "50       Super Mario Land 2: 6 Golden Coins       GB             1992   \n",
              "51                      Grand Theft Auto IV     X360             2008   \n",
              "56                    Super Mario All-Stars     SNES             1993   \n",
              "59                           Super Mario 64       DS             2004   \n",
              "60                     Call of Duty: Ghosts     X360             2013   \n",
              "61                             Just Dance 3      Wii             2011   \n",
              "63                            Mario Kart 64      N64             1996   \n",
              "64                              Halo: Reach     X360             2010   \n",
              "66                                   Halo 4     X360             2012   \n",
              "68                             Just Dance 2      Wii             2010   \n",
              "70           Call of Duty 4: Modern Warfare     X360             2007   \n",
              "72                                Minecraft     X360             2013   \n",
              "75              The Elder Scrolls V: Skyrim     X360             2011   \n",
              "78                                   Halo 2       XB             2004   \n",
              "82                            GoldenEye 007      N64             1997   \n",
              "89                                  Pac-Man     2600             1982   \n",
              "98                      Super Mario Bros. 2      NES             1988   \n",
              "\n",
              "           genre  NA_sales  EU_sales  JP_sales  other_sales  critic_score  \\\n",
              "0         Sports     41.36     28.96      3.77         8.45          76.0   \n",
              "1       Platform     29.08      3.58      6.81         0.77           NaN   \n",
              "2         Racing     15.68     12.76      3.79         3.29          82.0   \n",
              "3         Sports     15.61     10.93      3.28         2.95          80.0   \n",
              "4   Role-Playing     11.27      8.89     10.22         1.00           NaN   \n",
              "5         Puzzle     23.20      2.26      4.22         0.58           NaN   \n",
              "6       Platform     11.28      9.14      6.50         2.88          89.0   \n",
              "7           Misc     13.96      9.18      2.93         2.84          58.0   \n",
              "8       Platform     14.44      6.94      4.70         2.24          87.0   \n",
              "9        Shooter     26.93      0.63      0.28         0.47           NaN   \n",
              "10    Simulation      9.05     10.95      1.93         2.74           NaN   \n",
              "11        Racing      9.71      7.47      4.13         1.90          91.0   \n",
              "12  Role-Playing      9.00      6.18      7.20         0.71           NaN   \n",
              "13        Sports      8.92      8.03      3.60         2.15          80.0   \n",
              "14          Misc     15.00      4.89      0.24         1.69          61.0   \n",
              "15        Sports      9.01      8.49      2.53         1.77          80.0   \n",
              "16        Action      7.02      9.09      0.98         3.96          97.0   \n",
              "17        Action      9.43      0.40      0.41        10.57          95.0   \n",
              "18      Platform     12.78      3.75      3.54         0.55           NaN   \n",
              "20  Role-Playing      6.38      4.46      6.04         1.36           NaN   \n",
              "21      Platform     10.83      2.71      4.18         0.42           NaN   \n",
              "22      Platform      9.54      3.44      3.84         0.46           NaN   \n",
              "23        Action      9.66      5.14      0.06         1.41          97.0   \n",
              "24        Action      8.41      5.49      0.47         1.78          95.0   \n",
              "25  Role-Playing      6.06      3.90      5.38         0.50           NaN   \n",
              "27  Role-Playing      5.51      3.17      5.65         0.80           NaN   \n",
              "28        Racing      6.85      5.09      1.87         1.16          95.0   \n",
              "29       Shooter      9.04      4.24      0.13         1.32          88.0   \n",
              "30  Role-Playing      5.89      5.04      3.12         0.59           NaN   \n",
              "31       Shooter      6.03      5.86      0.36         2.38           NaN   \n",
              "32       Shooter      9.70      3.68      0.11         1.13          87.0   \n",
              "33  Role-Playing      5.28      4.19      4.35         0.78           NaN   \n",
              "35       Shooter      8.25      4.24      0.07         1.12          83.0   \n",
              "36       Shooter      8.52      3.59      0.08         1.28          94.0   \n",
              "37       Shooter      5.54      5.73      0.49         1.57          88.0   \n",
              "38        Action      6.99      4.51      0.30         1.30          97.0   \n",
              "39      Fighting      6.62      2.55      2.66         1.01          93.0   \n",
              "40        Racing      5.03      4.02      2.69         0.91          85.0   \n",
              "41       Shooter      5.99      4.37      0.48         1.79          88.0   \n",
              "44       Shooter      7.97      2.81      0.13         1.21          94.0   \n",
              "45      Platform      6.91      2.85      1.91         0.23           NaN   \n",
              "49      Platform      6.06      3.35      1.20         0.74          97.0   \n",
              "50     Adventure      6.16      2.04      2.69         0.29           NaN   \n",
              "51        Action      6.76      3.07      0.14         1.03          98.0   \n",
              "56      Platform      5.99      2.15      2.12         0.29           NaN   \n",
              "59      Platform      5.01      3.07      1.25         0.97           NaN   \n",
              "60       Shooter      6.73      2.56      0.04         0.91          73.0   \n",
              "61          Misc      5.95      3.11      0.00         1.06          74.0   \n",
              "63        Racing      5.55      1.94      2.23         0.15           NaN   \n",
              "64       Shooter      7.04      1.95      0.08         0.79          91.0   \n",
              "66       Shooter      6.65      2.28      0.04         0.74          87.0   \n",
              "68          Misc      5.80      2.85      0.01         0.78          74.0   \n",
              "70       Shooter      5.93      2.36      0.13         0.90          94.0   \n",
              "72          Misc      5.70      2.65      0.02         0.81           NaN   \n",
              "75  Role-Playing      5.05      2.79      0.10         0.85          96.0   \n",
              "78       Shooter      6.82      1.53      0.05         0.08          95.0   \n",
              "82       Shooter      5.80      2.01      0.13         0.15           NaN   \n",
              "89        Puzzle      7.28      0.45      0.00         0.08           NaN   \n",
              "98      Platform      5.39      1.18      0.70         0.19           NaN   \n",
              "\n",
              "    user_score rating  \n",
              "0          8.0      E  \n",
              "1          NaN    NaN  \n",
              "2          8.3      E  \n",
              "3          8.0      E  \n",
              "4          NaN    NaN  \n",
              "5          NaN    NaN  \n",
              "6          8.5      E  \n",
              "7          6.6      E  \n",
              "8          8.4      E  \n",
              "9          NaN    NaN  \n",
              "10         NaN    NaN  \n",
              "11         8.6      E  \n",
              "12         NaN    NaN  \n",
              "13         7.7      E  \n",
              "14         6.3      E  \n",
              "15         7.4      E  \n",
              "16         8.2      M  \n",
              "17         9.0      M  \n",
              "18         NaN    NaN  \n",
              "20         NaN    NaN  \n",
              "21         NaN    NaN  \n",
              "22         NaN    NaN  \n",
              "23         8.1      M  \n",
              "24         8.7      M  \n",
              "25         NaN    NaN  \n",
              "27         NaN    NaN  \n",
              "28         8.4      E  \n",
              "29         3.4      M  \n",
              "30         NaN    NaN  \n",
              "31         NaN    NaN  \n",
              "32         6.3      M  \n",
              "33         NaN    NaN  \n",
              "35         4.8      M  \n",
              "36         6.3      M  \n",
              "37         3.2      M  \n",
              "38         8.5      M  \n",
              "39         8.9      T  \n",
              "40         8.2      E  \n",
              "41         6.4      M  \n",
              "44         7.8      M  \n",
              "45         NaN    NaN  \n",
              "49         8.9      E  \n",
              "50         NaN    NaN  \n",
              "51         7.9      M  \n",
              "56         NaN    NaN  \n",
              "59         NaN    NaN  \n",
              "60         2.6      M  \n",
              "61         7.8   E10+  \n",
              "63         NaN    NaN  \n",
              "64         7.9      M  \n",
              "66         7.0      M  \n",
              "68         7.3   E10+  \n",
              "70         8.4      M  \n",
              "72         NaN    NaN  \n",
              "75         8.4      M  \n",
              "78         8.2      M  \n",
              "82         NaN    NaN  \n",
              "89         NaN    NaN  \n",
              "98         NaN    NaN  "
            ]
          },
          "execution_count": 29,
          "metadata": {},
          "output_type": "execute_result"
        }
      ],
      "source": [
        "games.query(\"NA_sales > 5\")"
      ]
    },
    {
      "attachments": {},
      "cell_type": "markdown",
      "metadata": {
        "id": "AZi9-8w1KJm5"
      },
      "source": [
        "Знакомые многим игры: Duck Hunt, Mario, Pokemon и т.д. Эти игры вполне могли продаваться в таких количествах. Удаление этих строк повлияет на дальнейший анализ. Теперь проанализируем всплеск нулевых значений продаж"
      ]
    },
    {
      "cell_type": "code",
      "execution_count": null,
      "metadata": {
        "colab": {
          "base_uri": "https://localhost:8080/"
        },
        "id": "kUR85YBRL-fo",
        "outputId": "d4dae675-fd6a-4aea-e8c0-792d7d2f28bc",
        "trusted": true
      },
      "outputs": [
        {
          "data": {
            "text/plain": [
              "4448"
            ]
          },
          "execution_count": 30,
          "metadata": {},
          "output_type": "execute_result"
        }
      ],
      "source": [
        "games.query(\"NA_sales == 0\")[\"NA_sales\"].count()"
      ]
    },
    {
      "cell_type": "code",
      "execution_count": null,
      "metadata": {
        "colab": {
          "base_uri": "https://localhost:8080/"
        },
        "id": "cK9f2wNdS3XQ",
        "outputId": "955527a3-16c0-4ca8-a4b0-3ee7c59e47b7",
        "trusted": true
      },
      "outputs": [
        {
          "name": "stdout",
          "output_type": "stream",
          "text": [
            " 27.05%\n"
          ]
        }
      ],
      "source": [
        "print(f'{games.query(\"NA_sales == 0\")[\"NA_sales\"].count()/games[\"NA_sales\"].count(): .2%}')"
      ]
    },
    {
      "attachments": {},
      "cell_type": "markdown",
      "metadata": {
        "id": "hCJITTXRLk53"
      },
      "source": [
        "Большое количество строк содержит нулевые значения продаж для Северной Америки. Возможно, в этом регионе, продаж для этих игр не было. Доля нулевых продаж, достаточна мала ~27%, можно продолжать анализ без внесения изменений в эти строки"
      ]
    },
    {
      "attachments": {},
      "cell_type": "markdown",
      "metadata": {
        "id": "7qM_eCrN0SZK"
      },
      "source": [
        "### EU_sales"
      ]
    },
    {
      "cell_type": "code",
      "execution_count": null,
      "metadata": {
        "colab": {
          "base_uri": "https://localhost:8080/",
          "height": 498
        },
        "id": "-hjpZi5dMBRQ",
        "outputId": "6f122cdc-926b-4d2a-f920-16dd126c0a0a",
        "trusted": true
      },
      "outputs": [
        {
          "data": {
            "image/png": "[encoded data removed]",
            "text/plain": [
              "<Figure size 720x576 with 2 Axes>"
            ]
          },
          "metadata": {},
          "output_type": "display_data"
        }
      ],
      "source": [
        "decor(games[\"EU_sales\"])"
      ]
    },
    {
      "attachments": {},
      "cell_type": "markdown",
      "metadata": {
        "id": "v4SWbZCJMBRU"
      },
      "source": [
        "Пропущенных значений нет, тип значений соответствует содержимому. Довольно много выбросов, наиболее искажающие данные находятся после 5 млн. Скорее всего, здесь ситуация аналогична предыдущему столбцу, поэтому рассмотрим только названия игр"
      ]
    },
    {
      "cell_type": "code",
      "execution_count": null,
      "metadata": {
        "colab": {
          "base_uri": "https://localhost:8080/"
        },
        "id": "WyXgxbz1MBRU",
        "outputId": "1f42744b-846c-4315-e49a-8dde1fc9adb2",
        "trusted": true
      },
      "outputs": [
        {
          "data": {
            "text/plain": [
              "0                                        Wii Sports\n",
              "2                                    Mario Kart Wii\n",
              "3                                 Wii Sports Resort\n",
              "4                          Pokemon Red/Pokemon Blue\n",
              "6                             New Super Mario Bros.\n",
              "7                                          Wii Play\n",
              "8                         New Super Mario Bros. Wii\n",
              "10                                       Nintendogs\n",
              "11                                    Mario Kart DS\n",
              "12                      Pokemon Gold/Pokemon Silver\n",
              "13                                          Wii Fit\n",
              "15                                     Wii Fit Plus\n",
              "16                               Grand Theft Auto V\n",
              "19     Brain Age: Train Your Brain in Minutes a Day\n",
              "23                               Grand Theft Auto V\n",
              "24                      Grand Theft Auto: Vice City\n",
              "26      Brain Age 2: More Training in Minutes a Day\n",
              "28                           Gran Turismo 3: A-Spec\n",
              "30          Pokémon Yellow: Special Pikachu Edition\n",
              "31                        Call of Duty: Black Ops 3\n",
              "34                       Call of Duty: Black Ops II\n",
              "37                   Call of Duty: Modern Warfare 3\n",
              "42                               Grand Theft Auto V\n",
              "77                                          FIFA 16\n",
              "81                                   FIFA Soccer 13\n",
              "85                                       The Sims 3\n",
              "94                                          FIFA 17\n",
              "138                               World of Warcraft\n",
              "Name: name, dtype: object"
            ]
          },
          "execution_count": 33,
          "metadata": {},
          "output_type": "execute_result"
        }
      ],
      "source": [
        "games.query(\"EU_sales > 5\")[\"name\"]"
      ]
    },
    {
      "attachments": {},
      "cell_type": "markdown",
      "metadata": {
        "id": "77UvJBlOMBRV"
      },
      "source": [
        "Действительно, ситуация аналогичная. Эти игры расходились многомиллионными тиражами. Теперь проанализируем всплеск нулевых значений продаж"
      ]
    },
    {
      "cell_type": "code",
      "execution_count": null,
      "metadata": {
        "colab": {
          "base_uri": "https://localhost:8080/"
        },
        "id": "GtZIdvzIMBRV",
        "outputId": "eff78137-a32e-4852-8ace-2566eb16c4ad",
        "trusted": true
      },
      "outputs": [
        {
          "data": {
            "text/plain": [
              "5766"
            ]
          },
          "execution_count": 34,
          "metadata": {},
          "output_type": "execute_result"
        }
      ],
      "source": [
        "games.query(\"EU_sales == 0\")[\"EU_sales\"].count()"
      ]
    },
    {
      "cell_type": "code",
      "execution_count": null,
      "metadata": {
        "colab": {
          "base_uri": "https://localhost:8080/"
        },
        "id": "tb7cmr9rSxRa",
        "outputId": "6d71ad50-0777-4e01-eb55-6019899fc86d",
        "trusted": true
      },
      "outputs": [
        {
          "name": "stdout",
          "output_type": "stream",
          "text": [
            " 35.07%\n"
          ]
        }
      ],
      "source": [
        "print(f'{games.query(\"EU_sales == 0\")[\"EU_sales\"].count()/games[\"EU_sales\"].count(): .2%}')"
      ]
    },
    {
      "attachments": {},
      "cell_type": "markdown",
      "metadata": {
        "id": "jghRh5dMMBRW"
      },
      "source": [
        "Для европейского региона количество нулевых продаж выше, чем для Северной Америки. Нулевые строки составляют ~35% от общего количества, изменять строки не требуется"
      ]
    },
    {
      "attachments": {},
      "cell_type": "markdown",
      "metadata": {
        "id": "u71CEBoy0Sii"
      },
      "source": [
        "\n",
        "### JP_sales\n"
      ]
    },
    {
      "cell_type": "code",
      "execution_count": null,
      "metadata": {
        "colab": {
          "base_uri": "https://localhost:8080/",
          "height": 498
        },
        "id": "4uhcrF_pNNyN",
        "outputId": "a1d5a8fa-d7d2-41da-9f86-52e7ce637a92",
        "trusted": true
      },
      "outputs": [
        {
          "data": {
            "image/png": "[encoded data removed]",
            "text/plain": [
              "<Figure size 720x576 with 2 Axes>"
            ]
          },
          "metadata": {},
          "output_type": "display_data"
        }
      ],
      "source": [
        "decor(games[\"JP_sales\"])"
      ]
    },
    {
      "cell_type": "code",
      "execution_count": null,
      "metadata": {
        "colab": {
          "base_uri": "https://localhost:8080/",
          "height": 265
        },
        "id": "H70VELqPNsK7",
        "outputId": "feb20c75-64e8-49ed-cd50-d88e90b4f78d",
        "trusted": true
      },
      "outputs": [
        {
          "data": {
            "image/png": "[encoded data removed]",
            "text/plain": [
              "<Figure size 432x288 with 1 Axes>"
            ]
          },
          "metadata": {},
          "output_type": "display_data"
        }
      ],
      "source": [
        "games.JP_sales.hist(range=(0.1, 4))\n",
        "plt.yscale(\"log\")\n",
        "plt.show()"
      ]
    },
    {
      "attachments": {},
      "cell_type": "markdown",
      "metadata": {
        "id": "HTsX2S8DNNyO"
      },
      "source": [
        "Пропущенных значений нет, тип значений соответствует содержимому. Довольно много выбросов, наиболее искажающие данные находятся после 4 млн. Рассмотрим эти строки подробнее"
      ]
    },
    {
      "cell_type": "code",
      "execution_count": null,
      "metadata": {
        "colab": {
          "base_uri": "https://localhost:8080/"
        },
        "id": "WRlXpYonNNyP",
        "outputId": "12304df3-ba80-4303-d709-b6b6e8950eb2",
        "trusted": true
      },
      "outputs": [
        {
          "data": {
            "text/plain": [
              "1                                   Super Mario Bros.\n",
              "4                            Pokemon Red/Pokemon Blue\n",
              "5                                              Tetris\n",
              "6                               New Super Mario Bros.\n",
              "8                           New Super Mario Bros. Wii\n",
              "11                                      Mario Kart DS\n",
              "12                        Pokemon Gold/Pokemon Silver\n",
              "19       Brain Age: Train Your Brain in Minutes a Day\n",
              "20                      Pokemon Diamond/Pokemon Pearl\n",
              "21                                   Super Mario Land\n",
              "25                      Pokemon Ruby/Pokemon Sapphire\n",
              "26        Brain Age 2: More Training in Minutes a Day\n",
              "27                        Pokemon Black/Pokemon White\n",
              "33                                Pokemon X/Pokemon Y\n",
              "43                        Animal Crossing: Wild World\n",
              "73                          Animal Crossing: New Leaf\n",
              "152    Dragon Quest IX: Sentinels of the Starry Skies\n",
              "163                      Monster Hunter Freedom Unite\n",
              "214                          Monster Hunter Freedom 3\n",
              "243                Dragon Quest VII: Warriors of Eden\n",
              "Name: name, dtype: object"
            ]
          },
          "execution_count": 38,
          "metadata": {},
          "output_type": "execute_result"
        }
      ],
      "source": [
        "games.query(\"JP_sales > 4\")[\"name\"]"
      ]
    },
    {
      "attachments": {},
      "cell_type": "markdown",
      "metadata": {
        "id": "Ob8tusggNNyP"
      },
      "source": [
        "Аналогично предыдущим столбцам. Данные оставляем и будем иметь ввиду. Теперь проанализируем всплеск нулевых значений продаж"
      ]
    },
    {
      "cell_type": "code",
      "execution_count": null,
      "metadata": {
        "colab": {
          "base_uri": "https://localhost:8080/"
        },
        "id": "P9B_Kh-pNNyQ",
        "outputId": "50feeba7-3aac-46b7-f21f-21722f33cdfd",
        "trusted": true
      },
      "outputs": [
        {
          "data": {
            "text/plain": [
              "10298"
            ]
          },
          "execution_count": 39,
          "metadata": {},
          "output_type": "execute_result"
        }
      ],
      "source": [
        "games.query(\"JP_sales == 0\")[\"JP_sales\"].count()"
      ]
    },
    {
      "cell_type": "code",
      "execution_count": null,
      "metadata": {
        "colab": {
          "base_uri": "https://localhost:8080/"
        },
        "id": "tzvQnH4CSos4",
        "outputId": "7dff4538-77b3-4042-ab60-b4a0594ec6ce",
        "trusted": true
      },
      "outputs": [
        {
          "name": "stdout",
          "output_type": "stream",
          "text": [
            " 62.64%\n"
          ]
        }
      ],
      "source": [
        "print(f'{games.query(\"JP_sales == 0\")[\"JP_sales\"].count()/games[\"JP_sales\"].count(): .2%}')"
      ]
    },
    {
      "attachments": {},
      "cell_type": "markdown",
      "metadata": {
        "id": "y3wpDhB8NNyQ"
      },
      "source": [
        "Самое большое количество строк. Возможно, эти игры не выпускали на рынок Японии ввиду его(рынка) специфичности? Нулевых строк ~63%. Здесь стоило бы обратиться к поставщику данных для разъяснения подобной ситуации. Данных для анализа ограниченное количество."
      ]
    },
    {
      "attachments": {},
      "cell_type": "markdown",
      "metadata": {
        "id": "GOpENrpx0So0"
      },
      "source": [
        "### other_sales"
      ]
    },
    {
      "cell_type": "code",
      "execution_count": null,
      "metadata": {
        "colab": {
          "base_uri": "https://localhost:8080/",
          "height": 498
        },
        "id": "J2FTKBtmPtns",
        "outputId": "6fe3d175-0cee-422d-bd60-322def171b18",
        "trusted": true
      },
      "outputs": [
        {
          "data": {
            "image/png": "[encoded data removed]",
            "text/plain": [
              "<Figure size 720x576 with 2 Axes>"
            ]
          },
          "metadata": {},
          "output_type": "display_data"
        }
      ],
      "source": [
        "decor(games[\"other_sales\"])"
      ]
    },
    {
      "cell_type": "code",
      "execution_count": null,
      "metadata": {
        "colab": {
          "base_uri": "https://localhost:8080/",
          "height": 265
        },
        "id": "emiaJTojPtoH",
        "outputId": "a82bc10b-f6ea-49a7-9e1b-a36f12a0d10b",
        "trusted": true
      },
      "outputs": [
        {
          "data": {
            "image/png": "[encoded data removed]",
            "text/plain": [
              "<Figure size 432x288 with 1 Axes>"
            ]
          },
          "metadata": {},
          "output_type": "display_data"
        }
      ],
      "source": [
        "games.other_sales.hist(range=(0.1, 2))\n",
        "plt.yscale(\"log\")\n",
        "plt.show()"
      ]
    },
    {
      "attachments": {},
      "cell_type": "markdown",
      "metadata": {
        "id": "XVBkpsvWPtoH"
      },
      "source": [
        "Пропущенных значений нет, тип значений соответствует содержимому. Довольно много выбросов, наиболее искажающие данные находятся после 2 млн. Рассмотрим эти строки подробнее"
      ]
    },
    {
      "cell_type": "code",
      "execution_count": null,
      "metadata": {
        "colab": {
          "base_uri": "https://localhost:8080/"
        },
        "id": "l1kak7_sPtoI",
        "outputId": "77f6611a-972c-48db-e54a-29c0a128d07e",
        "trusted": true
      },
      "outputs": [
        {
          "data": {
            "text/plain": [
              "0                                        Wii Sports\n",
              "2                                    Mario Kart Wii\n",
              "3                                 Wii Sports Resort\n",
              "6                             New Super Mario Bros.\n",
              "7                                          Wii Play\n",
              "8                         New Super Mario Bros. Wii\n",
              "10                                       Nintendogs\n",
              "13                                          Wii Fit\n",
              "16                               Grand Theft Auto V\n",
              "17                    Grand Theft Auto: San Andreas\n",
              "19     Brain Age: Train Your Brain in Minutes a Day\n",
              "31                        Call of Duty: Black Ops 3\n",
              "34                       Call of Duty: Black Ops II\n",
              "48                                   Gran Turismo 4\n",
              "54                                   Gran Turismo 5\n",
              "348                       Pro Evolution Soccer 2008\n",
              "434                                  FIFA Soccer 08\n",
              "611                  PES 2009: Pro Evolution Soccer\n",
              "Name: name, dtype: object"
            ]
          },
          "execution_count": 43,
          "metadata": {},
          "output_type": "execute_result"
        }
      ],
      "source": [
        "games.query(\"other_sales > 2\")[\"name\"]"
      ]
    },
    {
      "attachments": {},
      "cell_type": "markdown",
      "metadata": {
        "id": "y8mXj_jgPtoI"
      },
      "source": [
        "Аналогично предыдущим столбцам. Данные оставляем и будем иметь ввиду. Теперь проанализируем всплеск нулевых значений продаж"
      ]
    },
    {
      "cell_type": "code",
      "execution_count": null,
      "metadata": {
        "colab": {
          "base_uri": "https://localhost:8080/"
        },
        "id": "UVzhgsdnPtoJ",
        "outputId": "411ecdad-81ce-43d3-c04b-685ffbd98d6b",
        "trusted": true
      },
      "outputs": [
        {
          "data": {
            "text/plain": [
              "6492"
            ]
          },
          "execution_count": 44,
          "metadata": {},
          "output_type": "execute_result"
        }
      ],
      "source": [
        "games.query(\"other_sales == 0\")[\"other_sales\"].count()"
      ]
    },
    {
      "cell_type": "code",
      "execution_count": null,
      "metadata": {
        "colab": {
          "base_uri": "https://localhost:8080/"
        },
        "id": "GRTHD97aQP7q",
        "outputId": "09b17fd9-d63b-4d21-f3ea-b8d007c3ccf0",
        "trusted": true
      },
      "outputs": [
        {
          "name": "stdout",
          "output_type": "stream",
          "text": [
            " 39.49%\n"
          ]
        }
      ],
      "source": [
        "print(f'{games.query(\"other_sales == 0\")[\"other_sales\"].count()/games[\"other_sales\"].count(): .2%}')"
      ]
    },
    {
      "attachments": {},
      "cell_type": "markdown",
      "metadata": {
        "id": "oUcmA4d9PtoJ"
      },
      "source": [
        "Здесь видим среднее значение нулевых строк среди всех столбцов продаж, но довольно большой процент от общего количества. Тем не менее данных достаточно для анализа."
      ]
    },
    {
      "attachments": {},
      "cell_type": "markdown",
      "metadata": {
        "id": "QJUh52bg0Sur"
      },
      "source": [
        "### critic_score"
      ]
    },
    {
      "cell_type": "code",
      "execution_count": null,
      "metadata": {
        "colab": {
          "base_uri": "https://localhost:8080/",
          "height": 498
        },
        "id": "94-q_T6RUVgH",
        "outputId": "0103ebf6-2db7-4157-ae0a-7e3a20cc60a5",
        "trusted": true
      },
      "outputs": [
        {
          "data": {
            "image/png": "[encoded data removed]",
            "text/plain": [
              "<Figure size 720x576 with 2 Axes>"
            ]
          },
          "metadata": {},
          "output_type": "display_data"
        }
      ],
      "source": [
        "decor(games.critic_score)"
      ]
    },
    {
      "cell_type": "code",
      "execution_count": null,
      "metadata": {
        "colab": {
          "base_uri": "https://localhost:8080/"
        },
        "id": "2kraSuNSV_yN",
        "outputId": "db1b9691-786f-4fb8-e5c5-774a3c26134e",
        "trusted": true
      },
      "outputs": [
        {
          "data": {
            "text/plain": [
              "count    7980.000000\n",
              "mean       68.989223\n",
              "std        13.920148\n",
              "min        13.000000\n",
              "25%        60.000000\n",
              "50%        71.000000\n",
              "75%        79.000000\n",
              "max        98.000000\n",
              "Name: critic_score, dtype: float64"
            ]
          },
          "execution_count": 47,
          "metadata": {},
          "output_type": "execute_result"
        }
      ],
      "source": [
        "games.critic_score.describe()"
      ]
    },
    {
      "attachments": {},
      "cell_type": "markdown",
      "metadata": {
        "id": "kQREVXBAUfPi"
      },
      "source": [
        "Столбец с наибольшим количеством пропущенных значений, более 50%. Данные смещенны вправо (среднее больше медианы). Выбросы присутствуют, но данных не искажают. Так как далее будет произведен исследовательский анализ данных, то заполнять пропуски средним значеним будет некорректно. Проверим это утвеждение"
      ]
    },
    {
      "cell_type": "code",
      "execution_count": null,
      "metadata": {
        "colab": {
          "base_uri": "https://localhost:8080/",
          "height": 498
        },
        "id": "JXVKY6QzW2Le",
        "outputId": "556f3f90-1c6a-4451-c9cd-6be1d95b5170",
        "trusted": true
      },
      "outputs": [
        {
          "data": {
            "image/png": "[encoded data removed]",
            "text/plain": [
              "<Figure size 720x576 with 2 Axes>"
            ]
          },
          "metadata": {},
          "output_type": "display_data"
        }
      ],
      "source": [
        "score = games.critic_score.copy()\n",
        "score.fillna(score.mean(), inplace=True)\n",
        "decor(score)"
      ]
    },
    {
      "attachments": {},
      "cell_type": "markdown",
      "metadata": {
        "id": "LPMwDVKjXP88"
      },
      "source": [
        "Попытка заполнить средним значением этого же столбца искажает разброс данных. Отбросим эту идею. Так как мы наблюдали слабую корреляцию между оценками критиков и оценками пользователей, то могли бы заполнить средним по оценкам пользователей, но это так же исказит данные и последующий анализ не будет корректен"
      ]
    },
    {
      "attachments": {},
      "cell_type": "markdown",
      "metadata": {
        "id": "uD99cLGQ0S0A"
      },
      "source": [
        "### user_score\n"
      ]
    },
    {
      "cell_type": "code",
      "execution_count": null,
      "metadata": {
        "colab": {
          "base_uri": "https://localhost:8080/",
          "height": 497
        },
        "id": "3TZ2IjLSg96h",
        "outputId": "9558b29e-eed9-4c4d-9e00-4966f627c793",
        "trusted": true
      },
      "outputs": [
        {
          "data": {
            "image/png": "[encoded data removed]",
            "text/plain": [
              "<Figure size 720x576 with 2 Axes>"
            ]
          },
          "metadata": {},
          "output_type": "display_data"
        }
      ],
      "source": [
        "decor(games.user_score)"
      ]
    },
    {
      "cell_type": "code",
      "execution_count": null,
      "metadata": {
        "colab": {
          "base_uri": "https://localhost:8080/"
        },
        "id": "tQ7dFHKzg96p",
        "outputId": "fbc61066-4c1d-423d-90e9-5eeb1163c88e",
        "trusted": true
      },
      "outputs": [
        {
          "data": {
            "text/plain": [
              "count    8606.000000\n",
              "mean        7.099710\n",
              "std         1.519695\n",
              "min         0.000000\n",
              "25%         6.400000\n",
              "50%         7.500000\n",
              "75%         8.200000\n",
              "max         9.700000\n",
              "Name: user_score, dtype: float64"
            ]
          },
          "execution_count": 50,
          "metadata": {},
          "output_type": "execute_result"
        }
      ],
      "source": [
        "games.user_score.describe()"
      ]
    },
    {
      "attachments": {},
      "cell_type": "markdown",
      "metadata": {
        "id": "WUgqEc_Yg96p"
      },
      "source": [
        "Присутствуют пропущенные значения. Тип данных уже был изменен. Данные смещенны влево (среднее меньше медианы). Выбросы присутствуют, но данных не искажают. Так как далее будет произведен исследовательский анализ данных, то заполнять пропуски средним значеним (по данному столбцу или столбцу `critic_score`) будет некорректно, по логике предыдущего столбца."
      ]
    },
    {
      "attachments": {},
      "cell_type": "markdown",
      "metadata": {
        "id": "VPQsTA7Y0mzn"
      },
      "source": [
        "### rating"
      ]
    },
    {
      "cell_type": "code",
      "execution_count": null,
      "metadata": {
        "colab": {
          "base_uri": "https://localhost:8080/",
          "height": 497
        },
        "id": "8wnkH9ROvxQo",
        "outputId": "43b9176f-41bd-4eae-e198-a0a600d0d1c7",
        "trusted": true
      },
      "outputs": [
        {
          "data": {
            "image/png": "[encoded data removed]",
            "text/plain": [
              "<Figure size 1152x576 with 1 Axes>"
            ]
          },
          "metadata": {},
          "output_type": "display_data"
        }
      ],
      "source": [
        "plt.figure(figsize=(16, 8))\n",
        "sns.histplot(games.rating, stat=\"count\")\n",
        "plt.yscale(\"log\")\n",
        "plt.show()"
      ]
    },
    {
      "attachments": {},
      "cell_type": "markdown",
      "metadata": {
        "id": "Pld8be8DvxQ1"
      },
      "source": [
        "Присутствуют пропущенные значения. Тип данных соответствует. Основные рейтинги: для всех(`E`), для подростков (`T`), для взрослых (`M`) и для всех старше 10 лет (`E10+`). Значительную часть составляют данные без рейтинга"
      ]
    },
    {
      "attachments": {},
      "cell_type": "markdown",
      "metadata": {
        "id": "-bKe8b-RvDZ2"
      },
      "source": [
        "Entertainment Software Rating Board (ESRB) — негосударственная организация, основное направление деятельности — принятие и определение рейтингов для компьютерных видеоигр и другого развлекательного программного обеспечения в США и Канаде. ESRB была основана в 1994 году. Проверим предположение, что рейтинг пропущен для игры, выпущенных до 1994, а так же объеденим рейтинги  'K-A' и 'EC', представляющие собой один и тот же рейтинг, но для разных годов. "
      ]
    },
    {
      "cell_type": "code",
      "execution_count": null,
      "metadata": {
        "id": "uhkAeWRFySCR"
      },
      "outputs": [],
      "source": [
        "games[\"rating\"].replace(\"K-A\", \"EC\", inplace=True)"
      ]
    },
    {
      "cell_type": "code",
      "execution_count": null,
      "metadata": {
        "colab": {
          "base_uri": "https://localhost:8080/"
        },
        "id": "LKxxDpag0KaM",
        "outputId": "2acdf213-94dc-49f9-df1b-094d33c2ccdf"
      },
      "outputs": [
        {
          "data": {
            "text/plain": [
              "6676"
            ]
          },
          "execution_count": 53,
          "metadata": {},
          "output_type": "execute_result"
        }
      ],
      "source": [
        "games[\"rating\"].isna().sum()"
      ]
    },
    {
      "cell_type": "code",
      "execution_count": null,
      "metadata": {
        "colab": {
          "base_uri": "https://localhost:8080/"
        },
        "id": "TsYmPGNA0Tn7",
        "outputId": "f5986110-3a8c-4cc8-b524-c87921cc9a26"
      },
      "outputs": [
        {
          "data": {
            "text/plain": [
              "361"
            ]
          },
          "execution_count": 54,
          "metadata": {},
          "output_type": "execute_result"
        }
      ],
      "source": [
        "games[games[\"year_of_release\"] < 1994][\"rating\"].isna().sum()"
      ]
    },
    {
      "attachments": {},
      "cell_type": "markdown",
      "metadata": {
        "id": "-IhQ0vrt01yY"
      },
      "source": [
        "361 попущенное значение для игр, выпущенных ранее 1994. Проверим другой предположение: так как дейстивя организации направлены на США и Канаду, то пропущенные значения - отсутствие рейтинга для других регионов"
      ]
    },
    {
      "cell_type": "code",
      "execution_count": null,
      "metadata": {
        "colab": {
          "base_uri": "https://localhost:8080/"
        },
        "id": "G3FkTh4oyjvc",
        "outputId": "91720c48-8c83-46eb-a6fc-5488f641e4ac"
      },
      "outputs": [
        {
          "data": {
            "text/plain": [
              "3688"
            ]
          },
          "execution_count": 55,
          "metadata": {},
          "output_type": "execute_result"
        }
      ],
      "source": [
        "games.query(\"NA_sales == 0\")[\"rating\"].isna().sum()"
      ]
    },
    {
      "attachments": {},
      "cell_type": "markdown",
      "metadata": {
        "id": "lqxnj1SQ3ECa"
      },
      "source": [
        "Заполним пропуски 'unknown', а так же, заполним значения RP, потому что это значение говорит о том, что рейтинг ожидается"
      ]
    },
    {
      "cell_type": "code",
      "execution_count": null,
      "metadata": {
        "id": "0hMYQDMt2M1d"
      },
      "outputs": [],
      "source": [
        "games[\"rating\"] = games[\"rating\"].fillna(\"unknown\")"
      ]
    },
    {
      "cell_type": "code",
      "execution_count": null,
      "metadata": {
        "id": "Fs4Iu43JRn_G"
      },
      "outputs": [],
      "source": [
        "games[\"rating\"].replace(\"RP\", \"unknown\", inplace=True)"
      ]
    },
    {
      "cell_type": "code",
      "execution_count": null,
      "metadata": {
        "colab": {
          "base_uri": "https://localhost:8080/"
        },
        "id": "rVrCX8Hl2Ym7",
        "outputId": "15809654-a451-4db4-86d9-46b8dc61c5e2"
      },
      "outputs": [
        {
          "data": {
            "text/plain": [
              "0"
            ]
          },
          "execution_count": 58,
          "metadata": {},
          "output_type": "execute_result"
        }
      ],
      "source": [
        "games[\"rating\"].isna().sum()"
      ]
    },
    {
      "attachments": {},
      "cell_type": "markdown",
      "metadata": {
        "id": "3epVn3Lk0Ocl"
      },
      "source": [
        "### Вывод"
      ]
    },
    {
      "attachments": {},
      "cell_type": "markdown",
      "metadata": {
        "id": "j72ABDP30Roh"
      },
      "source": [
        "Датасет был проанализирован на наличие явных/неявных дубликатов, пропущенных значений, неверных типов данных, выбросов. Построены графики распределений. Для столбцa name удалены дубликаты и неверные значения. Для столбца `year_of_release` были удалены пропущенные значения, которые не удалось заполнить группировкой по платформе. Для столбцов с продажами по регионам (`JP_sales`, `NA_sales`, `EU_sales`, `other_sales`) были найдены и оставлены выбросы и нулевые значений. Для столбцов оценок (`critic_score`, `user_score`)так же были выявлены и оставлены незаполнеными пропущенные значения, чтобы не искажать последующий исследовательский анализ. Столбец `rating`, категориальные данные, был заполнен заглушкой \"Unknown\", чтобы иметь возможность без ошибок работать с этим столбцом в дальнейшем."
      ]
    },
    {
      "attachments": {},
      "cell_type": "markdown",
      "metadata": {
        "id": "cUXJ0ilY7Dlc"
      },
      "source": [
        "## 3 Добавление новых столбцов"
      ]
    },
    {
      "attachments": {},
      "cell_type": "markdown",
      "metadata": {
        "id": "r0GhEJ6gIPYV"
      },
      "source": [
        "Здесь необходимо добавить столбец суммарных продаж. Как уже упоминалось ранее, суммарные продажи состоят из 4-х столбцов продаж по регионам"
      ]
    },
    {
      "cell_type": "code",
      "execution_count": null,
      "metadata": {
        "colab": {
          "base_uri": "https://localhost:8080/",
          "height": 661
        },
        "id": "TJXAZqLuIk4p",
        "outputId": "37c403f2-9a19-44cb-ddda-3ca898b5110c",
        "trusted": true
      },
      "outputs": [
        {
          "data": {
            "text/html": [
              "\n",
              "  <div id=\"df-7d74c610-ff2a-48fc-b053-47e843a961e0\">\n",
              "    <div class=\"colab-df-container\">\n",
              "      <div>\n",
              "<style scoped>\n",
              "    .dataframe tbody tr th:only-of-type {\n",
              "        vertical-align: middle;\n",
              "    }\n",
              "\n",
              "    .dataframe tbody tr th {\n",
              "        vertical-align: top;\n",
              "    }\n",
              "\n",
              "    .dataframe thead th {\n",
              "        text-align: right;\n",
              "    }\n",
              "</style>\n",
              "<table border=\"1\" class=\"dataframe\">\n",
              "  <thead>\n",
              "    <tr style=\"text-align: right;\">\n",
              "      <th></th>\n",
              "      <th>name</th>\n",
              "      <th>platform</th>\n",
              "      <th>year_of_release</th>\n",
              "      <th>genre</th>\n",
              "      <th>NA_sales</th>\n",
              "      <th>EU_sales</th>\n",
              "      <th>JP_sales</th>\n",
              "      <th>other_sales</th>\n",
              "      <th>critic_score</th>\n",
              "      <th>user_score</th>\n",
              "      <th>rating</th>\n",
              "      <th>all_sales</th>\n",
              "    </tr>\n",
              "  </thead>\n",
              "  <tbody>\n",
              "    <tr>\n",
              "      <th>0</th>\n",
              "      <td>Wii Sports</td>\n",
              "      <td>Wii</td>\n",
              "      <td>2006</td>\n",
              "      <td>Sports</td>\n",
              "      <td>41.36</td>\n",
              "      <td>28.96</td>\n",
              "      <td>3.77</td>\n",
              "      <td>8.45</td>\n",
              "      <td>76.0</td>\n",
              "      <td>8.0</td>\n",
              "      <td>E</td>\n",
              "      <td>82.54</td>\n",
              "    </tr>\n",
              "    <tr>\n",
              "      <th>1</th>\n",
              "      <td>Super Mario Bros.</td>\n",
              "      <td>NES</td>\n",
              "      <td>1985</td>\n",
              "      <td>Platform</td>\n",
              "      <td>29.08</td>\n",
              "      <td>3.58</td>\n",
              "      <td>6.81</td>\n",
              "      <td>0.77</td>\n",
              "      <td>NaN</td>\n",
              "      <td>NaN</td>\n",
              "      <td>unknown</td>\n",
              "      <td>40.24</td>\n",
              "    </tr>\n",
              "    <tr>\n",
              "      <th>2</th>\n",
              "      <td>Mario Kart Wii</td>\n",
              "      <td>Wii</td>\n",
              "      <td>2008</td>\n",
              "      <td>Racing</td>\n",
              "      <td>15.68</td>\n",
              "      <td>12.76</td>\n",
              "      <td>3.79</td>\n",
              "      <td>3.29</td>\n",
              "      <td>82.0</td>\n",
              "      <td>8.3</td>\n",
              "      <td>E</td>\n",
              "      <td>35.52</td>\n",
              "    </tr>\n",
              "    <tr>\n",
              "      <th>3</th>\n",
              "      <td>Wii Sports Resort</td>\n",
              "      <td>Wii</td>\n",
              "      <td>2009</td>\n",
              "      <td>Sports</td>\n",
              "      <td>15.61</td>\n",
              "      <td>10.93</td>\n",
              "      <td>3.28</td>\n",
              "      <td>2.95</td>\n",
              "      <td>80.0</td>\n",
              "      <td>8.0</td>\n",
              "      <td>E</td>\n",
              "      <td>32.77</td>\n",
              "    </tr>\n",
              "    <tr>\n",
              "      <th>4</th>\n",
              "      <td>Pokemon Red/Pokemon Blue</td>\n",
              "      <td>GB</td>\n",
              "      <td>1996</td>\n",
              "      <td>Role-Playing</td>\n",
              "      <td>11.27</td>\n",
              "      <td>8.89</td>\n",
              "      <td>10.22</td>\n",
              "      <td>1.00</td>\n",
              "      <td>NaN</td>\n",
              "      <td>NaN</td>\n",
              "      <td>unknown</td>\n",
              "      <td>31.38</td>\n",
              "    </tr>\n",
              "    <tr>\n",
              "      <th>...</th>\n",
              "      <td>...</td>\n",
              "      <td>...</td>\n",
              "      <td>...</td>\n",
              "      <td>...</td>\n",
              "      <td>...</td>\n",
              "      <td>...</td>\n",
              "      <td>...</td>\n",
              "      <td>...</td>\n",
              "      <td>...</td>\n",
              "      <td>...</td>\n",
              "      <td>...</td>\n",
              "      <td>...</td>\n",
              "    </tr>\n",
              "    <tr>\n",
              "      <th>16436</th>\n",
              "      <td>Samurai Warriors: Sanada Maru</td>\n",
              "      <td>PS3</td>\n",
              "      <td>2016</td>\n",
              "      <td>Action</td>\n",
              "      <td>0.00</td>\n",
              "      <td>0.00</td>\n",
              "      <td>0.01</td>\n",
              "      <td>0.00</td>\n",
              "      <td>NaN</td>\n",
              "      <td>NaN</td>\n",
              "      <td>unknown</td>\n",
              "      <td>0.01</td>\n",
              "    </tr>\n",
              "    <tr>\n",
              "      <th>16437</th>\n",
              "      <td>LMA Manager 2007</td>\n",
              "      <td>X360</td>\n",
              "      <td>2006</td>\n",
              "      <td>Sports</td>\n",
              "      <td>0.00</td>\n",
              "      <td>0.01</td>\n",
              "      <td>0.00</td>\n",
              "      <td>0.00</td>\n",
              "      <td>NaN</td>\n",
              "      <td>NaN</td>\n",
              "      <td>unknown</td>\n",
              "      <td>0.01</td>\n",
              "    </tr>\n",
              "    <tr>\n",
              "      <th>16438</th>\n",
              "      <td>Haitaka no Psychedelica</td>\n",
              "      <td>PSV</td>\n",
              "      <td>2016</td>\n",
              "      <td>Adventure</td>\n",
              "      <td>0.00</td>\n",
              "      <td>0.00</td>\n",
              "      <td>0.01</td>\n",
              "      <td>0.00</td>\n",
              "      <td>NaN</td>\n",
              "      <td>NaN</td>\n",
              "      <td>unknown</td>\n",
              "      <td>0.01</td>\n",
              "    </tr>\n",
              "    <tr>\n",
              "      <th>16439</th>\n",
              "      <td>Spirits &amp; Spells</td>\n",
              "      <td>GBA</td>\n",
              "      <td>2003</td>\n",
              "      <td>Platform</td>\n",
              "      <td>0.01</td>\n",
              "      <td>0.00</td>\n",
              "      <td>0.00</td>\n",
              "      <td>0.00</td>\n",
              "      <td>NaN</td>\n",
              "      <td>NaN</td>\n",
              "      <td>unknown</td>\n",
              "      <td>0.01</td>\n",
              "    </tr>\n",
              "    <tr>\n",
              "      <th>16440</th>\n",
              "      <td>Winning Post 8 2016</td>\n",
              "      <td>PSV</td>\n",
              "      <td>2016</td>\n",
              "      <td>Simulation</td>\n",
              "      <td>0.00</td>\n",
              "      <td>0.00</td>\n",
              "      <td>0.01</td>\n",
              "      <td>0.00</td>\n",
              "      <td>NaN</td>\n",
              "      <td>NaN</td>\n",
              "      <td>unknown</td>\n",
              "      <td>0.01</td>\n",
              "    </tr>\n",
              "  </tbody>\n",
              "</table>\n",
              "<p>16441 rows × 12 columns</p>\n",
              "</div>\n",
              "      <button class=\"colab-df-convert\" onclick=\"convertToInteractive('df-7d74c610-ff2a-48fc-b053-47e843a961e0')\"\n",
              "              title=\"Convert this dataframe to an interactive table.\"\n",
              "              style=\"display:none;\">\n",
              "        \n",
              "  <svg xmlns=\"http://www.w3.org/2000/svg\" height=\"24px\"viewBox=\"0 0 24 24\"\n",
              "       width=\"24px\">\n",
              "    <path d=\"M0 0h24v24H0V0z\" fill=\"none\"/>\n",
              "    <path d=\"M18.56 5.44l.94 2.06.94-2.06 2.06-.94-2.06-.94-.94-2.06-.94 2.06-2.06.94zm-11 1L8.5 8.5l.94-2.06 2.06-.94-2.06-.94L8.5 2.5l-.94 2.06-2.06.94zm10 10l.94 2.06.94-2.06 2.06-.94-2.06-.94-.94-2.06-.94 2.06-2.06.94z\"/><path d=\"M17.41 7.96l-1.37-1.37c-.4-.4-.92-.59-1.43-.59-.52 0-1.04.2-1.43.59L10.3 9.45l-7.72 7.72c-.78.78-.78 2.05 0 2.83L4 21.41c.39.39.9.59 1.41.59.51 0 1.02-.2 1.41-.59l7.78-7.78 2.81-2.81c.8-.78.8-2.07 0-2.86zM5.41 20L4 18.59l7.72-7.72 1.47 1.35L5.41 20z\"/>\n",
              "  </svg>\n",
              "      </button>\n",
              "      \n",
              "  <style>\n",
              "    .colab-df-container {\n",
              "      display:flex;\n",
              "      flex-wrap:wrap;\n",
              "      gap: 12px;\n",
              "    }\n",
              "\n",
              "    .colab-df-convert {\n",
              "      background-color: #E8F0FE;\n",
              "      border: none;\n",
              "      border-radius: 50%;\n",
              "      cursor: pointer;\n",
              "      display: none;\n",
              "      fill: #1967D2;\n",
              "      height: 32px;\n",
              "      padding: 0 0 0 0;\n",
              "      width: 32px;\n",
              "    }\n",
              "\n",
              "    .colab-df-convert:hover {\n",
              "      background-color: #E2EBFA;\n",
              "      box-shadow: 0px 1px 2px rgba(60, 64, 67, 0.3), 0px 1px 3px 1px rgba(60, 64, 67, 0.15);\n",
              "      fill: #174EA6;\n",
              "    }\n",
              "\n",
              "    [theme=dark] .colab-df-convert {\n",
              "      background-color: #3B4455;\n",
              "      fill: #D2E3FC;\n",
              "    }\n",
              "\n",
              "    [theme=dark] .colab-df-convert:hover {\n",
              "      background-color: #434B5C;\n",
              "      box-shadow: 0px 1px 3px 1px rgba(0, 0, 0, 0.15);\n",
              "      filter: drop-shadow(0px 1px 2px rgba(0, 0, 0, 0.3));\n",
              "      fill: #FFFFFF;\n",
              "    }\n",
              "  </style>\n",
              "\n",
              "      <script>\n",
              "        const buttonEl =\n",
              "          document.querySelector('#df-7d74c610-ff2a-48fc-b053-47e843a961e0 button.colab-df-convert');\n",
              "        buttonEl.style.display =\n",
              "          google.colab.kernel.accessAllowed ? 'block' : 'none';\n",
              "\n",
              "        async function convertToInteractive(key) {\n",
              "          const element = document.querySelector('#df-7d74c610-ff2a-48fc-b053-47e843a961e0');\n",
              "          const dataTable =\n",
              "            await google.colab.kernel.invokeFunction('convertToInteractive',\n",
              "                                                     [key], {});\n",
              "          if (!dataTable) return;\n",
              "\n",
              "          const docLinkHtml = 'Like what you see? Visit the ' +\n",
              "            '<a target=\"_blank\" href=https://colab.research.google.com/notebooks/data_table.ipynb>data table notebook</a>'\n",
              "            + ' to learn more about interactive tables.';\n",
              "          element.innerHTML = '';\n",
              "          dataTable['output_type'] = 'display_data';\n",
              "          await google.colab.output.renderOutput(dataTable, element);\n",
              "          const docLink = document.createElement('div');\n",
              "          docLink.innerHTML = docLinkHtml;\n",
              "          element.appendChild(docLink);\n",
              "        }\n",
              "      </script>\n",
              "    </div>\n",
              "  </div>\n",
              "  "
            ],
            "text/plain": [
              "                                name platform  year_of_release         genre  \\\n",
              "0                         Wii Sports      Wii             2006        Sports   \n",
              "1                  Super Mario Bros.      NES             1985      Platform   \n",
              "2                     Mario Kart Wii      Wii             2008        Racing   \n",
              "3                  Wii Sports Resort      Wii             2009        Sports   \n",
              "4           Pokemon Red/Pokemon Blue       GB             1996  Role-Playing   \n",
              "...                              ...      ...              ...           ...   \n",
              "16436  Samurai Warriors: Sanada Maru      PS3             2016        Action   \n",
              "16437               LMA Manager 2007     X360             2006        Sports   \n",
              "16438        Haitaka no Psychedelica      PSV             2016     Adventure   \n",
              "16439               Spirits & Spells      GBA             2003      Platform   \n",
              "16440            Winning Post 8 2016      PSV             2016    Simulation   \n",
              "\n",
              "       NA_sales  EU_sales  JP_sales  other_sales  critic_score  user_score  \\\n",
              "0         41.36     28.96      3.77         8.45          76.0         8.0   \n",
              "1         29.08      3.58      6.81         0.77           NaN         NaN   \n",
              "2         15.68     12.76      3.79         3.29          82.0         8.3   \n",
              "3         15.61     10.93      3.28         2.95          80.0         8.0   \n",
              "4         11.27      8.89     10.22         1.00           NaN         NaN   \n",
              "...         ...       ...       ...          ...           ...         ...   \n",
              "16436      0.00      0.00      0.01         0.00           NaN         NaN   \n",
              "16437      0.00      0.01      0.00         0.00           NaN         NaN   \n",
              "16438      0.00      0.00      0.01         0.00           NaN         NaN   \n",
              "16439      0.01      0.00      0.00         0.00           NaN         NaN   \n",
              "16440      0.00      0.00      0.01         0.00           NaN         NaN   \n",
              "\n",
              "        rating  all_sales  \n",
              "0            E      82.54  \n",
              "1      unknown      40.24  \n",
              "2            E      35.52  \n",
              "3            E      32.77  \n",
              "4      unknown      31.38  \n",
              "...        ...        ...  \n",
              "16436  unknown       0.01  \n",
              "16437  unknown       0.01  \n",
              "16438  unknown       0.01  \n",
              "16439  unknown       0.01  \n",
              "16440  unknown       0.01  \n",
              "\n",
              "[16441 rows x 12 columns]"
            ]
          },
          "execution_count": 59,
          "metadata": {},
          "output_type": "execute_result"
        }
      ],
      "source": [
        "games[\"all_sales\"] = games.NA_sales + games.EU_sales\\\n",
        " + games.JP_sales + games.other_sales\n",
        "games"
      ]
    },
    {
      "attachments": {},
      "cell_type": "markdown",
      "metadata": {
        "id": "NTrZXhdo7EAJ"
      },
      "source": [
        "## 4 Исследовательский анализ"
      ]
    },
    {
      "attachments": {},
      "cell_type": "markdown",
      "metadata": {
        "id": "nPJ048xJJ-Lt"
      },
      "source": [
        "### Количество игр по годам"
      ]
    },
    {
      "cell_type": "code",
      "execution_count": null,
      "metadata": {
        "colab": {
          "base_uri": "https://localhost:8080/",
          "height": 528
        },
        "id": "V3hOG_9QKTZm",
        "outputId": "1187b7b2-f441-4035-b9b6-23deb8f99000",
        "trusted": true
      },
      "outputs": [
        {
          "data": {
            "image/png": "[encoded data removed]",
            "text/plain": [
              "<Figure size 1152x576 with 1 Axes>"
            ]
          },
          "metadata": {},
          "output_type": "display_data"
        }
      ],
      "source": [
        "plt.figure(figsize=(16, 8))\n",
        "games.year_of_release.value_counts().sort_index().plot.bar(color=\"#17d0b5\")\n",
        "plt.ylabel(\"count\")\n",
        "plt.xlabel(\"year\")\n",
        "plt.title(\"Distribution by years\")\n",
        "plt.show()"
      ]
    },
    {
      "attachments": {},
      "cell_type": "markdown",
      "metadata": {
        "id": "bdyXjPbPKpCM"
      },
      "source": [
        "Как уже говорилось в разделе подготовки данных для столбца `year_of_release`, период с 1980 по 1990 представлен малым количеством выпускаемых игр ввиду слабой технической развитости этого периода. С 1990 начинается золотой век для игровой индустрии: на рынок выходят компании, которые позже станут гигантами игровой индустрии - Activision, Electronic Arts, Blizzard. Вплоть до 2008 количество выпускаемы игр неуклонно растет с периодами стагнации - 1999 - 2000, 2003-2004. Возможно именно на эти года приходились пропущенные значения в столбце года релиза. После мирового экономического кризиса 2008 года, игровая индустрия идет на спад. Для последующего анализа возьмем период после спада, предположительно с 2011 "
      ]
    },
    {
      "attachments": {},
      "cell_type": "markdown",
      "metadata": {
        "id": "0PRPLFjMKEIT"
      },
      "source": [
        "### Зависимость продаж от платформы"
      ]
    },
    {
      "cell_type": "code",
      "execution_count": null,
      "metadata": {
        "colab": {
          "base_uri": "https://localhost:8080/",
          "height": 725
        },
        "id": "O0YGIda1PsFv",
        "outputId": "468011ba-9ba2-4294-9c3a-af9c77e23d2b",
        "trusted": true
      },
      "outputs": [
        {
          "data": {
            "image/png": "[encoded data removed]",
            "text/plain": [
              "<Figure size 720x720 with 3 Axes>"
            ]
          },
          "metadata": {},
          "output_type": "display_data"
        }
      ],
      "source": [
        "sns.set_theme(style=\"whitegrid\")\n",
        "# plt.figure(figsize=(10, 15))\n",
        "sns.jointplot(data=games, x=\"all_sales\", y=\"platform\", height=10)\n",
        "plt.ylabel(\"\")\n",
        "plt.xlabel(\"Dependence of sales on the platform\")\n",
        "sns.despine(left=True, bottom=True)\n",
        "plt.show()"
      ]
    },
    {
      "attachments": {},
      "cell_type": "markdown",
      "metadata": {
        "id": "IyTA3-e6Tcxz"
      },
      "source": [
        "Оценивать самые продающие платформы исключительно по распределению продаж на них было бы некорректно. Некоторые игры, имея в арсенале несколько сот игр проданных в количестве десятков миллионов копий, могут уступать по суммарным продажам платформам с тысячами игр, но с меньшим количеством проданных копий. Поэтому оценим зависимость продаж от платформы с учетом распределения суммарного количества игр.\n",
        "\n",
        "Итак, самые \"продающие\" платформы: \n",
        "* Wii, единственнная платформа, которая имеет игры с продажами более 80 млн копий. По среднему количеству выпущенных игр находится на 3-м месте;\n",
        "* DS, по среднему количеству выпущенных игр находится на втором месте, игры продавались до 30 млн копий;\n",
        "* PS2, первое место по количеству выпущенных игр, но с продажами чуть более 20 млн. копий"
      ]
    },
    {
      "cell_type": "code",
      "execution_count": null,
      "metadata": {
        "colab": {
          "base_uri": "https://localhost:8080/",
          "height": 394
        },
        "id": "2GG5B3Ikwowu",
        "outputId": "5377b7f6-413e-46f9-f089-b54799dc1378",
        "trusted": true
      },
      "outputs": [
        {
          "data": {
            "image/png": "[encoded data removed]",
            "text/plain": [
              "<Figure size 720x432 with 1 Axes>"
            ]
          },
          "metadata": {},
          "output_type": "display_data"
        }
      ],
      "source": [
        "sns.set_theme(style=\"ticks\")\n",
        "f, ax = plt.subplots(figsize=(10, 6))\n",
        "sns.despine(left=True)\n",
        "sns.histplot(data=games.query('platform == [\"Wii\", \"DS\", \"PS2\"]'),\n",
        "    x=\"year_of_release\", hue=\"platform\", multiple=\"stack\",\n",
        "    palette=\"deep\",\n",
        "    edgecolor=\".3\",\n",
        "    linewidth=.5, \n",
        ")\n",
        "sns.despine(f)\n",
        "plt.xlim(1999)\n",
        "ax.set_xticks(range(1999, 2017))\n",
        "plt.show()\n"
      ]
    },
    {
      "attachments": {},
      "cell_type": "markdown",
      "metadata": {
        "id": "u5fXJtXi8mpo"
      },
      "source": [
        "Пик популярности PS2 пришелся на 2002, с плавным снижением вплоть до 2011, где количество выпущенных игр совсем мало. DS сумела обогнать PS2 по количеству выпущенных игр в 2008 году: 300 игр в 2002 году у PS2 против 700 в 2008 у DS. Но количество выпущенных игр так же сошло на нет к 2016. Wii приблизилась к 1000 выпущенных игр (за 2008 г.). Финал платформы аналогичен предыдущим. "
      ]
    },
    {
      "cell_type": "code",
      "execution_count": null,
      "metadata": {
        "colab": {
          "base_uri": "https://localhost:8080/",
          "height": 581
        },
        "id": "Xr2Rt2D5KddW",
        "outputId": "cd60c43d-4149-46a2-a187-93f4eaf07452",
        "trusted": true
      },
      "outputs": [
        {
          "data": {
            "image/png": "[encoded data removed]",
            "text/plain": [
              "<Figure size 576x576 with 1 Axes>"
            ]
          },
          "metadata": {},
          "output_type": "display_data"
        }
      ],
      "source": [
        "f = sns.catplot(data=games, x=\"year_of_release\", y=\"platform\", palette =\"deep\", \n",
        "            height=8)\n",
        "f.set(xticks=range(1980, 2018, 4))\n",
        "plt.ylabel(\"\")\n",
        "plt.xlabel(\"Lifetime\")\n",
        "plt.show()"
      ]
    },
    {
      "attachments": {},
      "cell_type": "markdown",
      "metadata": {
        "id": "M4s8-gemPqHM"
      },
      "source": [
        "На момент 2016 года существовали не так уж и много игровых платформ, всего 9 (Wii, X360, PS3, PS4, 3DS, PC, XOne, WiiU, PSV). Были и такие платформы, что просуществовали всего один год: GG, PCFX. "
      ]
    },
    {
      "attachments": {},
      "cell_type": "markdown",
      "metadata": {
        "id": "g1F67oOrWvhi"
      },
      "source": [
        "### Потенциально прибыльные платформы *"
      ]
    },
    {
      "attachments": {},
      "cell_type": "markdown",
      "metadata": {
        "id": "BFadN9-9ihLY"
      },
      "source": [
        "Так как здесь мы оцениваем потенциально прибыльные в следующем, 2017, году, то имеет смысл анализировать платформы, которые существуют и поддерживаются на момент 2016 года, а промежуток времени выбрать, не с 2011, как предполагалось ранее, а с 2013. Потому что срок жизни платформ, как мы видели на предыдущем графике достаточно короток. "
      ]
    },
    {
      "cell_type": "code",
      "execution_count": null,
      "metadata": {
        "id": "E652v5MiXtvc",
        "trusted": true
      },
      "outputs": [],
      "source": [
        "games_new = games[games.year_of_release > 2013]"
      ]
    },
    {
      "cell_type": "code",
      "execution_count": null,
      "metadata": {
        "colab": {
          "base_uri": "https://localhost:8080/",
          "height": 653
        },
        "id": "4N_DRzznX_6f",
        "outputId": "91f5cdee-24c0-4303-883b-62e2c3f32e7c",
        "trusted": true
      },
      "outputs": [
        {
          "data": {
            "image/png": "[encoded data removed]",
            "text/plain": [
              "<Figure size 648x648 with 9 Axes>"
            ]
          },
          "metadata": {},
          "output_type": "display_data"
        }
      ],
      "source": [
        "grid = sns.FacetGrid(games_new.query('platform != [\"PSP\",\"DS\"]'), \n",
        "                     col=\"platform\", col_wrap=3)\n",
        "grid.map(sns.pointplot, \"year_of_release\", \"all_sales\", color=\"#DE685D\", \n",
        "         order=range(2014, 2017))\n",
        "plt.show()"
      ]
    },
    {
      "attachments": {},
      "cell_type": "markdown",
      "metadata": {
        "id": "-N_1B1lngktv"
      },
      "source": [
        "Практически у всех игровых платформ прослеживается убывающий тренд продаж, тем не менее, даже при таком тренде, есть несколько платформ, которые все еще могу принести неплохую прибыль своим владельцам. Потенциально прибыльными платформами все еще останутся 3DS со стагнирующим тредом и PS4, как платформа, не достигшая в 2016 году минимальных показателей выручки с продаж. Тем не менее, PS4 остается рискованной инвестицей, в отличие от 3DS."
      ]
    },
    {
      "attachments": {},
      "cell_type": "markdown",
      "metadata": {
        "id": "W0D5jNpJWwpw"
      },
      "source": [
        "### Зависимость продаж игр от платформы *"
      ]
    },
    {
      "cell_type": "code",
      "execution_count": null,
      "metadata": {
        "colab": {
          "base_uri": "https://localhost:8080/",
          "height": 448
        },
        "id": "Tllp7SuYnecT",
        "outputId": "13880c27-41c7-4948-99ea-51b4138cfabb",
        "trusted": true
      },
      "outputs": [
        {
          "data": {
            "image/png": "[encoded data removed]",
            "text/plain": [
              "<Figure size 1296x504 with 1 Axes>"
            ]
          },
          "metadata": {},
          "output_type": "display_data"
        }
      ],
      "source": [
        "plt.figure(figsize=(18, 7))\n",
        "sns.boxplot(data=games_new, x=\"all_sales\", \n",
        "            y=\"platform\", palette=\"deep\"\n",
        "         )\n",
        "plt.xlim(0, 4)\n",
        "plt.show()"
      ]
    },
    {
      "attachments": {},
      "cell_type": "markdown",
      "metadata": {
        "id": "VtAXFg0OrPky"
      },
      "source": [
        "По средним продажам, за весь актуальный период, лидирует XOne, в аутсайдерах PSV, PSP. Однако, судя по выбросам, PS4 имеет на свой платформе самые успешные игры, продажи более 12 млн. В то время как XOne может похвастаться только продажами порядка 6 млн."
      ]
    },
    {
      "attachments": {},
      "cell_type": "markdown",
      "metadata": {
        "id": "hqsqnzbGWw44"
      },
      "source": [
        "### Влияние отзывов на продажи *"
      ]
    },
    {
      "attachments": {},
      "cell_type": "markdown",
      "metadata": {
        "id": "wrgLR6R-fWuB"
      },
      "source": [
        "Как мы определили ранее, самые успешные, по количеству продаж, игры были у платформы PS3. Оценим влияние пользователей и критиков на продажи"
      ]
    },
    {
      "cell_type": "code",
      "execution_count": null,
      "metadata": {
        "colab": {
          "base_uri": "https://localhost:8080/",
          "height": 518
        },
        "id": "uDUSyv2uvHk0",
        "outputId": "10265577-71e8-4a29-b627-55552bb3a3f5",
        "trusted": true
      },
      "outputs": [
        {
          "data": {
            "image/png": "[encoded data removed]",
            "text/plain": [
              "<Figure size 1008x576 with 1 Axes>"
            ]
          },
          "metadata": {},
          "output_type": "display_data"
        }
      ],
      "source": [
        "fig, ax = plt.subplots(figsize=(14, 8))\n",
        "ax.scatter(data=games_new.query(\"platform == 'PS3'\"), x=\"all_sales\", \n",
        "              y=\"critic_score\", alpha=.5)\n",
        "ax.scatter(data=games_new.query(\"platform == 'PS3'\"), x=\"all_sales\", \n",
        "              y=\"user_score\", alpha=.3)\n",
        "plt.xlabel(\"Sales in all regions for PS3\")\n",
        "plt.ylabel(\"Score of critics and users for PS3\")\n",
        "plt.title(\"Depends sales from score for PS3\")\n",
        "plt.grid(True, axis=\"x\")\n",
        "plt.yticks(range(0, 100, 5))\n",
        "ax.legend(loc=0)\n",
        "plt.show()"
      ]
    },
    {
      "attachments": {},
      "cell_type": "markdown",
      "metadata": {
        "id": "WkwhsR1V1g1d"
      },
      "source": [
        "Оценки критиков имеют большее распределение в отличие от оценок пользователей, что объясняется достаточно просто. Для критиков, оценка чего бы то ни было, является работой, в отличие от пользователей, которые обращаются к отзывам и оценкам только в случае негативного опыта. Поэтому полагаться на оценки пользователей не стоит. Обратим внимание на распределение оценок критиков в зависимости от продаж.\n",
        "\n",
        "Основная часть отзывов сосредоточена в промежутке от 0 до 1 млн проданных копий для всего диапазона оценок критиков (от 35 до 90). Продажи от 1 млн обладают малым количеством значений и их диапазон от 72 до 94. Можно предположить по возрастанию значений, что присутствует слабая зависимость между оценками критиков и продажами. Ранее мы строили корреляционный график, где продажи по регионам имели слабую корреляцию с оценками критиков. Теперь оценим корреляцию по единому столбцу продаж для оценок критиков для соотнесения выводов "
      ]
    },
    {
      "cell_type": "code",
      "execution_count": null,
      "metadata": {
        "colab": {
          "base_uri": "https://localhost:8080/",
          "height": 479
        },
        "id": "ptsBh3InApDf",
        "outputId": "3f6c2948-1d51-4872-a067-fe7a2bddfb17",
        "trusted": true
      },
      "outputs": [
        {
          "name": "stdout",
          "output_type": "stream",
          "text": [
            "all_sales       1.000000\n",
            "critic_score    0.327775\n",
            "user_score     -0.001057\n",
            "Name: all_sales, dtype: float64\n"
          ]
        },
        {
          "data": {
            "image/png": "[encoded data removed]",
            "text/plain": [
              "<Figure size 864x432 with 1 Axes>"
            ]
          },
          "metadata": {},
          "output_type": "display_data"
        }
      ],
      "source": [
        "print(games_new.loc[games.platform != 'PS3', \n",
        "                    [\"all_sales\",\"critic_score\", \"user_score\"]]\\\n",
        "      .corr()[\"all_sales\"])\n",
        "plt.figure(figsize=(12,6))\n",
        "sns.scatterplot(data=games_new.query(\"platform != 'PS3'\"), x=\"all_sales\", \n",
        "                y=\"critic_score\", alpha=.4, label=\"0.31\")\n",
        "sns.scatterplot(data=games_new.query(\"platform != 'PS3'\"), x=\"all_sales\", \n",
        "                y=\"user_score\", alpha=.4, label=\"0.006\")\n",
        "plt.xlabel(\"Sales in all regions for platforms\")\n",
        "plt.ylabel(\"Score of critics and users for platforms\")\n",
        "plt.title(\"Depends sales from score for platforms except PS3\")\n",
        "plt.show()"
      ]
    },
    {
      "attachments": {},
      "cell_type": "markdown",
      "metadata": {
        "id": "rG2s7bMYSfAn"
      },
      "source": [
        "Как и ожидалось, выводы по одной из платформ соотносятся с выводами по всем платформам. Распределение оценок критиков и пользователей похоже. Рассчитанная корреляция соответствует предположенным уровням: 0,33 для предположенной слабой корреляции оценок критиков и проданных копий, -0.001 для отсутствия корреляции оценок пользователей и проданных копий."
      ]
    },
    {
      "attachments": {},
      "cell_type": "markdown",
      "metadata": {
        "id": "7GsB3NWVXaM6"
      },
      "source": [
        "### Распределение по жанрам *"
      ]
    },
    {
      "cell_type": "code",
      "execution_count": null,
      "metadata": {
        "colab": {
          "base_uri": "https://localhost:8080/",
          "height": 581
        },
        "id": "WW0iE3elV_ST",
        "outputId": "edf25f43-45b1-4c0c-a57b-a3b0e53685ed",
        "trusted": true
      },
      "outputs": [
        {
          "data": {
            "image/png": "[encoded data removed]",
            "text/plain": [
              "<Figure size 576x576 with 3 Axes>"
            ]
          },
          "metadata": {},
          "output_type": "display_data"
        }
      ],
      "source": [
        "sns.set_theme(style=\"whitegrid\")\n",
        "sns.jointplot(data=games_new, x=\"all_sales\", y=\"genre\", height=8)\n",
        "plt.ylabel(\"\")\n",
        "plt.xlabel(\"Dependence of sales on the genre\")\n",
        "sns.despine(left=True, bottom=True)\n",
        "plt.show()"
      ]
    },
    {
      "attachments": {},
      "cell_type": "markdown",
      "metadata": {
        "id": "fnz-yR-lXkWn"
      },
      "source": [
        "Как и за весь период времени, так и за актуальный период, жанр Action остается одним из самых популярным. Количество игр в этом жанре так же превалирует над другими. Жанр Shooter может быть интересным: он находится на первом месте по продажам(некоторые игры были распроданы более чем 6 млн тиражом) и на 5 месте по количеству выпущенных игр. По аналогии с жанром Shooter стоит присмотреться к жанру Racing: небольшое количество выпущенных игр - 7 место и проданных копий более 2 млн. Жанр Sports интересен продажами более 4 млн, но низким количеством выпущенных игр (4 место) по сравнению с лидирующим жанром Action. Наиболее бесперспективным является жанр Adventure: довольно большое количество выпущенных игр (на 3-м месте) вкупе с продажами менее 2 млн.\n"
      ]
    },
    {
      "attachments": {},
      "cell_type": "markdown",
      "metadata": {
        "id": "4IUSkA080L0g"
      },
      "source": [
        "### Вывод"
      ]
    },
    {
      "attachments": {},
      "cell_type": "markdown",
      "metadata": {
        "id": "Fm62OSKtuk9W"
      },
      "source": [
        "Индустрия видеоигр достигла своего пика в 2008-2009 годах, когда было выпущено наибольшее количество игр. Далее произошел спад, связанный с мировым экономическим кризисом, и выпуск игр снизился. \n",
        "\n",
        "Наиболее успешными платформами за весь период времени были Wii, DS и PS2. В свои лучшие годы эти платформы выпускали огромное количество игр, что говорит о высокой популярности их среди игроков. \n",
        "\n",
        "На момент 2016 года на рынке осталось всего 9 платформ из 31 существовавших. Это указывает на то, что индустрия видеоигр постепенно консолидируется, а конкуренция между платформами становится все более жесткой. При этом DS, хотя и являлась одной из самых успешных платформ за все время, на момент 2016 года уже не было на рынке.\n",
        "\n",
        "Потенциально прибильными в 2017 году могут быть две платформы: PS4 и 3DS. Тем не менее, PS4 имеет нисходящий тренд, тогда как 3DS является стабильной платформой. \n",
        "\n",
        "Платформа X360 лидирует по средним продажам, а PS3 продает игры миллионными копиями при меньших средних продажах. Это может объясняться тем, что на PS3 выходили более популярные и ожидаемые эксклюзивы.\n",
        "\n",
        "Отзывы пользователей не имеют существенного влияния на продажи игр, в то время как отзывы критиков, хотя и имеют влияние, но довольно слабое. Это может говорить о том, что отзывы критиков могут служить важным индикатором качества игры, но все же решение о покупке принимается в основном на основе других факторов, таких как жанр, платформа.\n",
        "\n",
        "Наиболее популярными жанрами являются Action, Shooter и RPG. Это может указывать на то, что игроки предпочитают динамичные и насыщенные по сюжету игры, которые предоставляют возможность исследования большого игрового мира и интересных персонажей.  "
      ]
    },
    {
      "attachments": {},
      "cell_type": "markdown",
      "metadata": {
        "id": "cTIpvPYU7EO8"
      },
      "source": [
        "## 5 Портрет пользователя"
      ]
    },
    {
      "attachments": {},
      "cell_type": "markdown",
      "metadata": {
        "id": "hXY3dhwv3Cc0"
      },
      "source": [
        "Определите для пользователя каждого региона (NA, EU, JP):\n",
        "  * определение самых популярные платформы (топ-5) и анализ различия в долях продаж;\n",
        "  * определение и анализ самых популярных жанров (топ-5); \n",
        "  * определение влияния рейтинга ESRB на продажи в отдельном регионе."
      ]
    },
    {
      "attachments": {},
      "cell_type": "markdown",
      "metadata": {
        "id": "hT83YmcP_Uc3"
      },
      "source": [
        "Напишем функцию, которая отсортирует датафрейм необходимым образом и построит соответствующие графики"
      ]
    },
    {
      "cell_type": "code",
      "execution_count": null,
      "metadata": {
        "id": "PtO7CbsU9tBY",
        "trusted": true
      },
      "outputs": [],
      "source": [
        "def top_5(data, col):\n",
        "  top = data.pivot_table(index=col, \n",
        "                            values=[\"NA_sales\", \"EU_sales\", \"JP_sales\"], aggfunc=\"sum\")\n",
        "  fig = make_subplots(rows=1, cols=3, \n",
        "                    specs=[[{\"type\":\"domain\"}, {\"type\":\"domain\"}, \n",
        "                            {\"type\":\"domain\"}]], \n",
        "                    subplot_titles = [\"Europe\", \"Japan\", \"North America\"])\n",
        "  for i, j in enumerate(top):\n",
        "    df = top.sort_values(j, ascending = False)\\\n",
        "    .reset_index()\n",
        "    df.loc[df.index > 4, col] = 'other'\n",
        "    # px.pie(df, values=j, names=df[\"genre\"])\n",
        "    fig.add_trace(\n",
        "        go.Pie(values=df[j], labels=df[col], textinfo=\"label+percent\",\n",
        "              insidetextorientation='radial', pull=[0, 0, 0, 0, 0, .1]), \n",
        "              row=1, col=i+1\n",
        "        )\n",
        "    fig.update(layout_showlegend=False)\n",
        "  fig.show()\n",
        "  "
      ]
    },
    {
      "attachments": {},
      "cell_type": "markdown",
      "metadata": {
        "id": "v0LERKVo9Yle"
      },
      "source": [
        "### Топ-5 популярных жанров"
      ]
    },
    {
      "cell_type": "code",
      "execution_count": null,
      "metadata": {
        "colab": {
          "base_uri": "https://localhost:8080/",
          "height": 542
        },
        "id": "1f97kFWg-HzD",
        "outputId": "030d00fa-7955-459a-e750-55dbc1a93ef0",
        "trusted": true
      },
      "outputs": [
        {
          "data": {
            "text/html": [
              "<html>\n",
              "<head><meta charset=\"utf-8\" /></head>\n",
              "<body>\n",
              "    <div>            <script src=\"https://cdnjs.cloudflare.com/ajax/libs/mathjax/2.7.5/MathJax.js?config=TeX-AMS-MML_SVG\"></script><script type=\"text/javascript\">if (window.MathJax) {MathJax.Hub.Config({SVG: {font: \"STIX-Web\"}});}</script>                <script type=\"text/javascript\">window.PlotlyConfig = {MathJaxConfig: 'local'};</script>\n",
              "        <script src=\"https://cdn.plot.ly/plotly-2.8.3.min.js\"></script>                <div id=\"cd5751e1-d0ce-4e94-a5c8-5b5dab0adce4\" class=\"plotly-graph-div\" style=\"height:525px; width:100%;\"></div>            <script type=\"text/javascript\">                                    window.PLOTLYENV=window.PLOTLYENV || {};                                    if (document.getElementById(\"cd5751e1-d0ce-4e94-a5c8-5b5dab0adce4\")) {                    Plotly.newPlot(                        \"cd5751e1-d0ce-4e94-a5c8-5b5dab0adce4\",                        [{\"insidetextorientation\":\"radial\",\"labels\":[\"Action\",\"Shooter\",\"Sports\",\"Role-Playing\",\"Racing\",\"other\",\"other\",\"other\",\"other\",\"other\",\"other\",\"other\"],\"pull\":[0,0,0,0,0,0.1],\"textinfo\":\"label+percent\",\"values\":[74.68,65.52,45.73,28.17,14.129999999999999,12.86,7.3,6.8,6.69,6.49,1.79,0.52],\"type\":\"pie\",\"domain\":{\"x\":[0.0,0.2888888888888889],\"y\":[0.0,1.0]}},{\"insidetextorientation\":\"radial\",\"labels\":[\"Role-Playing\",\"Action\",\"Fighting\",\"Misc\",\"Shooter\",\"other\",\"other\",\"other\",\"other\",\"other\",\"other\",\"other\"],\"pull\":[0,0,0,0,0,0.1],\"textinfo\":\"label+percent\",\"values\":[31.16,29.580000000000002,6.37,5.61,4.87,3.6,3.2600000000000002,2.69,2.31,1.76,0.95,0.93],\"type\":\"pie\",\"domain\":{\"x\":[0.35555555555555557,0.6444444444444445],\"y\":[0.0,1.0]}},{\"insidetextorientation\":\"radial\",\"labels\":[\"Shooter\",\"Action\",\"Sports\",\"Role-Playing\",\"Misc\",\"other\",\"other\",\"other\",\"other\",\"other\",\"other\",\"other\"],\"pull\":[0,0,0,0,0,0.1],\"textinfo\":\"label+percent\",\"values\":[79.02,72.53,46.13,33.47,15.049999999999999,12.43,8.74,6.79,5.64,2.63,0.98,0.65],\"type\":\"pie\",\"domain\":{\"x\":[0.7111111111111111,1.0],\"y\":[0.0,1.0]}}],                        {\"template\":{\"data\":{\"bar\":[{\"error_x\":{\"color\":\"#2a3f5f\"},\"error_y\":{\"color\":\"#2a3f5f\"},\"marker\":{\"line\":{\"color\":\"#E5ECF6\",\"width\":0.5},\"pattern\":{\"fillmode\":\"overlay\",\"size\":10,\"solidity\":0.2}},\"type\":\"bar\"}],\"barpolar\":[{\"marker\":{\"line\":{\"color\":\"#E5ECF6\",\"width\":0.5},\"pattern\":{\"fillmode\":\"overlay\",\"size\":10,\"solidity\":0.2}},\"type\":\"barpolar\"}],\"carpet\":[{\"aaxis\":{\"endlinecolor\":\"#2a3f5f\",\"gridcolor\":\"white\",\"linecolor\":\"white\",\"minorgridcolor\":\"white\",\"startlinecolor\":\"#2a3f5f\"},\"baxis\":{\"endlinecolor\":\"#2a3f5f\",\"gridcolor\":\"white\",\"linecolor\":\"white\",\"minorgridcolor\":\"white\",\"startlinecolor\":\"#2a3f5f\"},\"type\":\"carpet\"}],\"choropleth\":[{\"colorbar\":{\"outlinewidth\":0,\"ticks\":\"\"},\"type\":\"choropleth\"}],\"contour\":[{\"colorbar\":{\"outlinewidth\":0,\"ticks\":\"\"},\"colorscale\":[[0.0,\"#0d0887\"],[0.1111111111111111,\"#46039f\"],[0.2222222222222222,\"#7201a8\"],[0.3333333333333333,\"#9c179e\"],[0.4444444444444444,\"#bd3786\"],[0.5555555555555556,\"#d8576b\"],[0.6666666666666666,\"#ed7953\"],[0.7777777777777778,\"#fb9f3a\"],[0.8888888888888888,\"#fdca26\"],[1.0,\"#f0f921\"]],\"type\":\"contour\"}],\"contourcarpet\":[{\"colorbar\":{\"outlinewidth\":0,\"ticks\":\"\"},\"type\":\"contourcarpet\"}],\"heatmap\":[{\"colorbar\":{\"outlinewidth\":0,\"ticks\":\"\"},\"colorscale\":[[0.0,\"#0d0887\"],[0.1111111111111111,\"#46039f\"],[0.2222222222222222,\"#7201a8\"],[0.3333333333333333,\"#9c179e\"],[0.4444444444444444,\"#bd3786\"],[0.5555555555555556,\"#d8576b\"],[0.6666666666666666,\"#ed7953\"],[0.7777777777777778,\"#fb9f3a\"],[0.8888888888888888,\"#fdca26\"],[1.0,\"#f0f921\"]],\"type\":\"heatmap\"}],\"heatmapgl\":[{\"colorbar\":{\"outlinewidth\":0,\"ticks\":\"\"},\"colorscale\":[[0.0,\"#0d0887\"],[0.1111111111111111,\"#46039f\"],[0.2222222222222222,\"#7201a8\"],[0.3333333333333333,\"#9c179e\"],[0.4444444444444444,\"#bd3786\"],[0.5555555555555556,\"#d8576b\"],[0.6666666666666666,\"#ed7953\"],[0.7777777777777778,\"#fb9f3a\"],[0.8888888888888888,\"#fdca26\"],[1.0,\"#f0f921\"]],\"type\":\"heatmapgl\"}],\"histogram\":[{\"marker\":{\"pattern\":{\"fillmode\":\"overlay\",\"size\":10,\"solidity\":0.2}},\"type\":\"histogram\"}],\"histogram2d\":[{\"colorbar\":{\"outlinewidth\":0,\"ticks\":\"\"},\"colorscale\":[[0.0,\"#0d0887\"],[0.1111111111111111,\"#46039f\"],[0.2222222222222222,\"#7201a8\"],[0.3333333333333333,\"#9c179e\"],[0.4444444444444444,\"#bd3786\"],[0.5555555555555556,\"#d8576b\"],[0.6666666666666666,\"#ed7953\"],[0.7777777777777778,\"#fb9f3a\"],[0.8888888888888888,\"#fdca26\"],[1.0,\"#f0f921\"]],\"type\":\"histogram2d\"}],\"histogram2dcontour\":[{\"colorbar\":{\"outlinewidth\":0,\"ticks\":\"\"},\"colorscale\":[[0.0,\"#0d0887\"],[0.1111111111111111,\"#46039f\"],[0.2222222222222222,\"#7201a8\"],[0.3333333333333333,\"#9c179e\"],[0.4444444444444444,\"#bd3786\"],[0.5555555555555556,\"#d8576b\"],[0.6666666666666666,\"#ed7953\"],[0.7777777777777778,\"#fb9f3a\"],[0.8888888888888888,\"#fdca26\"],[1.0,\"#f0f921\"]],\"type\":\"histogram2dcontour\"}],\"mesh3d\":[{\"colorbar\":{\"outlinewidth\":0,\"ticks\":\"\"},\"type\":\"mesh3d\"}],\"parcoords\":[{\"line\":{\"colorbar\":{\"outlinewidth\":0,\"ticks\":\"\"}},\"type\":\"parcoords\"}],\"pie\":[{\"automargin\":true,\"type\":\"pie\"}],\"scatter\":[{\"marker\":{\"colorbar\":{\"outlinewidth\":0,\"ticks\":\"\"}},\"type\":\"scatter\"}],\"scatter3d\":[{\"line\":{\"colorbar\":{\"outlinewidth\":0,\"ticks\":\"\"}},\"marker\":{\"colorbar\":{\"outlinewidth\":0,\"ticks\":\"\"}},\"type\":\"scatter3d\"}],\"scattercarpet\":[{\"marker\":{\"colorbar\":{\"outlinewidth\":0,\"ticks\":\"\"}},\"type\":\"scattercarpet\"}],\"scattergeo\":[{\"marker\":{\"colorbar\":{\"outlinewidth\":0,\"ticks\":\"\"}},\"type\":\"scattergeo\"}],\"scattergl\":[{\"marker\":{\"colorbar\":{\"outlinewidth\":0,\"ticks\":\"\"}},\"type\":\"scattergl\"}],\"scattermapbox\":[{\"marker\":{\"colorbar\":{\"outlinewidth\":0,\"ticks\":\"\"}},\"type\":\"scattermapbox\"}],\"scatterpolar\":[{\"marker\":{\"colorbar\":{\"outlinewidth\":0,\"ticks\":\"\"}},\"type\":\"scatterpolar\"}],\"scatterpolargl\":[{\"marker\":{\"colorbar\":{\"outlinewidth\":0,\"ticks\":\"\"}},\"type\":\"scatterpolargl\"}],\"scatterternary\":[{\"marker\":{\"colorbar\":{\"outlinewidth\":0,\"ticks\":\"\"}},\"type\":\"scatterternary\"}],\"surface\":[{\"colorbar\":{\"outlinewidth\":0,\"ticks\":\"\"},\"colorscale\":[[0.0,\"#0d0887\"],[0.1111111111111111,\"#46039f\"],[0.2222222222222222,\"#7201a8\"],[0.3333333333333333,\"#9c179e\"],[0.4444444444444444,\"#bd3786\"],[0.5555555555555556,\"#d8576b\"],[0.6666666666666666,\"#ed7953\"],[0.7777777777777778,\"#fb9f3a\"],[0.8888888888888888,\"#fdca26\"],[1.0,\"#f0f921\"]],\"type\":\"surface\"}],\"table\":[{\"cells\":{\"fill\":{\"color\":\"#EBF0F8\"},\"line\":{\"color\":\"white\"}},\"header\":{\"fill\":{\"color\":\"#C8D4E3\"},\"line\":{\"color\":\"white\"}},\"type\":\"table\"}]},\"layout\":{\"annotationdefaults\":{\"arrowcolor\":\"#2a3f5f\",\"arrowhead\":0,\"arrowwidth\":1},\"autotypenumbers\":\"strict\",\"coloraxis\":{\"colorbar\":{\"outlinewidth\":0,\"ticks\":\"\"}},\"colorscale\":{\"diverging\":[[0,\"#8e0152\"],[0.1,\"#c51b7d\"],[0.2,\"#de77ae\"],[0.3,\"#f1b6da\"],[0.4,\"#fde0ef\"],[0.5,\"#f7f7f7\"],[0.6,\"#e6f5d0\"],[0.7,\"#b8e186\"],[0.8,\"#7fbc41\"],[0.9,\"#4d9221\"],[1,\"#276419\"]],\"sequential\":[[0.0,\"#0d0887\"],[0.1111111111111111,\"#46039f\"],[0.2222222222222222,\"#7201a8\"],[0.3333333333333333,\"#9c179e\"],[0.4444444444444444,\"#bd3786\"],[0.5555555555555556,\"#d8576b\"],[0.6666666666666666,\"#ed7953\"],[0.7777777777777778,\"#fb9f3a\"],[0.8888888888888888,\"#fdca26\"],[1.0,\"#f0f921\"]],\"sequentialminus\":[[0.0,\"#0d0887\"],[0.1111111111111111,\"#46039f\"],[0.2222222222222222,\"#7201a8\"],[0.3333333333333333,\"#9c179e\"],[0.4444444444444444,\"#bd3786\"],[0.5555555555555556,\"#d8576b\"],[0.6666666666666666,\"#ed7953\"],[0.7777777777777778,\"#fb9f3a\"],[0.8888888888888888,\"#fdca26\"],[1.0,\"#f0f921\"]]},\"colorway\":[\"#636efa\",\"#EF553B\",\"#00cc96\",\"#ab63fa\",\"#FFA15A\",\"#19d3f3\",\"#FF6692\",\"#B6E880\",\"#FF97FF\",\"#FECB52\"],\"font\":{\"color\":\"#2a3f5f\"},\"geo\":{\"bgcolor\":\"white\",\"lakecolor\":\"white\",\"landcolor\":\"#E5ECF6\",\"showlakes\":true,\"showland\":true,\"subunitcolor\":\"white\"},\"hoverlabel\":{\"align\":\"left\"},\"hovermode\":\"closest\",\"mapbox\":{\"style\":\"light\"},\"paper_bgcolor\":\"white\",\"plot_bgcolor\":\"#E5ECF6\",\"polar\":{\"angularaxis\":{\"gridcolor\":\"white\",\"linecolor\":\"white\",\"ticks\":\"\"},\"bgcolor\":\"#E5ECF6\",\"radialaxis\":{\"gridcolor\":\"white\",\"linecolor\":\"white\",\"ticks\":\"\"}},\"scene\":{\"xaxis\":{\"backgroundcolor\":\"#E5ECF6\",\"gridcolor\":\"white\",\"gridwidth\":2,\"linecolor\":\"white\",\"showbackground\":true,\"ticks\":\"\",\"zerolinecolor\":\"white\"},\"yaxis\":{\"backgroundcolor\":\"#E5ECF6\",\"gridcolor\":\"white\",\"gridwidth\":2,\"linecolor\":\"white\",\"showbackground\":true,\"ticks\":\"\",\"zerolinecolor\":\"white\"},\"zaxis\":{\"backgroundcolor\":\"#E5ECF6\",\"gridcolor\":\"white\",\"gridwidth\":2,\"linecolor\":\"white\",\"showbackground\":true,\"ticks\":\"\",\"zerolinecolor\":\"white\"}},\"shapedefaults\":{\"line\":{\"color\":\"#2a3f5f\"}},\"ternary\":{\"aaxis\":{\"gridcolor\":\"white\",\"linecolor\":\"white\",\"ticks\":\"\"},\"baxis\":{\"gridcolor\":\"white\",\"linecolor\":\"white\",\"ticks\":\"\"},\"bgcolor\":\"#E5ECF6\",\"caxis\":{\"gridcolor\":\"white\",\"linecolor\":\"white\",\"ticks\":\"\"}},\"title\":{\"x\":0.05},\"xaxis\":{\"automargin\":true,\"gridcolor\":\"white\",\"linecolor\":\"white\",\"ticks\":\"\",\"title\":{\"standoff\":15},\"zerolinecolor\":\"white\",\"zerolinewidth\":2},\"yaxis\":{\"automargin\":true,\"gridcolor\":\"white\",\"linecolor\":\"white\",\"ticks\":\"\",\"title\":{\"standoff\":15},\"zerolinecolor\":\"white\",\"zerolinewidth\":2}}},\"annotations\":[{\"font\":{\"size\":16},\"showarrow\":false,\"text\":\"Europe\",\"x\":0.14444444444444446,\"xanchor\":\"center\",\"xref\":\"paper\",\"y\":1.0,\"yanchor\":\"bottom\",\"yref\":\"paper\"},{\"font\":{\"size\":16},\"showarrow\":false,\"text\":\"Japan\",\"x\":0.5,\"xanchor\":\"center\",\"xref\":\"paper\",\"y\":1.0,\"yanchor\":\"bottom\",\"yref\":\"paper\"},{\"font\":{\"size\":16},\"showarrow\":false,\"text\":\"North America\",\"x\":0.8555555555555556,\"xanchor\":\"center\",\"xref\":\"paper\",\"y\":1.0,\"yanchor\":\"bottom\",\"yref\":\"paper\"}],\"showlegend\":false},                        {\"responsive\": true}                    ).then(function(){\n",
              "                            \n",
              "var gd = document.getElementById('cd5751e1-d0ce-4e94-a5c8-5b5dab0adce4');\n",
              "var x = new MutationObserver(function (mutations, observer) {{\n",
              "        var display = window.getComputedStyle(gd).display;\n",
              "        if (!display || display === 'none') {{\n",
              "            console.log([gd, 'removed!']);\n",
              "            Plotly.purge(gd);\n",
              "            observer.disconnect();\n",
              "        }}\n",
              "}});\n",
              "\n",
              "// Listen for the removal of the full notebook cells\n",
              "var notebookContainer = gd.closest('#notebook-container');\n",
              "if (notebookContainer) {{\n",
              "    x.observe(notebookContainer, {childList: true});\n",
              "}}\n",
              "\n",
              "// Listen for the clearing of the current output cell\n",
              "var outputEl = gd.closest('.output');\n",
              "if (outputEl) {{\n",
              "    x.observe(outputEl, {childList: true});\n",
              "}}\n",
              "\n",
              "                        })                };                            </script>        </div>\n",
              "</body>\n",
              "</html>"
            ]
          },
          "metadata": {},
          "output_type": "display_data"
        }
      ],
      "source": [
        "top_5(games_new, \"genre\")"
      ]
    },
    {
      "attachments": {},
      "cell_type": "markdown",
      "metadata": {
        "id": "bpgXNjpEI5tr"
      },
      "source": [
        "Количественной распределение жанров во всех регионах примерно одинаково. Жанры, не входящие в пятерку занимают около 30% рынка в среднем. В каждом регионе присутствует свой очевидно лидирующий жанр, занимающий около четверти рынка. Рынки Европы и Северной Америки совпадают по двум лидирующим жанрам. В общем, рынок Северной Америки имеет больше общих жанров с Японий, чем с Европой. Тем не менее во всех трех регионах популярен жанр Platform."
      ]
    },
    {
      "attachments": {},
      "cell_type": "markdown",
      "metadata": {
        "id": "TiQUL4vp9S3I"
      },
      "source": [
        "### Топ-5 популярных платформ"
      ]
    },
    {
      "cell_type": "code",
      "execution_count": null,
      "metadata": {
        "colab": {
          "base_uri": "https://localhost:8080/",
          "height": 542
        },
        "id": "lwvGsWdu9qWo",
        "outputId": "879fd98d-6a49-4f30-e444-a2176c71368a",
        "trusted": true
      },
      "outputs": [
        {
          "data": {
            "text/html": [
              "<html>\n",
              "<head><meta charset=\"utf-8\" /></head>\n",
              "<body>\n",
              "    <div>            <script src=\"https://cdnjs.cloudflare.com/ajax/libs/mathjax/2.7.5/MathJax.js?config=TeX-AMS-MML_SVG\"></script><script type=\"text/javascript\">if (window.MathJax) {MathJax.Hub.Config({SVG: {font: \"STIX-Web\"}});}</script>                <script type=\"text/javascript\">window.PlotlyConfig = {MathJaxConfig: 'local'};</script>\n",
              "        <script src=\"https://cdn.plot.ly/plotly-2.8.3.min.js\"></script>                <div id=\"6a36ddf5-d1ee-4903-9b13-29b9ee6d8bd1\" class=\"plotly-graph-div\" style=\"height:525px; width:100%;\"></div>            <script type=\"text/javascript\">                                    window.PLOTLYENV=window.PLOTLYENV || {};                                    if (document.getElementById(\"6a36ddf5-d1ee-4903-9b13-29b9ee6d8bd1\")) {                    Plotly.newPlot(                        \"6a36ddf5-d1ee-4903-9b13-29b9ee6d8bd1\",                        [{\"insidetextorientation\":\"radial\",\"labels\":[\"PS4\",\"XOne\",\"PS3\",\"PC\",\"3DS\",\"other\",\"other\",\"other\",\"other\",\"other\"],\"pull\":[0,0,0,0,0,0.1],\"textinfo\":\"label+percent\",\"values\":[130.04,46.25,25.54,17.97,16.12,15.49,13.15,3.53,2.59,0.0],\"type\":\"pie\",\"domain\":{\"x\":[0.0,0.2888888888888889],\"y\":[0.0,1.0]}},{\"insidetextorientation\":\"radial\",\"labels\":[\"3DS\",\"PS4\",\"PSV\",\"PS3\",\"WiiU\",\"other\",\"other\",\"other\",\"other\",\"other\"],\"pull\":[0,0,0,0,0,0.1],\"textinfo\":\"label+percent\",\"values\":[44.24,15.02,14.540000000000001,11.22,7.31,0.36,0.32,0.08,0.0,0.0],\"type\":\"pie\",\"domain\":{\"x\":[0.35555555555555557,0.6444444444444445],\"y\":[0.0,1.0]}},{\"insidetextorientation\":\"radial\",\"labels\":[\"PS4\",\"XOne\",\"X360\",\"3DS\",\"PS3\",\"other\",\"other\",\"other\",\"other\",\"other\"],\"pull\":[0,0,0,0,0,0.1],\"textinfo\":\"label+percent\",\"values\":[98.61,81.27,28.3,22.64,22.05,19.36,7.23,2.52,2.08,0.0],\"type\":\"pie\",\"domain\":{\"x\":[0.7111111111111111,1.0],\"y\":[0.0,1.0]}}],                        {\"template\":{\"data\":{\"bar\":[{\"error_x\":{\"color\":\"#2a3f5f\"},\"error_y\":{\"color\":\"#2a3f5f\"},\"marker\":{\"line\":{\"color\":\"#E5ECF6\",\"width\":0.5},\"pattern\":{\"fillmode\":\"overlay\",\"size\":10,\"solidity\":0.2}},\"type\":\"bar\"}],\"barpolar\":[{\"marker\":{\"line\":{\"color\":\"#E5ECF6\",\"width\":0.5},\"pattern\":{\"fillmode\":\"overlay\",\"size\":10,\"solidity\":0.2}},\"type\":\"barpolar\"}],\"carpet\":[{\"aaxis\":{\"endlinecolor\":\"#2a3f5f\",\"gridcolor\":\"white\",\"linecolor\":\"white\",\"minorgridcolor\":\"white\",\"startlinecolor\":\"#2a3f5f\"},\"baxis\":{\"endlinecolor\":\"#2a3f5f\",\"gridcolor\":\"white\",\"linecolor\":\"white\",\"minorgridcolor\":\"white\",\"startlinecolor\":\"#2a3f5f\"},\"type\":\"carpet\"}],\"choropleth\":[{\"colorbar\":{\"outlinewidth\":0,\"ticks\":\"\"},\"type\":\"choropleth\"}],\"contour\":[{\"colorbar\":{\"outlinewidth\":0,\"ticks\":\"\"},\"colorscale\":[[0.0,\"#0d0887\"],[0.1111111111111111,\"#46039f\"],[0.2222222222222222,\"#7201a8\"],[0.3333333333333333,\"#9c179e\"],[0.4444444444444444,\"#bd3786\"],[0.5555555555555556,\"#d8576b\"],[0.6666666666666666,\"#ed7953\"],[0.7777777777777778,\"#fb9f3a\"],[0.8888888888888888,\"#fdca26\"],[1.0,\"#f0f921\"]],\"type\":\"contour\"}],\"contourcarpet\":[{\"colorbar\":{\"outlinewidth\":0,\"ticks\":\"\"},\"type\":\"contourcarpet\"}],\"heatmap\":[{\"colorbar\":{\"outlinewidth\":0,\"ticks\":\"\"},\"colorscale\":[[0.0,\"#0d0887\"],[0.1111111111111111,\"#46039f\"],[0.2222222222222222,\"#7201a8\"],[0.3333333333333333,\"#9c179e\"],[0.4444444444444444,\"#bd3786\"],[0.5555555555555556,\"#d8576b\"],[0.6666666666666666,\"#ed7953\"],[0.7777777777777778,\"#fb9f3a\"],[0.8888888888888888,\"#fdca26\"],[1.0,\"#f0f921\"]],\"type\":\"heatmap\"}],\"heatmapgl\":[{\"colorbar\":{\"outlinewidth\":0,\"ticks\":\"\"},\"colorscale\":[[0.0,\"#0d0887\"],[0.1111111111111111,\"#46039f\"],[0.2222222222222222,\"#7201a8\"],[0.3333333333333333,\"#9c179e\"],[0.4444444444444444,\"#bd3786\"],[0.5555555555555556,\"#d8576b\"],[0.6666666666666666,\"#ed7953\"],[0.7777777777777778,\"#fb9f3a\"],[0.8888888888888888,\"#fdca26\"],[1.0,\"#f0f921\"]],\"type\":\"heatmapgl\"}],\"histogram\":[{\"marker\":{\"pattern\":{\"fillmode\":\"overlay\",\"size\":10,\"solidity\":0.2}},\"type\":\"histogram\"}],\"histogram2d\":[{\"colorbar\":{\"outlinewidth\":0,\"ticks\":\"\"},\"colorscale\":[[0.0,\"#0d0887\"],[0.1111111111111111,\"#46039f\"],[0.2222222222222222,\"#7201a8\"],[0.3333333333333333,\"#9c179e\"],[0.4444444444444444,\"#bd3786\"],[0.5555555555555556,\"#d8576b\"],[0.6666666666666666,\"#ed7953\"],[0.7777777777777778,\"#fb9f3a\"],[0.8888888888888888,\"#fdca26\"],[1.0,\"#f0f921\"]],\"type\":\"histogram2d\"}],\"histogram2dcontour\":[{\"colorbar\":{\"outlinewidth\":0,\"ticks\":\"\"},\"colorscale\":[[0.0,\"#0d0887\"],[0.1111111111111111,\"#46039f\"],[0.2222222222222222,\"#7201a8\"],[0.3333333333333333,\"#9c179e\"],[0.4444444444444444,\"#bd3786\"],[0.5555555555555556,\"#d8576b\"],[0.6666666666666666,\"#ed7953\"],[0.7777777777777778,\"#fb9f3a\"],[0.8888888888888888,\"#fdca26\"],[1.0,\"#f0f921\"]],\"type\":\"histogram2dcontour\"}],\"mesh3d\":[{\"colorbar\":{\"outlinewidth\":0,\"ticks\":\"\"},\"type\":\"mesh3d\"}],\"parcoords\":[{\"line\":{\"colorbar\":{\"outlinewidth\":0,\"ticks\":\"\"}},\"type\":\"parcoords\"}],\"pie\":[{\"automargin\":true,\"type\":\"pie\"}],\"scatter\":[{\"marker\":{\"colorbar\":{\"outlinewidth\":0,\"ticks\":\"\"}},\"type\":\"scatter\"}],\"scatter3d\":[{\"line\":{\"colorbar\":{\"outlinewidth\":0,\"ticks\":\"\"}},\"marker\":{\"colorbar\":{\"outlinewidth\":0,\"ticks\":\"\"}},\"type\":\"scatter3d\"}],\"scattercarpet\":[{\"marker\":{\"colorbar\":{\"outlinewidth\":0,\"ticks\":\"\"}},\"type\":\"scattercarpet\"}],\"scattergeo\":[{\"marker\":{\"colorbar\":{\"outlinewidth\":0,\"ticks\":\"\"}},\"type\":\"scattergeo\"}],\"scattergl\":[{\"marker\":{\"colorbar\":{\"outlinewidth\":0,\"ticks\":\"\"}},\"type\":\"scattergl\"}],\"scattermapbox\":[{\"marker\":{\"colorbar\":{\"outlinewidth\":0,\"ticks\":\"\"}},\"type\":\"scattermapbox\"}],\"scatterpolar\":[{\"marker\":{\"colorbar\":{\"outlinewidth\":0,\"ticks\":\"\"}},\"type\":\"scatterpolar\"}],\"scatterpolargl\":[{\"marker\":{\"colorbar\":{\"outlinewidth\":0,\"ticks\":\"\"}},\"type\":\"scatterpolargl\"}],\"scatterternary\":[{\"marker\":{\"colorbar\":{\"outlinewidth\":0,\"ticks\":\"\"}},\"type\":\"scatterternary\"}],\"surface\":[{\"colorbar\":{\"outlinewidth\":0,\"ticks\":\"\"},\"colorscale\":[[0.0,\"#0d0887\"],[0.1111111111111111,\"#46039f\"],[0.2222222222222222,\"#7201a8\"],[0.3333333333333333,\"#9c179e\"],[0.4444444444444444,\"#bd3786\"],[0.5555555555555556,\"#d8576b\"],[0.6666666666666666,\"#ed7953\"],[0.7777777777777778,\"#fb9f3a\"],[0.8888888888888888,\"#fdca26\"],[1.0,\"#f0f921\"]],\"type\":\"surface\"}],\"table\":[{\"cells\":{\"fill\":{\"color\":\"#EBF0F8\"},\"line\":{\"color\":\"white\"}},\"header\":{\"fill\":{\"color\":\"#C8D4E3\"},\"line\":{\"color\":\"white\"}},\"type\":\"table\"}]},\"layout\":{\"annotationdefaults\":{\"arrowcolor\":\"#2a3f5f\",\"arrowhead\":0,\"arrowwidth\":1},\"autotypenumbers\":\"strict\",\"coloraxis\":{\"colorbar\":{\"outlinewidth\":0,\"ticks\":\"\"}},\"colorscale\":{\"diverging\":[[0,\"#8e0152\"],[0.1,\"#c51b7d\"],[0.2,\"#de77ae\"],[0.3,\"#f1b6da\"],[0.4,\"#fde0ef\"],[0.5,\"#f7f7f7\"],[0.6,\"#e6f5d0\"],[0.7,\"#b8e186\"],[0.8,\"#7fbc41\"],[0.9,\"#4d9221\"],[1,\"#276419\"]],\"sequential\":[[0.0,\"#0d0887\"],[0.1111111111111111,\"#46039f\"],[0.2222222222222222,\"#7201a8\"],[0.3333333333333333,\"#9c179e\"],[0.4444444444444444,\"#bd3786\"],[0.5555555555555556,\"#d8576b\"],[0.6666666666666666,\"#ed7953\"],[0.7777777777777778,\"#fb9f3a\"],[0.8888888888888888,\"#fdca26\"],[1.0,\"#f0f921\"]],\"sequentialminus\":[[0.0,\"#0d0887\"],[0.1111111111111111,\"#46039f\"],[0.2222222222222222,\"#7201a8\"],[0.3333333333333333,\"#9c179e\"],[0.4444444444444444,\"#bd3786\"],[0.5555555555555556,\"#d8576b\"],[0.6666666666666666,\"#ed7953\"],[0.7777777777777778,\"#fb9f3a\"],[0.8888888888888888,\"#fdca26\"],[1.0,\"#f0f921\"]]},\"colorway\":[\"#636efa\",\"#EF553B\",\"#00cc96\",\"#ab63fa\",\"#FFA15A\",\"#19d3f3\",\"#FF6692\",\"#B6E880\",\"#FF97FF\",\"#FECB52\"],\"font\":{\"color\":\"#2a3f5f\"},\"geo\":{\"bgcolor\":\"white\",\"lakecolor\":\"white\",\"landcolor\":\"#E5ECF6\",\"showlakes\":true,\"showland\":true,\"subunitcolor\":\"white\"},\"hoverlabel\":{\"align\":\"left\"},\"hovermode\":\"closest\",\"mapbox\":{\"style\":\"light\"},\"paper_bgcolor\":\"white\",\"plot_bgcolor\":\"#E5ECF6\",\"polar\":{\"angularaxis\":{\"gridcolor\":\"white\",\"linecolor\":\"white\",\"ticks\":\"\"},\"bgcolor\":\"#E5ECF6\",\"radialaxis\":{\"gridcolor\":\"white\",\"linecolor\":\"white\",\"ticks\":\"\"}},\"scene\":{\"xaxis\":{\"backgroundcolor\":\"#E5ECF6\",\"gridcolor\":\"white\",\"gridwidth\":2,\"linecolor\":\"white\",\"showbackground\":true,\"ticks\":\"\",\"zerolinecolor\":\"white\"},\"yaxis\":{\"backgroundcolor\":\"#E5ECF6\",\"gridcolor\":\"white\",\"gridwidth\":2,\"linecolor\":\"white\",\"showbackground\":true,\"ticks\":\"\",\"zerolinecolor\":\"white\"},\"zaxis\":{\"backgroundcolor\":\"#E5ECF6\",\"gridcolor\":\"white\",\"gridwidth\":2,\"linecolor\":\"white\",\"showbackground\":true,\"ticks\":\"\",\"zerolinecolor\":\"white\"}},\"shapedefaults\":{\"line\":{\"color\":\"#2a3f5f\"}},\"ternary\":{\"aaxis\":{\"gridcolor\":\"white\",\"linecolor\":\"white\",\"ticks\":\"\"},\"baxis\":{\"gridcolor\":\"white\",\"linecolor\":\"white\",\"ticks\":\"\"},\"bgcolor\":\"#E5ECF6\",\"caxis\":{\"gridcolor\":\"white\",\"linecolor\":\"white\",\"ticks\":\"\"}},\"title\":{\"x\":0.05},\"xaxis\":{\"automargin\":true,\"gridcolor\":\"white\",\"linecolor\":\"white\",\"ticks\":\"\",\"title\":{\"standoff\":15},\"zerolinecolor\":\"white\",\"zerolinewidth\":2},\"yaxis\":{\"automargin\":true,\"gridcolor\":\"white\",\"linecolor\":\"white\",\"ticks\":\"\",\"title\":{\"standoff\":15},\"zerolinecolor\":\"white\",\"zerolinewidth\":2}}},\"annotations\":[{\"font\":{\"size\":16},\"showarrow\":false,\"text\":\"Europe\",\"x\":0.14444444444444446,\"xanchor\":\"center\",\"xref\":\"paper\",\"y\":1.0,\"yanchor\":\"bottom\",\"yref\":\"paper\"},{\"font\":{\"size\":16},\"showarrow\":false,\"text\":\"Japan\",\"x\":0.5,\"xanchor\":\"center\",\"xref\":\"paper\",\"y\":1.0,\"yanchor\":\"bottom\",\"yref\":\"paper\"},{\"font\":{\"size\":16},\"showarrow\":false,\"text\":\"North America\",\"x\":0.8555555555555556,\"xanchor\":\"center\",\"xref\":\"paper\",\"y\":1.0,\"yanchor\":\"bottom\",\"yref\":\"paper\"}],\"showlegend\":false},                        {\"responsive\": true}                    ).then(function(){\n",
              "                            \n",
              "var gd = document.getElementById('6a36ddf5-d1ee-4903-9b13-29b9ee6d8bd1');\n",
              "var x = new MutationObserver(function (mutations, observer) {{\n",
              "        var display = window.getComputedStyle(gd).display;\n",
              "        if (!display || display === 'none') {{\n",
              "            console.log([gd, 'removed!']);\n",
              "            Plotly.purge(gd);\n",
              "            observer.disconnect();\n",
              "        }}\n",
              "}});\n",
              "\n",
              "// Listen for the removal of the full notebook cells\n",
              "var notebookContainer = gd.closest('#notebook-container');\n",
              "if (notebookContainer) {{\n",
              "    x.observe(notebookContainer, {childList: true});\n",
              "}}\n",
              "\n",
              "// Listen for the clearing of the current output cell\n",
              "var outputEl = gd.closest('.output');\n",
              "if (outputEl) {{\n",
              "    x.observe(outputEl, {childList: true});\n",
              "}}\n",
              "\n",
              "                        })                };                            </script>        </div>\n",
              "</body>\n",
              "</html>"
            ]
          },
          "metadata": {},
          "output_type": "display_data"
        }
      ],
      "source": [
        "top_5(games_new, \"platform\")"
      ]
    },
    {
      "attachments": {},
      "cell_type": "markdown",
      "metadata": {
        "id": "YGzzNru3Lm6t"
      },
      "source": [
        "В Северной Америкие и Европе примерно одинаковое распределение рынка между платформами. Ведущие платформы занимают по 22,4% и 24,2% соответственно. В то время как в Японии почти половину рынка занимает платформа 3DS. На втором месте WiiU - 20,9%, которая представлена во всех регионах, как и PS4"
      ]
    },
    {
      "attachments": {},
      "cell_type": "markdown",
      "metadata": {
        "id": "ZE8gl7dTI7lv"
      },
      "source": [
        "### Влияние рейтинга на продажи"
      ]
    },
    {
      "cell_type": "code",
      "execution_count": null,
      "metadata": {
        "colab": {
          "base_uri": "https://localhost:8080/",
          "height": 581
        },
        "id": "AOjt1LyJKW-R",
        "outputId": "6f5fde32-fd47-4d62-8d87-7aa54037ad25",
        "trusted": true
      },
      "outputs": [
        {
          "data": {
            "image/png": "[encoded data removed]",
            "text/plain": [
              "<Figure size 576x576 with 3 Axes>"
            ]
          },
          "metadata": {},
          "output_type": "display_data"
        }
      ],
      "source": [
        "sns.jointplot(data=games_new, x=\"all_sales\", \n",
        "              y=\"rating\", height=8)\n",
        "plt.ylabel(\"\")\n",
        "plt.xlabel(\"Dependence of sales on the rating\")\n",
        "sns.despine(left=True, bottom=True)\n",
        "plt.show()"
      ]
    },
    {
      "attachments": {},
      "cell_type": "markdown",
      "metadata": {
        "id": "L5ACrvbJL81p"
      },
      "source": [
        "«E» («Everyone») — «Для всех»\n",
        "\n",
        "«T» («Teen») — «Подросткам»\n",
        "\n",
        "«M» («Mature») — «Для взрослых»\n",
        "\n",
        "«E10+» («Everyone 10 and older») — «Для всех от 10 лет и старше»\n",
        "\n",
        "«EC»(«K-A» - в ранних версиях с 1994-1997 годы) («Early childhood») — «Для детей младшего возраста»\n"
      ]
    },
    {
      "attachments": {},
      "cell_type": "markdown",
      "metadata": {
        "id": "vbYYhHewLXRt"
      },
      "source": [
        "\n",
        "\n",
        "Игры с грубым юмором и сценами насилия для лиц стареш 17(рейтинг M) - наиболее распространенные и продающиеся игрыт. Продажи некоторых из них достигли отметки более 6 млн. Рейтинг Е имеет менее количество игр на своем счету и чуть меньшими продажами.\n",
        "\n",
        "Игры для подростков с рейтингом T, так же часто, как игры с рейтингом M,но продажи этих игр не достигают и 6 млн. Игры с рейтингом E10+ представляют собой самую непопулярную категорию.\n",
        "\n",
        "Основные значения продаж принадлежат неопределенному рейтингу, будет полезно рассмотреть данный рейтинг в разрезе регионов"
      ]
    },
    {
      "cell_type": "code",
      "execution_count": null,
      "metadata": {
        "colab": {
          "base_uri": "https://localhost:8080/",
          "height": 542
        },
        "id": "0kuY1oZxN1SW",
        "outputId": "2683a4b8-871a-49a1-92ee-ad4f707a9224"
      },
      "outputs": [
        {
          "data": {
            "text/html": [
              "<html>\n",
              "<head><meta charset=\"utf-8\" /></head>\n",
              "<body>\n",
              "    <div>            <script src=\"https://cdnjs.cloudflare.com/ajax/libs/mathjax/2.7.5/MathJax.js?config=TeX-AMS-MML_SVG\"></script><script type=\"text/javascript\">if (window.MathJax) {MathJax.Hub.Config({SVG: {font: \"STIX-Web\"}});}</script>                <script type=\"text/javascript\">window.PlotlyConfig = {MathJaxConfig: 'local'};</script>\n",
              "        <script src=\"https://cdn.plot.ly/plotly-2.8.3.min.js\"></script>                <div id=\"ceb7d343-12ff-45e3-9aa3-63c0fe0b7a8b\" class=\"plotly-graph-div\" style=\"height:525px; width:100%;\"></div>            <script type=\"text/javascript\">                                    window.PLOTLYENV=window.PLOTLYENV || {};                                    if (document.getElementById(\"ceb7d343-12ff-45e3-9aa3-63c0fe0b7a8b\")) {                    Plotly.newPlot(                        \"ceb7d343-12ff-45e3-9aa3-63c0fe0b7a8b\",                        [{\"insidetextorientation\":\"radial\",\"labels\":[\"M\",\"unknown\",\"E\",\"T\",\"E10+\"],\"pull\":[0,0,0,0,0,0.1],\"textinfo\":\"label+percent\",\"values\":[93.44,58.95,58.06,34.07,26.16],\"type\":\"pie\",\"domain\":{\"x\":[0.0,0.2888888888888889],\"y\":[0.0,1.0]}},{\"insidetextorientation\":\"radial\",\"labels\":[\"unknown\",\"T\",\"E\",\"M\",\"E10+\"],\"pull\":[0,0,0,0,0,0.1],\"textinfo\":\"label+percent\",\"values\":[56.9,14.78,8.94,8.01,4.46],\"type\":\"pie\",\"domain\":{\"x\":[0.35555555555555557,0.6444444444444445],\"y\":[0.0,1.0]}},{\"insidetextorientation\":\"radial\",\"labels\":[\"M\",\"unknown\",\"E\",\"T\",\"E10+\"],\"pull\":[0,0,0,0,0,0.1],\"textinfo\":\"label+percent\",\"values\":[96.42,64.72,50.74,38.95,33.23],\"type\":\"pie\",\"domain\":{\"x\":[0.7111111111111111,1.0],\"y\":[0.0,1.0]}}],                        {\"template\":{\"data\":{\"bar\":[{\"error_x\":{\"color\":\"#2a3f5f\"},\"error_y\":{\"color\":\"#2a3f5f\"},\"marker\":{\"line\":{\"color\":\"#E5ECF6\",\"width\":0.5},\"pattern\":{\"fillmode\":\"overlay\",\"size\":10,\"solidity\":0.2}},\"type\":\"bar\"}],\"barpolar\":[{\"marker\":{\"line\":{\"color\":\"#E5ECF6\",\"width\":0.5},\"pattern\":{\"fillmode\":\"overlay\",\"size\":10,\"solidity\":0.2}},\"type\":\"barpolar\"}],\"carpet\":[{\"aaxis\":{\"endlinecolor\":\"#2a3f5f\",\"gridcolor\":\"white\",\"linecolor\":\"white\",\"minorgridcolor\":\"white\",\"startlinecolor\":\"#2a3f5f\"},\"baxis\":{\"endlinecolor\":\"#2a3f5f\",\"gridcolor\":\"white\",\"linecolor\":\"white\",\"minorgridcolor\":\"white\",\"startlinecolor\":\"#2a3f5f\"},\"type\":\"carpet\"}],\"choropleth\":[{\"colorbar\":{\"outlinewidth\":0,\"ticks\":\"\"},\"type\":\"choropleth\"}],\"contour\":[{\"colorbar\":{\"outlinewidth\":0,\"ticks\":\"\"},\"colorscale\":[[0.0,\"#0d0887\"],[0.1111111111111111,\"#46039f\"],[0.2222222222222222,\"#7201a8\"],[0.3333333333333333,\"#9c179e\"],[0.4444444444444444,\"#bd3786\"],[0.5555555555555556,\"#d8576b\"],[0.6666666666666666,\"#ed7953\"],[0.7777777777777778,\"#fb9f3a\"],[0.8888888888888888,\"#fdca26\"],[1.0,\"#f0f921\"]],\"type\":\"contour\"}],\"contourcarpet\":[{\"colorbar\":{\"outlinewidth\":0,\"ticks\":\"\"},\"type\":\"contourcarpet\"}],\"heatmap\":[{\"colorbar\":{\"outlinewidth\":0,\"ticks\":\"\"},\"colorscale\":[[0.0,\"#0d0887\"],[0.1111111111111111,\"#46039f\"],[0.2222222222222222,\"#7201a8\"],[0.3333333333333333,\"#9c179e\"],[0.4444444444444444,\"#bd3786\"],[0.5555555555555556,\"#d8576b\"],[0.6666666666666666,\"#ed7953\"],[0.7777777777777778,\"#fb9f3a\"],[0.8888888888888888,\"#fdca26\"],[1.0,\"#f0f921\"]],\"type\":\"heatmap\"}],\"heatmapgl\":[{\"colorbar\":{\"outlinewidth\":0,\"ticks\":\"\"},\"colorscale\":[[0.0,\"#0d0887\"],[0.1111111111111111,\"#46039f\"],[0.2222222222222222,\"#7201a8\"],[0.3333333333333333,\"#9c179e\"],[0.4444444444444444,\"#bd3786\"],[0.5555555555555556,\"#d8576b\"],[0.6666666666666666,\"#ed7953\"],[0.7777777777777778,\"#fb9f3a\"],[0.8888888888888888,\"#fdca26\"],[1.0,\"#f0f921\"]],\"type\":\"heatmapgl\"}],\"histogram\":[{\"marker\":{\"pattern\":{\"fillmode\":\"overlay\",\"size\":10,\"solidity\":0.2}},\"type\":\"histogram\"}],\"histogram2d\":[{\"colorbar\":{\"outlinewidth\":0,\"ticks\":\"\"},\"colorscale\":[[0.0,\"#0d0887\"],[0.1111111111111111,\"#46039f\"],[0.2222222222222222,\"#7201a8\"],[0.3333333333333333,\"#9c179e\"],[0.4444444444444444,\"#bd3786\"],[0.5555555555555556,\"#d8576b\"],[0.6666666666666666,\"#ed7953\"],[0.7777777777777778,\"#fb9f3a\"],[0.8888888888888888,\"#fdca26\"],[1.0,\"#f0f921\"]],\"type\":\"histogram2d\"}],\"histogram2dcontour\":[{\"colorbar\":{\"outlinewidth\":0,\"ticks\":\"\"},\"colorscale\":[[0.0,\"#0d0887\"],[0.1111111111111111,\"#46039f\"],[0.2222222222222222,\"#7201a8\"],[0.3333333333333333,\"#9c179e\"],[0.4444444444444444,\"#bd3786\"],[0.5555555555555556,\"#d8576b\"],[0.6666666666666666,\"#ed7953\"],[0.7777777777777778,\"#fb9f3a\"],[0.8888888888888888,\"#fdca26\"],[1.0,\"#f0f921\"]],\"type\":\"histogram2dcontour\"}],\"mesh3d\":[{\"colorbar\":{\"outlinewidth\":0,\"ticks\":\"\"},\"type\":\"mesh3d\"}],\"parcoords\":[{\"line\":{\"colorbar\":{\"outlinewidth\":0,\"ticks\":\"\"}},\"type\":\"parcoords\"}],\"pie\":[{\"automargin\":true,\"type\":\"pie\"}],\"scatter\":[{\"marker\":{\"colorbar\":{\"outlinewidth\":0,\"ticks\":\"\"}},\"type\":\"scatter\"}],\"scatter3d\":[{\"line\":{\"colorbar\":{\"outlinewidth\":0,\"ticks\":\"\"}},\"marker\":{\"colorbar\":{\"outlinewidth\":0,\"ticks\":\"\"}},\"type\":\"scatter3d\"}],\"scattercarpet\":[{\"marker\":{\"colorbar\":{\"outlinewidth\":0,\"ticks\":\"\"}},\"type\":\"scattercarpet\"}],\"scattergeo\":[{\"marker\":{\"colorbar\":{\"outlinewidth\":0,\"ticks\":\"\"}},\"type\":\"scattergeo\"}],\"scattergl\":[{\"marker\":{\"colorbar\":{\"outlinewidth\":0,\"ticks\":\"\"}},\"type\":\"scattergl\"}],\"scattermapbox\":[{\"marker\":{\"colorbar\":{\"outlinewidth\":0,\"ticks\":\"\"}},\"type\":\"scattermapbox\"}],\"scatterpolar\":[{\"marker\":{\"colorbar\":{\"outlinewidth\":0,\"ticks\":\"\"}},\"type\":\"scatterpolar\"}],\"scatterpolargl\":[{\"marker\":{\"colorbar\":{\"outlinewidth\":0,\"ticks\":\"\"}},\"type\":\"scatterpolargl\"}],\"scatterternary\":[{\"marker\":{\"colorbar\":{\"outlinewidth\":0,\"ticks\":\"\"}},\"type\":\"scatterternary\"}],\"surface\":[{\"colorbar\":{\"outlinewidth\":0,\"ticks\":\"\"},\"colorscale\":[[0.0,\"#0d0887\"],[0.1111111111111111,\"#46039f\"],[0.2222222222222222,\"#7201a8\"],[0.3333333333333333,\"#9c179e\"],[0.4444444444444444,\"#bd3786\"],[0.5555555555555556,\"#d8576b\"],[0.6666666666666666,\"#ed7953\"],[0.7777777777777778,\"#fb9f3a\"],[0.8888888888888888,\"#fdca26\"],[1.0,\"#f0f921\"]],\"type\":\"surface\"}],\"table\":[{\"cells\":{\"fill\":{\"color\":\"#EBF0F8\"},\"line\":{\"color\":\"white\"}},\"header\":{\"fill\":{\"color\":\"#C8D4E3\"},\"line\":{\"color\":\"white\"}},\"type\":\"table\"}]},\"layout\":{\"annotationdefaults\":{\"arrowcolor\":\"#2a3f5f\",\"arrowhead\":0,\"arrowwidth\":1},\"autotypenumbers\":\"strict\",\"coloraxis\":{\"colorbar\":{\"outlinewidth\":0,\"ticks\":\"\"}},\"colorscale\":{\"diverging\":[[0,\"#8e0152\"],[0.1,\"#c51b7d\"],[0.2,\"#de77ae\"],[0.3,\"#f1b6da\"],[0.4,\"#fde0ef\"],[0.5,\"#f7f7f7\"],[0.6,\"#e6f5d0\"],[0.7,\"#b8e186\"],[0.8,\"#7fbc41\"],[0.9,\"#4d9221\"],[1,\"#276419\"]],\"sequential\":[[0.0,\"#0d0887\"],[0.1111111111111111,\"#46039f\"],[0.2222222222222222,\"#7201a8\"],[0.3333333333333333,\"#9c179e\"],[0.4444444444444444,\"#bd3786\"],[0.5555555555555556,\"#d8576b\"],[0.6666666666666666,\"#ed7953\"],[0.7777777777777778,\"#fb9f3a\"],[0.8888888888888888,\"#fdca26\"],[1.0,\"#f0f921\"]],\"sequentialminus\":[[0.0,\"#0d0887\"],[0.1111111111111111,\"#46039f\"],[0.2222222222222222,\"#7201a8\"],[0.3333333333333333,\"#9c179e\"],[0.4444444444444444,\"#bd3786\"],[0.5555555555555556,\"#d8576b\"],[0.6666666666666666,\"#ed7953\"],[0.7777777777777778,\"#fb9f3a\"],[0.8888888888888888,\"#fdca26\"],[1.0,\"#f0f921\"]]},\"colorway\":[\"#636efa\",\"#EF553B\",\"#00cc96\",\"#ab63fa\",\"#FFA15A\",\"#19d3f3\",\"#FF6692\",\"#B6E880\",\"#FF97FF\",\"#FECB52\"],\"font\":{\"color\":\"#2a3f5f\"},\"geo\":{\"bgcolor\":\"white\",\"lakecolor\":\"white\",\"landcolor\":\"#E5ECF6\",\"showlakes\":true,\"showland\":true,\"subunitcolor\":\"white\"},\"hoverlabel\":{\"align\":\"left\"},\"hovermode\":\"closest\",\"mapbox\":{\"style\":\"light\"},\"paper_bgcolor\":\"white\",\"plot_bgcolor\":\"#E5ECF6\",\"polar\":{\"angularaxis\":{\"gridcolor\":\"white\",\"linecolor\":\"white\",\"ticks\":\"\"},\"bgcolor\":\"#E5ECF6\",\"radialaxis\":{\"gridcolor\":\"white\",\"linecolor\":\"white\",\"ticks\":\"\"}},\"scene\":{\"xaxis\":{\"backgroundcolor\":\"#E5ECF6\",\"gridcolor\":\"white\",\"gridwidth\":2,\"linecolor\":\"white\",\"showbackground\":true,\"ticks\":\"\",\"zerolinecolor\":\"white\"},\"yaxis\":{\"backgroundcolor\":\"#E5ECF6\",\"gridcolor\":\"white\",\"gridwidth\":2,\"linecolor\":\"white\",\"showbackground\":true,\"ticks\":\"\",\"zerolinecolor\":\"white\"},\"zaxis\":{\"backgroundcolor\":\"#E5ECF6\",\"gridcolor\":\"white\",\"gridwidth\":2,\"linecolor\":\"white\",\"showbackground\":true,\"ticks\":\"\",\"zerolinecolor\":\"white\"}},\"shapedefaults\":{\"line\":{\"color\":\"#2a3f5f\"}},\"ternary\":{\"aaxis\":{\"gridcolor\":\"white\",\"linecolor\":\"white\",\"ticks\":\"\"},\"baxis\":{\"gridcolor\":\"white\",\"linecolor\":\"white\",\"ticks\":\"\"},\"bgcolor\":\"#E5ECF6\",\"caxis\":{\"gridcolor\":\"white\",\"linecolor\":\"white\",\"ticks\":\"\"}},\"title\":{\"x\":0.05},\"xaxis\":{\"automargin\":true,\"gridcolor\":\"white\",\"linecolor\":\"white\",\"ticks\":\"\",\"title\":{\"standoff\":15},\"zerolinecolor\":\"white\",\"zerolinewidth\":2},\"yaxis\":{\"automargin\":true,\"gridcolor\":\"white\",\"linecolor\":\"white\",\"ticks\":\"\",\"title\":{\"standoff\":15},\"zerolinecolor\":\"white\",\"zerolinewidth\":2}}},\"annotations\":[{\"font\":{\"size\":16},\"showarrow\":false,\"text\":\"Europe\",\"x\":0.14444444444444446,\"xanchor\":\"center\",\"xref\":\"paper\",\"y\":1.0,\"yanchor\":\"bottom\",\"yref\":\"paper\"},{\"font\":{\"size\":16},\"showarrow\":false,\"text\":\"Japan\",\"x\":0.5,\"xanchor\":\"center\",\"xref\":\"paper\",\"y\":1.0,\"yanchor\":\"bottom\",\"yref\":\"paper\"},{\"font\":{\"size\":16},\"showarrow\":false,\"text\":\"North America\",\"x\":0.8555555555555556,\"xanchor\":\"center\",\"xref\":\"paper\",\"y\":1.0,\"yanchor\":\"bottom\",\"yref\":\"paper\"}],\"showlegend\":false},                        {\"responsive\": true}                    ).then(function(){\n",
              "                            \n",
              "var gd = document.getElementById('ceb7d343-12ff-45e3-9aa3-63c0fe0b7a8b');\n",
              "var x = new MutationObserver(function (mutations, observer) {{\n",
              "        var display = window.getComputedStyle(gd).display;\n",
              "        if (!display || display === 'none') {{\n",
              "            console.log([gd, 'removed!']);\n",
              "            Plotly.purge(gd);\n",
              "            observer.disconnect();\n",
              "        }}\n",
              "}});\n",
              "\n",
              "// Listen for the removal of the full notebook cells\n",
              "var notebookContainer = gd.closest('#notebook-container');\n",
              "if (notebookContainer) {{\n",
              "    x.observe(notebookContainer, {childList: true});\n",
              "}}\n",
              "\n",
              "// Listen for the clearing of the current output cell\n",
              "var outputEl = gd.closest('.output');\n",
              "if (outputEl) {{\n",
              "    x.observe(outputEl, {childList: true});\n",
              "}}\n",
              "\n",
              "                        })                };                            </script>        </div>\n",
              "</body>\n",
              "</html>"
            ]
          },
          "metadata": {},
          "output_type": "display_data"
        }
      ],
      "source": [
        "top_5(games_new, \"rating\")"
      ]
    },
    {
      "attachments": {},
      "cell_type": "markdown",
      "metadata": {
        "id": "J9RoxVvCQRlD"
      },
      "source": [
        "Во всех трех регионах одни и те же лидирующие рейтинги. Распределение жанров для Европы и Северной Америки совпадает с общим распрделением. Тем не менее, неопределенный жанры занимает треть рынка игр Японии, что еще раз говорит о том, что организация, определяющая рейтинг не работает с этим рынком."
      ]
    },
    {
      "attachments": {},
      "cell_type": "markdown",
      "metadata": {
        "id": "vfhR-yqcXk7n"
      },
      "source": [
        "### Вывод"
      ]
    },
    {
      "attachments": {},
      "cell_type": "markdown",
      "metadata": {
        "id": "288CSmBAT4c0"
      },
      "source": [
        "Чтобы занять рынок Японии, необходима игра, выпущенная на платформе 3DS в жанре Role-Playing, рейтинг игры потребуется определить дополнительно. Чтобы заинтересовать жителей всех регионов стоит сосредоточиться на жанре Platform на платформе WiiU или PS4, рейтинг M/E (для рынков Европы и Северной Америки). Если ориентироваться исключительно на рынок Северной Америки и Европы, то необходимо выбирать жанр Shooter на платформе X360"
      ]
    },
    {
      "attachments": {},
      "cell_type": "markdown",
      "metadata": {
        "id": "V81tYR5M7Ejf"
      },
      "source": [
        "## 6 Проверка гипотез"
      ]
    },
    {
      "attachments": {},
      "cell_type": "markdown",
      "metadata": {
        "id": "RSGnLkmRZsHq"
      },
      "source": [
        "  * средние пользовательские рейтинги платформ Xbox One и PC одинаковые;\n",
        "  * средние пользовательские рейтинги жанров Action и Sports разные."
      ]
    },
    {
      "attachments": {},
      "cell_type": "markdown",
      "metadata": {
        "id": "gNkNm8YKkCop"
      },
      "source": [
        "Для проверки гипотез используем t-тест для двух независимых выборок. Тест выполняется для гипотезы, сформулированной как равенсто. Необходимы условия для выполнения теста: генеральные совокупности не должны зависеть друг от друга, выборочные средние должны быть нормально распределены и дисперсии генеральных совокупностей должны быть равны. Так как в тесте мы будем использовать генеральные совокупности, то единственное условие, которое нужно учесть - равенство дисперсий. Генеральный совокупности независимы."
      ]
    },
    {
      "attachments": {},
      "cell_type": "markdown",
      "metadata": {
        "id": "Z0RU0dnRbkXp"
      },
      "source": [
        "Нулевая гипотеза (Н0): средние пользовательские рейтинги платформ Xbox One и PC **равны**\n",
        "\n",
        "Альтернативная гипотеза (Н1): средние пользовательские рейтинги платформ Xbox One и PC **не равны**"
      ]
    },
    {
      "cell_type": "code",
      "execution_count": null,
      "metadata": {
        "colab": {
          "base_uri": "https://localhost:8080/"
        },
        "id": "Vj9wlUGGcNnJ",
        "outputId": "7c19cb19-96de-4b68-8632-c4483a1b3960",
        "trusted": true
      },
      "outputs": [
        {
          "data": {
            "text/plain": [
              "Ttest_indResult(statistic=1.5144565399252443, pvalue=0.13130164268728325)"
            ]
          },
          "execution_count": 370,
          "metadata": {},
          "output_type": "execute_result"
        }
      ],
      "source": [
        "h_xb = games_new.loc[games_new.platform == \"XOne\", \"user_score\"]\n",
        "h_pc = games_new.loc[games_new.platform == \"PC\", \"user_score\"]\n",
        "cond = np.var(h_xb) == np.var(h_pc)\n",
        "st.ttest_ind(h_xb,\n",
        "             h_pc, \n",
        "             equal_var=(np.var(h_xb)) == np.var(h_pc),\n",
        "             nan_policy=\"omit\"      \n",
        ")\n"
      ]
    },
    {
      "attachments": {},
      "cell_type": "markdown",
      "metadata": {
        "id": "jBAEkNDhuuqe"
      },
      "source": [
        "При значение уровня статистической значимости 0.05, альтернативную гипотезу отвергнуть не удалось, потому что значение p-value равное 0,13 превышает уровень статистической значимости.\n",
        "\n",
        "Вероятность случайно получить такое или большее различие равна почти 13%, хотя средние рейтинги для разных платформ не равны. Это говорит о том, что делать вывод о значимом различии между средними рейтингами мы не можем."
      ]
    },
    {
      "attachments": {},
      "cell_type": "markdown",
      "metadata": {
        "id": "_RwNBU67b55-"
      },
      "source": [
        "Нулевая гипотеза (Н0): средние пользовательские рейтинги жанров Action и Sports **равны**\n",
        "\n",
        "Альтернативная гипотеза (Н1): средние пользовательские рейтинги жанров Action и Sports **не равны**"
      ]
    },
    {
      "cell_type": "code",
      "execution_count": null,
      "metadata": {
        "colab": {
          "base_uri": "https://localhost:8080/"
        },
        "id": "hGh1OM7nv54Z",
        "outputId": "89b9a0a1-1838-4684-f5a4-05f0bffa34ff",
        "trusted": true
      },
      "outputs": [
        {
          "data": {
            "text/plain": [
              "Ttest_indResult(statistic=1.8464328066970508, pvalue=0.06494515781660437)"
            ]
          },
          "execution_count": 140,
          "metadata": {},
          "output_type": "execute_result"
        }
      ],
      "source": [
        "h_xb = games_new.loc[games_new.genre == \"Action\", \"user_score\"]\n",
        "h_pc = games_new.loc[games_new.genre == \"Sports\", \"user_score\"]\n",
        "cond = np.var(h_xb) == np.var(h_pc)\n",
        "st.ttest_ind(h_xb,\n",
        "             h_pc, \n",
        "             equal_var=(np.var(h_xb)) == np.var(h_pc),\n",
        "             nan_policy=\"omit\"      \n",
        ")"
      ]
    },
    {
      "attachments": {},
      "cell_type": "markdown",
      "metadata": {
        "id": "INAE7doMvogV"
      },
      "source": [
        "При значение уровня статистической значимости 0.05, альтернативную гипотезу отвергнуть не удалось, потому что значение p-value равное 0,06 превышает уровень статистической значимости.\n",
        "\n",
        "Вероятность случайно получить такое или большее различие равна почти 6%, хотя средние рейтинги для разных жанров не равны. Это говорит о том, что делать вывод о значимом различии между средними рейтингами мы не можем."
      ]
    },
    {
      "attachments": {},
      "cell_type": "markdown",
      "metadata": {
        "id": "4YNCE8rwv-BX"
      },
      "source": [
        "### Вывод"
      ]
    },
    {
      "attachments": {},
      "cell_type": "markdown",
      "metadata": {
        "id": "a2pk2tEtv_ve"
      },
      "source": [
        "Проверка гиоптез показала, что значимого различия между средними оценками пользователей XOne и PC не обнаружен. То же самое можно сказать и об игроках, предпочитающих жанры Action и Sports."
      ]
    },
    {
      "attachments": {},
      "cell_type": "markdown",
      "metadata": {
        "id": "TWqnWDTz7EyN"
      },
      "source": [
        "## 7 Заключение"
      ]
    },
    {
      "attachments": {},
      "cell_type": "markdown",
      "metadata": {
        "id": "ZqknPdcCx51O"
      },
      "source": [
        "Для всего датасета была проделана работа по очистке и подготовке данных к исследовательскому анализу. Была проведена работа с дубликатами, пропущенными значениями, неверными форматами данных для каждого столбца. Большинство пропущенных значений пришлось оставить: заполнение привело бы к искажению, а удаление - к потере основной части данных. \n",
        "\n",
        "В ходе исследовательского анализа данных за 1980-2016 года выявился пиковый период для индустрии игр, который приходится на 2008-2009 года. Среди платформ, за весь период существования игровой индустрии, самые успешные по количеству проданных копий, были Wii, PS2 и DS. Для прогнозирования успешных платформ в 2017 был взят временной промежуток с 2014 года. Потенциально прибыльными платформами для выпуска игр оказались PS4 и 3DS. Лидеры рынка за 2014-2016 года платформы XOne и PS4. Если говорить об отзывах пользователей, то значительного влияния на уровень продаж они не окажут. Отзывы критиков могут послужить ориентиром для оценки контента игры, но не более того, потому как они оказывают довольно малое влияние на продажи. В то время как выбранный жанр окажет большое влияние на продажи, наравне с выбором платформы. Итак, для 2017 идельным сочетанием будет игра на платформе PS4 или 3DS в жанре Action, Shooter или Racing.\n",
        "\n",
        "На основе анализа по регионам лидирющий жанр для рынков Европы и Северной Америки - Shooter, наряду с платформой PS4. Для рынка Японии более характерен жанр RPG и, занимащая почти половину рынка, платформа 3DS. При формировании концепции игры для Европы и Америки стоит так же обратить внимание на рейтинг. Рынок игр с рейтингом M представлен большим количеством игр, что гарантированно дает продажи в рамках 4 млн. Игры с рейтингом Е дадут меньшие продажи, около 3.8 млн, но конкуренция здесь куда ниже.\n",
        "\n",
        "Рекламную компанию стоит проводить для платформ 3DS и PS4, ограничиваясь рамками жанров Action и RPG, что позволит охватить рынки всех регионов. Относительно рейтинга необходимо уточнение для рынка Японии. Для рынков Европы и Северной Америки ориентироваться на рейтинг М."
      ]
    }
  ],
  "metadata": {
    "ExecuteTimeLog": [
      {
        "duration": 1282,
        "start_time": "2023-02-19T23:10:42.349Z"
      },
      {
        "duration": 4,
        "start_time": "2023-02-19T23:10:43.633Z"
      },
      {
        "duration": 217,
        "start_time": "2023-02-19T23:10:43.638Z"
      },
      {
        "duration": 17,
        "start_time": "2023-02-19T23:10:43.857Z"
      },
      {
        "duration": 13,
        "start_time": "2023-02-19T23:10:43.875Z"
      },
      {
        "duration": 4,
        "start_time": "2023-02-19T23:10:43.890Z"
      },
      {
        "duration": 18,
        "start_time": "2023-02-19T23:10:43.896Z"
      },
      {
        "duration": 14,
        "start_time": "2023-02-19T23:10:43.916Z"
      },
      {
        "duration": 5,
        "start_time": "2023-02-19T23:10:43.931Z"
      },
      {
        "duration": 714,
        "start_time": "2023-02-19T23:10:43.947Z"
      },
      {
        "duration": 56,
        "start_time": "2023-02-19T23:10:44.663Z"
      },
      {
        "duration": 28,
        "start_time": "2023-02-19T23:10:44.721Z"
      },
      {
        "duration": 47,
        "start_time": "2023-02-19T23:10:44.750Z"
      },
      {
        "duration": 14,
        "start_time": "2023-02-19T23:10:44.798Z"
      },
      {
        "duration": 826,
        "start_time": "2023-02-19T23:10:44.813Z"
      },
      {
        "duration": 20,
        "start_time": "2023-02-19T23:10:45.641Z"
      },
      {
        "duration": 25,
        "start_time": "2023-02-19T23:10:45.663Z"
      },
      {
        "duration": 10,
        "start_time": "2023-02-19T23:10:45.689Z"
      },
      {
        "duration": 12,
        "start_time": "2023-02-19T23:10:45.701Z"
      },
      {
        "duration": 147,
        "start_time": "2023-02-19T23:10:45.714Z"
      },
      {
        "duration": 3,
        "start_time": "2023-02-19T23:10:45.862Z"
      },
      {
        "duration": 461,
        "start_time": "2023-02-19T23:10:45.866Z"
      },
      {
        "duration": 302,
        "start_time": "2023-02-19T23:10:46.329Z"
      },
      {
        "duration": 21,
        "start_time": "2023-02-19T23:10:46.634Z"
      },
      {
        "duration": 35,
        "start_time": "2023-02-19T23:10:46.656Z"
      },
      {
        "duration": 24,
        "start_time": "2023-02-19T23:10:46.692Z"
      },
      {
        "duration": 10,
        "start_time": "2023-02-19T23:10:46.718Z"
      },
      {
        "duration": 443,
        "start_time": "2023-02-19T23:10:46.732Z"
      },
      {
        "duration": 4,
        "start_time": "2023-02-19T23:10:47.177Z"
      },
      {
        "duration": 25,
        "start_time": "2023-02-19T23:10:47.182Z"
      },
      {
        "duration": 34,
        "start_time": "2023-02-19T23:10:47.209Z"
      },
      {
        "duration": 194,
        "start_time": "2023-02-19T23:10:47.245Z"
      },
      {
        "duration": 17,
        "start_time": "2023-02-19T23:10:47.440Z"
      },
      {
        "duration": 3666,
        "start_time": "2023-02-19T23:10:47.458Z"
      },
      {
        "duration": 39,
        "start_time": "2023-02-19T23:10:51.126Z"
      },
      {
        "duration": 19,
        "start_time": "2023-02-19T23:10:51.167Z"
      },
      {
        "duration": 52,
        "start_time": "2023-02-19T23:10:51.187Z"
      },
      {
        "duration": 5157,
        "start_time": "2023-02-19T23:10:51.240Z"
      },
      {
        "duration": 8,
        "start_time": "2023-02-19T23:10:56.398Z"
      },
      {
        "duration": 12,
        "start_time": "2023-02-19T23:10:56.407Z"
      },
      {
        "duration": 7,
        "start_time": "2023-02-19T23:10:56.421Z"
      },
      {
        "duration": 4995,
        "start_time": "2023-02-19T23:10:56.429Z"
      },
      {
        "duration": 646,
        "start_time": "2023-02-19T23:11:01.425Z"
      },
      {
        "duration": 7,
        "start_time": "2023-02-19T23:11:02.074Z"
      },
      {
        "duration": 11,
        "start_time": "2023-02-19T23:11:02.082Z"
      },
      {
        "duration": 7,
        "start_time": "2023-02-19T23:11:02.094Z"
      },
      {
        "duration": 6610,
        "start_time": "2023-02-19T23:11:02.102Z"
      },
      {
        "duration": 291,
        "start_time": "2023-02-19T23:11:08.713Z"
      },
      {
        "duration": 7,
        "start_time": "2023-02-19T23:11:09.005Z"
      },
      {
        "duration": 10,
        "start_time": "2023-02-19T23:11:09.013Z"
      },
      {
        "duration": 8,
        "start_time": "2023-02-19T23:11:09.024Z"
      },
      {
        "duration": 759,
        "start_time": "2023-02-19T23:11:09.033Z"
      },
      {
        "duration": 8,
        "start_time": "2023-02-19T23:11:09.794Z"
      },
      {
        "duration": 1825,
        "start_time": "2023-02-19T23:11:09.803Z"
      },
      {
        "duration": 565,
        "start_time": "2023-02-19T23:11:11.629Z"
      },
      {
        "duration": 8,
        "start_time": "2023-02-19T23:11:12.196Z"
      },
      {
        "duration": 29,
        "start_time": "2023-02-19T23:11:12.206Z"
      },
      {
        "duration": 20,
        "start_time": "2023-02-19T23:11:12.236Z"
      },
      {
        "duration": 351,
        "start_time": "2023-02-19T23:11:12.257Z"
      },
      {
        "duration": 5,
        "start_time": "2023-02-19T23:11:12.610Z"
      },
      {
        "duration": 5048,
        "start_time": "2023-02-19T23:11:12.616Z"
      },
      {
        "duration": 4,
        "start_time": "2023-02-19T23:11:17.666Z"
      },
      {
        "duration": 20,
        "start_time": "2023-02-19T23:11:17.671Z"
      },
      {
        "duration": 10,
        "start_time": "2023-02-19T23:11:17.692Z"
      },
      {
        "duration": 32,
        "start_time": "2023-02-19T23:11:17.704Z"
      },
      {
        "duration": 428,
        "start_time": "2023-02-19T23:11:17.738Z"
      },
      {
        "duration": 3587,
        "start_time": "2023-02-19T23:11:18.168Z"
      },
      {
        "duration": 714,
        "start_time": "2023-02-19T23:11:21.757Z"
      },
      {
        "duration": 627,
        "start_time": "2023-02-19T23:11:22.472Z"
      },
      {
        "duration": 6,
        "start_time": "2023-02-19T23:11:23.100Z"
      },
      {
        "duration": 1609,
        "start_time": "2023-02-19T23:11:23.107Z"
      },
      {
        "duration": 233,
        "start_time": "2023-02-19T23:11:24.717Z"
      },
      {
        "duration": 274,
        "start_time": "2023-02-19T23:11:24.951Z"
      },
      {
        "duration": 300,
        "start_time": "2023-02-19T23:11:25.227Z"
      },
      {
        "duration": 941,
        "start_time": "2023-02-19T23:11:25.529Z"
      },
      {
        "duration": 5,
        "start_time": "2023-02-19T23:11:26.472Z"
      },
      {
        "duration": 186,
        "start_time": "2023-02-19T23:11:26.478Z"
      },
      {
        "duration": 27,
        "start_time": "2023-02-19T23:11:26.665Z"
      },
      {
        "duration": 2674,
        "start_time": "2023-02-19T23:11:26.693Z"
      },
      {
        "duration": 10,
        "start_time": "2023-02-19T23:11:29.369Z"
      },
      {
        "duration": 43,
        "start_time": "2023-02-19T23:11:29.380Z"
      },
      {
        "duration": 1133,
        "start_time": "2023-02-20T14:55:45.284Z"
      },
      {
        "duration": 4,
        "start_time": "2023-02-20T14:55:46.419Z"
      },
      {
        "duration": 73,
        "start_time": "2023-02-20T14:55:46.426Z"
      },
      {
        "duration": 23,
        "start_time": "2023-02-20T14:55:46.501Z"
      },
      {
        "duration": 24,
        "start_time": "2023-02-20T14:55:46.525Z"
      },
      {
        "duration": 5,
        "start_time": "2023-02-20T14:55:46.552Z"
      },
      {
        "duration": 37,
        "start_time": "2023-02-20T14:55:46.559Z"
      },
      {
        "duration": 13,
        "start_time": "2023-02-20T14:55:46.598Z"
      },
      {
        "duration": 6,
        "start_time": "2023-02-20T14:55:46.613Z"
      },
      {
        "duration": 914,
        "start_time": "2023-02-20T14:55:46.622Z"
      },
      {
        "duration": 84,
        "start_time": "2023-02-20T14:55:47.539Z"
      },
      {
        "duration": 12,
        "start_time": "2023-02-20T14:55:47.625Z"
      },
      {
        "duration": 62,
        "start_time": "2023-02-20T14:55:47.639Z"
      },
      {
        "duration": 16,
        "start_time": "2023-02-20T14:55:47.703Z"
      },
      {
        "duration": 616,
        "start_time": "2023-02-20T14:55:47.720Z"
      },
      {
        "duration": 14,
        "start_time": "2023-02-20T14:55:48.338Z"
      },
      {
        "duration": 14,
        "start_time": "2023-02-20T14:55:48.353Z"
      },
      {
        "duration": 23,
        "start_time": "2023-02-20T14:55:48.369Z"
      },
      {
        "duration": 9,
        "start_time": "2023-02-20T14:55:48.393Z"
      },
      {
        "duration": 165,
        "start_time": "2023-02-20T14:55:48.404Z"
      },
      {
        "duration": 3,
        "start_time": "2023-02-20T14:55:48.570Z"
      },
      {
        "duration": 412,
        "start_time": "2023-02-20T14:55:48.574Z"
      },
      {
        "duration": 302,
        "start_time": "2023-02-20T14:55:48.991Z"
      },
      {
        "duration": 22,
        "start_time": "2023-02-20T14:55:49.295Z"
      },
      {
        "duration": 22,
        "start_time": "2023-02-20T14:55:49.319Z"
      },
      {
        "duration": 37,
        "start_time": "2023-02-20T14:55:49.343Z"
      },
      {
        "duration": 18,
        "start_time": "2023-02-20T14:55:49.382Z"
      },
      {
        "duration": 483,
        "start_time": "2023-02-20T14:55:49.404Z"
      },
      {
        "duration": 7,
        "start_time": "2023-02-20T14:55:49.888Z"
      },
      {
        "duration": 27,
        "start_time": "2023-02-20T14:55:49.897Z"
      },
      {
        "duration": 11,
        "start_time": "2023-02-20T14:55:49.925Z"
      },
      {
        "duration": 212,
        "start_time": "2023-02-20T14:55:49.938Z"
      },
      {
        "duration": 10,
        "start_time": "2023-02-20T14:55:50.152Z"
      },
      {
        "duration": 4021,
        "start_time": "2023-02-20T14:55:50.164Z"
      },
      {
        "duration": 40,
        "start_time": "2023-02-20T14:55:54.187Z"
      },
      {
        "duration": 13,
        "start_time": "2023-02-20T14:55:54.229Z"
      },
      {
        "duration": 6,
        "start_time": "2023-02-20T14:55:54.243Z"
      },
      {
        "duration": 5589,
        "start_time": "2023-02-20T14:55:54.250Z"
      },
      {
        "duration": 8,
        "start_time": "2023-02-20T14:55:59.841Z"
      },
      {
        "duration": 25,
        "start_time": "2023-02-20T14:55:59.851Z"
      },
      {
        "duration": 14,
        "start_time": "2023-02-20T14:55:59.878Z"
      },
      {
        "duration": 5284,
        "start_time": "2023-02-20T14:55:59.894Z"
      },
      {
        "duration": 654,
        "start_time": "2023-02-20T14:56:05.179Z"
      },
      {
        "duration": 7,
        "start_time": "2023-02-20T14:56:05.835Z"
      },
      {
        "duration": 17,
        "start_time": "2023-02-20T14:56:05.844Z"
      },
      {
        "duration": 12,
        "start_time": "2023-02-20T14:56:05.863Z"
      },
      {
        "duration": 6938,
        "start_time": "2023-02-20T14:56:05.877Z"
      },
      {
        "duration": 301,
        "start_time": "2023-02-20T14:56:12.817Z"
      },
      {
        "duration": 7,
        "start_time": "2023-02-20T14:56:13.120Z"
      },
      {
        "duration": 9,
        "start_time": "2023-02-20T14:56:13.128Z"
      },
      {
        "duration": 5,
        "start_time": "2023-02-20T14:56:13.139Z"
      },
      {
        "duration": 901,
        "start_time": "2023-02-20T14:56:13.146Z"
      },
      {
        "duration": 8,
        "start_time": "2023-02-20T14:56:14.049Z"
      },
      {
        "duration": 1941,
        "start_time": "2023-02-20T14:56:14.059Z"
      },
      {
        "duration": 639,
        "start_time": "2023-02-20T14:56:16.001Z"
      },
      {
        "duration": 9,
        "start_time": "2023-02-20T14:56:16.642Z"
      },
      {
        "duration": 14,
        "start_time": "2023-02-20T14:56:16.652Z"
      },
      {
        "duration": 31,
        "start_time": "2023-02-20T14:56:16.668Z"
      },
      {
        "duration": 359,
        "start_time": "2023-02-20T14:56:16.700Z"
      },
      {
        "duration": 6,
        "start_time": "2023-02-20T14:56:17.060Z"
      },
      {
        "duration": 4981,
        "start_time": "2023-02-20T14:56:17.068Z"
      },
      {
        "duration": 5,
        "start_time": "2023-02-20T14:56:22.051Z"
      },
      {
        "duration": 17,
        "start_time": "2023-02-20T14:56:22.057Z"
      },
      {
        "duration": 7,
        "start_time": "2023-02-20T14:56:22.075Z"
      },
      {
        "duration": 27,
        "start_time": "2023-02-20T14:56:22.083Z"
      },
      {
        "duration": 467,
        "start_time": "2023-02-20T14:56:22.111Z"
      },
      {
        "duration": 3876,
        "start_time": "2023-02-20T14:56:22.580Z"
      },
      {
        "duration": 851,
        "start_time": "2023-02-20T14:56:26.458Z"
      },
      {
        "duration": 638,
        "start_time": "2023-02-20T14:56:27.311Z"
      },
      {
        "duration": 5,
        "start_time": "2023-02-20T14:56:27.950Z"
      },
      {
        "duration": 1739,
        "start_time": "2023-02-20T14:56:27.956Z"
      },
      {
        "duration": 261,
        "start_time": "2023-02-20T14:56:29.697Z"
      },
      {
        "duration": 288,
        "start_time": "2023-02-20T14:56:29.960Z"
      },
      {
        "duration": 246,
        "start_time": "2023-02-20T14:56:30.250Z"
      },
      {
        "duration": 1088,
        "start_time": "2023-02-20T14:56:30.497Z"
      },
      {
        "duration": 5,
        "start_time": "2023-02-20T14:56:31.587Z"
      },
      {
        "duration": 283,
        "start_time": "2023-02-20T14:56:31.594Z"
      },
      {
        "duration": 29,
        "start_time": "2023-02-20T14:56:31.879Z"
      },
      {
        "duration": 2936,
        "start_time": "2023-02-20T14:56:31.910Z"
      },
      {
        "duration": 11,
        "start_time": "2023-02-20T14:56:34.848Z"
      },
      {
        "duration": 26,
        "start_time": "2023-02-20T14:56:34.860Z"
      },
      {
        "duration": 38,
        "start_time": "2023-02-20T15:24:22.356Z"
      },
      {
        "duration": 31,
        "start_time": "2023-02-20T15:24:36.150Z"
      },
      {
        "duration": 1263,
        "start_time": "2023-02-20T15:34:36.800Z"
      },
      {
        "duration": 4,
        "start_time": "2023-02-20T15:34:38.067Z"
      },
      {
        "duration": 68,
        "start_time": "2023-02-20T15:34:38.073Z"
      },
      {
        "duration": 19,
        "start_time": "2023-02-20T15:34:38.143Z"
      },
      {
        "duration": 20,
        "start_time": "2023-02-20T15:34:38.164Z"
      },
      {
        "duration": 8,
        "start_time": "2023-02-20T15:34:38.186Z"
      },
      {
        "duration": 24,
        "start_time": "2023-02-20T15:34:38.195Z"
      },
      {
        "duration": 37,
        "start_time": "2023-02-20T15:34:38.221Z"
      },
      {
        "duration": 13,
        "start_time": "2023-02-20T15:34:38.260Z"
      },
      {
        "duration": 881,
        "start_time": "2023-02-20T15:34:38.276Z"
      },
      {
        "duration": 84,
        "start_time": "2023-02-20T15:34:39.158Z"
      },
      {
        "duration": 11,
        "start_time": "2023-02-20T15:34:39.244Z"
      },
      {
        "duration": 79,
        "start_time": "2023-02-20T15:34:39.257Z"
      },
      {
        "duration": 16,
        "start_time": "2023-02-20T15:34:39.338Z"
      },
      {
        "duration": 756,
        "start_time": "2023-02-20T15:34:39.355Z"
      },
      {
        "duration": 19,
        "start_time": "2023-02-20T15:34:40.114Z"
      },
      {
        "duration": 12,
        "start_time": "2023-02-20T15:34:40.135Z"
      },
      {
        "duration": 68,
        "start_time": "2023-02-20T15:34:40.148Z"
      },
      {
        "duration": 106,
        "start_time": "2023-02-20T15:34:40.218Z"
      },
      {
        "duration": 191,
        "start_time": "2023-02-20T15:34:40.327Z"
      },
      {
        "duration": 7,
        "start_time": "2023-02-20T15:34:40.520Z"
      },
      {
        "duration": 568,
        "start_time": "2023-02-20T15:34:40.531Z"
      },
      {
        "duration": 372,
        "start_time": "2023-02-20T15:34:41.101Z"
      },
      {
        "duration": 34,
        "start_time": "2023-02-20T15:34:41.475Z"
      },
      {
        "duration": 20,
        "start_time": "2023-02-20T15:34:41.511Z"
      },
      {
        "duration": 17,
        "start_time": "2023-02-20T15:34:41.532Z"
      },
      {
        "duration": 8,
        "start_time": "2023-02-20T15:34:41.550Z"
      },
      {
        "duration": 574,
        "start_time": "2023-02-20T15:34:41.562Z"
      },
      {
        "duration": 5,
        "start_time": "2023-02-20T15:34:42.138Z"
      },
      {
        "duration": 22,
        "start_time": "2023-02-20T15:34:42.144Z"
      },
      {
        "duration": 29,
        "start_time": "2023-02-20T15:34:42.169Z"
      },
      {
        "duration": 224,
        "start_time": "2023-02-20T15:34:42.200Z"
      },
      {
        "duration": 12,
        "start_time": "2023-02-20T15:34:42.427Z"
      },
      {
        "duration": 4578,
        "start_time": "2023-02-20T15:34:42.441Z"
      },
      {
        "duration": 76,
        "start_time": "2023-02-20T15:34:47.022Z"
      },
      {
        "duration": 26,
        "start_time": "2023-02-20T15:34:47.101Z"
      },
      {
        "duration": 20,
        "start_time": "2023-02-20T15:34:47.129Z"
      },
      {
        "duration": 6552,
        "start_time": "2023-02-20T15:34:47.152Z"
      },
      {
        "duration": 11,
        "start_time": "2023-02-20T15:34:53.706Z"
      },
      {
        "duration": 14,
        "start_time": "2023-02-20T15:34:53.719Z"
      },
      {
        "duration": 12,
        "start_time": "2023-02-20T15:34:53.735Z"
      },
      {
        "duration": 6653,
        "start_time": "2023-02-20T15:34:53.748Z"
      },
      {
        "duration": 789,
        "start_time": "2023-02-20T15:35:00.404Z"
      },
      {
        "duration": 15,
        "start_time": "2023-02-20T15:35:01.196Z"
      },
      {
        "duration": 33,
        "start_time": "2023-02-20T15:35:01.215Z"
      },
      {
        "duration": 65,
        "start_time": "2023-02-20T15:35:01.250Z"
      },
      {
        "duration": 8287,
        "start_time": "2023-02-20T15:35:01.318Z"
      },
      {
        "duration": 383,
        "start_time": "2023-02-20T15:35:09.611Z"
      },
      {
        "duration": 11,
        "start_time": "2023-02-20T15:35:09.996Z"
      },
      {
        "duration": 22,
        "start_time": "2023-02-20T15:35:10.009Z"
      },
      {
        "duration": 28,
        "start_time": "2023-02-20T15:35:10.033Z"
      },
      {
        "duration": 1065,
        "start_time": "2023-02-20T15:35:10.063Z"
      },
      {
        "duration": 13,
        "start_time": "2023-02-20T15:35:11.130Z"
      },
      {
        "duration": 2314,
        "start_time": "2023-02-20T15:35:11.145Z"
      },
      {
        "duration": 731,
        "start_time": "2023-02-20T15:35:13.461Z"
      },
      {
        "duration": 13,
        "start_time": "2023-02-20T15:35:14.194Z"
      },
      {
        "duration": 27,
        "start_time": "2023-02-20T15:35:14.209Z"
      },
      {
        "duration": 30,
        "start_time": "2023-02-20T15:35:14.238Z"
      },
      {
        "duration": 434,
        "start_time": "2023-02-20T15:35:14.270Z"
      },
      {
        "duration": 6,
        "start_time": "2023-02-20T15:35:14.705Z"
      },
      {
        "duration": 6480,
        "start_time": "2023-02-20T15:35:14.714Z"
      },
      {
        "duration": 9,
        "start_time": "2023-02-20T15:35:21.196Z"
      },
      {
        "duration": 40,
        "start_time": "2023-02-20T15:35:21.207Z"
      },
      {
        "duration": 13,
        "start_time": "2023-02-20T15:35:21.249Z"
      },
      {
        "duration": 51,
        "start_time": "2023-02-20T15:35:21.264Z"
      },
      {
        "duration": 539,
        "start_time": "2023-02-20T15:35:21.317Z"
      },
      {
        "duration": 4860,
        "start_time": "2023-02-20T15:35:21.860Z"
      },
      {
        "duration": 1089,
        "start_time": "2023-02-20T15:35:26.722Z"
      },
      {
        "duration": 873,
        "start_time": "2023-02-20T15:35:27.814Z"
      },
      {
        "duration": 6,
        "start_time": "2023-02-20T15:35:28.690Z"
      },
      {
        "duration": 2009,
        "start_time": "2023-02-20T15:35:28.699Z"
      },
      {
        "duration": 283,
        "start_time": "2023-02-20T15:35:30.711Z"
      },
      {
        "duration": 333,
        "start_time": "2023-02-20T15:35:30.996Z"
      },
      {
        "duration": 304,
        "start_time": "2023-02-20T15:35:31.331Z"
      },
      {
        "duration": 1187,
        "start_time": "2023-02-20T15:35:31.637Z"
      },
      {
        "duration": 6,
        "start_time": "2023-02-20T15:35:32.825Z"
      },
      {
        "duration": 260,
        "start_time": "2023-02-20T15:35:32.832Z"
      },
      {
        "duration": 39,
        "start_time": "2023-02-20T15:35:33.094Z"
      },
      {
        "duration": 3316,
        "start_time": "2023-02-20T15:35:33.135Z"
      },
      {
        "duration": 14,
        "start_time": "2023-02-20T15:35:36.454Z"
      },
      {
        "duration": 30,
        "start_time": "2023-02-20T15:35:36.471Z"
      }
    ],
    "colab": {
      "provenance": [],
      "toc_visible": true
    },
    "kernelspec": {
      "display_name": "Python 3 (ipykernel)",
      "language": "python",
      "name": "python3"
    },
    "language_info": {
      "codemirror_mode": {
        "name": "ipython",
        "version": 3
      },
      "file_extension": ".py",
      "mimetype": "text/x-python",
      "name": "python",
      "nbconvert_exporter": "python",
      "pygments_lexer": "ipython3",
      "version": "3.9.5"
    },
    "toc": {
      "base_numbering": 1,
      "nav_menu": {},
      "number_sections": true,
      "sideBar": true,
      "skip_h1_title": true,
      "title_cell": "Table of Contents",
      "title_sidebar": "Contents",
      "toc_cell": false,
      "toc_position": {},
      "toc_section_display": true,
      "toc_window_display": false
    }
  },
  "nbformat": 4,
  "nbformat_minor": 0
}

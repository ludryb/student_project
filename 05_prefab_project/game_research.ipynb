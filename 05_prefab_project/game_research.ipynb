{
 "cells": [
  {
   "cell_type": "code",
   "execution_count": null,
   "metadata": {
    "tags": [
     "7a19f70a-81c4-4d48-a297-18f91c278629"
    ]
   },
   "outputs": [],
   "source": [
    "# Не удаляйте эту ячейку!"
   ]
  },
  {
   "cell_type": "code",
   "execution_count": 4,
   "metadata": {},
   "outputs": [],
   "source": [
    "import pandas as pd\n",
    "from sklearn.model_selection import train_test_split\n",
    "from sklearn.ensemble import RandomForestRegressor\n",
    "from sklearn.linear_model import LinearRegression\n",
    "from sklearn.metrics import mean_absolute_error\n",
    "\n",
    "data = pd.read_csv('/datasets/flights_preprocessed.csv')\n",
    "\n",
    "target = data['Arrival Delay']\n",
    "features = data.drop(['Arrival Delay'] , axis=1)\n",
    "features_train, features_valid, target_train, target_valid = train_test_split(\n",
    "    features, target, test_size=0.25, random_state=12345)"
   ]
  },
  {
   "cell_type": "code",
   "execution_count": 5,
   "metadata": {},
   "outputs": [
    {
     "name": "stdout",
     "output_type": "stream",
     "text": [
      "27.436250978085834\n"
     ]
    }
   ],
   "source": [
    "# median\n",
    "model = LinearRegression()\n",
    "model.fit(features_train, target_train)\n",
    "predictions_valid = model.predict(features_valid)\n",
    "\n",
    "print(mean_absolute_error(target_valid, predictions_valid))"
   ]
  },
  {
   "cell_type": "code",
   "execution_count": 14,
   "metadata": {},
   "outputs": [
    {
     "name": "stdout",
     "output_type": "stream",
     "text": [
      "25.543812554450305 12\n",
      "CPU times: user 27.5 s, sys: 136 ms, total: 27.6 s\n",
      "Wall time: 27.7 s\n"
     ]
    }
   ],
   "source": [
    "%%time\n",
    "\n",
    "best_score, deep = 100, 0\n",
    "for depth in range(1, 16, 1):\n",
    "    model = RandomForestRegressor(n_estimators=20, max_depth=depth, random_state=12345)\n",
    "    model.fit(features_train, target_train)\n",
    "    predictions_valid = model.predict(features_valid)\n",
    "    score_1 = mean_absolute_error(target_valid, predictions_valid)\n",
    "#     print(score_1, depth, sep=\"\\n\")\n",
    "    if best_score > score_1:\n",
    "        best_score = score_1\n",
    "        deep = depth\n",
    "\n",
    "print(best_score, deep)# < напишите код здесь >"
   ]
  },
  {
   "cell_type": "code",
   "execution_count": 16,
   "metadata": {},
   "outputs": [
    {
     "name": "stdout",
     "output_type": "stream",
     "text": [
      "22.469041005849554\n",
      "25.47745895064548\n",
      "CPU times: user 14.1 s, sys: 116 ms, total: 14.2 s\n",
      "Wall time: 14.2 s\n"
     ]
    }
   ],
   "source": [
    "%%time\n",
    "\n",
    "model = RandomForestRegressor(n_estimators=100, \n",
    "    max_depth = 12, random_state=12345)\n",
    "model.fit(features_train, target_train)# обучите модель на тренировочной выборке\n",
    "\n",
    "predictions_train = model.predict(features_train)# получите предсказания на обучающей выборке\n",
    "predictions_valid = model.predict(features_valid)# получите предсказания на валидационной выборке\n",
    "\n",
    "print(mean_absolute_error(target_train, predictions_train))# посчитайте mean_absolute_error на обучающей выборке\n",
    "print(mean_absolute_error(target_valid, predictions_valid))# посчитайте mean_absolute_error на валидационной выборке"
   ]
  }
 ],
 "metadata": {
  "ExecuteTimeLog": [
   {
    "duration": 1528,
    "start_time": "2023-03-19T19:10:24.950Z"
   },
   {
    "duration": 409,
    "start_time": "2023-03-19T19:10:26.480Z"
   },
   {
    "duration": 201,
    "start_time": "2023-03-19T19:10:30.684Z"
   },
   {
    "duration": 250,
    "start_time": "2023-03-19T19:10:41.957Z"
   },
   {
    "duration": 133,
    "start_time": "2023-03-19T19:10:45.146Z"
   },
   {
    "duration": 5,
    "start_time": "2023-03-19T19:10:47.856Z"
   },
   {
    "duration": 5,
    "start_time": "2023-03-19T19:10:54.312Z"
   },
   {
    "duration": 27963,
    "start_time": "2023-03-19T19:11:35.824Z"
   },
   {
    "duration": 29079,
    "start_time": "2023-03-19T19:12:29.042Z"
   },
   {
    "duration": 28546,
    "start_time": "2023-03-19T19:13:29.865Z"
   },
   {
    "duration": 28279,
    "start_time": "2023-03-19T19:14:55.160Z"
   },
   {
    "duration": 28727,
    "start_time": "2023-03-19T19:19:24.952Z"
   },
   {
    "duration": 29392,
    "start_time": "2023-03-19T19:20:17.027Z"
   },
   {
    "duration": 27666,
    "start_time": "2023-03-19T19:21:10.081Z"
   },
   {
    "duration": 14472,
    "start_time": "2023-03-19T19:23:21.865Z"
   },
   {
    "duration": 14213,
    "start_time": "2023-03-19T19:24:20.565Z"
   }
  ],
  "kernelspec": {
   "display_name": "Python 3 (ipykernel)",
   "language": "python",
   "name": "python3"
  },
  "language_info": {
   "codemirror_mode": {
    "name": "ipython",
    "version": 3
   },
   "file_extension": ".py",
   "mimetype": "text/x-python",
   "name": "python",
   "nbconvert_exporter": "python",
   "pygments_lexer": "ipython3",
   "version": "3.9.5"
  },
  "toc": {
   "base_numbering": 1,
   "nav_menu": {},
   "number_sections": true,
   "sideBar": true,
   "skip_h1_title": true,
   "title_cell": "Table of Contents",
   "title_sidebar": "Contents",
   "toc_cell": false,
   "toc_position": {},
   "toc_section_display": true,
   "toc_window_display": false
  }
 },
 "nbformat": 4,
 "nbformat_minor": 2
}

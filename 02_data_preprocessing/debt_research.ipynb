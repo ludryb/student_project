{
 "cells": [
  {
   "cell_type": "markdown",
   "id": "ff672f10",
   "metadata": {
    "deletable": false,
    "editable": false,
    "id": "ff672f10"
   },
   "source": [
    "# Исследование надежности заемщиков\n"
   ]
  },
  {
   "cell_type": "markdown",
   "source": [
    "## Изучение общей информации о данных"
   ],
   "metadata": {
    "collapsed": false
   }
  },
  {
   "cell_type": "code",
   "execution_count": 1,
   "outputs": [],
   "source": [
    "import pandas as pd# импортируйте библиотеку pandas"
   ],
   "metadata": {
    "collapsed": false
   }
  },
  {
   "cell_type": "code",
   "execution_count": 2,
   "outputs": [],
   "source": [
    "try:\n",
    "    data = pd.read_csv(\"/datasets/data.csv\")# прочитайте csv-файл\n",
    "except FileNotFoundError:\n",
    "    data = pd.read_csv(\"data.csv\")"
   ],
   "metadata": {
    "collapsed": false
   }
  },
  {
   "cell_type": "code",
   "execution_count": 3,
   "outputs": [
    {
     "name": "stdout",
     "output_type": "stream",
     "text": [
      "    children  days_employed  dob_years            education  education_id  \\\n",
      "0          1   -8437.673028         42               высшее             0   \n",
      "1          1   -4024.803754         36              среднее             1   \n",
      "2          0   -5623.422610         33              Среднее             1   \n",
      "3          3   -4124.747207         32              среднее             1   \n",
      "4          0  340266.072047         53              среднее             1   \n",
      "5          0    -926.185831         27               высшее             0   \n",
      "6          0   -2879.202052         43               высшее             0   \n",
      "7          0    -152.779569         50              СРЕДНЕЕ             1   \n",
      "8          2   -6929.865299         35               ВЫСШЕЕ             0   \n",
      "9          0   -2188.756445         41              среднее             1   \n",
      "10         2   -4171.483647         36               высшее             0   \n",
      "11         0    -792.701887         40              среднее             1   \n",
      "12         0            NaN         65              среднее             1   \n",
      "13         0   -1846.641941         54  неоконченное высшее             2   \n",
      "14         0   -1844.956182         56               высшее             0   \n",
      "15         1    -972.364419         26              среднее             1   \n",
      "16         0   -1719.934226         35              среднее             1   \n",
      "17         0   -2369.999720         33               высшее             0   \n",
      "18         0  400281.136913         53              среднее             1   \n",
      "19         0  -10038.818549         48              СРЕДНЕЕ             1   \n",
      "\n",
      "       family_status  family_status_id gender income_type  debt  \\\n",
      "0    женат / замужем                 0      F   сотрудник     0   \n",
      "1    женат / замужем                 0      F   сотрудник     0   \n",
      "2    женат / замужем                 0      M   сотрудник     0   \n",
      "3    женат / замужем                 0      M   сотрудник     0   \n",
      "4   гражданский брак                 1      F   пенсионер     0   \n",
      "5   гражданский брак                 1      M   компаньон     0   \n",
      "6    женат / замужем                 0      F   компаньон     0   \n",
      "7    женат / замужем                 0      M   сотрудник     0   \n",
      "8   гражданский брак                 1      F   сотрудник     0   \n",
      "9    женат / замужем                 0      M   сотрудник     0   \n",
      "10   женат / замужем                 0      M   компаньон     0   \n",
      "11   женат / замужем                 0      F   сотрудник     0   \n",
      "12  гражданский брак                 1      M   пенсионер     0   \n",
      "13   женат / замужем                 0      F   сотрудник     0   \n",
      "14  гражданский брак                 1      F   компаньон     1   \n",
      "15   женат / замужем                 0      F   сотрудник     0   \n",
      "16   женат / замужем                 0      F   сотрудник     0   \n",
      "17  гражданский брак                 1      M   сотрудник     0   \n",
      "18    вдовец / вдова                 2      F   пенсионер     0   \n",
      "19         в разводе                 3      F   сотрудник     0   \n",
      "\n",
      "     total_income                                 purpose  \n",
      "0   253875.639453                           покупка жилья  \n",
      "1   112080.014102                 приобретение автомобиля  \n",
      "2   145885.952297                           покупка жилья  \n",
      "3   267628.550329              дополнительное образование  \n",
      "4   158616.077870                         сыграть свадьбу  \n",
      "5   255763.565419                           покупка жилья  \n",
      "6   240525.971920                       операции с жильем  \n",
      "7   135823.934197                             образование  \n",
      "8    95856.832424                   на проведение свадьбы  \n",
      "9   144425.938277                 покупка жилья для семьи  \n",
      "10  113943.491460                    покупка недвижимости  \n",
      "11   77069.234271       покупка коммерческой недвижимости  \n",
      "12            NaN                         сыграть свадьбу  \n",
      "13  130458.228857                 приобретение автомобиля  \n",
      "14  165127.911772              покупка жилой недвижимости  \n",
      "15  116820.904450  строительство собственной недвижимости  \n",
      "16  289202.704229                            недвижимость  \n",
      "17   90410.586745              строительство недвижимости  \n",
      "18   56823.777243      на покупку подержанного автомобиля  \n",
      "19  242831.107982            на покупку своего автомобиля  \n"
     ]
    }
   ],
   "source": [
    "print(data.head(20))# ваш код здесь"
   ],
   "metadata": {
    "collapsed": false
   }
  },
  {
   "cell_type": "code",
   "execution_count": 4,
   "outputs": [
    {
     "name": "stdout",
     "output_type": "stream",
     "text": [
      "<class 'pandas.core.frame.DataFrame'>\n",
      "RangeIndex: 21525 entries, 0 to 21524\n",
      "Data columns (total 12 columns):\n",
      " #   Column            Non-Null Count  Dtype  \n",
      "---  ------            --------------  -----  \n",
      " 0   children          21525 non-null  int64  \n",
      " 1   days_employed     19351 non-null  float64\n",
      " 2   dob_years         21525 non-null  int64  \n",
      " 3   education         21525 non-null  object \n",
      " 4   education_id      21525 non-null  int64  \n",
      " 5   family_status     21525 non-null  object \n",
      " 6   family_status_id  21525 non-null  int64  \n",
      " 7   gender            21525 non-null  object \n",
      " 8   income_type       21525 non-null  object \n",
      " 9   debt              21525 non-null  int64  \n",
      " 10  total_income      19351 non-null  float64\n",
      " 11  purpose           21525 non-null  object \n",
      "dtypes: float64(2), int64(5), object(5)\n",
      "memory usage: 2.0+ MB\n"
     ]
    }
   ],
   "source": [
    "data.info()# ваш код здесь"
   ],
   "metadata": {
    "collapsed": false
   }
  },
  {
   "cell_type": "markdown",
   "source": [
    "## Предобработка данных"
   ],
   "metadata": {
    "collapsed": false
   }
  },
  {
   "cell_type": "markdown",
   "source": [
    "### Удаление пропусков"
   ],
   "metadata": {
    "collapsed": false
   }
  },
  {
   "cell_type": "code",
   "execution_count": 5,
   "outputs": [
    {
     "name": "stdout",
     "output_type": "stream",
     "text": [
      "children               0\n",
      "days_employed       2174\n",
      "dob_years              0\n",
      "education              0\n",
      "education_id           0\n",
      "family_status          0\n",
      "family_status_id       0\n",
      "gender                 0\n",
      "income_type            0\n",
      "debt                   0\n",
      "total_income        2174\n",
      "purpose                0\n",
      "dtype: int64\n"
     ]
    }
   ],
   "source": [
    "print(data.isna().sum())# ваш код здесь"
   ],
   "metadata": {
    "collapsed": false
   }
  },
  {
   "cell_type": "code",
   "execution_count": 6,
   "outputs": [],
   "source": [
    "data_group = data.groupby(\"income_type\").total_income.median()\n",
    "for i in data_group.index:\n",
    "    data_sort = data.loc[data[\"income_type\"]==i, \"total_income\"]\n",
    "    data_sort.fillna(data_group[i], inplace=True)\n",
    "    data.loc[data.income_type==i, \"total_income\"] = data_sort"
   ],
   "metadata": {
    "collapsed": false
   }
  },
  {
   "cell_type": "markdown",
   "source": [
    "### Обработка аномальных значений"
   ],
   "metadata": {
    "collapsed": false
   }
  },
  {
   "cell_type": "code",
   "execution_count": 7,
   "outputs": [],
   "source": [
    "data.days_employed = abs(data.days_employed)# ваш код здесь"
   ],
   "metadata": {
    "collapsed": false
   }
  },
  {
   "cell_type": "code",
   "execution_count": 8,
   "outputs": [
    {
     "name": "stdout",
     "output_type": "stream",
     "text": [
      "income_type\n",
      "безработный        366413.652744\n",
      "в декрете            3296.759962\n",
      "госслужащий          2689.368353\n",
      "компаньон            1547.382223\n",
      "пенсионер          365213.306266\n",
      "предприниматель       520.848083\n",
      "сотрудник            1574.202821\n",
      "студент               578.751554\n",
      "Name: days_employed, dtype: float64\n"
     ]
    }
   ],
   "source": [
    "print(data.groupby(\"income_type\")[\"days_employed\"].median())# ваш код здесь"
   ],
   "metadata": {
    "collapsed": false
   }
  },
  {
   "cell_type": "markdown",
   "source": [
    "У двух типов (безработные и пенсионеры) получатся аномально большие значения. Исправить такие значения сложно, поэтому оставим их как есть. Тем более этот столбец не понадобится для исследования."
   ],
   "metadata": {
    "collapsed": false
   }
  },
  {
   "cell_type": "code",
   "execution_count": 9,
   "outputs": [
    {
     "data": {
      "text/plain": [
       "array([ 1,  0,  3,  2, -1,  4, 20,  5])"
      ]
     },
     "execution_count": 9,
     "metadata": {},
     "output_type": "execute_result"
    }
   ],
   "source": [
    "data.children.unique()# ваш код здесь"
   ],
   "metadata": {
    "collapsed": false
   }
  },
  {
   "cell_type": "code",
   "execution_count": 10,
   "outputs": [],
   "source": [
    "data = data[~data.children.isin([-1, 20])]# ваш код здесь"
   ],
   "metadata": {
    "collapsed": false
   }
  },
  {
   "cell_type": "code",
   "execution_count": 11,
   "outputs": [
    {
     "data": {
      "text/plain": [
       "array([1, 0, 3, 2, 4, 5])"
      ]
     },
     "execution_count": 11,
     "metadata": {},
     "output_type": "execute_result"
    }
   ],
   "source": [
    "data.children.unique()# ваш код здесь"
   ],
   "metadata": {
    "collapsed": false
   }
  },
  {
   "cell_type": "markdown",
   "source": [
    "### Удаление пропусков (продолжение)"
   ],
   "metadata": {
    "collapsed": false
   }
  },
  {
   "cell_type": "code",
   "execution_count": 12,
   "outputs": [],
   "source": [
    "data_group = data.groupby(\"income_type\").days_employed.median()\n",
    "for i in data_group.index:\n",
    "    data.loc[data[\"income_type\"]==i,\n",
    "             \"days_employed\"] = data.loc[data[\"income_type\"]==i,\n",
    "                                         \"days_employed\"].fillna(data_group[i])\n",
    "    # ваш код здесь"
   ],
   "metadata": {
    "collapsed": false
   }
  },
  {
   "cell_type": "code",
   "execution_count": 13,
   "outputs": [
    {
     "data": {
      "text/plain": [
       "children            0\n",
       "days_employed       0\n",
       "dob_years           0\n",
       "education           0\n",
       "education_id        0\n",
       "family_status       0\n",
       "family_status_id    0\n",
       "gender              0\n",
       "income_type         0\n",
       "debt                0\n",
       "total_income        0\n",
       "purpose             0\n",
       "dtype: int64"
      ]
     },
     "execution_count": 13,
     "metadata": {},
     "output_type": "execute_result"
    }
   ],
   "source": [
    "data.isna().sum()# ваш код здесь"
   ],
   "metadata": {
    "collapsed": false
   }
  },
  {
   "cell_type": "markdown",
   "source": [
    "### Изменение типов данных"
   ],
   "metadata": {
    "collapsed": false
   }
  },
  {
   "cell_type": "code",
   "execution_count": 14,
   "outputs": [],
   "source": [
    "data.total_income = data.total_income.astype(int)# ваш код здесь"
   ],
   "metadata": {
    "collapsed": false
   }
  },
  {
   "cell_type": "markdown",
   "source": [
    "### Обработка дубликатов"
   ],
   "metadata": {
    "collapsed": false
   }
  },
  {
   "cell_type": "code",
   "execution_count": 15,
   "outputs": [],
   "source": [
    "data.education = data.education.str.lower()# ваш код здесь"
   ],
   "metadata": {
    "collapsed": false
   }
  },
  {
   "cell_type": "code",
   "execution_count": 16,
   "outputs": [
    {
     "data": {
      "text/plain": [
       "71"
      ]
     },
     "execution_count": 16,
     "metadata": {},
     "output_type": "execute_result"
    }
   ],
   "source": [
    "data.duplicated().sum()# посчитайте дубликаты"
   ],
   "metadata": {
    "collapsed": false
   }
  },
  {
   "cell_type": "code",
   "execution_count": 17,
   "outputs": [],
   "source": [
    "data.drop_duplicates(inplace=True)# удалите дубликаты"
   ],
   "metadata": {
    "collapsed": false
   }
  },
  {
   "cell_type": "markdown",
   "source": [
    "### Категоризация данных"
   ],
   "metadata": {
    "collapsed": false
   }
  },
  {
   "cell_type": "markdown",
   "source": [
    "На основании диапазонов, указанных ниже, создадим в датафрейме `data` столбец `total_income_category` с категориями:\n",
    "\n",
    "- 0–30000 — `'E'`;\n",
    "- 30001–50000 — `'D'`;\n",
    "- 50001–200000 — `'C'`;\n",
    "- 200001–1000000 — `'B'`;\n",
    "- 1000001 и выше — `'A'`."
   ],
   "metadata": {
    "collapsed": false
   }
  },
  {
   "cell_type": "code",
   "execution_count": 18,
   "outputs": [],
   "source": [
    "def categorize_income(row_total):\n",
    "    category = [\"A\", \"B\", \"C\", \"D\", \"E\"]\n",
    "    values = [1000000, 200000, 50000, 30000, 0]\n",
    "    for i in range(len(values)):\n",
    "      if row_total >= values[i]:\n",
    "        return category[i] # создайте функцию categorize_income()"
   ],
   "metadata": {
    "collapsed": false
   }
  },
  {
   "cell_type": "code",
   "execution_count": 20,
   "outputs": [],
   "source": [
    "data[\"total_income_category\"] = data.total_income.apply(categorize_income)# примените функцию методом apply()"
   ],
   "metadata": {
    "collapsed": false
   }
  },
  {
   "cell_type": "code",
   "execution_count": 11,
   "outputs": [],
   "source": [
    "data.purpose.unique()# ваш код здесь"
   ],
   "metadata": {
    "collapsed": false
   }
  },
  {
   "cell_type": "markdown",
   "source": [
    "Создадим функцию, которая на основании данных из столбца `purpose` сформирует новый столбец `purpose_category`, в который войдут следующие категории:**\n",
    "\n",
    "- `'операции с автомобилем'`,\n",
    "- `'операции с недвижимостью'`,\n",
    "- `'проведение свадьбы'`,\n",
    "- `'получение образования'`."
   ],
   "metadata": {
    "collapsed": false
   }
  },
  {
   "cell_type": "code",
   "execution_count": 12,
   "outputs": [],
   "source": [
    "def categorize_purpose(row):\n",
    "    category = ['операции с автомобилем', 'операции с недвижимостью',\n",
    "                'проведение свадьбы', 'получение образования']\n",
    "    cat_stem = ['авто', 'жи', 'свадь', 'образов']\n",
    "    for i in range(len(cat_stem)):\n",
    "        if cat_stem[i] in row:\n",
    "            return category[i] # создайте функцию categorize_purpose()"
   ],
   "metadata": {
    "collapsed": false
   }
  },
  {
   "cell_type": "code",
   "execution_count": 13,
   "outputs": [],
   "source": [
    "data[\"purpose_category\"] = data.purpose.apply(categorize_purpose)# примените функцию методом apply()"
   ],
   "metadata": {
    "collapsed": false
   }
  },
  {
   "cell_type": "markdown",
   "source": [
    "### Исследование данные"
   ],
   "metadata": {
    "collapsed": false
   }
  },
  {
   "cell_type": "markdown",
   "id": "66d49c43",
   "metadata": {
    "deletable": false,
    "editable": false,
    "id": "66d49c43"
   },
   "source": [
    "#### Есть ли зависимость между количеством детей и возвратом кредита в срок?"
   ]
  },
  {
   "cell_type": "markdown",
   "id": "p7JzpeBr3J2g",
   "metadata": {
    "id": "p7JzpeBr3J2g"
   },
   "source": [
    "Для того чтобы определить наличие или отсутствие зависисмости, необходимо сгуппировать исходный датафрейм `data` по количеству детей в столбце `children` для столбца `debt`. Вычислить количество должников по каждой группе и посчитать конверсию.\n",
    "Воспользуемся методом `pivot_table`. В качестве функции передадим в стоблец `debt`:\n",
    "*   `sum`  - для просмотра количества должников,\n",
    "*   `count` - для подсчета общего количества,\n",
    "*   `mean` - для вычисления конверсии.\n",
    "\n",
    "В столбце `respond` для каждой категории вычисляем долю данных от общего количества столбца `count`, чтобы оценить корректность выборки: при малом количестве данных одной или нескольких категорий, оценка конверсии может оказаться не корректной. В конце форматируем таблицу для наглядности.\n",
    "\n",
    "Для данных действий определим функцию для возможности повторного использования"
   ]
  },
  {
   "cell_type": "code",
   "execution_count": 22,
   "id": "AviZehvZN8kI",
   "metadata": {
    "id": "AviZehvZN8kI"
   },
   "outputs": [],
   "source": [
    "def convers(df, ind):\n",
    "    sort_data = df.pivot_table(values=\"debt\", index=ind, \n",
    "                           aggfunc=[\"sum\", \"count\", \"mean\"])\n",
    "    sort_data[\"respond\", \"debt\"] = sort_data[\"count\", \"debt\"]/sort_data[\"count\", \"debt\"].sum()\n",
    "    sort_data.sort_values((\"mean\",\"debt\"), ascending=False, inplace=True)\n",
    "    \n",
    "    prop = {\n",
    "        \"border\": \"0.5px solid black\", \n",
    "        \"width\": \"85px\", \n",
    "        \"text-align\": \"center\"   \n",
    "    }\n",
    "    percent = {\n",
    "      (\"mean\", \"debt\"):\"{:.2%}\",\n",
    "      (\"respond\", \"debt\"):\"{:.2%}\"  \n",
    "    }    \n",
    "    sort_data.st = sort_data.style.format(percent)\\\n",
    "    .set_properties(**prop)\\\n",
    "    .bar(\"mean\", color=\"#8FE8FA\")\\\n",
    "    .bar(\"respond\", color=\"#FFBF4D\")\n",
    "                       \n",
    "    return sort_data.st   "
   ]
  },
  {
   "cell_type": "code",
   "execution_count": 23,
   "id": "RV7awFGqUkYl",
   "metadata": {
    "colab": {
     "base_uri": "https://localhost:8080/",
     "height": 305
    },
    "id": "RV7awFGqUkYl",
    "outputId": "cc7ab332-f3a8-4397-aef0-357ad06a51ae"
   },
   "outputs": [
    {
     "data": {
      "text/html": [
       "<style  type=\"text/css\" >\n",
       "#T_60162_row0_col0,#T_60162_row0_col1,#T_60162_row1_col0,#T_60162_row1_col1,#T_60162_row2_col0,#T_60162_row2_col1,#T_60162_row3_col0,#T_60162_row3_col1,#T_60162_row4_col0,#T_60162_row4_col1,#T_60162_row5_col0,#T_60162_row5_col1{\n",
       "            border:  0.5px solid black;\n",
       "            width:  85px;\n",
       "            text-align:  center;\n",
       "        }#T_60162_row0_col2{\n",
       "            border:  0.5px solid black;\n",
       "            width:  85px;\n",
       "            text-align:  center;\n",
       "            width:  10em;\n",
       "             height:  80%;\n",
       "            background:  linear-gradient(90deg,#8FE8FA 100.0%, transparent 100.0%);\n",
       "        }#T_60162_row0_col3{\n",
       "            border:  0.5px solid black;\n",
       "            width:  85px;\n",
       "            text-align:  center;\n",
       "            width:  10em;\n",
       "             height:  80%;\n",
       "            background:  linear-gradient(90deg,#FFBF4D 0.2%, transparent 0.2%);\n",
       "        }#T_60162_row1_col2{\n",
       "            border:  0.5px solid black;\n",
       "            width:  85px;\n",
       "            text-align:  center;\n",
       "            width:  10em;\n",
       "             height:  80%;\n",
       "            background:  linear-gradient(90deg,#8FE8FA 96.9%, transparent 96.9%);\n",
       "        }#T_60162_row1_col3{\n",
       "            border:  0.5px solid black;\n",
       "            width:  85px;\n",
       "            text-align:  center;\n",
       "            width:  10em;\n",
       "             height:  80%;\n",
       "            background:  linear-gradient(90deg,#FFBF4D 14.5%, transparent 14.5%);\n",
       "        }#T_60162_row2_col2{\n",
       "            border:  0.5px solid black;\n",
       "            width:  85px;\n",
       "            text-align:  center;\n",
       "            width:  10em;\n",
       "             height:  80%;\n",
       "            background:  linear-gradient(90deg,#8FE8FA 94.7%, transparent 94.7%);\n",
       "        }#T_60162_row2_col3{\n",
       "            border:  0.5px solid black;\n",
       "            width:  85px;\n",
       "            text-align:  center;\n",
       "            width:  10em;\n",
       "             height:  80%;\n",
       "            background:  linear-gradient(90deg,#FFBF4D 34.1%, transparent 34.1%);\n",
       "        }#T_60162_row3_col2{\n",
       "            border:  0.5px solid black;\n",
       "            width:  85px;\n",
       "            text-align:  center;\n",
       "            width:  10em;\n",
       "             height:  80%;\n",
       "            background:  linear-gradient(90deg,#8FE8FA 83.9%, transparent 83.9%);\n",
       "        }#T_60162_row3_col3{\n",
       "            border:  0.5px solid black;\n",
       "            width:  85px;\n",
       "            text-align:  center;\n",
       "            width:  10em;\n",
       "             height:  80%;\n",
       "            background:  linear-gradient(90deg,#FFBF4D 2.3%, transparent 2.3%);\n",
       "        }#T_60162_row4_col2{\n",
       "            border:  0.5px solid black;\n",
       "            width:  85px;\n",
       "            text-align:  center;\n",
       "            width:  10em;\n",
       "             height:  80%;\n",
       "            background:  linear-gradient(90deg,#8FE8FA 77.3%, transparent 77.3%);\n",
       "        }#T_60162_row4_col3{\n",
       "            border:  0.5px solid black;\n",
       "            width:  85px;\n",
       "            text-align:  center;\n",
       "            width:  10em;\n",
       "             height:  80%;\n",
       "            background:  linear-gradient(90deg,#FFBF4D 100.0%, transparent 100.0%);\n",
       "        }#T_60162_row5_col2,#T_60162_row5_col3{\n",
       "            border:  0.5px solid black;\n",
       "            width:  85px;\n",
       "            text-align:  center;\n",
       "            width:  10em;\n",
       "             height:  80%;\n",
       "        }</style><table id=\"T_60162_\" ><thead>    <tr>        <th class=\"blank level0\" ></th>        <th class=\"col_heading level0 col0\" >sum</th>        <th class=\"col_heading level0 col1\" >count</th>        <th class=\"col_heading level0 col2\" >mean</th>        <th class=\"col_heading level0 col3\" >respond</th>    </tr>    <tr>        <th class=\"blank level1\" ></th>        <th class=\"col_heading level1 col0\" >debt</th>        <th class=\"col_heading level1 col1\" >debt</th>        <th class=\"col_heading level1 col2\" >debt</th>        <th class=\"col_heading level1 col3\" >debt</th>    </tr>    <tr>        <th class=\"index_name level0\" >children</th>        <th class=\"blank\" ></th>        <th class=\"blank\" ></th>        <th class=\"blank\" ></th>        <th class=\"blank\" ></th>    </tr></thead><tbody>\n",
       "                <tr>\n",
       "                        <th id=\"T_60162_level0_row0\" class=\"row_heading level0 row0\" >4</th>\n",
       "                        <td id=\"T_60162_row0_col0\" class=\"data row0 col0\" >4</td>\n",
       "                        <td id=\"T_60162_row0_col1\" class=\"data row0 col1\" >41</td>\n",
       "                        <td id=\"T_60162_row0_col2\" class=\"data row0 col2\" >9.76%</td>\n",
       "                        <td id=\"T_60162_row0_col3\" class=\"data row0 col3\" >0.19%</td>\n",
       "            </tr>\n",
       "            <tr>\n",
       "                        <th id=\"T_60162_level0_row1\" class=\"row_heading level0 row1\" >2</th>\n",
       "                        <td id=\"T_60162_row1_col0\" class=\"data row1 col0\" >194</td>\n",
       "                        <td id=\"T_60162_row1_col1\" class=\"data row1 col1\" >2052</td>\n",
       "                        <td id=\"T_60162_row1_col2\" class=\"data row1 col2\" >9.45%</td>\n",
       "                        <td id=\"T_60162_row1_col3\" class=\"data row1 col3\" >9.62%</td>\n",
       "            </tr>\n",
       "            <tr>\n",
       "                        <th id=\"T_60162_level0_row2\" class=\"row_heading level0 row2\" >1</th>\n",
       "                        <td id=\"T_60162_row2_col0\" class=\"data row2 col0\" >444</td>\n",
       "                        <td id=\"T_60162_row2_col1\" class=\"data row2 col1\" >4808</td>\n",
       "                        <td id=\"T_60162_row2_col2\" class=\"data row2 col2\" >9.23%</td>\n",
       "                        <td id=\"T_60162_row2_col3\" class=\"data row2 col3\" >22.54%</td>\n",
       "            </tr>\n",
       "            <tr>\n",
       "                        <th id=\"T_60162_level0_row3\" class=\"row_heading level0 row3\" >3</th>\n",
       "                        <td id=\"T_60162_row3_col0\" class=\"data row3 col0\" >27</td>\n",
       "                        <td id=\"T_60162_row3_col1\" class=\"data row3 col1\" >330</td>\n",
       "                        <td id=\"T_60162_row3_col2\" class=\"data row3 col2\" >8.18%</td>\n",
       "                        <td id=\"T_60162_row3_col3\" class=\"data row3 col3\" >1.55%</td>\n",
       "            </tr>\n",
       "            <tr>\n",
       "                        <th id=\"T_60162_level0_row4\" class=\"row_heading level0 row4\" >0</th>\n",
       "                        <td id=\"T_60162_row4_col0\" class=\"data row4 col0\" >1063</td>\n",
       "                        <td id=\"T_60162_row4_col1\" class=\"data row4 col1\" >14091</td>\n",
       "                        <td id=\"T_60162_row4_col2\" class=\"data row4 col2\" >7.54%</td>\n",
       "                        <td id=\"T_60162_row4_col3\" class=\"data row4 col3\" >66.06%</td>\n",
       "            </tr>\n",
       "            <tr>\n",
       "                        <th id=\"T_60162_level0_row5\" class=\"row_heading level0 row5\" >5</th>\n",
       "                        <td id=\"T_60162_row5_col0\" class=\"data row5 col0\" >0</td>\n",
       "                        <td id=\"T_60162_row5_col1\" class=\"data row5 col1\" >9</td>\n",
       "                        <td id=\"T_60162_row5_col2\" class=\"data row5 col2\" >0.00%</td>\n",
       "                        <td id=\"T_60162_row5_col3\" class=\"data row5 col3\" >0.04%</td>\n",
       "            </tr>\n",
       "    </tbody></table>"
      ],
      "text/plain": [
       "<pandas.io.formats.style.Styler at 0x7f8854fe1a30>"
      ]
     },
     "execution_count": 23,
     "metadata": {},
     "output_type": "execute_result"
    }
   ],
   "source": [
    "child_d = convers(df=data, ind=\"children\")\n",
    "child_d\n"
   ]
  },
  {
   "cell_type": "markdown",
   "id": "da9c3cf0",
   "metadata": {
    "deletable": false,
    "id": "da9c3cf0"
   },
   "source": [
    "**Вывод:** "
   ]
  },
  {
   "cell_type": "markdown",
   "id": "rpSqxHNF94F4",
   "metadata": {
    "id": "rpSqxHNF94F4"
   },
   "source": [
    "\n",
    "Для людей с количеством детей `5`, `4` и `3` очень маленькая выборка, поэтому основные данные дают люди с `0`, `1` и `2`. Между основными данными разница не очень большая. Исходя из этого можем сделать вывод, что зависимость задолженности от количества детей отсутствует. \n",
    "\n"
   ]
  },
  {
   "cell_type": "markdown",
   "id": "f015e28e",
   "metadata": {
    "deletable": false,
    "editable": false,
    "id": "f015e28e"
   },
   "source": [
    "#### Есть ли зависимость между семейным положением и возвратом кредита в срок?"
   ]
  },
  {
   "cell_type": "markdown",
   "id": "jQiFIpByLtXa",
   "metadata": {
    "id": "jQiFIpByLtXa"
   },
   "source": [
    "Повторим все шаги из предыдущего шага. Группировку датафрейма выполним по столбцам `family_status_id` и `family_status`"
   ]
  },
  {
   "cell_type": "code",
   "execution_count": 24,
   "id": "3100e9ae",
   "metadata": {
    "colab": {
     "base_uri": "https://localhost:8080/",
     "height": 273
    },
    "deletable": false,
    "id": "3100e9ae",
    "outputId": "2182caf6-c70a-4f44-d4ab-cbd52c09e90a"
   },
   "outputs": [
    {
     "data": {
      "text/html": [
       "<style  type=\"text/css\" >\n",
       "#T_ce535_row0_col0,#T_ce535_row0_col1,#T_ce535_row1_col0,#T_ce535_row1_col1,#T_ce535_row2_col0,#T_ce535_row2_col1,#T_ce535_row3_col0,#T_ce535_row3_col1,#T_ce535_row4_col0,#T_ce535_row4_col1{\n",
       "            border:  0.5px solid black;\n",
       "            width:  85px;\n",
       "            text-align:  center;\n",
       "        }#T_ce535_row0_col2{\n",
       "            border:  0.5px solid black;\n",
       "            width:  85px;\n",
       "            text-align:  center;\n",
       "            width:  10em;\n",
       "             height:  80%;\n",
       "            background:  linear-gradient(90deg,#8FE8FA 100.0%, transparent 100.0%);\n",
       "        }#T_ce535_row0_col3{\n",
       "            border:  0.5px solid black;\n",
       "            width:  85px;\n",
       "            text-align:  center;\n",
       "            width:  10em;\n",
       "             height:  80%;\n",
       "            background:  linear-gradient(90deg,#FFBF4D 16.3%, transparent 16.3%);\n",
       "        }#T_ce535_row1_col2{\n",
       "            border:  0.5px solid black;\n",
       "            width:  85px;\n",
       "            text-align:  center;\n",
       "            width:  10em;\n",
       "             height:  80%;\n",
       "            background:  linear-gradient(90deg,#8FE8FA 85.6%, transparent 85.6%);\n",
       "        }#T_ce535_row1_col3{\n",
       "            border:  0.5px solid black;\n",
       "            width:  85px;\n",
       "            text-align:  center;\n",
       "            width:  10em;\n",
       "             height:  80%;\n",
       "            background:  linear-gradient(90deg,#FFBF4D 28.1%, transparent 28.1%);\n",
       "        }#T_ce535_row2_col2{\n",
       "            border:  0.5px solid black;\n",
       "            width:  85px;\n",
       "            text-align:  center;\n",
       "            width:  10em;\n",
       "             height:  80%;\n",
       "            background:  linear-gradient(90deg,#8FE8FA 29.8%, transparent 29.8%);\n",
       "        }#T_ce535_row2_col3{\n",
       "            border:  0.5px solid black;\n",
       "            width:  85px;\n",
       "            text-align:  center;\n",
       "            width:  10em;\n",
       "             height:  80%;\n",
       "            background:  linear-gradient(90deg,#FFBF4D 100.0%, transparent 100.0%);\n",
       "        }#T_ce535_row3_col2{\n",
       "            border:  0.5px solid black;\n",
       "            width:  85px;\n",
       "            text-align:  center;\n",
       "            width:  10em;\n",
       "             height:  80%;\n",
       "            background:  linear-gradient(90deg,#8FE8FA 14.0%, transparent 14.0%);\n",
       "        }#T_ce535_row3_col3{\n",
       "            border:  0.5px solid black;\n",
       "            width:  85px;\n",
       "            text-align:  center;\n",
       "            width:  10em;\n",
       "             height:  80%;\n",
       "            background:  linear-gradient(90deg,#FFBF4D 2.1%, transparent 2.1%);\n",
       "        }#T_ce535_row4_col2,#T_ce535_row4_col3{\n",
       "            border:  0.5px solid black;\n",
       "            width:  85px;\n",
       "            text-align:  center;\n",
       "            width:  10em;\n",
       "             height:  80%;\n",
       "        }</style><table id=\"T_ce535_\" ><thead>    <tr>        <th class=\"blank\" ></th>        <th class=\"blank level0\" ></th>        <th class=\"col_heading level0 col0\" >sum</th>        <th class=\"col_heading level0 col1\" >count</th>        <th class=\"col_heading level0 col2\" >mean</th>        <th class=\"col_heading level0 col3\" >respond</th>    </tr>    <tr>        <th class=\"blank\" ></th>        <th class=\"blank level1\" ></th>        <th class=\"col_heading level1 col0\" >debt</th>        <th class=\"col_heading level1 col1\" >debt</th>        <th class=\"col_heading level1 col2\" >debt</th>        <th class=\"col_heading level1 col3\" >debt</th>    </tr>    <tr>        <th class=\"index_name level0\" >family_status_id</th>        <th class=\"index_name level1\" >family_status</th>        <th class=\"blank\" ></th>        <th class=\"blank\" ></th>        <th class=\"blank\" ></th>        <th class=\"blank\" ></th>    </tr></thead><tbody>\n",
       "                <tr>\n",
       "                        <th id=\"T_ce535_level0_row0\" class=\"row_heading level0 row0\" >4</th>\n",
       "                        <th id=\"T_ce535_level1_row0\" class=\"row_heading level1 row0\" >Не женат / не замужем</th>\n",
       "                        <td id=\"T_ce535_row0_col0\" class=\"data row0 col0\" >273</td>\n",
       "                        <td id=\"T_ce535_row0_col1\" class=\"data row0 col1\" >2796</td>\n",
       "                        <td id=\"T_ce535_row0_col2\" class=\"data row0 col2\" >9.76%</td>\n",
       "                        <td id=\"T_ce535_row0_col3\" class=\"data row0 col3\" >13.11%</td>\n",
       "            </tr>\n",
       "            <tr>\n",
       "                        <th id=\"T_ce535_level0_row1\" class=\"row_heading level0 row1\" >1</th>\n",
       "                        <th id=\"T_ce535_level1_row1\" class=\"row_heading level1 row1\" >гражданский брак</th>\n",
       "                        <td id=\"T_ce535_row1_col0\" class=\"data row1 col0\" >385</td>\n",
       "                        <td id=\"T_ce535_row1_col1\" class=\"data row1 col1\" >4134</td>\n",
       "                        <td id=\"T_ce535_row1_col2\" class=\"data row1 col2\" >9.31%</td>\n",
       "                        <td id=\"T_ce535_row1_col3\" class=\"data row1 col3\" >19.38%</td>\n",
       "            </tr>\n",
       "            <tr>\n",
       "                        <th id=\"T_ce535_level0_row2\" class=\"row_heading level0 row2\" >0</th>\n",
       "                        <th id=\"T_ce535_level1_row2\" class=\"row_heading level1 row2\" >женат / замужем</th>\n",
       "                        <td id=\"T_ce535_row2_col0\" class=\"data row2 col0\" >927</td>\n",
       "                        <td id=\"T_ce535_row2_col1\" class=\"data row2 col1\" >12261</td>\n",
       "                        <td id=\"T_ce535_row2_col2\" class=\"data row2 col2\" >7.56%</td>\n",
       "                        <td id=\"T_ce535_row2_col3\" class=\"data row2 col3\" >57.48%</td>\n",
       "            </tr>\n",
       "            <tr>\n",
       "                        <th id=\"T_ce535_level0_row3\" class=\"row_heading level0 row3\" >3</th>\n",
       "                        <th id=\"T_ce535_level1_row3\" class=\"row_heading level1 row3\" >в разводе</th>\n",
       "                        <td id=\"T_ce535_row3_col0\" class=\"data row3 col0\" >84</td>\n",
       "                        <td id=\"T_ce535_row3_col1\" class=\"data row3 col1\" >1189</td>\n",
       "                        <td id=\"T_ce535_row3_col2\" class=\"data row3 col2\" >7.06%</td>\n",
       "                        <td id=\"T_ce535_row3_col3\" class=\"data row3 col3\" >5.57%</td>\n",
       "            </tr>\n",
       "            <tr>\n",
       "                        <th id=\"T_ce535_level0_row4\" class=\"row_heading level0 row4\" >2</th>\n",
       "                        <th id=\"T_ce535_level1_row4\" class=\"row_heading level1 row4\" >вдовец / вдова</th>\n",
       "                        <td id=\"T_ce535_row4_col0\" class=\"data row4 col0\" >63</td>\n",
       "                        <td id=\"T_ce535_row4_col1\" class=\"data row4 col1\" >951</td>\n",
       "                        <td id=\"T_ce535_row4_col2\" class=\"data row4 col2\" >6.62%</td>\n",
       "                        <td id=\"T_ce535_row4_col3\" class=\"data row4 col3\" >4.46%</td>\n",
       "            </tr>\n",
       "    </tbody></table>"
      ],
      "text/plain": [
       "<pandas.io.formats.style.Styler at 0x7f87e876e520>"
      ]
     },
     "execution_count": 24,
     "metadata": {},
     "output_type": "execute_result"
    }
   ],
   "source": [
    "status_d = convers(df=data, ind=[\"family_status_id\", \"family_status\"])\n",
    "status_d"
   ]
  },
  {
   "cell_type": "markdown",
   "id": "f4a73303",
   "metadata": {
    "deletable": false,
    "id": "f4a73303"
   },
   "source": [
    "**Вывод:** "
   ]
  },
  {
   "cell_type": "markdown",
   "id": "LPXQ-pTZD4n0",
   "metadata": {
    "id": "LPXQ-pTZD4n0"
   },
   "source": [
    "По столбцу `respond` можно увидеть, что количество строк для каждой категории достаточно для анализа. По столбцу `convers` наблюдается корреляция между семейным статусом и количеством задолженностей по возврату кредитов: люди не состоящие в официальном браке(категории `не женат/не замужем` и `гражданский брак`) склонны реже платить по долговым обязательствам. Действительно, не имея семьи и обязательств существует риск неверно рассчитать расход собственных средств без возможности опереться на доход супруга/супруги.\n",
    "\n",
    "Люди из категорий `женат/замужем` являются идеальными заемщиками: один из супругов будет являтся поручителем по кредиту, а совместный доход гарантированно позволит выплачивать долговые обязательства. К тому же, семейные люди реже склонны рисковать и брать кредиты, которые превышают их возможности по выплатам.\n",
    "\n",
    "Категория `вдова/вдовец` зачастую предполагает поступление средств от государства в пользу этой категории граждан, а так же, возможность использования совместно нажитого имущества единолично. Что объясняет своевременные выплаты.\n",
    "\n",
    "Заемщики из категории `в разводе` - самые неоднозначные, что можно увидеть из таблице ниже. Основную часть составляют женщины с доходом от 50к до 200к с детьми. Здесь можно предположить, что получаемые алименты способствуют выплатам. Либо, исключая информацию из таблицы ниже, предположить некорректность исходных данных. \n"
   ]
  },
  {
   "cell_type": "code",
   "execution_count": 25,
   "id": "tQGE1Cf42BWU",
   "metadata": {
    "colab": {
     "base_uri": "https://localhost:8080/",
     "height": 273
    },
    "id": "tQGE1Cf42BWU",
    "outputId": "ae18b7b5-f848-4ea3-91d6-2a96c722cc99"
   },
   "outputs": [
    {
     "data": {
      "text/html": [
       "<style  type=\"text/css\" >\n",
       "#T_9df96_row0_col0,#T_9df96_row0_col1,#T_9df96_row1_col1,#T_9df96_row2_col0,#T_9df96_row2_col1,#T_9df96_row3_col0,#T_9df96_row3_col1,#T_9df96_row4_col0,#T_9df96_row4_col1{\n",
       "            border:  0.5px solid black;\n",
       "            width:  100px;\n",
       "            text-align:  center;\n",
       "        }#T_9df96_row1_col0{\n",
       "            background-color:  yellow;\n",
       "            border:  0.5px solid black;\n",
       "            width:  100px;\n",
       "            text-align:  center;\n",
       "        }</style><table id=\"T_9df96_\" ><thead>    <tr>        <th class=\"blank\" ></th>        <th class=\"blank level0\" ></th>        <th class=\"col_heading level0 col0\" >count</th>        <th class=\"col_heading level0 col1\" >sum</th>    </tr>    <tr>        <th class=\"blank\" ></th>        <th class=\"blank level1\" ></th>        <th class=\"col_heading level1 col0\" >children</th>        <th class=\"col_heading level1 col1\" >children</th>    </tr>    <tr>        <th class=\"index_name level0\" >gender</th>        <th class=\"index_name level1\" >total_income_category</th>        <th class=\"blank\" ></th>        <th class=\"blank\" ></th>    </tr></thead><tbody>\n",
       "                <tr>\n",
       "                        <th id=\"T_9df96_level0_row0\" class=\"row_heading level0 row0\" rowspan=\"3\">F</th>\n",
       "                        <th id=\"T_9df96_level1_row0\" class=\"row_heading level1 row0\" >B</th>\n",
       "                        <td id=\"T_9df96_row0_col0\" class=\"data row0 col0\" >12</td>\n",
       "                        <td id=\"T_9df96_row0_col1\" class=\"data row0 col1\" >3</td>\n",
       "            </tr>\n",
       "            <tr>\n",
       "                                <th id=\"T_9df96_level1_row1\" class=\"row_heading level1 row1\" >C</th>\n",
       "                        <td id=\"T_9df96_row1_col0\" class=\"data row1 col0\" >47</td>\n",
       "                        <td id=\"T_9df96_row1_col1\" class=\"data row1 col1\" >14</td>\n",
       "            </tr>\n",
       "            <tr>\n",
       "                                <th id=\"T_9df96_level1_row2\" class=\"row_heading level1 row2\" >D</th>\n",
       "                        <td id=\"T_9df96_row2_col0\" class=\"data row2 col0\" >2</td>\n",
       "                        <td id=\"T_9df96_row2_col1\" class=\"data row2 col1\" >4</td>\n",
       "            </tr>\n",
       "            <tr>\n",
       "                        <th id=\"T_9df96_level0_row3\" class=\"row_heading level0 row3\" rowspan=\"2\">M</th>\n",
       "                        <th id=\"T_9df96_level1_row3\" class=\"row_heading level1 row3\" >B</th>\n",
       "                        <td id=\"T_9df96_row3_col0\" class=\"data row3 col0\" >6</td>\n",
       "                        <td id=\"T_9df96_row3_col1\" class=\"data row3 col1\" >4</td>\n",
       "            </tr>\n",
       "            <tr>\n",
       "                                <th id=\"T_9df96_level1_row4\" class=\"row_heading level1 row4\" >C</th>\n",
       "                        <td id=\"T_9df96_row4_col0\" class=\"data row4 col0\" >17</td>\n",
       "                        <td id=\"T_9df96_row4_col1\" class=\"data row4 col1\" >13</td>\n",
       "            </tr>\n",
       "    </tbody></table>"
      ],
      "text/plain": [
       "<pandas.io.formats.style.Styler at 0x7f8854fe1400>"
      ]
     },
     "execution_count": 25,
     "metadata": {},
     "output_type": "execute_result"
    }
   ],
   "source": [
    "data[(data.family_status==\"в разводе\")&(data.debt==1)]\\\n",
    ".pivot_table(values=[\"children\"], \n",
    "             index=[\"gender\", \"total_income_category\"], \n",
    "             aggfunc = [\"count\", \"sum\"])\\\n",
    "             .style.highlight_max(\"count\")\\\n",
    "             .set_properties(**{\n",
    "                 \"border\": \"0.5px solid black\",\n",
    "                 \"width\": \"100px\",\n",
    "                 \"text-align\": \"center\"})"
   ]
  },
  {
   "cell_type": "markdown",
   "id": "cd7612b5",
   "metadata": {
    "deletable": false,
    "editable": false,
    "id": "cd7612b5"
   },
   "source": [
    "#### Есть ли зависимость между уровнем дохода и возвратом кредита в срок?"
   ]
  },
  {
   "cell_type": "markdown",
   "id": "gXrz_bFBZNrK",
   "metadata": {
    "id": "gXrz_bFBZNrK"
   },
   "source": [
    "Сгруппируем данные по столбцу `total_income`"
   ]
  },
  {
   "cell_type": "code",
   "execution_count": 26,
   "id": "c62ac0d9",
   "metadata": {
    "colab": {
     "base_uri": "https://localhost:8080/",
     "height": 273
    },
    "deletable": false,
    "id": "c62ac0d9",
    "outputId": "06543087-3bce-40af-dfa0-291721c67802"
   },
   "outputs": [
    {
     "data": {
      "text/html": [
       "<style  type=\"text/css\" >\n",
       "#T_4ee09_row0_col0,#T_4ee09_row0_col1,#T_4ee09_row1_col0,#T_4ee09_row1_col1,#T_4ee09_row2_col0,#T_4ee09_row2_col1,#T_4ee09_row3_col0,#T_4ee09_row3_col1,#T_4ee09_row4_col0,#T_4ee09_row4_col1{\n",
       "            border:  0.5px solid black;\n",
       "            width:  85px;\n",
       "            text-align:  center;\n",
       "        }#T_4ee09_row0_col2{\n",
       "            border:  0.5px solid black;\n",
       "            width:  85px;\n",
       "            text-align:  center;\n",
       "            width:  10em;\n",
       "             height:  80%;\n",
       "            background:  linear-gradient(90deg,#8FE8FA 100.0%, transparent 100.0%);\n",
       "        }#T_4ee09_row0_col3,#T_4ee09_row4_col2{\n",
       "            border:  0.5px solid black;\n",
       "            width:  85px;\n",
       "            text-align:  center;\n",
       "            width:  10em;\n",
       "             height:  80%;\n",
       "        }#T_4ee09_row1_col2{\n",
       "            border:  0.5px solid black;\n",
       "            width:  85px;\n",
       "            text-align:  center;\n",
       "            width:  10em;\n",
       "             height:  80%;\n",
       "            background:  linear-gradient(90deg,#8FE8FA 80.7%, transparent 80.7%);\n",
       "        }#T_4ee09_row1_col3{\n",
       "            border:  0.5px solid black;\n",
       "            width:  85px;\n",
       "            text-align:  center;\n",
       "            width:  10em;\n",
       "             height:  80%;\n",
       "            background:  linear-gradient(90deg,#FFBF4D 100.0%, transparent 100.0%);\n",
       "        }#T_4ee09_row2_col2{\n",
       "            border:  0.5px solid black;\n",
       "            width:  85px;\n",
       "            text-align:  center;\n",
       "            width:  10em;\n",
       "             height:  80%;\n",
       "            background:  linear-gradient(90deg,#8FE8FA 64.5%, transparent 64.5%);\n",
       "        }#T_4ee09_row2_col3{\n",
       "            border:  0.5px solid black;\n",
       "            width:  85px;\n",
       "            text-align:  center;\n",
       "            width:  10em;\n",
       "             height:  80%;\n",
       "            background:  linear-gradient(90deg,#FFBF4D 0.0%, transparent 0.0%);\n",
       "        }#T_4ee09_row3_col2{\n",
       "            border:  0.5px solid black;\n",
       "            width:  85px;\n",
       "            text-align:  center;\n",
       "            width:  10em;\n",
       "             height:  80%;\n",
       "            background:  linear-gradient(90deg,#8FE8FA 33.9%, transparent 33.9%);\n",
       "        }#T_4ee09_row3_col3{\n",
       "            border:  0.5px solid black;\n",
       "            width:  85px;\n",
       "            text-align:  center;\n",
       "            width:  10em;\n",
       "             height:  80%;\n",
       "            background:  linear-gradient(90deg,#FFBF4D 31.4%, transparent 31.4%);\n",
       "        }#T_4ee09_row4_col3{\n",
       "            border:  0.5px solid black;\n",
       "            width:  85px;\n",
       "            text-align:  center;\n",
       "            width:  10em;\n",
       "             height:  80%;\n",
       "            background:  linear-gradient(90deg,#FFBF4D 2.1%, transparent 2.1%);\n",
       "        }</style><table id=\"T_4ee09_\" ><thead>    <tr>        <th class=\"blank level0\" ></th>        <th class=\"col_heading level0 col0\" >sum</th>        <th class=\"col_heading level0 col1\" >count</th>        <th class=\"col_heading level0 col2\" >mean</th>        <th class=\"col_heading level0 col3\" >respond</th>    </tr>    <tr>        <th class=\"blank level1\" ></th>        <th class=\"col_heading level1 col0\" >debt</th>        <th class=\"col_heading level1 col1\" >debt</th>        <th class=\"col_heading level1 col2\" >debt</th>        <th class=\"col_heading level1 col3\" >debt</th>    </tr>    <tr>        <th class=\"index_name level0\" >total_income_category</th>        <th class=\"blank\" ></th>        <th class=\"blank\" ></th>        <th class=\"blank\" ></th>        <th class=\"blank\" ></th>    </tr></thead><tbody>\n",
       "                <tr>\n",
       "                        <th id=\"T_4ee09_level0_row0\" class=\"row_heading level0 row0\" >E</th>\n",
       "                        <td id=\"T_4ee09_row0_col0\" class=\"data row0 col0\" >2</td>\n",
       "                        <td id=\"T_4ee09_row0_col1\" class=\"data row0 col1\" >22</td>\n",
       "                        <td id=\"T_4ee09_row0_col2\" class=\"data row0 col2\" >9.09%</td>\n",
       "                        <td id=\"T_4ee09_row0_col3\" class=\"data row0 col3\" >0.10%</td>\n",
       "            </tr>\n",
       "            <tr>\n",
       "                        <th id=\"T_4ee09_level0_row1\" class=\"row_heading level0 row1\" >C</th>\n",
       "                        <td id=\"T_4ee09_row1_col0\" class=\"data row1 col0\" >1353</td>\n",
       "                        <td id=\"T_4ee09_row1_col1\" class=\"data row1 col1\" >15921</td>\n",
       "                        <td id=\"T_4ee09_row1_col2\" class=\"data row1 col2\" >8.50%</td>\n",
       "                        <td id=\"T_4ee09_row1_col3\" class=\"data row1 col3\" >74.64%</td>\n",
       "            </tr>\n",
       "            <tr>\n",
       "                        <th id=\"T_4ee09_level0_row2\" class=\"row_heading level0 row2\" >A</th>\n",
       "                        <td id=\"T_4ee09_row2_col0\" class=\"data row2 col0\" >2</td>\n",
       "                        <td id=\"T_4ee09_row2_col1\" class=\"data row2 col1\" >25</td>\n",
       "                        <td id=\"T_4ee09_row2_col2\" class=\"data row2 col2\" >8.00%</td>\n",
       "                        <td id=\"T_4ee09_row2_col3\" class=\"data row2 col3\" >0.12%</td>\n",
       "            </tr>\n",
       "            <tr>\n",
       "                        <th id=\"T_4ee09_level0_row3\" class=\"row_heading level0 row3\" >B</th>\n",
       "                        <td id=\"T_4ee09_row3_col0\" class=\"data row3 col0\" >354</td>\n",
       "                        <td id=\"T_4ee09_row3_col1\" class=\"data row3 col1\" >5014</td>\n",
       "                        <td id=\"T_4ee09_row3_col2\" class=\"data row3 col2\" >7.06%</td>\n",
       "                        <td id=\"T_4ee09_row3_col3\" class=\"data row3 col3\" >23.51%</td>\n",
       "            </tr>\n",
       "            <tr>\n",
       "                        <th id=\"T_4ee09_level0_row4\" class=\"row_heading level0 row4\" >D</th>\n",
       "                        <td id=\"T_4ee09_row4_col0\" class=\"data row4 col0\" >21</td>\n",
       "                        <td id=\"T_4ee09_row4_col1\" class=\"data row4 col1\" >349</td>\n",
       "                        <td id=\"T_4ee09_row4_col2\" class=\"data row4 col2\" >6.02%</td>\n",
       "                        <td id=\"T_4ee09_row4_col3\" class=\"data row4 col3\" >1.64%</td>\n",
       "            </tr>\n",
       "    </tbody></table>"
      ],
      "text/plain": [
       "<pandas.io.formats.style.Styler at 0x7f8854fe1850>"
      ]
     },
     "execution_count": 26,
     "metadata": {},
     "output_type": "execute_result"
    }
   ],
   "source": [
    "income_d = convers(df=data, ind=\"total_income_category\")\n",
    "income_d"
   ]
  },
  {
   "cell_type": "markdown",
   "id": "69f92a7b",
   "metadata": {
    "deletable": false,
    "id": "69f92a7b"
   },
   "source": [
    "**Вывод:** "
   ]
  },
  {
   "cell_type": "markdown",
   "id": "TJ7hrK_SI-Na",
   "metadata": {
    "id": "TJ7hrK_SI-Na"
   },
   "source": [
    "Для категории с доходом `E` и `A` выборка недостаточна, о чем говорят значения в стоблце `respond`. Ввиду недостаточного количества данных невозможно корректно анализировать зависимость долговых обязательств от дохода"
   ]
  },
  {
   "cell_type": "markdown",
   "id": "2f77ae05",
   "metadata": {
    "deletable": false,
    "editable": false,
    "id": "2f77ae05"
   },
   "source": [
    "#### Как разные цели кредита влияют на его возврат в срок?"
   ]
  },
  {
   "cell_type": "code",
   "execution_count": 27,
   "id": "91511c35",
   "metadata": {
    "colab": {
     "base_uri": "https://localhost:8080/",
     "height": 241
    },
    "deletable": false,
    "id": "91511c35",
    "outputId": "9c972737-8929-4bc7-e699-53deadbc740e"
   },
   "outputs": [
    {
     "data": {
      "text/html": [
       "<style  type=\"text/css\" >\n",
       "#T_de2d2_row0_col0,#T_de2d2_row0_col1,#T_de2d2_row1_col0,#T_de2d2_row1_col1,#T_de2d2_row2_col0,#T_de2d2_row2_col1,#T_de2d2_row3_col0,#T_de2d2_row3_col1{\n",
       "            border:  0.5px solid black;\n",
       "            width:  85px;\n",
       "            text-align:  center;\n",
       "        }#T_de2d2_row0_col2{\n",
       "            border:  0.5px solid black;\n",
       "            width:  85px;\n",
       "            text-align:  center;\n",
       "            width:  10em;\n",
       "             height:  80%;\n",
       "            background:  linear-gradient(90deg,#8FE8FA 100.0%, transparent 100.0%);\n",
       "        }#T_de2d2_row0_col3{\n",
       "            border:  0.5px solid black;\n",
       "            width:  85px;\n",
       "            text-align:  center;\n",
       "            width:  10em;\n",
       "             height:  80%;\n",
       "            background:  linear-gradient(90deg,#FFBF4D 23.3%, transparent 23.3%);\n",
       "        }#T_de2d2_row1_col2{\n",
       "            border:  0.5px solid black;\n",
       "            width:  85px;\n",
       "            text-align:  center;\n",
       "            width:  10em;\n",
       "             height:  80%;\n",
       "            background:  linear-gradient(90deg,#8FE8FA 95.5%, transparent 95.5%);\n",
       "        }#T_de2d2_row1_col3{\n",
       "            border:  0.5px solid black;\n",
       "            width:  85px;\n",
       "            text-align:  center;\n",
       "            width:  10em;\n",
       "             height:  80%;\n",
       "            background:  linear-gradient(90deg,#FFBF4D 19.9%, transparent 19.9%);\n",
       "        }#T_de2d2_row2_col2{\n",
       "            border:  0.5px solid black;\n",
       "            width:  85px;\n",
       "            text-align:  center;\n",
       "            width:  10em;\n",
       "             height:  80%;\n",
       "            background:  linear-gradient(90deg,#8FE8FA 31.4%, transparent 31.4%);\n",
       "        }#T_de2d2_row2_col3,#T_de2d2_row3_col2{\n",
       "            border:  0.5px solid black;\n",
       "            width:  85px;\n",
       "            text-align:  center;\n",
       "            width:  10em;\n",
       "             height:  80%;\n",
       "        }#T_de2d2_row3_col3{\n",
       "            border:  0.5px solid black;\n",
       "            width:  85px;\n",
       "            text-align:  center;\n",
       "            width:  10em;\n",
       "             height:  80%;\n",
       "            background:  linear-gradient(90deg,#FFBF4D 100.0%, transparent 100.0%);\n",
       "        }</style><table id=\"T_de2d2_\" ><thead>    <tr>        <th class=\"blank level0\" ></th>        <th class=\"col_heading level0 col0\" >sum</th>        <th class=\"col_heading level0 col1\" >count</th>        <th class=\"col_heading level0 col2\" >mean</th>        <th class=\"col_heading level0 col3\" >respond</th>    </tr>    <tr>        <th class=\"blank level1\" ></th>        <th class=\"col_heading level1 col0\" >debt</th>        <th class=\"col_heading level1 col1\" >debt</th>        <th class=\"col_heading level1 col2\" >debt</th>        <th class=\"col_heading level1 col3\" >debt</th>    </tr>    <tr>        <th class=\"index_name level0\" >purpose_category</th>        <th class=\"blank\" ></th>        <th class=\"blank\" ></th>        <th class=\"blank\" ></th>        <th class=\"blank\" ></th>    </tr></thead><tbody>\n",
       "                <tr>\n",
       "                        <th id=\"T_de2d2_level0_row0\" class=\"row_heading level0 row0\" >операции с автомобилем</th>\n",
       "                        <td id=\"T_de2d2_row0_col0\" class=\"data row0 col0\" >400</td>\n",
       "                        <td id=\"T_de2d2_row0_col1\" class=\"data row0 col1\" >4279</td>\n",
       "                        <td id=\"T_de2d2_row0_col2\" class=\"data row0 col2\" >9.35%</td>\n",
       "                        <td id=\"T_de2d2_row0_col3\" class=\"data row0 col3\" >20.06%</td>\n",
       "            </tr>\n",
       "            <tr>\n",
       "                        <th id=\"T_de2d2_level0_row1\" class=\"row_heading level0 row1\" >получение образования</th>\n",
       "                        <td id=\"T_de2d2_row1_col0\" class=\"data row1 col0\" >369</td>\n",
       "                        <td id=\"T_de2d2_row1_col1\" class=\"data row1 col1\" >3988</td>\n",
       "                        <td id=\"T_de2d2_row1_col2\" class=\"data row1 col2\" >9.25%</td>\n",
       "                        <td id=\"T_de2d2_row1_col3\" class=\"data row1 col3\" >18.70%</td>\n",
       "            </tr>\n",
       "            <tr>\n",
       "                        <th id=\"T_de2d2_level0_row2\" class=\"row_heading level0 row2\" >проведение свадьбы</th>\n",
       "                        <td id=\"T_de2d2_row2_col0\" class=\"data row2 col0\" >183</td>\n",
       "                        <td id=\"T_de2d2_row2_col1\" class=\"data row2 col1\" >2313</td>\n",
       "                        <td id=\"T_de2d2_row2_col2\" class=\"data row2 col2\" >7.91%</td>\n",
       "                        <td id=\"T_de2d2_row2_col3\" class=\"data row2 col3\" >10.84%</td>\n",
       "            </tr>\n",
       "            <tr>\n",
       "                        <th id=\"T_de2d2_level0_row3\" class=\"row_heading level0 row3\" >операции с недвижимостью</th>\n",
       "                        <td id=\"T_de2d2_row3_col0\" class=\"data row3 col0\" >780</td>\n",
       "                        <td id=\"T_de2d2_row3_col1\" class=\"data row3 col1\" >10751</td>\n",
       "                        <td id=\"T_de2d2_row3_col2\" class=\"data row3 col2\" >7.26%</td>\n",
       "                        <td id=\"T_de2d2_row3_col3\" class=\"data row3 col3\" >50.40%</td>\n",
       "            </tr>\n",
       "    </tbody></table>"
      ],
      "text/plain": [
       "<pandas.io.formats.style.Styler at 0x7f87e89e2ee0>"
      ]
     },
     "execution_count": 27,
     "metadata": {},
     "output_type": "execute_result"
    }
   ],
   "source": [
    "purpose_d = convers(df=data, ind=\"purpose_category\")\n",
    "purpose_d"
   ]
  },
  {
   "cell_type": "markdown",
   "id": "d7cbd659",
   "metadata": {
    "deletable": false,
    "id": "d7cbd659"
   },
   "source": [
    "**Вывод:**"
   ]
  },
  {
   "cell_type": "markdown",
   "source": [
    "Исходя из столбца `respond` - выборка достаточная для оценки зависимости. На категории `операции с автомобилем` и `получение образования` приходятся основные задолженности. На наиболее многочисленную, по количеству выборки, категорию `операции с недвижимостью` приходится наименьшее количество задолженностей."
   ],
   "metadata": {
    "collapsed": false
   }
  },
  {
   "cell_type": "markdown",
   "id": "52290982",
   "metadata": {
    "deletable": false,
    "editable": false,
    "id": "52290982"
   },
   "source": [
    "## Общий вывод."
   ]
  },
  {
   "cell_type": "markdown",
   "id": "7mg0V73UsP22",
   "metadata": {
    "id": "7mg0V73UsP22"
   },
   "source": [
    "В данной работе проведена подготовка данных с последующим их использованием при анализе зависимостей, которые по различным метрикам определяют категории лиц принадлежащие высокой группе риска по своевременным выпалатам долговых обязательств. \n",
    "\n",
    "**В первой части** работы данный были откорректированы путем работы с пропущенными и аномальными значениями, удалением дубликатов, изменением типов данных. Так же были добавлены отдельные категории для удобства работы с данными.\n",
    "\n",
    "**Во второй части работы** на основании подготовленных данных были установлены зависимости наличия задолженностей по кредитам и семейного статуса, а так же влияние целей кредита на задолженности. Влияние количества детей и суммы дохода на наличие задолженностей не установлено по причине малой выборки данных для анализа."
   ]
  },
  {
   "cell_type": "markdown",
   "id": "lMyzx5Gp3b0T",
   "metadata": {
    "id": "lMyzx5Gp3b0T"
   },
   "source": [
    "Для таблицы влияния количества детей недосточно данных для категорий `4`, `3` и `5`. Для таблицы влияния суммы дохода данных недостает в категория `E`, `A` и`D`. В случае продолжения анализа, выводы будет ошибочны."
   ]
  },
  {
   "cell_type": "code",
   "execution_count": 28,
   "id": "3O7ukVFexyPq",
   "metadata": {
    "colab": {
     "base_uri": "https://localhost:8080/",
     "height": 217
    },
    "id": "3O7ukVFexyPq",
    "outputId": "07d18ca4-96e6-44ed-8ac0-eb6d53ee56f3"
   },
   "outputs": [
    {
     "data": {
      "text/html": [
       "<style  type=\"text/css\" >\n",
       "#T_60162_row0_col0,#T_60162_row0_col1,#T_60162_row1_col0,#T_60162_row1_col1,#T_60162_row2_col0,#T_60162_row2_col1,#T_60162_row3_col0,#T_60162_row3_col1,#T_60162_row4_col0,#T_60162_row4_col1,#T_60162_row5_col0,#T_60162_row5_col1{\n",
       "            border:  0.5px solid black;\n",
       "            width:  85px;\n",
       "            text-align:  center;\n",
       "            border:  0.5px solid black;\n",
       "            width:  85px;\n",
       "            text-align:  center;\n",
       "        }#T_60162_row0_col2{\n",
       "            border:  0.5px solid black;\n",
       "            width:  85px;\n",
       "            text-align:  center;\n",
       "            width:  10em;\n",
       "             height:  80%;\n",
       "            background:  linear-gradient(90deg,#8FE8FA 100.0%, transparent 100.0%);\n",
       "            border:  0.5px solid black;\n",
       "            width:  85px;\n",
       "            text-align:  center;\n",
       "            width:  10em;\n",
       "             height:  80%;\n",
       "            background:  linear-gradient(90deg,#8FE8FA 100.0%, transparent 100.0%);\n",
       "        }#T_60162_row0_col3{\n",
       "            border:  0.5px solid black;\n",
       "            width:  85px;\n",
       "            text-align:  center;\n",
       "            width:  10em;\n",
       "             height:  80%;\n",
       "            background:  linear-gradient(90deg,#FFBF4D 0.2%, transparent 0.2%);\n",
       "            border:  0.5px solid black;\n",
       "            width:  85px;\n",
       "            text-align:  center;\n",
       "            width:  10em;\n",
       "             height:  80%;\n",
       "            background:  linear-gradient(90deg,#FFBF4D 0.2%, transparent 0.2%);\n",
       "        }#T_60162_row1_col2{\n",
       "            border:  0.5px solid black;\n",
       "            width:  85px;\n",
       "            text-align:  center;\n",
       "            width:  10em;\n",
       "             height:  80%;\n",
       "            background:  linear-gradient(90deg,#8FE8FA 96.9%, transparent 96.9%);\n",
       "            border:  0.5px solid black;\n",
       "            width:  85px;\n",
       "            text-align:  center;\n",
       "            width:  10em;\n",
       "             height:  80%;\n",
       "            background:  linear-gradient(90deg,#8FE8FA 96.9%, transparent 96.9%);\n",
       "        }#T_60162_row1_col3{\n",
       "            border:  0.5px solid black;\n",
       "            width:  85px;\n",
       "            text-align:  center;\n",
       "            width:  10em;\n",
       "             height:  80%;\n",
       "            background:  linear-gradient(90deg,#FFBF4D 14.5%, transparent 14.5%);\n",
       "            border:  0.5px solid black;\n",
       "            width:  85px;\n",
       "            text-align:  center;\n",
       "            width:  10em;\n",
       "             height:  80%;\n",
       "            background:  linear-gradient(90deg,#FFBF4D 14.5%, transparent 14.5%);\n",
       "        }#T_60162_row2_col2{\n",
       "            border:  0.5px solid black;\n",
       "            width:  85px;\n",
       "            text-align:  center;\n",
       "            width:  10em;\n",
       "             height:  80%;\n",
       "            background:  linear-gradient(90deg,#8FE8FA 94.7%, transparent 94.7%);\n",
       "            border:  0.5px solid black;\n",
       "            width:  85px;\n",
       "            text-align:  center;\n",
       "            width:  10em;\n",
       "             height:  80%;\n",
       "            background:  linear-gradient(90deg,#8FE8FA 94.7%, transparent 94.7%);\n",
       "        }#T_60162_row2_col3{\n",
       "            border:  0.5px solid black;\n",
       "            width:  85px;\n",
       "            text-align:  center;\n",
       "            width:  10em;\n",
       "             height:  80%;\n",
       "            background:  linear-gradient(90deg,#FFBF4D 34.1%, transparent 34.1%);\n",
       "            border:  0.5px solid black;\n",
       "            width:  85px;\n",
       "            text-align:  center;\n",
       "            width:  10em;\n",
       "             height:  80%;\n",
       "            background:  linear-gradient(90deg,#FFBF4D 34.1%, transparent 34.1%);\n",
       "        }#T_60162_row3_col2{\n",
       "            border:  0.5px solid black;\n",
       "            width:  85px;\n",
       "            text-align:  center;\n",
       "            width:  10em;\n",
       "             height:  80%;\n",
       "            background:  linear-gradient(90deg,#8FE8FA 83.9%, transparent 83.9%);\n",
       "            border:  0.5px solid black;\n",
       "            width:  85px;\n",
       "            text-align:  center;\n",
       "            width:  10em;\n",
       "             height:  80%;\n",
       "            background:  linear-gradient(90deg,#8FE8FA 83.9%, transparent 83.9%);\n",
       "        }#T_60162_row3_col3{\n",
       "            border:  0.5px solid black;\n",
       "            width:  85px;\n",
       "            text-align:  center;\n",
       "            width:  10em;\n",
       "             height:  80%;\n",
       "            background:  linear-gradient(90deg,#FFBF4D 2.3%, transparent 2.3%);\n",
       "            border:  0.5px solid black;\n",
       "            width:  85px;\n",
       "            text-align:  center;\n",
       "            width:  10em;\n",
       "             height:  80%;\n",
       "            background:  linear-gradient(90deg,#FFBF4D 2.3%, transparent 2.3%);\n",
       "        }#T_60162_row4_col2{\n",
       "            border:  0.5px solid black;\n",
       "            width:  85px;\n",
       "            text-align:  center;\n",
       "            width:  10em;\n",
       "             height:  80%;\n",
       "            background:  linear-gradient(90deg,#8FE8FA 77.3%, transparent 77.3%);\n",
       "            border:  0.5px solid black;\n",
       "            width:  85px;\n",
       "            text-align:  center;\n",
       "            width:  10em;\n",
       "             height:  80%;\n",
       "            background:  linear-gradient(90deg,#8FE8FA 77.3%, transparent 77.3%);\n",
       "        }#T_60162_row4_col3{\n",
       "            border:  0.5px solid black;\n",
       "            width:  85px;\n",
       "            text-align:  center;\n",
       "            width:  10em;\n",
       "             height:  80%;\n",
       "            background:  linear-gradient(90deg,#FFBF4D 100.0%, transparent 100.0%);\n",
       "            border:  0.5px solid black;\n",
       "            width:  85px;\n",
       "            text-align:  center;\n",
       "            width:  10em;\n",
       "             height:  80%;\n",
       "            background:  linear-gradient(90deg,#FFBF4D 100.0%, transparent 100.0%);\n",
       "        }#T_60162_row5_col2,#T_60162_row5_col3{\n",
       "            border:  0.5px solid black;\n",
       "            width:  85px;\n",
       "            text-align:  center;\n",
       "            width:  10em;\n",
       "             height:  80%;\n",
       "            border:  0.5px solid black;\n",
       "            width:  85px;\n",
       "            text-align:  center;\n",
       "            width:  10em;\n",
       "             height:  80%;\n",
       "        }</style><table id=\"T_60162_\" style='display:inline'><thead>    <tr>        <th class=\"blank level0\" ></th>        <th class=\"col_heading level0 col0\" >sum</th>        <th class=\"col_heading level0 col1\" >count</th>        <th class=\"col_heading level0 col2\" >mean</th>        <th class=\"col_heading level0 col3\" >respond</th>    </tr>    <tr>        <th class=\"blank level1\" ></th>        <th class=\"col_heading level1 col0\" >debt</th>        <th class=\"col_heading level1 col1\" >debt</th>        <th class=\"col_heading level1 col2\" >debt</th>        <th class=\"col_heading level1 col3\" >debt</th>    </tr>    <tr>        <th class=\"index_name level0\" >children</th>        <th class=\"blank\" ></th>        <th class=\"blank\" ></th>        <th class=\"blank\" ></th>        <th class=\"blank\" ></th>    </tr></thead><tbody>\n",
       "                <tr>\n",
       "                        <th id=\"T_60162_level0_row0\" class=\"row_heading level0 row0\" >4</th>\n",
       "                        <td id=\"T_60162_row0_col0\" class=\"data row0 col0\" >4</td>\n",
       "                        <td id=\"T_60162_row0_col1\" class=\"data row0 col1\" >41</td>\n",
       "                        <td id=\"T_60162_row0_col2\" class=\"data row0 col2\" >9.76%</td>\n",
       "                        <td id=\"T_60162_row0_col3\" class=\"data row0 col3\" >0.19%</td>\n",
       "            </tr>\n",
       "            <tr>\n",
       "                        <th id=\"T_60162_level0_row1\" class=\"row_heading level0 row1\" >2</th>\n",
       "                        <td id=\"T_60162_row1_col0\" class=\"data row1 col0\" >194</td>\n",
       "                        <td id=\"T_60162_row1_col1\" class=\"data row1 col1\" >2052</td>\n",
       "                        <td id=\"T_60162_row1_col2\" class=\"data row1 col2\" >9.45%</td>\n",
       "                        <td id=\"T_60162_row1_col3\" class=\"data row1 col3\" >9.62%</td>\n",
       "            </tr>\n",
       "            <tr>\n",
       "                        <th id=\"T_60162_level0_row2\" class=\"row_heading level0 row2\" >1</th>\n",
       "                        <td id=\"T_60162_row2_col0\" class=\"data row2 col0\" >444</td>\n",
       "                        <td id=\"T_60162_row2_col1\" class=\"data row2 col1\" >4808</td>\n",
       "                        <td id=\"T_60162_row2_col2\" class=\"data row2 col2\" >9.23%</td>\n",
       "                        <td id=\"T_60162_row2_col3\" class=\"data row2 col3\" >22.54%</td>\n",
       "            </tr>\n",
       "            <tr>\n",
       "                        <th id=\"T_60162_level0_row3\" class=\"row_heading level0 row3\" >3</th>\n",
       "                        <td id=\"T_60162_row3_col0\" class=\"data row3 col0\" >27</td>\n",
       "                        <td id=\"T_60162_row3_col1\" class=\"data row3 col1\" >330</td>\n",
       "                        <td id=\"T_60162_row3_col2\" class=\"data row3 col2\" >8.18%</td>\n",
       "                        <td id=\"T_60162_row3_col3\" class=\"data row3 col3\" >1.55%</td>\n",
       "            </tr>\n",
       "            <tr>\n",
       "                        <th id=\"T_60162_level0_row4\" class=\"row_heading level0 row4\" >0</th>\n",
       "                        <td id=\"T_60162_row4_col0\" class=\"data row4 col0\" >1063</td>\n",
       "                        <td id=\"T_60162_row4_col1\" class=\"data row4 col1\" >14091</td>\n",
       "                        <td id=\"T_60162_row4_col2\" class=\"data row4 col2\" >7.54%</td>\n",
       "                        <td id=\"T_60162_row4_col3\" class=\"data row4 col3\" >66.06%</td>\n",
       "            </tr>\n",
       "            <tr>\n",
       "                        <th id=\"T_60162_level0_row5\" class=\"row_heading level0 row5\" >5</th>\n",
       "                        <td id=\"T_60162_row5_col0\" class=\"data row5 col0\" >0</td>\n",
       "                        <td id=\"T_60162_row5_col1\" class=\"data row5 col1\" >9</td>\n",
       "                        <td id=\"T_60162_row5_col2\" class=\"data row5 col2\" >0.00%</td>\n",
       "                        <td id=\"T_60162_row5_col3\" class=\"data row5 col3\" >0.04%</td>\n",
       "            </tr>\n",
       "    </tbody></table><style  type=\"text/css\" >\n",
       "#T_4ee09_row0_col0,#T_4ee09_row0_col1,#T_4ee09_row1_col0,#T_4ee09_row1_col1,#T_4ee09_row2_col0,#T_4ee09_row2_col1,#T_4ee09_row3_col0,#T_4ee09_row3_col1,#T_4ee09_row4_col0,#T_4ee09_row4_col1{\n",
       "            border:  0.5px solid black;\n",
       "            width:  85px;\n",
       "            text-align:  center;\n",
       "            border:  0.5px solid black;\n",
       "            width:  85px;\n",
       "            text-align:  center;\n",
       "        }#T_4ee09_row0_col2{\n",
       "            border:  0.5px solid black;\n",
       "            width:  85px;\n",
       "            text-align:  center;\n",
       "            width:  10em;\n",
       "             height:  80%;\n",
       "            background:  linear-gradient(90deg,#8FE8FA 100.0%, transparent 100.0%);\n",
       "            border:  0.5px solid black;\n",
       "            width:  85px;\n",
       "            text-align:  center;\n",
       "            width:  10em;\n",
       "             height:  80%;\n",
       "            background:  linear-gradient(90deg,#8FE8FA 100.0%, transparent 100.0%);\n",
       "        }#T_4ee09_row0_col3,#T_4ee09_row4_col2{\n",
       "            border:  0.5px solid black;\n",
       "            width:  85px;\n",
       "            text-align:  center;\n",
       "            width:  10em;\n",
       "             height:  80%;\n",
       "            border:  0.5px solid black;\n",
       "            width:  85px;\n",
       "            text-align:  center;\n",
       "            width:  10em;\n",
       "             height:  80%;\n",
       "        }#T_4ee09_row1_col2{\n",
       "            border:  0.5px solid black;\n",
       "            width:  85px;\n",
       "            text-align:  center;\n",
       "            width:  10em;\n",
       "             height:  80%;\n",
       "            background:  linear-gradient(90deg,#8FE8FA 80.7%, transparent 80.7%);\n",
       "            border:  0.5px solid black;\n",
       "            width:  85px;\n",
       "            text-align:  center;\n",
       "            width:  10em;\n",
       "             height:  80%;\n",
       "            background:  linear-gradient(90deg,#8FE8FA 80.7%, transparent 80.7%);\n",
       "        }#T_4ee09_row1_col3{\n",
       "            border:  0.5px solid black;\n",
       "            width:  85px;\n",
       "            text-align:  center;\n",
       "            width:  10em;\n",
       "             height:  80%;\n",
       "            background:  linear-gradient(90deg,#FFBF4D 100.0%, transparent 100.0%);\n",
       "            border:  0.5px solid black;\n",
       "            width:  85px;\n",
       "            text-align:  center;\n",
       "            width:  10em;\n",
       "             height:  80%;\n",
       "            background:  linear-gradient(90deg,#FFBF4D 100.0%, transparent 100.0%);\n",
       "        }#T_4ee09_row2_col2{\n",
       "            border:  0.5px solid black;\n",
       "            width:  85px;\n",
       "            text-align:  center;\n",
       "            width:  10em;\n",
       "             height:  80%;\n",
       "            background:  linear-gradient(90deg,#8FE8FA 64.5%, transparent 64.5%);\n",
       "            border:  0.5px solid black;\n",
       "            width:  85px;\n",
       "            text-align:  center;\n",
       "            width:  10em;\n",
       "             height:  80%;\n",
       "            background:  linear-gradient(90deg,#8FE8FA 64.5%, transparent 64.5%);\n",
       "        }#T_4ee09_row2_col3{\n",
       "            border:  0.5px solid black;\n",
       "            width:  85px;\n",
       "            text-align:  center;\n",
       "            width:  10em;\n",
       "             height:  80%;\n",
       "            background:  linear-gradient(90deg,#FFBF4D 0.0%, transparent 0.0%);\n",
       "            border:  0.5px solid black;\n",
       "            width:  85px;\n",
       "            text-align:  center;\n",
       "            width:  10em;\n",
       "             height:  80%;\n",
       "            background:  linear-gradient(90deg,#FFBF4D 0.0%, transparent 0.0%);\n",
       "        }#T_4ee09_row3_col2{\n",
       "            border:  0.5px solid black;\n",
       "            width:  85px;\n",
       "            text-align:  center;\n",
       "            width:  10em;\n",
       "             height:  80%;\n",
       "            background:  linear-gradient(90deg,#8FE8FA 33.9%, transparent 33.9%);\n",
       "            border:  0.5px solid black;\n",
       "            width:  85px;\n",
       "            text-align:  center;\n",
       "            width:  10em;\n",
       "             height:  80%;\n",
       "            background:  linear-gradient(90deg,#8FE8FA 33.9%, transparent 33.9%);\n",
       "        }#T_4ee09_row3_col3{\n",
       "            border:  0.5px solid black;\n",
       "            width:  85px;\n",
       "            text-align:  center;\n",
       "            width:  10em;\n",
       "             height:  80%;\n",
       "            background:  linear-gradient(90deg,#FFBF4D 31.4%, transparent 31.4%);\n",
       "            border:  0.5px solid black;\n",
       "            width:  85px;\n",
       "            text-align:  center;\n",
       "            width:  10em;\n",
       "             height:  80%;\n",
       "            background:  linear-gradient(90deg,#FFBF4D 31.4%, transparent 31.4%);\n",
       "        }#T_4ee09_row4_col3{\n",
       "            border:  0.5px solid black;\n",
       "            width:  85px;\n",
       "            text-align:  center;\n",
       "            width:  10em;\n",
       "             height:  80%;\n",
       "            background:  linear-gradient(90deg,#FFBF4D 2.1%, transparent 2.1%);\n",
       "            border:  0.5px solid black;\n",
       "            width:  85px;\n",
       "            text-align:  center;\n",
       "            width:  10em;\n",
       "             height:  80%;\n",
       "            background:  linear-gradient(90deg,#FFBF4D 2.1%, transparent 2.1%);\n",
       "        }</style><table id=\"T_4ee09_\" style='display:inline'><thead>    <tr>        <th class=\"blank level0\" ></th>        <th class=\"col_heading level0 col0\" >sum</th>        <th class=\"col_heading level0 col1\" >count</th>        <th class=\"col_heading level0 col2\" >mean</th>        <th class=\"col_heading level0 col3\" >respond</th>    </tr>    <tr>        <th class=\"blank level1\" ></th>        <th class=\"col_heading level1 col0\" >debt</th>        <th class=\"col_heading level1 col1\" >debt</th>        <th class=\"col_heading level1 col2\" >debt</th>        <th class=\"col_heading level1 col3\" >debt</th>    </tr>    <tr>        <th class=\"index_name level0\" >total_income_category</th>        <th class=\"blank\" ></th>        <th class=\"blank\" ></th>        <th class=\"blank\" ></th>        <th class=\"blank\" ></th>    </tr></thead><tbody>\n",
       "                <tr>\n",
       "                        <th id=\"T_4ee09_level0_row0\" class=\"row_heading level0 row0\" >E</th>\n",
       "                        <td id=\"T_4ee09_row0_col0\" class=\"data row0 col0\" >2</td>\n",
       "                        <td id=\"T_4ee09_row0_col1\" class=\"data row0 col1\" >22</td>\n",
       "                        <td id=\"T_4ee09_row0_col2\" class=\"data row0 col2\" >9.09%</td>\n",
       "                        <td id=\"T_4ee09_row0_col3\" class=\"data row0 col3\" >0.10%</td>\n",
       "            </tr>\n",
       "            <tr>\n",
       "                        <th id=\"T_4ee09_level0_row1\" class=\"row_heading level0 row1\" >C</th>\n",
       "                        <td id=\"T_4ee09_row1_col0\" class=\"data row1 col0\" >1353</td>\n",
       "                        <td id=\"T_4ee09_row1_col1\" class=\"data row1 col1\" >15921</td>\n",
       "                        <td id=\"T_4ee09_row1_col2\" class=\"data row1 col2\" >8.50%</td>\n",
       "                        <td id=\"T_4ee09_row1_col3\" class=\"data row1 col3\" >74.64%</td>\n",
       "            </tr>\n",
       "            <tr>\n",
       "                        <th id=\"T_4ee09_level0_row2\" class=\"row_heading level0 row2\" >A</th>\n",
       "                        <td id=\"T_4ee09_row2_col0\" class=\"data row2 col0\" >2</td>\n",
       "                        <td id=\"T_4ee09_row2_col1\" class=\"data row2 col1\" >25</td>\n",
       "                        <td id=\"T_4ee09_row2_col2\" class=\"data row2 col2\" >8.00%</td>\n",
       "                        <td id=\"T_4ee09_row2_col3\" class=\"data row2 col3\" >0.12%</td>\n",
       "            </tr>\n",
       "            <tr>\n",
       "                        <th id=\"T_4ee09_level0_row3\" class=\"row_heading level0 row3\" >B</th>\n",
       "                        <td id=\"T_4ee09_row3_col0\" class=\"data row3 col0\" >354</td>\n",
       "                        <td id=\"T_4ee09_row3_col1\" class=\"data row3 col1\" >5014</td>\n",
       "                        <td id=\"T_4ee09_row3_col2\" class=\"data row3 col2\" >7.06%</td>\n",
       "                        <td id=\"T_4ee09_row3_col3\" class=\"data row3 col3\" >23.51%</td>\n",
       "            </tr>\n",
       "            <tr>\n",
       "                        <th id=\"T_4ee09_level0_row4\" class=\"row_heading level0 row4\" >D</th>\n",
       "                        <td id=\"T_4ee09_row4_col0\" class=\"data row4 col0\" >21</td>\n",
       "                        <td id=\"T_4ee09_row4_col1\" class=\"data row4 col1\" >349</td>\n",
       "                        <td id=\"T_4ee09_row4_col2\" class=\"data row4 col2\" >6.02%</td>\n",
       "                        <td id=\"T_4ee09_row4_col3\" class=\"data row4 col3\" >1.64%</td>\n",
       "            </tr>\n",
       "    </tbody></table>"
      ]
     },
     "metadata": {},
     "output_type": "display_data"
    }
   ],
   "source": [
    "from IPython.display import display_html\n",
    "income_d = income_d.set_table_attributes(\"style='display:inline'\")\n",
    "child_d = child_d.set_table_attributes(\"style='display:inline'\")\n",
    "display_html(child_d._repr_html_()+income_d._repr_html_(), raw=True)"
   ]
  },
  {
   "cell_type": "markdown",
   "id": "7xm_yMFy3DM8",
   "metadata": {
    "id": "7xm_yMFy3DM8"
   },
   "source": [
    "При анализы влияния целей кредита и семейного статуса на выплату по долговым обязательствам наименее предпочтительные для кредитора категории: `операции с автомобилем` и `получение образования`, `не женат/не замужем` и `гражданский брак`."
   ]
  },
  {
   "cell_type": "code",
   "execution_count": 29,
   "id": "JR-_cSHA3Dok",
   "metadata": {
    "colab": {
     "base_uri": "https://localhost:8080/",
     "height": 349
    },
    "id": "JR-_cSHA3Dok",
    "outputId": "1322d2ee-f78d-4216-dd0f-fc996cfc18b4"
   },
   "outputs": [
    {
     "data": {
      "text/html": [
       "<style  type=\"text/css\" >\n",
       "#T_de2d2_row0_col0,#T_de2d2_row0_col1,#T_de2d2_row1_col0,#T_de2d2_row1_col1,#T_de2d2_row2_col0,#T_de2d2_row2_col1,#T_de2d2_row3_col0,#T_de2d2_row3_col1{\n",
       "            border:  0.5px solid black;\n",
       "            width:  85px;\n",
       "            text-align:  center;\n",
       "            border:  0.5px solid black;\n",
       "            width:  85px;\n",
       "            text-align:  center;\n",
       "        }#T_de2d2_row0_col2{\n",
       "            border:  0.5px solid black;\n",
       "            width:  85px;\n",
       "            text-align:  center;\n",
       "            width:  10em;\n",
       "             height:  80%;\n",
       "            background:  linear-gradient(90deg,#8FE8FA 100.0%, transparent 100.0%);\n",
       "            border:  0.5px solid black;\n",
       "            width:  85px;\n",
       "            text-align:  center;\n",
       "            width:  10em;\n",
       "             height:  80%;\n",
       "            background:  linear-gradient(90deg,#8FE8FA 100.0%, transparent 100.0%);\n",
       "        }#T_de2d2_row0_col3{\n",
       "            border:  0.5px solid black;\n",
       "            width:  85px;\n",
       "            text-align:  center;\n",
       "            width:  10em;\n",
       "             height:  80%;\n",
       "            background:  linear-gradient(90deg,#FFBF4D 23.3%, transparent 23.3%);\n",
       "            border:  0.5px solid black;\n",
       "            width:  85px;\n",
       "            text-align:  center;\n",
       "            width:  10em;\n",
       "             height:  80%;\n",
       "            background:  linear-gradient(90deg,#FFBF4D 23.3%, transparent 23.3%);\n",
       "        }#T_de2d2_row1_col2{\n",
       "            border:  0.5px solid black;\n",
       "            width:  85px;\n",
       "            text-align:  center;\n",
       "            width:  10em;\n",
       "             height:  80%;\n",
       "            background:  linear-gradient(90deg,#8FE8FA 95.5%, transparent 95.5%);\n",
       "            border:  0.5px solid black;\n",
       "            width:  85px;\n",
       "            text-align:  center;\n",
       "            width:  10em;\n",
       "             height:  80%;\n",
       "            background:  linear-gradient(90deg,#8FE8FA 95.5%, transparent 95.5%);\n",
       "        }#T_de2d2_row1_col3{\n",
       "            border:  0.5px solid black;\n",
       "            width:  85px;\n",
       "            text-align:  center;\n",
       "            width:  10em;\n",
       "             height:  80%;\n",
       "            background:  linear-gradient(90deg,#FFBF4D 19.9%, transparent 19.9%);\n",
       "            border:  0.5px solid black;\n",
       "            width:  85px;\n",
       "            text-align:  center;\n",
       "            width:  10em;\n",
       "             height:  80%;\n",
       "            background:  linear-gradient(90deg,#FFBF4D 19.9%, transparent 19.9%);\n",
       "        }#T_de2d2_row2_col2{\n",
       "            border:  0.5px solid black;\n",
       "            width:  85px;\n",
       "            text-align:  center;\n",
       "            width:  10em;\n",
       "             height:  80%;\n",
       "            background:  linear-gradient(90deg,#8FE8FA 31.4%, transparent 31.4%);\n",
       "            border:  0.5px solid black;\n",
       "            width:  85px;\n",
       "            text-align:  center;\n",
       "            width:  10em;\n",
       "             height:  80%;\n",
       "            background:  linear-gradient(90deg,#8FE8FA 31.4%, transparent 31.4%);\n",
       "        }#T_de2d2_row2_col3,#T_de2d2_row3_col2{\n",
       "            border:  0.5px solid black;\n",
       "            width:  85px;\n",
       "            text-align:  center;\n",
       "            width:  10em;\n",
       "             height:  80%;\n",
       "            border:  0.5px solid black;\n",
       "            width:  85px;\n",
       "            text-align:  center;\n",
       "            width:  10em;\n",
       "             height:  80%;\n",
       "        }#T_de2d2_row3_col3{\n",
       "            border:  0.5px solid black;\n",
       "            width:  85px;\n",
       "            text-align:  center;\n",
       "            width:  10em;\n",
       "             height:  80%;\n",
       "            background:  linear-gradient(90deg,#FFBF4D 100.0%, transparent 100.0%);\n",
       "            border:  0.5px solid black;\n",
       "            width:  85px;\n",
       "            text-align:  center;\n",
       "            width:  10em;\n",
       "             height:  80%;\n",
       "            background:  linear-gradient(90deg,#FFBF4D 100.0%, transparent 100.0%);\n",
       "        }</style><table id=\"T_de2d2_\" style='display:inline'><thead>    <tr>        <th class=\"blank level0\" ></th>        <th class=\"col_heading level0 col0\" >sum</th>        <th class=\"col_heading level0 col1\" >count</th>        <th class=\"col_heading level0 col2\" >mean</th>        <th class=\"col_heading level0 col3\" >respond</th>    </tr>    <tr>        <th class=\"blank level1\" ></th>        <th class=\"col_heading level1 col0\" >debt</th>        <th class=\"col_heading level1 col1\" >debt</th>        <th class=\"col_heading level1 col2\" >debt</th>        <th class=\"col_heading level1 col3\" >debt</th>    </tr>    <tr>        <th class=\"index_name level0\" >purpose_category</th>        <th class=\"blank\" ></th>        <th class=\"blank\" ></th>        <th class=\"blank\" ></th>        <th class=\"blank\" ></th>    </tr></thead><tbody>\n",
       "                <tr>\n",
       "                        <th id=\"T_de2d2_level0_row0\" class=\"row_heading level0 row0\" >операции с автомобилем</th>\n",
       "                        <td id=\"T_de2d2_row0_col0\" class=\"data row0 col0\" >400</td>\n",
       "                        <td id=\"T_de2d2_row0_col1\" class=\"data row0 col1\" >4279</td>\n",
       "                        <td id=\"T_de2d2_row0_col2\" class=\"data row0 col2\" >9.35%</td>\n",
       "                        <td id=\"T_de2d2_row0_col3\" class=\"data row0 col3\" >20.06%</td>\n",
       "            </tr>\n",
       "            <tr>\n",
       "                        <th id=\"T_de2d2_level0_row1\" class=\"row_heading level0 row1\" >получение образования</th>\n",
       "                        <td id=\"T_de2d2_row1_col0\" class=\"data row1 col0\" >369</td>\n",
       "                        <td id=\"T_de2d2_row1_col1\" class=\"data row1 col1\" >3988</td>\n",
       "                        <td id=\"T_de2d2_row1_col2\" class=\"data row1 col2\" >9.25%</td>\n",
       "                        <td id=\"T_de2d2_row1_col3\" class=\"data row1 col3\" >18.70%</td>\n",
       "            </tr>\n",
       "            <tr>\n",
       "                        <th id=\"T_de2d2_level0_row2\" class=\"row_heading level0 row2\" >проведение свадьбы</th>\n",
       "                        <td id=\"T_de2d2_row2_col0\" class=\"data row2 col0\" >183</td>\n",
       "                        <td id=\"T_de2d2_row2_col1\" class=\"data row2 col1\" >2313</td>\n",
       "                        <td id=\"T_de2d2_row2_col2\" class=\"data row2 col2\" >7.91%</td>\n",
       "                        <td id=\"T_de2d2_row2_col3\" class=\"data row2 col3\" >10.84%</td>\n",
       "            </tr>\n",
       "            <tr>\n",
       "                        <th id=\"T_de2d2_level0_row3\" class=\"row_heading level0 row3\" >операции с недвижимостью</th>\n",
       "                        <td id=\"T_de2d2_row3_col0\" class=\"data row3 col0\" >780</td>\n",
       "                        <td id=\"T_de2d2_row3_col1\" class=\"data row3 col1\" >10751</td>\n",
       "                        <td id=\"T_de2d2_row3_col2\" class=\"data row3 col2\" >7.26%</td>\n",
       "                        <td id=\"T_de2d2_row3_col3\" class=\"data row3 col3\" >50.40%</td>\n",
       "            </tr>\n",
       "    </tbody></table><style  type=\"text/css\" >\n",
       "#T_ce535_row0_col0,#T_ce535_row0_col1,#T_ce535_row1_col0,#T_ce535_row1_col1,#T_ce535_row2_col0,#T_ce535_row2_col1,#T_ce535_row3_col0,#T_ce535_row3_col1,#T_ce535_row4_col0,#T_ce535_row4_col1{\n",
       "            border:  0.5px solid black;\n",
       "            width:  85px;\n",
       "            text-align:  center;\n",
       "            border:  0.5px solid black;\n",
       "            width:  85px;\n",
       "            text-align:  center;\n",
       "        }#T_ce535_row0_col2{\n",
       "            border:  0.5px solid black;\n",
       "            width:  85px;\n",
       "            text-align:  center;\n",
       "            width:  10em;\n",
       "             height:  80%;\n",
       "            background:  linear-gradient(90deg,#8FE8FA 100.0%, transparent 100.0%);\n",
       "            border:  0.5px solid black;\n",
       "            width:  85px;\n",
       "            text-align:  center;\n",
       "            width:  10em;\n",
       "             height:  80%;\n",
       "            background:  linear-gradient(90deg,#8FE8FA 100.0%, transparent 100.0%);\n",
       "        }#T_ce535_row0_col3{\n",
       "            border:  0.5px solid black;\n",
       "            width:  85px;\n",
       "            text-align:  center;\n",
       "            width:  10em;\n",
       "             height:  80%;\n",
       "            background:  linear-gradient(90deg,#FFBF4D 16.3%, transparent 16.3%);\n",
       "            border:  0.5px solid black;\n",
       "            width:  85px;\n",
       "            text-align:  center;\n",
       "            width:  10em;\n",
       "             height:  80%;\n",
       "            background:  linear-gradient(90deg,#FFBF4D 16.3%, transparent 16.3%);\n",
       "        }#T_ce535_row1_col2{\n",
       "            border:  0.5px solid black;\n",
       "            width:  85px;\n",
       "            text-align:  center;\n",
       "            width:  10em;\n",
       "             height:  80%;\n",
       "            background:  linear-gradient(90deg,#8FE8FA 85.6%, transparent 85.6%);\n",
       "            border:  0.5px solid black;\n",
       "            width:  85px;\n",
       "            text-align:  center;\n",
       "            width:  10em;\n",
       "             height:  80%;\n",
       "            background:  linear-gradient(90deg,#8FE8FA 85.6%, transparent 85.6%);\n",
       "        }#T_ce535_row1_col3{\n",
       "            border:  0.5px solid black;\n",
       "            width:  85px;\n",
       "            text-align:  center;\n",
       "            width:  10em;\n",
       "             height:  80%;\n",
       "            background:  linear-gradient(90deg,#FFBF4D 28.1%, transparent 28.1%);\n",
       "            border:  0.5px solid black;\n",
       "            width:  85px;\n",
       "            text-align:  center;\n",
       "            width:  10em;\n",
       "             height:  80%;\n",
       "            background:  linear-gradient(90deg,#FFBF4D 28.1%, transparent 28.1%);\n",
       "        }#T_ce535_row2_col2{\n",
       "            border:  0.5px solid black;\n",
       "            width:  85px;\n",
       "            text-align:  center;\n",
       "            width:  10em;\n",
       "             height:  80%;\n",
       "            background:  linear-gradient(90deg,#8FE8FA 29.8%, transparent 29.8%);\n",
       "            border:  0.5px solid black;\n",
       "            width:  85px;\n",
       "            text-align:  center;\n",
       "            width:  10em;\n",
       "             height:  80%;\n",
       "            background:  linear-gradient(90deg,#8FE8FA 29.8%, transparent 29.8%);\n",
       "        }#T_ce535_row2_col3{\n",
       "            border:  0.5px solid black;\n",
       "            width:  85px;\n",
       "            text-align:  center;\n",
       "            width:  10em;\n",
       "             height:  80%;\n",
       "            background:  linear-gradient(90deg,#FFBF4D 100.0%, transparent 100.0%);\n",
       "            border:  0.5px solid black;\n",
       "            width:  85px;\n",
       "            text-align:  center;\n",
       "            width:  10em;\n",
       "             height:  80%;\n",
       "            background:  linear-gradient(90deg,#FFBF4D 100.0%, transparent 100.0%);\n",
       "        }#T_ce535_row3_col2{\n",
       "            border:  0.5px solid black;\n",
       "            width:  85px;\n",
       "            text-align:  center;\n",
       "            width:  10em;\n",
       "             height:  80%;\n",
       "            background:  linear-gradient(90deg,#8FE8FA 14.0%, transparent 14.0%);\n",
       "            border:  0.5px solid black;\n",
       "            width:  85px;\n",
       "            text-align:  center;\n",
       "            width:  10em;\n",
       "             height:  80%;\n",
       "            background:  linear-gradient(90deg,#8FE8FA 14.0%, transparent 14.0%);\n",
       "        }#T_ce535_row3_col3{\n",
       "            border:  0.5px solid black;\n",
       "            width:  85px;\n",
       "            text-align:  center;\n",
       "            width:  10em;\n",
       "             height:  80%;\n",
       "            background:  linear-gradient(90deg,#FFBF4D 2.1%, transparent 2.1%);\n",
       "            border:  0.5px solid black;\n",
       "            width:  85px;\n",
       "            text-align:  center;\n",
       "            width:  10em;\n",
       "             height:  80%;\n",
       "            background:  linear-gradient(90deg,#FFBF4D 2.1%, transparent 2.1%);\n",
       "        }#T_ce535_row4_col2,#T_ce535_row4_col3{\n",
       "            border:  0.5px solid black;\n",
       "            width:  85px;\n",
       "            text-align:  center;\n",
       "            width:  10em;\n",
       "             height:  80%;\n",
       "            border:  0.5px solid black;\n",
       "            width:  85px;\n",
       "            text-align:  center;\n",
       "            width:  10em;\n",
       "             height:  80%;\n",
       "        }</style><table id=\"T_ce535_\" style='display:inline'><thead>    <tr>        <th class=\"blank\" ></th>        <th class=\"blank level0\" ></th>        <th class=\"col_heading level0 col0\" >sum</th>        <th class=\"col_heading level0 col1\" >count</th>        <th class=\"col_heading level0 col2\" >mean</th>        <th class=\"col_heading level0 col3\" >respond</th>    </tr>    <tr>        <th class=\"blank\" ></th>        <th class=\"blank level1\" ></th>        <th class=\"col_heading level1 col0\" >debt</th>        <th class=\"col_heading level1 col1\" >debt</th>        <th class=\"col_heading level1 col2\" >debt</th>        <th class=\"col_heading level1 col3\" >debt</th>    </tr>    <tr>        <th class=\"index_name level0\" >family_status_id</th>        <th class=\"index_name level1\" >family_status</th>        <th class=\"blank\" ></th>        <th class=\"blank\" ></th>        <th class=\"blank\" ></th>        <th class=\"blank\" ></th>    </tr></thead><tbody>\n",
       "                <tr>\n",
       "                        <th id=\"T_ce535_level0_row0\" class=\"row_heading level0 row0\" >4</th>\n",
       "                        <th id=\"T_ce535_level1_row0\" class=\"row_heading level1 row0\" >Не женат / не замужем</th>\n",
       "                        <td id=\"T_ce535_row0_col0\" class=\"data row0 col0\" >273</td>\n",
       "                        <td id=\"T_ce535_row0_col1\" class=\"data row0 col1\" >2796</td>\n",
       "                        <td id=\"T_ce535_row0_col2\" class=\"data row0 col2\" >9.76%</td>\n",
       "                        <td id=\"T_ce535_row0_col3\" class=\"data row0 col3\" >13.11%</td>\n",
       "            </tr>\n",
       "            <tr>\n",
       "                        <th id=\"T_ce535_level0_row1\" class=\"row_heading level0 row1\" >1</th>\n",
       "                        <th id=\"T_ce535_level1_row1\" class=\"row_heading level1 row1\" >гражданский брак</th>\n",
       "                        <td id=\"T_ce535_row1_col0\" class=\"data row1 col0\" >385</td>\n",
       "                        <td id=\"T_ce535_row1_col1\" class=\"data row1 col1\" >4134</td>\n",
       "                        <td id=\"T_ce535_row1_col2\" class=\"data row1 col2\" >9.31%</td>\n",
       "                        <td id=\"T_ce535_row1_col3\" class=\"data row1 col3\" >19.38%</td>\n",
       "            </tr>\n",
       "            <tr>\n",
       "                        <th id=\"T_ce535_level0_row2\" class=\"row_heading level0 row2\" >0</th>\n",
       "                        <th id=\"T_ce535_level1_row2\" class=\"row_heading level1 row2\" >женат / замужем</th>\n",
       "                        <td id=\"T_ce535_row2_col0\" class=\"data row2 col0\" >927</td>\n",
       "                        <td id=\"T_ce535_row2_col1\" class=\"data row2 col1\" >12261</td>\n",
       "                        <td id=\"T_ce535_row2_col2\" class=\"data row2 col2\" >7.56%</td>\n",
       "                        <td id=\"T_ce535_row2_col3\" class=\"data row2 col3\" >57.48%</td>\n",
       "            </tr>\n",
       "            <tr>\n",
       "                        <th id=\"T_ce535_level0_row3\" class=\"row_heading level0 row3\" >3</th>\n",
       "                        <th id=\"T_ce535_level1_row3\" class=\"row_heading level1 row3\" >в разводе</th>\n",
       "                        <td id=\"T_ce535_row3_col0\" class=\"data row3 col0\" >84</td>\n",
       "                        <td id=\"T_ce535_row3_col1\" class=\"data row3 col1\" >1189</td>\n",
       "                        <td id=\"T_ce535_row3_col2\" class=\"data row3 col2\" >7.06%</td>\n",
       "                        <td id=\"T_ce535_row3_col3\" class=\"data row3 col3\" >5.57%</td>\n",
       "            </tr>\n",
       "            <tr>\n",
       "                        <th id=\"T_ce535_level0_row4\" class=\"row_heading level0 row4\" >2</th>\n",
       "                        <th id=\"T_ce535_level1_row4\" class=\"row_heading level1 row4\" >вдовец / вдова</th>\n",
       "                        <td id=\"T_ce535_row4_col0\" class=\"data row4 col0\" >63</td>\n",
       "                        <td id=\"T_ce535_row4_col1\" class=\"data row4 col1\" >951</td>\n",
       "                        <td id=\"T_ce535_row4_col2\" class=\"data row4 col2\" >6.62%</td>\n",
       "                        <td id=\"T_ce535_row4_col3\" class=\"data row4 col3\" >4.46%</td>\n",
       "            </tr>\n",
       "    </tbody></table>"
      ]
     },
     "metadata": {},
     "output_type": "display_data"
    }
   ],
   "source": [
    "status_d = status_d.set_table_attributes(\"style='display:inline'\")\n",
    "purpose_d = purpose_d.set_table_attributes(\"style='display:inline'\")\n",
    "display_html(purpose_d._repr_html_()+status_d._repr_html_(), raw=True)"
   ]
  },
  {
   "cell_type": "markdown",
   "id": "7e7a5c93",
   "metadata": {
    "deletable": false,
    "id": "7e7a5c93"
   },
   "source": [
    "Наиболее предпочтительные клиенты вдовцы/вдовы с целью получения кредита для совершения операций с недвижимостью. И наборот, менее надеждные заемщики - не женатые/не замужние, собирающие потратить деньги на автомобиль."
   ]
  }
 ],
 "metadata": {
  "ExecuteTimeLog": [
   {
    "duration": 73,
    "start_time": "2023-01-10T22:58:11.344Z"
   },
   {
    "duration": 16,
    "start_time": "2023-01-10T22:58:11.419Z"
   },
   {
    "duration": 44,
    "start_time": "2023-01-10T22:58:11.437Z"
   },
   {
    "duration": 14,
    "start_time": "2023-01-10T22:58:11.483Z"
   },
   {
    "duration": 42,
    "start_time": "2023-01-10T22:58:11.499Z"
   },
   {
    "duration": 4,
    "start_time": "2023-01-10T22:58:11.543Z"
   },
   {
    "duration": 36,
    "start_time": "2023-01-10T22:58:11.549Z"
   },
   {
    "duration": 26,
    "start_time": "2023-01-10T22:58:11.587Z"
   },
   {
    "duration": 19,
    "start_time": "2023-01-10T22:58:11.614Z"
   },
   {
    "duration": 7,
    "start_time": "2023-01-10T22:58:11.635Z"
   },
   {
    "duration": 52,
    "start_time": "2023-01-10T22:58:11.643Z"
   },
   {
    "duration": 9,
    "start_time": "2023-01-10T22:58:11.696Z"
   },
   {
    "duration": 29,
    "start_time": "2023-01-10T22:58:11.706Z"
   },
   {
    "duration": 20,
    "start_time": "2023-01-10T22:58:11.736Z"
   },
   {
    "duration": 31,
    "start_time": "2023-01-10T22:58:11.758Z"
   },
   {
    "duration": 21,
    "start_time": "2023-01-10T22:58:11.791Z"
   },
   {
    "duration": 10,
    "start_time": "2023-01-10T22:58:11.813Z"
   },
   {
    "duration": 21,
    "start_time": "2023-01-10T22:58:11.824Z"
   },
   {
    "duration": 18,
    "start_time": "2023-01-10T22:58:11.847Z"
   },
   {
    "duration": 26,
    "start_time": "2023-01-10T22:58:11.867Z"
   },
   {
    "duration": 66,
    "start_time": "2023-01-10T22:58:11.895Z"
   },
   {
    "duration": 5,
    "start_time": "2023-01-10T22:58:11.963Z"
   },
   {
    "duration": 70,
    "start_time": "2023-01-10T22:58:11.969Z"
   },
   {
    "duration": 55,
    "start_time": "2023-01-10T22:58:12.040Z"
   },
   {
    "duration": 45,
    "start_time": "2023-01-10T22:58:12.097Z"
   },
   {
    "duration": 77,
    "start_time": "2023-01-10T22:58:12.143Z"
   },
   {
    "duration": 51,
    "start_time": "2023-01-10T22:58:12.221Z"
   },
   {
    "duration": 55,
    "start_time": "2023-01-10T22:58:23.396Z"
   },
   {
    "duration": 53,
    "start_time": "2023-01-10T22:58:27.922Z"
   },
   {
    "duration": 665,
    "start_time": "2023-01-11T07:50:58.319Z"
   },
   {
    "duration": 29,
    "start_time": "2023-01-11T07:50:58.988Z"
   },
   {
    "duration": 36,
    "start_time": "2023-01-11T07:50:59.019Z"
   },
   {
    "duration": 31,
    "start_time": "2023-01-11T07:50:59.058Z"
   },
   {
    "duration": 72,
    "start_time": "2023-01-11T07:50:59.092Z"
   },
   {
    "duration": 4,
    "start_time": "2023-01-11T07:50:59.167Z"
   },
   {
    "duration": 35,
    "start_time": "2023-01-11T07:50:59.173Z"
   },
   {
    "duration": 4,
    "start_time": "2023-01-11T07:50:59.210Z"
   },
   {
    "duration": 9,
    "start_time": "2023-01-11T07:50:59.216Z"
   },
   {
    "duration": 5,
    "start_time": "2023-01-11T07:50:59.238Z"
   },
   {
    "duration": 45,
    "start_time": "2023-01-11T07:50:59.245Z"
   },
   {
    "duration": 12,
    "start_time": "2023-01-11T07:50:59.291Z"
   },
   {
    "duration": 4,
    "start_time": "2023-01-11T07:50:59.304Z"
   },
   {
    "duration": 37,
    "start_time": "2023-01-11T07:50:59.310Z"
   },
   {
    "duration": 26,
    "start_time": "2023-01-11T07:50:59.349Z"
   },
   {
    "duration": 20,
    "start_time": "2023-01-11T07:50:59.377Z"
   },
   {
    "duration": 4,
    "start_time": "2023-01-11T07:50:59.399Z"
   },
   {
    "duration": 39,
    "start_time": "2023-01-11T07:50:59.406Z"
   },
   {
    "duration": 12,
    "start_time": "2023-01-11T07:50:59.447Z"
   },
   {
    "duration": 8,
    "start_time": "2023-01-11T07:50:59.461Z"
   },
   {
    "duration": 31,
    "start_time": "2023-01-11T07:50:59.471Z"
   },
   {
    "duration": 5,
    "start_time": "2023-01-11T07:50:59.504Z"
   },
   {
    "duration": 467,
    "start_time": "2023-01-11T07:50:59.511Z"
   },
   {
    "duration": 69,
    "start_time": "2023-01-11T07:50:59.979Z"
   },
   {
    "duration": 35,
    "start_time": "2023-01-11T07:51:00.051Z"
   },
   {
    "duration": 80,
    "start_time": "2023-01-11T07:51:00.088Z"
   },
   {
    "duration": 96,
    "start_time": "2023-01-11T07:51:00.171Z"
   },
   {
    "duration": 80,
    "start_time": "2023-01-11T07:51:00.270Z"
   },
   {
    "duration": 91,
    "start_time": "2023-01-11T07:51:00.353Z"
   }
  ],
  "colab": {
   "provenance": []
  },
  "kernelspec": {
   "display_name": "Python 3 (ipykernel)",
   "language": "python",
   "name": "python3"
  },
  "language_info": {
   "codemirror_mode": {
    "name": "ipython",
    "version": 3
   },
   "file_extension": ".py",
   "mimetype": "text/x-python",
   "name": "python",
   "nbconvert_exporter": "python",
   "pygments_lexer": "ipython3",
   "version": "3.9.5"
  },
  "toc": {
   "base_numbering": 1,
   "nav_menu": {},
   "number_sections": true,
   "sideBar": true,
   "skip_h1_title": true,
   "title_cell": "Table of Contents",
   "title_sidebar": "Contents",
   "toc_cell": false,
   "toc_position": {},
   "toc_section_display": true,
   "toc_window_display": false
  }
 },
 "nbformat": 4,
 "nbformat_minor": 5
}
